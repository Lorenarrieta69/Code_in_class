{
  "nbformat": 4,
  "nbformat_minor": 0,
  "metadata": {
    "colab": {
      "provenance": [],
      "authorship_tag": "ABX9TyPyrvNEvd+iQv4RrSiuBuq2",
      "include_colab_link": true
    },
    "kernelspec": {
      "name": "python3",
      "display_name": "Python 3"
    },
    "language_info": {
      "name": "python"
    }
  },
  "cells": [
    {
      "cell_type": "markdown",
      "metadata": {
        "id": "view-in-github",
        "colab_type": "text"
      },
      "source": [
        "<a href=\"https://colab.research.google.com/github/Lorenarrieta69/Code_in_class/blob/main/05_1_A_a_G.ipynb\" target=\"_parent\"><img src=\"https://colab.research.google.com/assets/colab-badge.svg\" alt=\"Open In Colab\"/></a>"
      ]
    },
    {
      "cell_type": "markdown",
      "source": [
        "# **Improvments**\n",
        "\n",
        "Changes:\n",
        "* Improve the xaxis format.\n",
        "* Modify lines and markers.\n",
        "* Add variables to the graph."
      ],
      "metadata": {
        "id": "UrMzTrEoAsy3"
      }
    },
    {
      "cell_type": "code",
      "source": [
        "# Erase everything\n",
        "%reset"
      ],
      "metadata": {
        "id": "istrSc0XDhLu",
        "outputId": "9391938a-b2e1-4334-f33d-e5d6cc650460",
        "colab": {
          "base_uri": "https://localhost:8080/"
        }
      },
      "execution_count": null,
      "outputs": [
        {
          "name": "stdout",
          "output_type": "stream",
          "text": [
            "Once deleted, variables cannot be recovered. Proceed (y/[n])? y\n"
          ]
        }
      ]
    },
    {
      "cell_type": "code",
      "source": [
        "# The Libraries\n",
        "import pandas as pd\n",
        "import numpy as np # just in case\n",
        "import plotly.express as px\n",
        "import plotly.graph_objects as go  # graphs other than scatter and bar or customize"
      ],
      "metadata": {
        "id": "zeIaGoRzDlqI"
      },
      "execution_count": null,
      "outputs": []
    },
    {
      "cell_type": "markdown",
      "source": [
        "# **Load data set**"
      ],
      "metadata": {
        "id": "PgMuyKBGDp2K"
      }
    },
    {
      "cell_type": "code",
      "source": [
        "# Save the file path\n",
        "p1 = '/content/dataset.xlsx'\n",
        "\n",
        "# Read file\n",
        "df = pd.read_excel(p1)\n",
        "\n",
        "# Check\n",
        "df.info()"
      ],
      "metadata": {
        "id": "moUbGqtPDuZI",
        "outputId": "968cefe1-8594-4dc2-cbc8-88fb609157ba",
        "colab": {
          "base_uri": "https://localhost:8080/"
        }
      },
      "execution_count": null,
      "outputs": [
        {
          "output_type": "stream",
          "name": "stdout",
          "text": [
            "<class 'pandas.core.frame.DataFrame'>\n",
            "RangeIndex: 12 entries, 0 to 11\n",
            "Data columns (total 5 columns):\n",
            " #   Column        Non-Null Count  Dtype         \n",
            "---  ------        --------------  -----         \n",
            " 0   Date          12 non-null     datetime64[ns]\n",
            " 1   Total         12 non-null     float64       \n",
            " 2   Armenia       12 non-null     float64       \n",
            " 3   Barranquilla  12 non-null     float64       \n",
            " 4   Bogota        12 non-null     float64       \n",
            "dtypes: datetime64[ns](1), float64(4)\n",
            "memory usage: 608.0 bytes\n"
          ]
        }
      ]
    },
    {
      "cell_type": "code",
      "source": [
        "df = df.set_index('Date', drop = False) # drop does not delete Date\n",
        "df.head()"
      ],
      "metadata": {
        "id": "7Mb7_9y1DyXp",
        "outputId": "64460de4-bd8f-45fd-b80b-affd8080db6b",
        "colab": {
          "base_uri": "https://localhost:8080/",
          "height": 238
        }
      },
      "execution_count": null,
      "outputs": [
        {
          "output_type": "execute_result",
          "data": {
            "text/plain": [
              "                 Date      Total     Armenia  Barranquilla      Bogota\n",
              "Date                                                                  \n",
              "2019-09-30 2019-09-30  95.768805   97.297846     95.345588   96.920403\n",
              "2019-12-31 2019-12-31  97.130808   97.555194     96.889706   97.907543\n",
              "2020-03-30 2020-03-30  98.409845   99.600433     99.455882   99.840111\n",
              "2020-06-30 2020-06-30  99.737279  102.857917     98.919118  100.583942\n",
              "2020-09-30 2020-09-30  99.758020  101.605039     98.522059  102.085506"
            ],
            "text/html": [
              "\n",
              "  <div id=\"df-8191e5fe-1aa6-44c6-ac8c-9f363c24a99a\">\n",
              "    <div class=\"colab-df-container\">\n",
              "      <div>\n",
              "<style scoped>\n",
              "    .dataframe tbody tr th:only-of-type {\n",
              "        vertical-align: middle;\n",
              "    }\n",
              "\n",
              "    .dataframe tbody tr th {\n",
              "        vertical-align: top;\n",
              "    }\n",
              "\n",
              "    .dataframe thead th {\n",
              "        text-align: right;\n",
              "    }\n",
              "</style>\n",
              "<table border=\"1\" class=\"dataframe\">\n",
              "  <thead>\n",
              "    <tr style=\"text-align: right;\">\n",
              "      <th></th>\n",
              "      <th>Date</th>\n",
              "      <th>Total</th>\n",
              "      <th>Armenia</th>\n",
              "      <th>Barranquilla</th>\n",
              "      <th>Bogota</th>\n",
              "    </tr>\n",
              "    <tr>\n",
              "      <th>Date</th>\n",
              "      <th></th>\n",
              "      <th></th>\n",
              "      <th></th>\n",
              "      <th></th>\n",
              "      <th></th>\n",
              "    </tr>\n",
              "  </thead>\n",
              "  <tbody>\n",
              "    <tr>\n",
              "      <th>2019-09-30</th>\n",
              "      <td>2019-09-30</td>\n",
              "      <td>95.768805</td>\n",
              "      <td>97.297846</td>\n",
              "      <td>95.345588</td>\n",
              "      <td>96.920403</td>\n",
              "    </tr>\n",
              "    <tr>\n",
              "      <th>2019-12-31</th>\n",
              "      <td>2019-12-31</td>\n",
              "      <td>97.130808</td>\n",
              "      <td>97.555194</td>\n",
              "      <td>96.889706</td>\n",
              "      <td>97.907543</td>\n",
              "    </tr>\n",
              "    <tr>\n",
              "      <th>2020-03-30</th>\n",
              "      <td>2020-03-30</td>\n",
              "      <td>98.409845</td>\n",
              "      <td>99.600433</td>\n",
              "      <td>99.455882</td>\n",
              "      <td>99.840111</td>\n",
              "    </tr>\n",
              "    <tr>\n",
              "      <th>2020-06-30</th>\n",
              "      <td>2020-06-30</td>\n",
              "      <td>99.737279</td>\n",
              "      <td>102.857917</td>\n",
              "      <td>98.919118</td>\n",
              "      <td>100.583942</td>\n",
              "    </tr>\n",
              "    <tr>\n",
              "      <th>2020-09-30</th>\n",
              "      <td>2020-09-30</td>\n",
              "      <td>99.758020</td>\n",
              "      <td>101.605039</td>\n",
              "      <td>98.522059</td>\n",
              "      <td>102.085506</td>\n",
              "    </tr>\n",
              "  </tbody>\n",
              "</table>\n",
              "</div>\n",
              "      <button class=\"colab-df-convert\" onclick=\"convertToInteractive('df-8191e5fe-1aa6-44c6-ac8c-9f363c24a99a')\"\n",
              "              title=\"Convert this dataframe to an interactive table.\"\n",
              "              style=\"display:none;\">\n",
              "        \n",
              "  <svg xmlns=\"http://www.w3.org/2000/svg\" height=\"24px\"viewBox=\"0 0 24 24\"\n",
              "       width=\"24px\">\n",
              "    <path d=\"M0 0h24v24H0V0z\" fill=\"none\"/>\n",
              "    <path d=\"M18.56 5.44l.94 2.06.94-2.06 2.06-.94-2.06-.94-.94-2.06-.94 2.06-2.06.94zm-11 1L8.5 8.5l.94-2.06 2.06-.94-2.06-.94L8.5 2.5l-.94 2.06-2.06.94zm10 10l.94 2.06.94-2.06 2.06-.94-2.06-.94-.94-2.06-.94 2.06-2.06.94z\"/><path d=\"M17.41 7.96l-1.37-1.37c-.4-.4-.92-.59-1.43-.59-.52 0-1.04.2-1.43.59L10.3 9.45l-7.72 7.72c-.78.78-.78 2.05 0 2.83L4 21.41c.39.39.9.59 1.41.59.51 0 1.02-.2 1.41-.59l7.78-7.78 2.81-2.81c.8-.78.8-2.07 0-2.86zM5.41 20L4 18.59l7.72-7.72 1.47 1.35L5.41 20z\"/>\n",
              "  </svg>\n",
              "      </button>\n",
              "      \n",
              "  <style>\n",
              "    .colab-df-container {\n",
              "      display:flex;\n",
              "      flex-wrap:wrap;\n",
              "      gap: 12px;\n",
              "    }\n",
              "\n",
              "    .colab-df-convert {\n",
              "      background-color: #E8F0FE;\n",
              "      border: none;\n",
              "      border-radius: 50%;\n",
              "      cursor: pointer;\n",
              "      display: none;\n",
              "      fill: #1967D2;\n",
              "      height: 32px;\n",
              "      padding: 0 0 0 0;\n",
              "      width: 32px;\n",
              "    }\n",
              "\n",
              "    .colab-df-convert:hover {\n",
              "      background-color: #E2EBFA;\n",
              "      box-shadow: 0px 1px 2px rgba(60, 64, 67, 0.3), 0px 1px 3px 1px rgba(60, 64, 67, 0.15);\n",
              "      fill: #174EA6;\n",
              "    }\n",
              "\n",
              "    [theme=dark] .colab-df-convert {\n",
              "      background-color: #3B4455;\n",
              "      fill: #D2E3FC;\n",
              "    }\n",
              "\n",
              "    [theme=dark] .colab-df-convert:hover {\n",
              "      background-color: #434B5C;\n",
              "      box-shadow: 0px 1px 3px 1px rgba(0, 0, 0, 0.15);\n",
              "      filter: drop-shadow(0px 1px 2px rgba(0, 0, 0, 0.3));\n",
              "      fill: #FFFFFF;\n",
              "    }\n",
              "  </style>\n",
              "\n",
              "      <script>\n",
              "        const buttonEl =\n",
              "          document.querySelector('#df-8191e5fe-1aa6-44c6-ac8c-9f363c24a99a button.colab-df-convert');\n",
              "        buttonEl.style.display =\n",
              "          google.colab.kernel.accessAllowed ? 'block' : 'none';\n",
              "\n",
              "        async function convertToInteractive(key) {\n",
              "          const element = document.querySelector('#df-8191e5fe-1aa6-44c6-ac8c-9f363c24a99a');\n",
              "          const dataTable =\n",
              "            await google.colab.kernel.invokeFunction('convertToInteractive',\n",
              "                                                     [key], {});\n",
              "          if (!dataTable) return;\n",
              "\n",
              "          const docLinkHtml = 'Like what you see? Visit the ' +\n",
              "            '<a target=\"_blank\" href=https://colab.research.google.com/notebooks/data_table.ipynb>data table notebook</a>'\n",
              "            + ' to learn more about interactive tables.';\n",
              "          element.innerHTML = '';\n",
              "          dataTable['output_type'] = 'display_data';\n",
              "          await google.colab.output.renderOutput(dataTable, element);\n",
              "          const docLink = document.createElement('div');\n",
              "          docLink.innerHTML = docLinkHtml;\n",
              "          element.appendChild(docLink);\n",
              "        }\n",
              "      </script>\n",
              "    </div>\n",
              "  </div>\n",
              "  "
            ]
          },
          "metadata": {},
          "execution_count": 4
        }
      ]
    },
    {
      "cell_type": "code",
      "source": [
        "# Change date format to Year and months\n",
        "df['Nd'] = df['Date'].dt.strftime('%Y-%m')\n",
        "df.head()"
      ],
      "metadata": {
        "id": "LhR9hdT5D2w0",
        "outputId": "da7847ee-5aa9-4ba1-eea1-a56181e6d7bb",
        "colab": {
          "base_uri": "https://localhost:8080/",
          "height": 238
        }
      },
      "execution_count": null,
      "outputs": [
        {
          "output_type": "execute_result",
          "data": {
            "text/plain": [
              "                 Date      Total     Armenia  Barranquilla      Bogota  \\\n",
              "Date                                                                     \n",
              "2019-09-30 2019-09-30  95.768805   97.297846     95.345588   96.920403   \n",
              "2019-12-31 2019-12-31  97.130808   97.555194     96.889706   97.907543   \n",
              "2020-03-30 2020-03-30  98.409845   99.600433     99.455882   99.840111   \n",
              "2020-06-30 2020-06-30  99.737279  102.857917     98.919118  100.583942   \n",
              "2020-09-30 2020-09-30  99.758020  101.605039     98.522059  102.085506   \n",
              "\n",
              "                 Nd  \n",
              "Date                 \n",
              "2019-09-30  2019-09  \n",
              "2019-12-31  2019-12  \n",
              "2020-03-30  2020-03  \n",
              "2020-06-30  2020-06  \n",
              "2020-09-30  2020-09  "
            ],
            "text/html": [
              "\n",
              "  <div id=\"df-fa66d91f-ac46-4781-bc19-5706d3c1b701\">\n",
              "    <div class=\"colab-df-container\">\n",
              "      <div>\n",
              "<style scoped>\n",
              "    .dataframe tbody tr th:only-of-type {\n",
              "        vertical-align: middle;\n",
              "    }\n",
              "\n",
              "    .dataframe tbody tr th {\n",
              "        vertical-align: top;\n",
              "    }\n",
              "\n",
              "    .dataframe thead th {\n",
              "        text-align: right;\n",
              "    }\n",
              "</style>\n",
              "<table border=\"1\" class=\"dataframe\">\n",
              "  <thead>\n",
              "    <tr style=\"text-align: right;\">\n",
              "      <th></th>\n",
              "      <th>Date</th>\n",
              "      <th>Total</th>\n",
              "      <th>Armenia</th>\n",
              "      <th>Barranquilla</th>\n",
              "      <th>Bogota</th>\n",
              "      <th>Nd</th>\n",
              "    </tr>\n",
              "    <tr>\n",
              "      <th>Date</th>\n",
              "      <th></th>\n",
              "      <th></th>\n",
              "      <th></th>\n",
              "      <th></th>\n",
              "      <th></th>\n",
              "      <th></th>\n",
              "    </tr>\n",
              "  </thead>\n",
              "  <tbody>\n",
              "    <tr>\n",
              "      <th>2019-09-30</th>\n",
              "      <td>2019-09-30</td>\n",
              "      <td>95.768805</td>\n",
              "      <td>97.297846</td>\n",
              "      <td>95.345588</td>\n",
              "      <td>96.920403</td>\n",
              "      <td>2019-09</td>\n",
              "    </tr>\n",
              "    <tr>\n",
              "      <th>2019-12-31</th>\n",
              "      <td>2019-12-31</td>\n",
              "      <td>97.130808</td>\n",
              "      <td>97.555194</td>\n",
              "      <td>96.889706</td>\n",
              "      <td>97.907543</td>\n",
              "      <td>2019-12</td>\n",
              "    </tr>\n",
              "    <tr>\n",
              "      <th>2020-03-30</th>\n",
              "      <td>2020-03-30</td>\n",
              "      <td>98.409845</td>\n",
              "      <td>99.600433</td>\n",
              "      <td>99.455882</td>\n",
              "      <td>99.840111</td>\n",
              "      <td>2020-03</td>\n",
              "    </tr>\n",
              "    <tr>\n",
              "      <th>2020-06-30</th>\n",
              "      <td>2020-06-30</td>\n",
              "      <td>99.737279</td>\n",
              "      <td>102.857917</td>\n",
              "      <td>98.919118</td>\n",
              "      <td>100.583942</td>\n",
              "      <td>2020-06</td>\n",
              "    </tr>\n",
              "    <tr>\n",
              "      <th>2020-09-30</th>\n",
              "      <td>2020-09-30</td>\n",
              "      <td>99.758020</td>\n",
              "      <td>101.605039</td>\n",
              "      <td>98.522059</td>\n",
              "      <td>102.085506</td>\n",
              "      <td>2020-09</td>\n",
              "    </tr>\n",
              "  </tbody>\n",
              "</table>\n",
              "</div>\n",
              "      <button class=\"colab-df-convert\" onclick=\"convertToInteractive('df-fa66d91f-ac46-4781-bc19-5706d3c1b701')\"\n",
              "              title=\"Convert this dataframe to an interactive table.\"\n",
              "              style=\"display:none;\">\n",
              "        \n",
              "  <svg xmlns=\"http://www.w3.org/2000/svg\" height=\"24px\"viewBox=\"0 0 24 24\"\n",
              "       width=\"24px\">\n",
              "    <path d=\"M0 0h24v24H0V0z\" fill=\"none\"/>\n",
              "    <path d=\"M18.56 5.44l.94 2.06.94-2.06 2.06-.94-2.06-.94-.94-2.06-.94 2.06-2.06.94zm-11 1L8.5 8.5l.94-2.06 2.06-.94-2.06-.94L8.5 2.5l-.94 2.06-2.06.94zm10 10l.94 2.06.94-2.06 2.06-.94-2.06-.94-.94-2.06-.94 2.06-2.06.94z\"/><path d=\"M17.41 7.96l-1.37-1.37c-.4-.4-.92-.59-1.43-.59-.52 0-1.04.2-1.43.59L10.3 9.45l-7.72 7.72c-.78.78-.78 2.05 0 2.83L4 21.41c.39.39.9.59 1.41.59.51 0 1.02-.2 1.41-.59l7.78-7.78 2.81-2.81c.8-.78.8-2.07 0-2.86zM5.41 20L4 18.59l7.72-7.72 1.47 1.35L5.41 20z\"/>\n",
              "  </svg>\n",
              "      </button>\n",
              "      \n",
              "  <style>\n",
              "    .colab-df-container {\n",
              "      display:flex;\n",
              "      flex-wrap:wrap;\n",
              "      gap: 12px;\n",
              "    }\n",
              "\n",
              "    .colab-df-convert {\n",
              "      background-color: #E8F0FE;\n",
              "      border: none;\n",
              "      border-radius: 50%;\n",
              "      cursor: pointer;\n",
              "      display: none;\n",
              "      fill: #1967D2;\n",
              "      height: 32px;\n",
              "      padding: 0 0 0 0;\n",
              "      width: 32px;\n",
              "    }\n",
              "\n",
              "    .colab-df-convert:hover {\n",
              "      background-color: #E2EBFA;\n",
              "      box-shadow: 0px 1px 2px rgba(60, 64, 67, 0.3), 0px 1px 3px 1px rgba(60, 64, 67, 0.15);\n",
              "      fill: #174EA6;\n",
              "    }\n",
              "\n",
              "    [theme=dark] .colab-df-convert {\n",
              "      background-color: #3B4455;\n",
              "      fill: #D2E3FC;\n",
              "    }\n",
              "\n",
              "    [theme=dark] .colab-df-convert:hover {\n",
              "      background-color: #434B5C;\n",
              "      box-shadow: 0px 1px 3px 1px rgba(0, 0, 0, 0.15);\n",
              "      filter: drop-shadow(0px 1px 2px rgba(0, 0, 0, 0.3));\n",
              "      fill: #FFFFFF;\n",
              "    }\n",
              "  </style>\n",
              "\n",
              "      <script>\n",
              "        const buttonEl =\n",
              "          document.querySelector('#df-fa66d91f-ac46-4781-bc19-5706d3c1b701 button.colab-df-convert');\n",
              "        buttonEl.style.display =\n",
              "          google.colab.kernel.accessAllowed ? 'block' : 'none';\n",
              "\n",
              "        async function convertToInteractive(key) {\n",
              "          const element = document.querySelector('#df-fa66d91f-ac46-4781-bc19-5706d3c1b701');\n",
              "          const dataTable =\n",
              "            await google.colab.kernel.invokeFunction('convertToInteractive',\n",
              "                                                     [key], {});\n",
              "          if (!dataTable) return;\n",
              "\n",
              "          const docLinkHtml = 'Like what you see? Visit the ' +\n",
              "            '<a target=\"_blank\" href=https://colab.research.google.com/notebooks/data_table.ipynb>data table notebook</a>'\n",
              "            + ' to learn more about interactive tables.';\n",
              "          element.innerHTML = '';\n",
              "          dataTable['output_type'] = 'display_data';\n",
              "          await google.colab.output.renderOutput(dataTable, element);\n",
              "          const docLink = document.createElement('div');\n",
              "          docLink.innerHTML = docLinkHtml;\n",
              "          element.appendChild(docLink);\n",
              "        }\n",
              "      </script>\n",
              "    </div>\n",
              "  </div>\n",
              "  "
            ]
          },
          "metadata": {},
          "execution_count": 5
        }
      ]
    },
    {
      "cell_type": "markdown",
      "source": [
        "# **Graph**"
      ],
      "metadata": {
        "id": "sBD6484BD6xl"
      }
    },
    {
      "cell_type": "code",
      "source": [
        "# Base Layout\n",
        "fig = go.Figure(\n",
        "    layout = go.Layout(\n",
        "        updatemenus = [dict(type = \"buttons\", direction = \"right\", x = 0.9, y = 1.16)],\n",
        "        xaxis = dict(range = ['2019-08','2022-07'],\n",
        "                     autorange = False, tickwidth = 2,\n",
        "                     title_text = \"Dates\"),\n",
        "        yaxis = dict(range = [80,120],\n",
        "                     autorange = False, \n",
        "                     title_text = \"\"),\n",
        "        title = \"New Home Price Index\",\n",
        "        title_font_size = 30,\n",
        "        title_x = 0.5\n",
        "    )\n",
        ")"
      ],
      "metadata": {
        "id": "EEoNoIa2EAB1"
      },
      "execution_count": null,
      "outputs": []
    },
    {
      "cell_type": "code",
      "source": [
        "# Add traces\n",
        "init = 1\n",
        "\n",
        "fig.add_trace(\n",
        "    go.Scatter(x = df.Nd[:init],\n",
        "               y = df.Total[:init],\n",
        "               name = 'Total',\n",
        "               visible = True,\n",
        "               line = dict(color = 'black'),\n",
        "               mode = 'lines'\n",
        "               )\n",
        ")\n",
        "\n",
        "fig.add_trace(\n",
        "    go.Scatter(x = df.Nd[:init],\n",
        "               y = df.Bogota[:init],\n",
        "               name = 'Bogota',\n",
        "               visible = True,\n",
        "               line = dict(color = 'red'),\n",
        "               mode = 'lines'\n",
        "               )\n",
        ")\n",
        "\n",
        "fig.add_trace(\n",
        "    go.Scatter(x = df.Nd[:init],\n",
        "               y = df.Barranquilla[:init],\n",
        "               name = 'Barranquilla',\n",
        "               visible = True,\n",
        "               line = dict(color = 'goldenrod', dash = 'dash'),\n",
        "               mode = 'lines'\n",
        "               )\n",
        ")"
      ],
      "metadata": {
        "id": "bfmqPtPbEII_",
        "outputId": "2e1e6bf0-8ace-4392-b704-0b0f75275e6b",
        "colab": {
          "base_uri": "https://localhost:8080/",
          "height": 542
        }
      },
      "execution_count": null,
      "outputs": [
        {
          "output_type": "display_data",
          "data": {
            "text/html": [
              "<html>\n",
              "<head><meta charset=\"utf-8\" /></head>\n",
              "<body>\n",
              "    <div>            <script src=\"https://cdnjs.cloudflare.com/ajax/libs/mathjax/2.7.5/MathJax.js?config=TeX-AMS-MML_SVG\"></script><script type=\"text/javascript\">if (window.MathJax) {MathJax.Hub.Config({SVG: {font: \"STIX-Web\"}});}</script>                <script type=\"text/javascript\">window.PlotlyConfig = {MathJaxConfig: 'local'};</script>\n",
              "        <script src=\"https://cdn.plot.ly/plotly-2.8.3.min.js\"></script>                <div id=\"2baff0fe-62d3-48ea-9818-d514281ba3cb\" class=\"plotly-graph-div\" style=\"height:525px; width:100%;\"></div>            <script type=\"text/javascript\">                                    window.PLOTLYENV=window.PLOTLYENV || {};                                    if (document.getElementById(\"2baff0fe-62d3-48ea-9818-d514281ba3cb\")) {                    Plotly.newPlot(                        \"2baff0fe-62d3-48ea-9818-d514281ba3cb\",                        [{\"line\":{\"color\":\"black\"},\"mode\":\"lines\",\"name\":\"Total\",\"visible\":true,\"x\":[\"2019-09\"],\"y\":[95.76880530973453],\"type\":\"scatter\"},{\"line\":{\"color\":\"red\"},\"mode\":\"lines\",\"name\":\"Bogota\",\"visible\":true,\"x\":[\"2019-09\"],\"y\":[96.92040319777544],\"type\":\"scatter\"},{\"line\":{\"color\":\"goldenrod\",\"dash\":\"dash\"},\"mode\":\"lines\",\"name\":\"Barranquilla\",\"visible\":true,\"x\":[\"2019-09\"],\"y\":[95.3455882352941],\"type\":\"scatter\"}],                        {\"title\":{\"font\":{\"size\":30},\"text\":\"New Home Price Index\",\"x\":0.5},\"updatemenus\":[{\"direction\":\"right\",\"type\":\"buttons\",\"x\":0.9,\"y\":1.16}],\"xaxis\":{\"autorange\":false,\"range\":[\"2019-08\",\"2022-07\"],\"tickwidth\":2,\"title\":{\"text\":\"Dates\"}},\"yaxis\":{\"autorange\":false,\"range\":[80,120],\"title\":{\"text\":\"\"}},\"template\":{\"data\":{\"bar\":[{\"error_x\":{\"color\":\"#2a3f5f\"},\"error_y\":{\"color\":\"#2a3f5f\"},\"marker\":{\"line\":{\"color\":\"#E5ECF6\",\"width\":0.5},\"pattern\":{\"fillmode\":\"overlay\",\"size\":10,\"solidity\":0.2}},\"type\":\"bar\"}],\"barpolar\":[{\"marker\":{\"line\":{\"color\":\"#E5ECF6\",\"width\":0.5},\"pattern\":{\"fillmode\":\"overlay\",\"size\":10,\"solidity\":0.2}},\"type\":\"barpolar\"}],\"carpet\":[{\"aaxis\":{\"endlinecolor\":\"#2a3f5f\",\"gridcolor\":\"white\",\"linecolor\":\"white\",\"minorgridcolor\":\"white\",\"startlinecolor\":\"#2a3f5f\"},\"baxis\":{\"endlinecolor\":\"#2a3f5f\",\"gridcolor\":\"white\",\"linecolor\":\"white\",\"minorgridcolor\":\"white\",\"startlinecolor\":\"#2a3f5f\"},\"type\":\"carpet\"}],\"choropleth\":[{\"colorbar\":{\"outlinewidth\":0,\"ticks\":\"\"},\"type\":\"choropleth\"}],\"contour\":[{\"colorbar\":{\"outlinewidth\":0,\"ticks\":\"\"},\"colorscale\":[[0.0,\"#0d0887\"],[0.1111111111111111,\"#46039f\"],[0.2222222222222222,\"#7201a8\"],[0.3333333333333333,\"#9c179e\"],[0.4444444444444444,\"#bd3786\"],[0.5555555555555556,\"#d8576b\"],[0.6666666666666666,\"#ed7953\"],[0.7777777777777778,\"#fb9f3a\"],[0.8888888888888888,\"#fdca26\"],[1.0,\"#f0f921\"]],\"type\":\"contour\"}],\"contourcarpet\":[{\"colorbar\":{\"outlinewidth\":0,\"ticks\":\"\"},\"type\":\"contourcarpet\"}],\"heatmap\":[{\"colorbar\":{\"outlinewidth\":0,\"ticks\":\"\"},\"colorscale\":[[0.0,\"#0d0887\"],[0.1111111111111111,\"#46039f\"],[0.2222222222222222,\"#7201a8\"],[0.3333333333333333,\"#9c179e\"],[0.4444444444444444,\"#bd3786\"],[0.5555555555555556,\"#d8576b\"],[0.6666666666666666,\"#ed7953\"],[0.7777777777777778,\"#fb9f3a\"],[0.8888888888888888,\"#fdca26\"],[1.0,\"#f0f921\"]],\"type\":\"heatmap\"}],\"heatmapgl\":[{\"colorbar\":{\"outlinewidth\":0,\"ticks\":\"\"},\"colorscale\":[[0.0,\"#0d0887\"],[0.1111111111111111,\"#46039f\"],[0.2222222222222222,\"#7201a8\"],[0.3333333333333333,\"#9c179e\"],[0.4444444444444444,\"#bd3786\"],[0.5555555555555556,\"#d8576b\"],[0.6666666666666666,\"#ed7953\"],[0.7777777777777778,\"#fb9f3a\"],[0.8888888888888888,\"#fdca26\"],[1.0,\"#f0f921\"]],\"type\":\"heatmapgl\"}],\"histogram\":[{\"marker\":{\"pattern\":{\"fillmode\":\"overlay\",\"size\":10,\"solidity\":0.2}},\"type\":\"histogram\"}],\"histogram2d\":[{\"colorbar\":{\"outlinewidth\":0,\"ticks\":\"\"},\"colorscale\":[[0.0,\"#0d0887\"],[0.1111111111111111,\"#46039f\"],[0.2222222222222222,\"#7201a8\"],[0.3333333333333333,\"#9c179e\"],[0.4444444444444444,\"#bd3786\"],[0.5555555555555556,\"#d8576b\"],[0.6666666666666666,\"#ed7953\"],[0.7777777777777778,\"#fb9f3a\"],[0.8888888888888888,\"#fdca26\"],[1.0,\"#f0f921\"]],\"type\":\"histogram2d\"}],\"histogram2dcontour\":[{\"colorbar\":{\"outlinewidth\":0,\"ticks\":\"\"},\"colorscale\":[[0.0,\"#0d0887\"],[0.1111111111111111,\"#46039f\"],[0.2222222222222222,\"#7201a8\"],[0.3333333333333333,\"#9c179e\"],[0.4444444444444444,\"#bd3786\"],[0.5555555555555556,\"#d8576b\"],[0.6666666666666666,\"#ed7953\"],[0.7777777777777778,\"#fb9f3a\"],[0.8888888888888888,\"#fdca26\"],[1.0,\"#f0f921\"]],\"type\":\"histogram2dcontour\"}],\"mesh3d\":[{\"colorbar\":{\"outlinewidth\":0,\"ticks\":\"\"},\"type\":\"mesh3d\"}],\"parcoords\":[{\"line\":{\"colorbar\":{\"outlinewidth\":0,\"ticks\":\"\"}},\"type\":\"parcoords\"}],\"pie\":[{\"automargin\":true,\"type\":\"pie\"}],\"scatter\":[{\"marker\":{\"colorbar\":{\"outlinewidth\":0,\"ticks\":\"\"}},\"type\":\"scatter\"}],\"scatter3d\":[{\"line\":{\"colorbar\":{\"outlinewidth\":0,\"ticks\":\"\"}},\"marker\":{\"colorbar\":{\"outlinewidth\":0,\"ticks\":\"\"}},\"type\":\"scatter3d\"}],\"scattercarpet\":[{\"marker\":{\"colorbar\":{\"outlinewidth\":0,\"ticks\":\"\"}},\"type\":\"scattercarpet\"}],\"scattergeo\":[{\"marker\":{\"colorbar\":{\"outlinewidth\":0,\"ticks\":\"\"}},\"type\":\"scattergeo\"}],\"scattergl\":[{\"marker\":{\"colorbar\":{\"outlinewidth\":0,\"ticks\":\"\"}},\"type\":\"scattergl\"}],\"scattermapbox\":[{\"marker\":{\"colorbar\":{\"outlinewidth\":0,\"ticks\":\"\"}},\"type\":\"scattermapbox\"}],\"scatterpolar\":[{\"marker\":{\"colorbar\":{\"outlinewidth\":0,\"ticks\":\"\"}},\"type\":\"scatterpolar\"}],\"scatterpolargl\":[{\"marker\":{\"colorbar\":{\"outlinewidth\":0,\"ticks\":\"\"}},\"type\":\"scatterpolargl\"}],\"scatterternary\":[{\"marker\":{\"colorbar\":{\"outlinewidth\":0,\"ticks\":\"\"}},\"type\":\"scatterternary\"}],\"surface\":[{\"colorbar\":{\"outlinewidth\":0,\"ticks\":\"\"},\"colorscale\":[[0.0,\"#0d0887\"],[0.1111111111111111,\"#46039f\"],[0.2222222222222222,\"#7201a8\"],[0.3333333333333333,\"#9c179e\"],[0.4444444444444444,\"#bd3786\"],[0.5555555555555556,\"#d8576b\"],[0.6666666666666666,\"#ed7953\"],[0.7777777777777778,\"#fb9f3a\"],[0.8888888888888888,\"#fdca26\"],[1.0,\"#f0f921\"]],\"type\":\"surface\"}],\"table\":[{\"cells\":{\"fill\":{\"color\":\"#EBF0F8\"},\"line\":{\"color\":\"white\"}},\"header\":{\"fill\":{\"color\":\"#C8D4E3\"},\"line\":{\"color\":\"white\"}},\"type\":\"table\"}]},\"layout\":{\"annotationdefaults\":{\"arrowcolor\":\"#2a3f5f\",\"arrowhead\":0,\"arrowwidth\":1},\"autotypenumbers\":\"strict\",\"coloraxis\":{\"colorbar\":{\"outlinewidth\":0,\"ticks\":\"\"}},\"colorscale\":{\"diverging\":[[0,\"#8e0152\"],[0.1,\"#c51b7d\"],[0.2,\"#de77ae\"],[0.3,\"#f1b6da\"],[0.4,\"#fde0ef\"],[0.5,\"#f7f7f7\"],[0.6,\"#e6f5d0\"],[0.7,\"#b8e186\"],[0.8,\"#7fbc41\"],[0.9,\"#4d9221\"],[1,\"#276419\"]],\"sequential\":[[0.0,\"#0d0887\"],[0.1111111111111111,\"#46039f\"],[0.2222222222222222,\"#7201a8\"],[0.3333333333333333,\"#9c179e\"],[0.4444444444444444,\"#bd3786\"],[0.5555555555555556,\"#d8576b\"],[0.6666666666666666,\"#ed7953\"],[0.7777777777777778,\"#fb9f3a\"],[0.8888888888888888,\"#fdca26\"],[1.0,\"#f0f921\"]],\"sequentialminus\":[[0.0,\"#0d0887\"],[0.1111111111111111,\"#46039f\"],[0.2222222222222222,\"#7201a8\"],[0.3333333333333333,\"#9c179e\"],[0.4444444444444444,\"#bd3786\"],[0.5555555555555556,\"#d8576b\"],[0.6666666666666666,\"#ed7953\"],[0.7777777777777778,\"#fb9f3a\"],[0.8888888888888888,\"#fdca26\"],[1.0,\"#f0f921\"]]},\"colorway\":[\"#636efa\",\"#EF553B\",\"#00cc96\",\"#ab63fa\",\"#FFA15A\",\"#19d3f3\",\"#FF6692\",\"#B6E880\",\"#FF97FF\",\"#FECB52\"],\"font\":{\"color\":\"#2a3f5f\"},\"geo\":{\"bgcolor\":\"white\",\"lakecolor\":\"white\",\"landcolor\":\"#E5ECF6\",\"showlakes\":true,\"showland\":true,\"subunitcolor\":\"white\"},\"hoverlabel\":{\"align\":\"left\"},\"hovermode\":\"closest\",\"mapbox\":{\"style\":\"light\"},\"paper_bgcolor\":\"white\",\"plot_bgcolor\":\"#E5ECF6\",\"polar\":{\"angularaxis\":{\"gridcolor\":\"white\",\"linecolor\":\"white\",\"ticks\":\"\"},\"bgcolor\":\"#E5ECF6\",\"radialaxis\":{\"gridcolor\":\"white\",\"linecolor\":\"white\",\"ticks\":\"\"}},\"scene\":{\"xaxis\":{\"backgroundcolor\":\"#E5ECF6\",\"gridcolor\":\"white\",\"gridwidth\":2,\"linecolor\":\"white\",\"showbackground\":true,\"ticks\":\"\",\"zerolinecolor\":\"white\"},\"yaxis\":{\"backgroundcolor\":\"#E5ECF6\",\"gridcolor\":\"white\",\"gridwidth\":2,\"linecolor\":\"white\",\"showbackground\":true,\"ticks\":\"\",\"zerolinecolor\":\"white\"},\"zaxis\":{\"backgroundcolor\":\"#E5ECF6\",\"gridcolor\":\"white\",\"gridwidth\":2,\"linecolor\":\"white\",\"showbackground\":true,\"ticks\":\"\",\"zerolinecolor\":\"white\"}},\"shapedefaults\":{\"line\":{\"color\":\"#2a3f5f\"}},\"ternary\":{\"aaxis\":{\"gridcolor\":\"white\",\"linecolor\":\"white\",\"ticks\":\"\"},\"baxis\":{\"gridcolor\":\"white\",\"linecolor\":\"white\",\"ticks\":\"\"},\"bgcolor\":\"#E5ECF6\",\"caxis\":{\"gridcolor\":\"white\",\"linecolor\":\"white\",\"ticks\":\"\"}},\"title\":{\"x\":0.05},\"xaxis\":{\"automargin\":true,\"gridcolor\":\"white\",\"linecolor\":\"white\",\"ticks\":\"\",\"title\":{\"standoff\":15},\"zerolinecolor\":\"white\",\"zerolinewidth\":2},\"yaxis\":{\"automargin\":true,\"gridcolor\":\"white\",\"linecolor\":\"white\",\"ticks\":\"\",\"title\":{\"standoff\":15},\"zerolinecolor\":\"white\",\"zerolinewidth\":2}}}},                        {\"responsive\": true}                    ).then(function(){\n",
              "                            \n",
              "var gd = document.getElementById('2baff0fe-62d3-48ea-9818-d514281ba3cb');\n",
              "var x = new MutationObserver(function (mutations, observer) {{\n",
              "        var display = window.getComputedStyle(gd).display;\n",
              "        if (!display || display === 'none') {{\n",
              "            console.log([gd, 'removed!']);\n",
              "            Plotly.purge(gd);\n",
              "            observer.disconnect();\n",
              "        }}\n",
              "}});\n",
              "\n",
              "// Listen for the removal of the full notebook cells\n",
              "var notebookContainer = gd.closest('#notebook-container');\n",
              "if (notebookContainer) {{\n",
              "    x.observe(notebookContainer, {childList: true});\n",
              "}}\n",
              "\n",
              "// Listen for the clearing of the current output cell\n",
              "var outputEl = gd.closest('.output');\n",
              "if (outputEl) {{\n",
              "    x.observe(outputEl, {childList: true});\n",
              "}}\n",
              "\n",
              "                        })                };                            </script>        </div>\n",
              "</body>\n",
              "</html>"
            ]
          },
          "metadata": {}
        }
      ]
    },
    {
      "cell_type": "code",
      "source": [
        "# Frames\n",
        "frames = [\n",
        "    go.Frame(\n",
        "        data = [\n",
        "            go.Scatter(x = df.Nd[:k], y = df.Total[:k]),\n",
        "            go.Scatter(x = df.Nd[:k], y = df.Bogota[:k]),\n",
        "            go.Scatter(x = df.Nd[:k], y = df.Barranquilla[:k])\n",
        "        ]\n",
        "    )\n",
        "    for k in range(init, len(df)+1)\n",
        "]"
      ],
      "metadata": {
        "id": "MSK811mAEXLd"
      },
      "execution_count": null,
      "outputs": []
    },
    {
      "cell_type": "code",
      "source": [
        "# Animation\n",
        "fig.update(frames = frames)"
      ],
      "metadata": {
        "id": "5AFN2a2wEcDD",
        "outputId": "6d24ecf4-1c43-4ae8-d891-dc7105bae65f",
        "colab": {
          "base_uri": "https://localhost:8080/",
          "height": 542
        }
      },
      "execution_count": null,
      "outputs": [
        {
          "output_type": "display_data",
          "data": {
            "text/html": [
              "<html>\n",
              "<head><meta charset=\"utf-8\" /></head>\n",
              "<body>\n",
              "    <div>            <script src=\"https://cdnjs.cloudflare.com/ajax/libs/mathjax/2.7.5/MathJax.js?config=TeX-AMS-MML_SVG\"></script><script type=\"text/javascript\">if (window.MathJax) {MathJax.Hub.Config({SVG: {font: \"STIX-Web\"}});}</script>                <script type=\"text/javascript\">window.PlotlyConfig = {MathJaxConfig: 'local'};</script>\n",
              "        <script src=\"https://cdn.plot.ly/plotly-2.8.3.min.js\"></script>                <div id=\"ab794d30-786c-47fe-a15e-8368e23026db\" class=\"plotly-graph-div\" style=\"height:525px; width:100%;\"></div>            <script type=\"text/javascript\">                                    window.PLOTLYENV=window.PLOTLYENV || {};                                    if (document.getElementById(\"ab794d30-786c-47fe-a15e-8368e23026db\")) {                    Plotly.newPlot(                        \"ab794d30-786c-47fe-a15e-8368e23026db\",                        [{\"line\":{\"color\":\"black\"},\"mode\":\"lines\",\"name\":\"Total\",\"visible\":true,\"x\":[\"2019-09\"],\"y\":[95.76880530973453],\"type\":\"scatter\"},{\"line\":{\"color\":\"red\"},\"mode\":\"lines\",\"name\":\"Bogota\",\"visible\":true,\"x\":[\"2019-09\"],\"y\":[96.92040319777544],\"type\":\"scatter\"},{\"line\":{\"color\":\"goldenrod\",\"dash\":\"dash\"},\"mode\":\"lines\",\"name\":\"Barranquilla\",\"visible\":true,\"x\":[\"2019-09\"],\"y\":[95.3455882352941],\"type\":\"scatter\"}],                        {\"title\":{\"font\":{\"size\":30},\"text\":\"New Home Price Index\",\"x\":0.5},\"updatemenus\":[{\"direction\":\"right\",\"type\":\"buttons\",\"x\":0.9,\"y\":1.16}],\"xaxis\":{\"autorange\":false,\"range\":[\"2019-08\",\"2022-07\"],\"tickwidth\":2,\"title\":{\"text\":\"Dates\"}},\"yaxis\":{\"autorange\":false,\"range\":[80,120],\"title\":{\"text\":\"\"}},\"template\":{\"data\":{\"bar\":[{\"error_x\":{\"color\":\"#2a3f5f\"},\"error_y\":{\"color\":\"#2a3f5f\"},\"marker\":{\"line\":{\"color\":\"#E5ECF6\",\"width\":0.5},\"pattern\":{\"fillmode\":\"overlay\",\"size\":10,\"solidity\":0.2}},\"type\":\"bar\"}],\"barpolar\":[{\"marker\":{\"line\":{\"color\":\"#E5ECF6\",\"width\":0.5},\"pattern\":{\"fillmode\":\"overlay\",\"size\":10,\"solidity\":0.2}},\"type\":\"barpolar\"}],\"carpet\":[{\"aaxis\":{\"endlinecolor\":\"#2a3f5f\",\"gridcolor\":\"white\",\"linecolor\":\"white\",\"minorgridcolor\":\"white\",\"startlinecolor\":\"#2a3f5f\"},\"baxis\":{\"endlinecolor\":\"#2a3f5f\",\"gridcolor\":\"white\",\"linecolor\":\"white\",\"minorgridcolor\":\"white\",\"startlinecolor\":\"#2a3f5f\"},\"type\":\"carpet\"}],\"choropleth\":[{\"colorbar\":{\"outlinewidth\":0,\"ticks\":\"\"},\"type\":\"choropleth\"}],\"contour\":[{\"colorbar\":{\"outlinewidth\":0,\"ticks\":\"\"},\"colorscale\":[[0.0,\"#0d0887\"],[0.1111111111111111,\"#46039f\"],[0.2222222222222222,\"#7201a8\"],[0.3333333333333333,\"#9c179e\"],[0.4444444444444444,\"#bd3786\"],[0.5555555555555556,\"#d8576b\"],[0.6666666666666666,\"#ed7953\"],[0.7777777777777778,\"#fb9f3a\"],[0.8888888888888888,\"#fdca26\"],[1.0,\"#f0f921\"]],\"type\":\"contour\"}],\"contourcarpet\":[{\"colorbar\":{\"outlinewidth\":0,\"ticks\":\"\"},\"type\":\"contourcarpet\"}],\"heatmap\":[{\"colorbar\":{\"outlinewidth\":0,\"ticks\":\"\"},\"colorscale\":[[0.0,\"#0d0887\"],[0.1111111111111111,\"#46039f\"],[0.2222222222222222,\"#7201a8\"],[0.3333333333333333,\"#9c179e\"],[0.4444444444444444,\"#bd3786\"],[0.5555555555555556,\"#d8576b\"],[0.6666666666666666,\"#ed7953\"],[0.7777777777777778,\"#fb9f3a\"],[0.8888888888888888,\"#fdca26\"],[1.0,\"#f0f921\"]],\"type\":\"heatmap\"}],\"heatmapgl\":[{\"colorbar\":{\"outlinewidth\":0,\"ticks\":\"\"},\"colorscale\":[[0.0,\"#0d0887\"],[0.1111111111111111,\"#46039f\"],[0.2222222222222222,\"#7201a8\"],[0.3333333333333333,\"#9c179e\"],[0.4444444444444444,\"#bd3786\"],[0.5555555555555556,\"#d8576b\"],[0.6666666666666666,\"#ed7953\"],[0.7777777777777778,\"#fb9f3a\"],[0.8888888888888888,\"#fdca26\"],[1.0,\"#f0f921\"]],\"type\":\"heatmapgl\"}],\"histogram\":[{\"marker\":{\"pattern\":{\"fillmode\":\"overlay\",\"size\":10,\"solidity\":0.2}},\"type\":\"histogram\"}],\"histogram2d\":[{\"colorbar\":{\"outlinewidth\":0,\"ticks\":\"\"},\"colorscale\":[[0.0,\"#0d0887\"],[0.1111111111111111,\"#46039f\"],[0.2222222222222222,\"#7201a8\"],[0.3333333333333333,\"#9c179e\"],[0.4444444444444444,\"#bd3786\"],[0.5555555555555556,\"#d8576b\"],[0.6666666666666666,\"#ed7953\"],[0.7777777777777778,\"#fb9f3a\"],[0.8888888888888888,\"#fdca26\"],[1.0,\"#f0f921\"]],\"type\":\"histogram2d\"}],\"histogram2dcontour\":[{\"colorbar\":{\"outlinewidth\":0,\"ticks\":\"\"},\"colorscale\":[[0.0,\"#0d0887\"],[0.1111111111111111,\"#46039f\"],[0.2222222222222222,\"#7201a8\"],[0.3333333333333333,\"#9c179e\"],[0.4444444444444444,\"#bd3786\"],[0.5555555555555556,\"#d8576b\"],[0.6666666666666666,\"#ed7953\"],[0.7777777777777778,\"#fb9f3a\"],[0.8888888888888888,\"#fdca26\"],[1.0,\"#f0f921\"]],\"type\":\"histogram2dcontour\"}],\"mesh3d\":[{\"colorbar\":{\"outlinewidth\":0,\"ticks\":\"\"},\"type\":\"mesh3d\"}],\"parcoords\":[{\"line\":{\"colorbar\":{\"outlinewidth\":0,\"ticks\":\"\"}},\"type\":\"parcoords\"}],\"pie\":[{\"automargin\":true,\"type\":\"pie\"}],\"scatter\":[{\"marker\":{\"colorbar\":{\"outlinewidth\":0,\"ticks\":\"\"}},\"type\":\"scatter\"}],\"scatter3d\":[{\"line\":{\"colorbar\":{\"outlinewidth\":0,\"ticks\":\"\"}},\"marker\":{\"colorbar\":{\"outlinewidth\":0,\"ticks\":\"\"}},\"type\":\"scatter3d\"}],\"scattercarpet\":[{\"marker\":{\"colorbar\":{\"outlinewidth\":0,\"ticks\":\"\"}},\"type\":\"scattercarpet\"}],\"scattergeo\":[{\"marker\":{\"colorbar\":{\"outlinewidth\":0,\"ticks\":\"\"}},\"type\":\"scattergeo\"}],\"scattergl\":[{\"marker\":{\"colorbar\":{\"outlinewidth\":0,\"ticks\":\"\"}},\"type\":\"scattergl\"}],\"scattermapbox\":[{\"marker\":{\"colorbar\":{\"outlinewidth\":0,\"ticks\":\"\"}},\"type\":\"scattermapbox\"}],\"scatterpolar\":[{\"marker\":{\"colorbar\":{\"outlinewidth\":0,\"ticks\":\"\"}},\"type\":\"scatterpolar\"}],\"scatterpolargl\":[{\"marker\":{\"colorbar\":{\"outlinewidth\":0,\"ticks\":\"\"}},\"type\":\"scatterpolargl\"}],\"scatterternary\":[{\"marker\":{\"colorbar\":{\"outlinewidth\":0,\"ticks\":\"\"}},\"type\":\"scatterternary\"}],\"surface\":[{\"colorbar\":{\"outlinewidth\":0,\"ticks\":\"\"},\"colorscale\":[[0.0,\"#0d0887\"],[0.1111111111111111,\"#46039f\"],[0.2222222222222222,\"#7201a8\"],[0.3333333333333333,\"#9c179e\"],[0.4444444444444444,\"#bd3786\"],[0.5555555555555556,\"#d8576b\"],[0.6666666666666666,\"#ed7953\"],[0.7777777777777778,\"#fb9f3a\"],[0.8888888888888888,\"#fdca26\"],[1.0,\"#f0f921\"]],\"type\":\"surface\"}],\"table\":[{\"cells\":{\"fill\":{\"color\":\"#EBF0F8\"},\"line\":{\"color\":\"white\"}},\"header\":{\"fill\":{\"color\":\"#C8D4E3\"},\"line\":{\"color\":\"white\"}},\"type\":\"table\"}]},\"layout\":{\"annotationdefaults\":{\"arrowcolor\":\"#2a3f5f\",\"arrowhead\":0,\"arrowwidth\":1},\"autotypenumbers\":\"strict\",\"coloraxis\":{\"colorbar\":{\"outlinewidth\":0,\"ticks\":\"\"}},\"colorscale\":{\"diverging\":[[0,\"#8e0152\"],[0.1,\"#c51b7d\"],[0.2,\"#de77ae\"],[0.3,\"#f1b6da\"],[0.4,\"#fde0ef\"],[0.5,\"#f7f7f7\"],[0.6,\"#e6f5d0\"],[0.7,\"#b8e186\"],[0.8,\"#7fbc41\"],[0.9,\"#4d9221\"],[1,\"#276419\"]],\"sequential\":[[0.0,\"#0d0887\"],[0.1111111111111111,\"#46039f\"],[0.2222222222222222,\"#7201a8\"],[0.3333333333333333,\"#9c179e\"],[0.4444444444444444,\"#bd3786\"],[0.5555555555555556,\"#d8576b\"],[0.6666666666666666,\"#ed7953\"],[0.7777777777777778,\"#fb9f3a\"],[0.8888888888888888,\"#fdca26\"],[1.0,\"#f0f921\"]],\"sequentialminus\":[[0.0,\"#0d0887\"],[0.1111111111111111,\"#46039f\"],[0.2222222222222222,\"#7201a8\"],[0.3333333333333333,\"#9c179e\"],[0.4444444444444444,\"#bd3786\"],[0.5555555555555556,\"#d8576b\"],[0.6666666666666666,\"#ed7953\"],[0.7777777777777778,\"#fb9f3a\"],[0.8888888888888888,\"#fdca26\"],[1.0,\"#f0f921\"]]},\"colorway\":[\"#636efa\",\"#EF553B\",\"#00cc96\",\"#ab63fa\",\"#FFA15A\",\"#19d3f3\",\"#FF6692\",\"#B6E880\",\"#FF97FF\",\"#FECB52\"],\"font\":{\"color\":\"#2a3f5f\"},\"geo\":{\"bgcolor\":\"white\",\"lakecolor\":\"white\",\"landcolor\":\"#E5ECF6\",\"showlakes\":true,\"showland\":true,\"subunitcolor\":\"white\"},\"hoverlabel\":{\"align\":\"left\"},\"hovermode\":\"closest\",\"mapbox\":{\"style\":\"light\"},\"paper_bgcolor\":\"white\",\"plot_bgcolor\":\"#E5ECF6\",\"polar\":{\"angularaxis\":{\"gridcolor\":\"white\",\"linecolor\":\"white\",\"ticks\":\"\"},\"bgcolor\":\"#E5ECF6\",\"radialaxis\":{\"gridcolor\":\"white\",\"linecolor\":\"white\",\"ticks\":\"\"}},\"scene\":{\"xaxis\":{\"backgroundcolor\":\"#E5ECF6\",\"gridcolor\":\"white\",\"gridwidth\":2,\"linecolor\":\"white\",\"showbackground\":true,\"ticks\":\"\",\"zerolinecolor\":\"white\"},\"yaxis\":{\"backgroundcolor\":\"#E5ECF6\",\"gridcolor\":\"white\",\"gridwidth\":2,\"linecolor\":\"white\",\"showbackground\":true,\"ticks\":\"\",\"zerolinecolor\":\"white\"},\"zaxis\":{\"backgroundcolor\":\"#E5ECF6\",\"gridcolor\":\"white\",\"gridwidth\":2,\"linecolor\":\"white\",\"showbackground\":true,\"ticks\":\"\",\"zerolinecolor\":\"white\"}},\"shapedefaults\":{\"line\":{\"color\":\"#2a3f5f\"}},\"ternary\":{\"aaxis\":{\"gridcolor\":\"white\",\"linecolor\":\"white\",\"ticks\":\"\"},\"baxis\":{\"gridcolor\":\"white\",\"linecolor\":\"white\",\"ticks\":\"\"},\"bgcolor\":\"#E5ECF6\",\"caxis\":{\"gridcolor\":\"white\",\"linecolor\":\"white\",\"ticks\":\"\"}},\"title\":{\"x\":0.05},\"xaxis\":{\"automargin\":true,\"gridcolor\":\"white\",\"linecolor\":\"white\",\"ticks\":\"\",\"title\":{\"standoff\":15},\"zerolinecolor\":\"white\",\"zerolinewidth\":2},\"yaxis\":{\"automargin\":true,\"gridcolor\":\"white\",\"linecolor\":\"white\",\"ticks\":\"\",\"title\":{\"standoff\":15},\"zerolinecolor\":\"white\",\"zerolinewidth\":2}}}},                        {\"responsive\": true}                    ).then(function(){\n",
              "                            Plotly.addFrames('ab794d30-786c-47fe-a15e-8368e23026db', [{\"data\":[{\"x\":[\"2019-09\"],\"y\":[95.76880530973453],\"type\":\"scatter\"},{\"x\":[\"2019-09\"],\"y\":[96.92040319777544],\"type\":\"scatter\"},{\"x\":[\"2019-09\"],\"y\":[95.3455882352941],\"type\":\"scatter\"}]},{\"data\":[{\"x\":[\"2019-09\",\"2019-12\"],\"y\":[95.76880530973453,97.13080752212392],\"type\":\"scatter\"},{\"x\":[\"2019-09\",\"2019-12\"],\"y\":[96.92040319777544,97.90754257907543],\"type\":\"scatter\"},{\"x\":[\"2019-09\",\"2019-12\"],\"y\":[95.3455882352941,96.88970588235294],\"type\":\"scatter\"}]},{\"data\":[{\"x\":[\"2019-09\",\"2019-12\",\"2020-03\"],\"y\":[95.76880530973453,97.13080752212392,98.40984513274338],\"type\":\"scatter\"},{\"x\":[\"2019-09\",\"2019-12\",\"2020-03\"],\"y\":[96.92040319777544,97.90754257907543,99.84011122697254],\"type\":\"scatter\"},{\"x\":[\"2019-09\",\"2019-12\",\"2020-03\"],\"y\":[95.3455882352941,96.88970588235294,99.45588235294116],\"type\":\"scatter\"}]},{\"data\":[{\"x\":[\"2019-09\",\"2019-12\",\"2020-03\",\"2020-06\"],\"y\":[95.76880530973453,97.13080752212392,98.40984513274338,99.73727876106196],\"type\":\"scatter\"},{\"x\":[\"2019-09\",\"2019-12\",\"2020-03\",\"2020-06\"],\"y\":[96.92040319777544,97.90754257907543,99.84011122697254,100.58394160583941],\"type\":\"scatter\"},{\"x\":[\"2019-09\",\"2019-12\",\"2020-03\",\"2020-06\"],\"y\":[95.3455882352941,96.88970588235294,99.45588235294116,98.91911764705881],\"type\":\"scatter\"}]},{\"data\":[{\"x\":[\"2019-09\",\"2019-12\",\"2020-03\",\"2020-06\",\"2020-09\"],\"y\":[95.76880530973453,97.13080752212392,98.40984513274338,99.73727876106196,99.75801991150443],\"type\":\"scatter\"},{\"x\":[\"2019-09\",\"2019-12\",\"2020-03\",\"2020-06\",\"2020-09\"],\"y\":[96.92040319777544,97.90754257907543,99.84011122697254,100.58394160583941,102.08550573514077],\"type\":\"scatter\"},{\"x\":[\"2019-09\",\"2019-12\",\"2020-03\",\"2020-06\",\"2020-09\"],\"y\":[95.3455882352941,96.88970588235294,99.45588235294116,98.91911764705881,98.5220588235294],\"type\":\"scatter\"}]},{\"data\":[{\"x\":[\"2019-09\",\"2019-12\",\"2020-03\",\"2020-06\",\"2020-09\",\"2020-12\"],\"y\":[95.76880530973453,97.13080752212392,98.40984513274338,99.73727876106196,99.75801991150443,100.0],\"type\":\"scatter\"},{\"x\":[\"2019-09\",\"2019-12\",\"2020-03\",\"2020-06\",\"2020-09\",\"2020-12\"],\"y\":[96.92040319777544,97.90754257907543,99.84011122697254,100.58394160583941,102.08550573514077,100.0],\"type\":\"scatter\"},{\"x\":[\"2019-09\",\"2019-12\",\"2020-03\",\"2020-06\",\"2020-09\",\"2020-12\"],\"y\":[95.3455882352941,96.88970588235294,99.45588235294116,98.91911764705881,98.5220588235294,100.0],\"type\":\"scatter\"}]},{\"data\":[{\"x\":[\"2019-09\",\"2019-12\",\"2020-03\",\"2020-06\",\"2020-09\",\"2020-12\",\"2021-03\"],\"y\":[95.76880530973453,97.13080752212392,98.40984513274338,99.73727876106196,99.75801991150443,100.0,101.55],\"type\":\"scatter\"},{\"x\":[\"2019-09\",\"2019-12\",\"2020-03\",\"2020-06\",\"2020-09\",\"2020-12\",\"2021-03\"],\"y\":[96.92040319777544,97.90754257907543,99.84011122697254,100.58394160583941,102.08550573514077,100.0,102.07],\"type\":\"scatter\"},{\"x\":[\"2019-09\",\"2019-12\",\"2020-03\",\"2020-06\",\"2020-09\",\"2020-12\",\"2021-03\"],\"y\":[95.3455882352941,96.88970588235294,99.45588235294116,98.91911764705881,98.5220588235294,100.0,100.33],\"type\":\"scatter\"}]},{\"data\":[{\"x\":[\"2019-09\",\"2019-12\",\"2020-03\",\"2020-06\",\"2020-09\",\"2020-12\",\"2021-03\",\"2021-06\"],\"y\":[95.76880530973453,97.13080752212392,98.40984513274338,99.73727876106196,99.75801991150443,100.0,101.55,103.12],\"type\":\"scatter\"},{\"x\":[\"2019-09\",\"2019-12\",\"2020-03\",\"2020-06\",\"2020-09\",\"2020-12\",\"2021-03\",\"2021-06\"],\"y\":[96.92040319777544,97.90754257907543,99.84011122697254,100.58394160583941,102.08550573514077,100.0,102.07,104.0],\"type\":\"scatter\"},{\"x\":[\"2019-09\",\"2019-12\",\"2020-03\",\"2020-06\",\"2020-09\",\"2020-12\",\"2021-03\",\"2021-06\"],\"y\":[95.3455882352941,96.88970588235294,99.45588235294116,98.91911764705881,98.5220588235294,100.0,100.33,101.48],\"type\":\"scatter\"}]},{\"data\":[{\"x\":[\"2019-09\",\"2019-12\",\"2020-03\",\"2020-06\",\"2020-09\",\"2020-12\",\"2021-03\",\"2021-06\",\"2021-09\"],\"y\":[95.76880530973453,97.13080752212392,98.40984513274338,99.73727876106196,99.75801991150443,100.0,101.55,103.12,105.16],\"type\":\"scatter\"},{\"x\":[\"2019-09\",\"2019-12\",\"2020-03\",\"2020-06\",\"2020-09\",\"2020-12\",\"2021-03\",\"2021-06\",\"2021-09\"],\"y\":[96.92040319777544,97.90754257907543,99.84011122697254,100.58394160583941,102.08550573514077,100.0,102.07,104.0,107.11],\"type\":\"scatter\"},{\"x\":[\"2019-09\",\"2019-12\",\"2020-03\",\"2020-06\",\"2020-09\",\"2020-12\",\"2021-03\",\"2021-06\",\"2021-09\"],\"y\":[95.3455882352941,96.88970588235294,99.45588235294116,98.91911764705881,98.5220588235294,100.0,100.33,101.48,104.68],\"type\":\"scatter\"}]},{\"data\":[{\"x\":[\"2019-09\",\"2019-12\",\"2020-03\",\"2020-06\",\"2020-09\",\"2020-12\",\"2021-03\",\"2021-06\",\"2021-09\",\"2021-12\"],\"y\":[95.76880530973453,97.13080752212392,98.40984513274338,99.73727876106196,99.75801991150443,100.0,101.55,103.12,105.16,106.76],\"type\":\"scatter\"},{\"x\":[\"2019-09\",\"2019-12\",\"2020-03\",\"2020-06\",\"2020-09\",\"2020-12\",\"2021-03\",\"2021-06\",\"2021-09\",\"2021-12\"],\"y\":[96.92040319777544,97.90754257907543,99.84011122697254,100.58394160583941,102.08550573514077,100.0,102.07,104.0,107.11,108.66],\"type\":\"scatter\"},{\"x\":[\"2019-09\",\"2019-12\",\"2020-03\",\"2020-06\",\"2020-09\",\"2020-12\",\"2021-03\",\"2021-06\",\"2021-09\",\"2021-12\"],\"y\":[95.3455882352941,96.88970588235294,99.45588235294116,98.91911764705881,98.5220588235294,100.0,100.33,101.48,104.68,106.57],\"type\":\"scatter\"}]},{\"data\":[{\"x\":[\"2019-09\",\"2019-12\",\"2020-03\",\"2020-06\",\"2020-09\",\"2020-12\",\"2021-03\",\"2021-06\",\"2021-09\",\"2021-12\",\"2022-03\"],\"y\":[95.76880530973453,97.13080752212392,98.40984513274338,99.73727876106196,99.75801991150443,100.0,101.55,103.12,105.16,106.76,109.32],\"type\":\"scatter\"},{\"x\":[\"2019-09\",\"2019-12\",\"2020-03\",\"2020-06\",\"2020-09\",\"2020-12\",\"2021-03\",\"2021-06\",\"2021-09\",\"2021-12\",\"2022-03\"],\"y\":[96.92040319777544,97.90754257907543,99.84011122697254,100.58394160583941,102.08550573514077,100.0,102.07,104.0,107.11,108.66,111.4],\"type\":\"scatter\"},{\"x\":[\"2019-09\",\"2019-12\",\"2020-03\",\"2020-06\",\"2020-09\",\"2020-12\",\"2021-03\",\"2021-06\",\"2021-09\",\"2021-12\",\"2022-03\"],\"y\":[95.3455882352941,96.88970588235294,99.45588235294116,98.91911764705881,98.5220588235294,100.0,100.33,101.48,104.68,106.57,108.14],\"type\":\"scatter\"}]},{\"data\":[{\"x\":[\"2019-09\",\"2019-12\",\"2020-03\",\"2020-06\",\"2020-09\",\"2020-12\",\"2021-03\",\"2021-06\",\"2021-09\",\"2021-12\",\"2022-03\",\"2022-06\"],\"y\":[95.76880530973453,97.13080752212392,98.40984513274338,99.73727876106196,99.75801991150443,100.0,101.55,103.12,105.16,106.76,109.32,111.93],\"type\":\"scatter\"},{\"x\":[\"2019-09\",\"2019-12\",\"2020-03\",\"2020-06\",\"2020-09\",\"2020-12\",\"2021-03\",\"2021-06\",\"2021-09\",\"2021-12\",\"2022-03\",\"2022-06\"],\"y\":[96.92040319777544,97.90754257907543,99.84011122697254,100.58394160583941,102.08550573514077,100.0,102.07,104.0,107.11,108.66,111.4,114.02],\"type\":\"scatter\"},{\"x\":[\"2019-09\",\"2019-12\",\"2020-03\",\"2020-06\",\"2020-09\",\"2020-12\",\"2021-03\",\"2021-06\",\"2021-09\",\"2021-12\",\"2022-03\",\"2022-06\"],\"y\":[95.3455882352941,96.88970588235294,99.45588235294116,98.91911764705881,98.5220588235294,100.0,100.33,101.48,104.68,106.57,108.14,112.01],\"type\":\"scatter\"}]}]);\n",
              "                        }).then(function(){\n",
              "                            \n",
              "var gd = document.getElementById('ab794d30-786c-47fe-a15e-8368e23026db');\n",
              "var x = new MutationObserver(function (mutations, observer) {{\n",
              "        var display = window.getComputedStyle(gd).display;\n",
              "        if (!display || display === 'none') {{\n",
              "            console.log([gd, 'removed!']);\n",
              "            Plotly.purge(gd);\n",
              "            observer.disconnect();\n",
              "        }}\n",
              "}});\n",
              "\n",
              "// Listen for the removal of the full notebook cells\n",
              "var notebookContainer = gd.closest('#notebook-container');\n",
              "if (notebookContainer) {{\n",
              "    x.observe(notebookContainer, {childList: true});\n",
              "}}\n",
              "\n",
              "// Listen for the clearing of the current output cell\n",
              "var outputEl = gd.closest('.output');\n",
              "if (outputEl) {{\n",
              "    x.observe(outputEl, {childList: true});\n",
              "}}\n",
              "\n",
              "                        })                };                            </script>        </div>\n",
              "</body>\n",
              "</html>"
            ]
          },
          "metadata": {}
        }
      ]
    },
    {
      "cell_type": "code",
      "source": [
        "# More formating\n",
        "fig.update_xaxes(title = 'Date', title_font_size = 20,\n",
        "                 dtick = 'M1',\n",
        "                 tickformat = '%b\\n%Y')"
      ],
      "metadata": {
        "id": "9A0R4rNtEgzr",
        "outputId": "db7808f4-ce82-4bc0-bbfb-1349fc00cb38",
        "colab": {
          "base_uri": "https://localhost:8080/",
          "height": 542
        }
      },
      "execution_count": null,
      "outputs": [
        {
          "output_type": "display_data",
          "data": {
            "text/html": [
              "<html>\n",
              "<head><meta charset=\"utf-8\" /></head>\n",
              "<body>\n",
              "    <div>            <script src=\"https://cdnjs.cloudflare.com/ajax/libs/mathjax/2.7.5/MathJax.js?config=TeX-AMS-MML_SVG\"></script><script type=\"text/javascript\">if (window.MathJax) {MathJax.Hub.Config({SVG: {font: \"STIX-Web\"}});}</script>                <script type=\"text/javascript\">window.PlotlyConfig = {MathJaxConfig: 'local'};</script>\n",
              "        <script src=\"https://cdn.plot.ly/plotly-2.8.3.min.js\"></script>                <div id=\"4c5fcb4a-5d34-4096-8e30-539333996cc0\" class=\"plotly-graph-div\" style=\"height:525px; width:100%;\"></div>            <script type=\"text/javascript\">                                    window.PLOTLYENV=window.PLOTLYENV || {};                                    if (document.getElementById(\"4c5fcb4a-5d34-4096-8e30-539333996cc0\")) {                    Plotly.newPlot(                        \"4c5fcb4a-5d34-4096-8e30-539333996cc0\",                        [{\"line\":{\"color\":\"black\"},\"mode\":\"lines\",\"name\":\"Total\",\"visible\":true,\"x\":[\"2019-09\"],\"y\":[95.76880530973453],\"type\":\"scatter\"},{\"line\":{\"color\":\"red\"},\"mode\":\"lines\",\"name\":\"Bogota\",\"visible\":true,\"x\":[\"2019-09\"],\"y\":[96.92040319777544],\"type\":\"scatter\"},{\"line\":{\"color\":\"goldenrod\",\"dash\":\"dash\"},\"mode\":\"lines\",\"name\":\"Barranquilla\",\"visible\":true,\"x\":[\"2019-09\"],\"y\":[95.3455882352941],\"type\":\"scatter\"}],                        {\"title\":{\"font\":{\"size\":30},\"text\":\"New Home Price Index\",\"x\":0.5},\"updatemenus\":[{\"direction\":\"right\",\"type\":\"buttons\",\"x\":0.9,\"y\":1.16}],\"xaxis\":{\"autorange\":false,\"range\":[\"2019-08\",\"2022-07\"],\"tickwidth\":2,\"title\":{\"text\":\"Date\",\"font\":{\"size\":20}},\"dtick\":\"M1\",\"tickformat\":\"%b\\n%Y\"},\"yaxis\":{\"autorange\":false,\"range\":[80,120],\"title\":{\"text\":\"\"}},\"template\":{\"data\":{\"bar\":[{\"error_x\":{\"color\":\"#2a3f5f\"},\"error_y\":{\"color\":\"#2a3f5f\"},\"marker\":{\"line\":{\"color\":\"#E5ECF6\",\"width\":0.5},\"pattern\":{\"fillmode\":\"overlay\",\"size\":10,\"solidity\":0.2}},\"type\":\"bar\"}],\"barpolar\":[{\"marker\":{\"line\":{\"color\":\"#E5ECF6\",\"width\":0.5},\"pattern\":{\"fillmode\":\"overlay\",\"size\":10,\"solidity\":0.2}},\"type\":\"barpolar\"}],\"carpet\":[{\"aaxis\":{\"endlinecolor\":\"#2a3f5f\",\"gridcolor\":\"white\",\"linecolor\":\"white\",\"minorgridcolor\":\"white\",\"startlinecolor\":\"#2a3f5f\"},\"baxis\":{\"endlinecolor\":\"#2a3f5f\",\"gridcolor\":\"white\",\"linecolor\":\"white\",\"minorgridcolor\":\"white\",\"startlinecolor\":\"#2a3f5f\"},\"type\":\"carpet\"}],\"choropleth\":[{\"colorbar\":{\"outlinewidth\":0,\"ticks\":\"\"},\"type\":\"choropleth\"}],\"contour\":[{\"colorbar\":{\"outlinewidth\":0,\"ticks\":\"\"},\"colorscale\":[[0.0,\"#0d0887\"],[0.1111111111111111,\"#46039f\"],[0.2222222222222222,\"#7201a8\"],[0.3333333333333333,\"#9c179e\"],[0.4444444444444444,\"#bd3786\"],[0.5555555555555556,\"#d8576b\"],[0.6666666666666666,\"#ed7953\"],[0.7777777777777778,\"#fb9f3a\"],[0.8888888888888888,\"#fdca26\"],[1.0,\"#f0f921\"]],\"type\":\"contour\"}],\"contourcarpet\":[{\"colorbar\":{\"outlinewidth\":0,\"ticks\":\"\"},\"type\":\"contourcarpet\"}],\"heatmap\":[{\"colorbar\":{\"outlinewidth\":0,\"ticks\":\"\"},\"colorscale\":[[0.0,\"#0d0887\"],[0.1111111111111111,\"#46039f\"],[0.2222222222222222,\"#7201a8\"],[0.3333333333333333,\"#9c179e\"],[0.4444444444444444,\"#bd3786\"],[0.5555555555555556,\"#d8576b\"],[0.6666666666666666,\"#ed7953\"],[0.7777777777777778,\"#fb9f3a\"],[0.8888888888888888,\"#fdca26\"],[1.0,\"#f0f921\"]],\"type\":\"heatmap\"}],\"heatmapgl\":[{\"colorbar\":{\"outlinewidth\":0,\"ticks\":\"\"},\"colorscale\":[[0.0,\"#0d0887\"],[0.1111111111111111,\"#46039f\"],[0.2222222222222222,\"#7201a8\"],[0.3333333333333333,\"#9c179e\"],[0.4444444444444444,\"#bd3786\"],[0.5555555555555556,\"#d8576b\"],[0.6666666666666666,\"#ed7953\"],[0.7777777777777778,\"#fb9f3a\"],[0.8888888888888888,\"#fdca26\"],[1.0,\"#f0f921\"]],\"type\":\"heatmapgl\"}],\"histogram\":[{\"marker\":{\"pattern\":{\"fillmode\":\"overlay\",\"size\":10,\"solidity\":0.2}},\"type\":\"histogram\"}],\"histogram2d\":[{\"colorbar\":{\"outlinewidth\":0,\"ticks\":\"\"},\"colorscale\":[[0.0,\"#0d0887\"],[0.1111111111111111,\"#46039f\"],[0.2222222222222222,\"#7201a8\"],[0.3333333333333333,\"#9c179e\"],[0.4444444444444444,\"#bd3786\"],[0.5555555555555556,\"#d8576b\"],[0.6666666666666666,\"#ed7953\"],[0.7777777777777778,\"#fb9f3a\"],[0.8888888888888888,\"#fdca26\"],[1.0,\"#f0f921\"]],\"type\":\"histogram2d\"}],\"histogram2dcontour\":[{\"colorbar\":{\"outlinewidth\":0,\"ticks\":\"\"},\"colorscale\":[[0.0,\"#0d0887\"],[0.1111111111111111,\"#46039f\"],[0.2222222222222222,\"#7201a8\"],[0.3333333333333333,\"#9c179e\"],[0.4444444444444444,\"#bd3786\"],[0.5555555555555556,\"#d8576b\"],[0.6666666666666666,\"#ed7953\"],[0.7777777777777778,\"#fb9f3a\"],[0.8888888888888888,\"#fdca26\"],[1.0,\"#f0f921\"]],\"type\":\"histogram2dcontour\"}],\"mesh3d\":[{\"colorbar\":{\"outlinewidth\":0,\"ticks\":\"\"},\"type\":\"mesh3d\"}],\"parcoords\":[{\"line\":{\"colorbar\":{\"outlinewidth\":0,\"ticks\":\"\"}},\"type\":\"parcoords\"}],\"pie\":[{\"automargin\":true,\"type\":\"pie\"}],\"scatter\":[{\"marker\":{\"colorbar\":{\"outlinewidth\":0,\"ticks\":\"\"}},\"type\":\"scatter\"}],\"scatter3d\":[{\"line\":{\"colorbar\":{\"outlinewidth\":0,\"ticks\":\"\"}},\"marker\":{\"colorbar\":{\"outlinewidth\":0,\"ticks\":\"\"}},\"type\":\"scatter3d\"}],\"scattercarpet\":[{\"marker\":{\"colorbar\":{\"outlinewidth\":0,\"ticks\":\"\"}},\"type\":\"scattercarpet\"}],\"scattergeo\":[{\"marker\":{\"colorbar\":{\"outlinewidth\":0,\"ticks\":\"\"}},\"type\":\"scattergeo\"}],\"scattergl\":[{\"marker\":{\"colorbar\":{\"outlinewidth\":0,\"ticks\":\"\"}},\"type\":\"scattergl\"}],\"scattermapbox\":[{\"marker\":{\"colorbar\":{\"outlinewidth\":0,\"ticks\":\"\"}},\"type\":\"scattermapbox\"}],\"scatterpolar\":[{\"marker\":{\"colorbar\":{\"outlinewidth\":0,\"ticks\":\"\"}},\"type\":\"scatterpolar\"}],\"scatterpolargl\":[{\"marker\":{\"colorbar\":{\"outlinewidth\":0,\"ticks\":\"\"}},\"type\":\"scatterpolargl\"}],\"scatterternary\":[{\"marker\":{\"colorbar\":{\"outlinewidth\":0,\"ticks\":\"\"}},\"type\":\"scatterternary\"}],\"surface\":[{\"colorbar\":{\"outlinewidth\":0,\"ticks\":\"\"},\"colorscale\":[[0.0,\"#0d0887\"],[0.1111111111111111,\"#46039f\"],[0.2222222222222222,\"#7201a8\"],[0.3333333333333333,\"#9c179e\"],[0.4444444444444444,\"#bd3786\"],[0.5555555555555556,\"#d8576b\"],[0.6666666666666666,\"#ed7953\"],[0.7777777777777778,\"#fb9f3a\"],[0.8888888888888888,\"#fdca26\"],[1.0,\"#f0f921\"]],\"type\":\"surface\"}],\"table\":[{\"cells\":{\"fill\":{\"color\":\"#EBF0F8\"},\"line\":{\"color\":\"white\"}},\"header\":{\"fill\":{\"color\":\"#C8D4E3\"},\"line\":{\"color\":\"white\"}},\"type\":\"table\"}]},\"layout\":{\"annotationdefaults\":{\"arrowcolor\":\"#2a3f5f\",\"arrowhead\":0,\"arrowwidth\":1},\"autotypenumbers\":\"strict\",\"coloraxis\":{\"colorbar\":{\"outlinewidth\":0,\"ticks\":\"\"}},\"colorscale\":{\"diverging\":[[0,\"#8e0152\"],[0.1,\"#c51b7d\"],[0.2,\"#de77ae\"],[0.3,\"#f1b6da\"],[0.4,\"#fde0ef\"],[0.5,\"#f7f7f7\"],[0.6,\"#e6f5d0\"],[0.7,\"#b8e186\"],[0.8,\"#7fbc41\"],[0.9,\"#4d9221\"],[1,\"#276419\"]],\"sequential\":[[0.0,\"#0d0887\"],[0.1111111111111111,\"#46039f\"],[0.2222222222222222,\"#7201a8\"],[0.3333333333333333,\"#9c179e\"],[0.4444444444444444,\"#bd3786\"],[0.5555555555555556,\"#d8576b\"],[0.6666666666666666,\"#ed7953\"],[0.7777777777777778,\"#fb9f3a\"],[0.8888888888888888,\"#fdca26\"],[1.0,\"#f0f921\"]],\"sequentialminus\":[[0.0,\"#0d0887\"],[0.1111111111111111,\"#46039f\"],[0.2222222222222222,\"#7201a8\"],[0.3333333333333333,\"#9c179e\"],[0.4444444444444444,\"#bd3786\"],[0.5555555555555556,\"#d8576b\"],[0.6666666666666666,\"#ed7953\"],[0.7777777777777778,\"#fb9f3a\"],[0.8888888888888888,\"#fdca26\"],[1.0,\"#f0f921\"]]},\"colorway\":[\"#636efa\",\"#EF553B\",\"#00cc96\",\"#ab63fa\",\"#FFA15A\",\"#19d3f3\",\"#FF6692\",\"#B6E880\",\"#FF97FF\",\"#FECB52\"],\"font\":{\"color\":\"#2a3f5f\"},\"geo\":{\"bgcolor\":\"white\",\"lakecolor\":\"white\",\"landcolor\":\"#E5ECF6\",\"showlakes\":true,\"showland\":true,\"subunitcolor\":\"white\"},\"hoverlabel\":{\"align\":\"left\"},\"hovermode\":\"closest\",\"mapbox\":{\"style\":\"light\"},\"paper_bgcolor\":\"white\",\"plot_bgcolor\":\"#E5ECF6\",\"polar\":{\"angularaxis\":{\"gridcolor\":\"white\",\"linecolor\":\"white\",\"ticks\":\"\"},\"bgcolor\":\"#E5ECF6\",\"radialaxis\":{\"gridcolor\":\"white\",\"linecolor\":\"white\",\"ticks\":\"\"}},\"scene\":{\"xaxis\":{\"backgroundcolor\":\"#E5ECF6\",\"gridcolor\":\"white\",\"gridwidth\":2,\"linecolor\":\"white\",\"showbackground\":true,\"ticks\":\"\",\"zerolinecolor\":\"white\"},\"yaxis\":{\"backgroundcolor\":\"#E5ECF6\",\"gridcolor\":\"white\",\"gridwidth\":2,\"linecolor\":\"white\",\"showbackground\":true,\"ticks\":\"\",\"zerolinecolor\":\"white\"},\"zaxis\":{\"backgroundcolor\":\"#E5ECF6\",\"gridcolor\":\"white\",\"gridwidth\":2,\"linecolor\":\"white\",\"showbackground\":true,\"ticks\":\"\",\"zerolinecolor\":\"white\"}},\"shapedefaults\":{\"line\":{\"color\":\"#2a3f5f\"}},\"ternary\":{\"aaxis\":{\"gridcolor\":\"white\",\"linecolor\":\"white\",\"ticks\":\"\"},\"baxis\":{\"gridcolor\":\"white\",\"linecolor\":\"white\",\"ticks\":\"\"},\"bgcolor\":\"#E5ECF6\",\"caxis\":{\"gridcolor\":\"white\",\"linecolor\":\"white\",\"ticks\":\"\"}},\"title\":{\"x\":0.05},\"xaxis\":{\"automargin\":true,\"gridcolor\":\"white\",\"linecolor\":\"white\",\"ticks\":\"\",\"title\":{\"standoff\":15},\"zerolinecolor\":\"white\",\"zerolinewidth\":2},\"yaxis\":{\"automargin\":true,\"gridcolor\":\"white\",\"linecolor\":\"white\",\"ticks\":\"\",\"title\":{\"standoff\":15},\"zerolinecolor\":\"white\",\"zerolinewidth\":2}}}},                        {\"responsive\": true}                    ).then(function(){\n",
              "                            Plotly.addFrames('4c5fcb4a-5d34-4096-8e30-539333996cc0', [{\"data\":[{\"x\":[\"2019-09\"],\"y\":[95.76880530973453],\"type\":\"scatter\"},{\"x\":[\"2019-09\"],\"y\":[96.92040319777544],\"type\":\"scatter\"},{\"x\":[\"2019-09\"],\"y\":[95.3455882352941],\"type\":\"scatter\"}]},{\"data\":[{\"x\":[\"2019-09\",\"2019-12\"],\"y\":[95.76880530973453,97.13080752212392],\"type\":\"scatter\"},{\"x\":[\"2019-09\",\"2019-12\"],\"y\":[96.92040319777544,97.90754257907543],\"type\":\"scatter\"},{\"x\":[\"2019-09\",\"2019-12\"],\"y\":[95.3455882352941,96.88970588235294],\"type\":\"scatter\"}]},{\"data\":[{\"x\":[\"2019-09\",\"2019-12\",\"2020-03\"],\"y\":[95.76880530973453,97.13080752212392,98.40984513274338],\"type\":\"scatter\"},{\"x\":[\"2019-09\",\"2019-12\",\"2020-03\"],\"y\":[96.92040319777544,97.90754257907543,99.84011122697254],\"type\":\"scatter\"},{\"x\":[\"2019-09\",\"2019-12\",\"2020-03\"],\"y\":[95.3455882352941,96.88970588235294,99.45588235294116],\"type\":\"scatter\"}]},{\"data\":[{\"x\":[\"2019-09\",\"2019-12\",\"2020-03\",\"2020-06\"],\"y\":[95.76880530973453,97.13080752212392,98.40984513274338,99.73727876106196],\"type\":\"scatter\"},{\"x\":[\"2019-09\",\"2019-12\",\"2020-03\",\"2020-06\"],\"y\":[96.92040319777544,97.90754257907543,99.84011122697254,100.58394160583941],\"type\":\"scatter\"},{\"x\":[\"2019-09\",\"2019-12\",\"2020-03\",\"2020-06\"],\"y\":[95.3455882352941,96.88970588235294,99.45588235294116,98.91911764705881],\"type\":\"scatter\"}]},{\"data\":[{\"x\":[\"2019-09\",\"2019-12\",\"2020-03\",\"2020-06\",\"2020-09\"],\"y\":[95.76880530973453,97.13080752212392,98.40984513274338,99.73727876106196,99.75801991150443],\"type\":\"scatter\"},{\"x\":[\"2019-09\",\"2019-12\",\"2020-03\",\"2020-06\",\"2020-09\"],\"y\":[96.92040319777544,97.90754257907543,99.84011122697254,100.58394160583941,102.08550573514077],\"type\":\"scatter\"},{\"x\":[\"2019-09\",\"2019-12\",\"2020-03\",\"2020-06\",\"2020-09\"],\"y\":[95.3455882352941,96.88970588235294,99.45588235294116,98.91911764705881,98.5220588235294],\"type\":\"scatter\"}]},{\"data\":[{\"x\":[\"2019-09\",\"2019-12\",\"2020-03\",\"2020-06\",\"2020-09\",\"2020-12\"],\"y\":[95.76880530973453,97.13080752212392,98.40984513274338,99.73727876106196,99.75801991150443,100.0],\"type\":\"scatter\"},{\"x\":[\"2019-09\",\"2019-12\",\"2020-03\",\"2020-06\",\"2020-09\",\"2020-12\"],\"y\":[96.92040319777544,97.90754257907543,99.84011122697254,100.58394160583941,102.08550573514077,100.0],\"type\":\"scatter\"},{\"x\":[\"2019-09\",\"2019-12\",\"2020-03\",\"2020-06\",\"2020-09\",\"2020-12\"],\"y\":[95.3455882352941,96.88970588235294,99.45588235294116,98.91911764705881,98.5220588235294,100.0],\"type\":\"scatter\"}]},{\"data\":[{\"x\":[\"2019-09\",\"2019-12\",\"2020-03\",\"2020-06\",\"2020-09\",\"2020-12\",\"2021-03\"],\"y\":[95.76880530973453,97.13080752212392,98.40984513274338,99.73727876106196,99.75801991150443,100.0,101.55],\"type\":\"scatter\"},{\"x\":[\"2019-09\",\"2019-12\",\"2020-03\",\"2020-06\",\"2020-09\",\"2020-12\",\"2021-03\"],\"y\":[96.92040319777544,97.90754257907543,99.84011122697254,100.58394160583941,102.08550573514077,100.0,102.07],\"type\":\"scatter\"},{\"x\":[\"2019-09\",\"2019-12\",\"2020-03\",\"2020-06\",\"2020-09\",\"2020-12\",\"2021-03\"],\"y\":[95.3455882352941,96.88970588235294,99.45588235294116,98.91911764705881,98.5220588235294,100.0,100.33],\"type\":\"scatter\"}]},{\"data\":[{\"x\":[\"2019-09\",\"2019-12\",\"2020-03\",\"2020-06\",\"2020-09\",\"2020-12\",\"2021-03\",\"2021-06\"],\"y\":[95.76880530973453,97.13080752212392,98.40984513274338,99.73727876106196,99.75801991150443,100.0,101.55,103.12],\"type\":\"scatter\"},{\"x\":[\"2019-09\",\"2019-12\",\"2020-03\",\"2020-06\",\"2020-09\",\"2020-12\",\"2021-03\",\"2021-06\"],\"y\":[96.92040319777544,97.90754257907543,99.84011122697254,100.58394160583941,102.08550573514077,100.0,102.07,104.0],\"type\":\"scatter\"},{\"x\":[\"2019-09\",\"2019-12\",\"2020-03\",\"2020-06\",\"2020-09\",\"2020-12\",\"2021-03\",\"2021-06\"],\"y\":[95.3455882352941,96.88970588235294,99.45588235294116,98.91911764705881,98.5220588235294,100.0,100.33,101.48],\"type\":\"scatter\"}]},{\"data\":[{\"x\":[\"2019-09\",\"2019-12\",\"2020-03\",\"2020-06\",\"2020-09\",\"2020-12\",\"2021-03\",\"2021-06\",\"2021-09\"],\"y\":[95.76880530973453,97.13080752212392,98.40984513274338,99.73727876106196,99.75801991150443,100.0,101.55,103.12,105.16],\"type\":\"scatter\"},{\"x\":[\"2019-09\",\"2019-12\",\"2020-03\",\"2020-06\",\"2020-09\",\"2020-12\",\"2021-03\",\"2021-06\",\"2021-09\"],\"y\":[96.92040319777544,97.90754257907543,99.84011122697254,100.58394160583941,102.08550573514077,100.0,102.07,104.0,107.11],\"type\":\"scatter\"},{\"x\":[\"2019-09\",\"2019-12\",\"2020-03\",\"2020-06\",\"2020-09\",\"2020-12\",\"2021-03\",\"2021-06\",\"2021-09\"],\"y\":[95.3455882352941,96.88970588235294,99.45588235294116,98.91911764705881,98.5220588235294,100.0,100.33,101.48,104.68],\"type\":\"scatter\"}]},{\"data\":[{\"x\":[\"2019-09\",\"2019-12\",\"2020-03\",\"2020-06\",\"2020-09\",\"2020-12\",\"2021-03\",\"2021-06\",\"2021-09\",\"2021-12\"],\"y\":[95.76880530973453,97.13080752212392,98.40984513274338,99.73727876106196,99.75801991150443,100.0,101.55,103.12,105.16,106.76],\"type\":\"scatter\"},{\"x\":[\"2019-09\",\"2019-12\",\"2020-03\",\"2020-06\",\"2020-09\",\"2020-12\",\"2021-03\",\"2021-06\",\"2021-09\",\"2021-12\"],\"y\":[96.92040319777544,97.90754257907543,99.84011122697254,100.58394160583941,102.08550573514077,100.0,102.07,104.0,107.11,108.66],\"type\":\"scatter\"},{\"x\":[\"2019-09\",\"2019-12\",\"2020-03\",\"2020-06\",\"2020-09\",\"2020-12\",\"2021-03\",\"2021-06\",\"2021-09\",\"2021-12\"],\"y\":[95.3455882352941,96.88970588235294,99.45588235294116,98.91911764705881,98.5220588235294,100.0,100.33,101.48,104.68,106.57],\"type\":\"scatter\"}]},{\"data\":[{\"x\":[\"2019-09\",\"2019-12\",\"2020-03\",\"2020-06\",\"2020-09\",\"2020-12\",\"2021-03\",\"2021-06\",\"2021-09\",\"2021-12\",\"2022-03\"],\"y\":[95.76880530973453,97.13080752212392,98.40984513274338,99.73727876106196,99.75801991150443,100.0,101.55,103.12,105.16,106.76,109.32],\"type\":\"scatter\"},{\"x\":[\"2019-09\",\"2019-12\",\"2020-03\",\"2020-06\",\"2020-09\",\"2020-12\",\"2021-03\",\"2021-06\",\"2021-09\",\"2021-12\",\"2022-03\"],\"y\":[96.92040319777544,97.90754257907543,99.84011122697254,100.58394160583941,102.08550573514077,100.0,102.07,104.0,107.11,108.66,111.4],\"type\":\"scatter\"},{\"x\":[\"2019-09\",\"2019-12\",\"2020-03\",\"2020-06\",\"2020-09\",\"2020-12\",\"2021-03\",\"2021-06\",\"2021-09\",\"2021-12\",\"2022-03\"],\"y\":[95.3455882352941,96.88970588235294,99.45588235294116,98.91911764705881,98.5220588235294,100.0,100.33,101.48,104.68,106.57,108.14],\"type\":\"scatter\"}]},{\"data\":[{\"x\":[\"2019-09\",\"2019-12\",\"2020-03\",\"2020-06\",\"2020-09\",\"2020-12\",\"2021-03\",\"2021-06\",\"2021-09\",\"2021-12\",\"2022-03\",\"2022-06\"],\"y\":[95.76880530973453,97.13080752212392,98.40984513274338,99.73727876106196,99.75801991150443,100.0,101.55,103.12,105.16,106.76,109.32,111.93],\"type\":\"scatter\"},{\"x\":[\"2019-09\",\"2019-12\",\"2020-03\",\"2020-06\",\"2020-09\",\"2020-12\",\"2021-03\",\"2021-06\",\"2021-09\",\"2021-12\",\"2022-03\",\"2022-06\"],\"y\":[96.92040319777544,97.90754257907543,99.84011122697254,100.58394160583941,102.08550573514077,100.0,102.07,104.0,107.11,108.66,111.4,114.02],\"type\":\"scatter\"},{\"x\":[\"2019-09\",\"2019-12\",\"2020-03\",\"2020-06\",\"2020-09\",\"2020-12\",\"2021-03\",\"2021-06\",\"2021-09\",\"2021-12\",\"2022-03\",\"2022-06\"],\"y\":[95.3455882352941,96.88970588235294,99.45588235294116,98.91911764705881,98.5220588235294,100.0,100.33,101.48,104.68,106.57,108.14,112.01],\"type\":\"scatter\"}]}]);\n",
              "                        }).then(function(){\n",
              "                            \n",
              "var gd = document.getElementById('4c5fcb4a-5d34-4096-8e30-539333996cc0');\n",
              "var x = new MutationObserver(function (mutations, observer) {{\n",
              "        var display = window.getComputedStyle(gd).display;\n",
              "        if (!display || display === 'none') {{\n",
              "            console.log([gd, 'removed!']);\n",
              "            Plotly.purge(gd);\n",
              "            observer.disconnect();\n",
              "        }}\n",
              "}});\n",
              "\n",
              "// Listen for the removal of the full notebook cells\n",
              "var notebookContainer = gd.closest('#notebook-container');\n",
              "if (notebookContainer) {{\n",
              "    x.observe(notebookContainer, {childList: true});\n",
              "}}\n",
              "\n",
              "// Listen for the clearing of the current output cell\n",
              "var outputEl = gd.closest('.output');\n",
              "if (outputEl) {{\n",
              "    x.observe(outputEl, {childList: true});\n",
              "}}\n",
              "\n",
              "                        })                };                            </script>        </div>\n",
              "</body>\n",
              "</html>"
            ]
          },
          "metadata": {}
        }
      ]
    },
    {
      "cell_type": "code",
      "source": [
        "# Buttons\n",
        "fig.update_layout(\n",
        "    updatemenus = [\n",
        "        dict(\n",
        "            buttons = list([\n",
        "                dict(label = 'Play',\n",
        "                     method = 'animate',\n",
        "                     args = [None, {'frame':{'duration':500}}]\n",
        "                     )\n",
        "                ]\n",
        "            )\n",
        "        )\n",
        "    ]\n",
        ")\n",
        "\n",
        "# The Result\n",
        "fig.show()"
      ],
      "metadata": {
        "id": "5bamh-ASEpVO",
        "outputId": "3cfd116b-2c1c-4d82-8eb9-e9d70b249512",
        "colab": {
          "base_uri": "https://localhost:8080/",
          "height": 542
        }
      },
      "execution_count": null,
      "outputs": [
        {
          "output_type": "display_data",
          "data": {
            "text/html": [
              "<html>\n",
              "<head><meta charset=\"utf-8\" /></head>\n",
              "<body>\n",
              "    <div>            <script src=\"https://cdnjs.cloudflare.com/ajax/libs/mathjax/2.7.5/MathJax.js?config=TeX-AMS-MML_SVG\"></script><script type=\"text/javascript\">if (window.MathJax) {MathJax.Hub.Config({SVG: {font: \"STIX-Web\"}});}</script>                <script type=\"text/javascript\">window.PlotlyConfig = {MathJaxConfig: 'local'};</script>\n",
              "        <script src=\"https://cdn.plot.ly/plotly-2.8.3.min.js\"></script>                <div id=\"85821af4-7006-465b-972c-304625e3692b\" class=\"plotly-graph-div\" style=\"height:525px; width:100%;\"></div>            <script type=\"text/javascript\">                                    window.PLOTLYENV=window.PLOTLYENV || {};                                    if (document.getElementById(\"85821af4-7006-465b-972c-304625e3692b\")) {                    Plotly.newPlot(                        \"85821af4-7006-465b-972c-304625e3692b\",                        [{\"line\":{\"color\":\"black\"},\"mode\":\"lines\",\"name\":\"Total\",\"visible\":true,\"x\":[\"2019-09\"],\"y\":[95.76880530973453],\"type\":\"scatter\"},{\"line\":{\"color\":\"red\"},\"mode\":\"lines\",\"name\":\"Bogota\",\"visible\":true,\"x\":[\"2019-09\"],\"y\":[96.92040319777544],\"type\":\"scatter\"},{\"line\":{\"color\":\"goldenrod\",\"dash\":\"dash\"},\"mode\":\"lines\",\"name\":\"Barranquilla\",\"visible\":true,\"x\":[\"2019-09\"],\"y\":[95.3455882352941],\"type\":\"scatter\"}],                        {\"title\":{\"font\":{\"size\":30},\"text\":\"New Home Price Index\",\"x\":0.5},\"updatemenus\":[{\"direction\":\"right\",\"type\":\"buttons\",\"x\":0.9,\"y\":1.16,\"buttons\":[{\"args\":[null,{\"frame\":{\"duration\":500}}],\"label\":\"Play\",\"method\":\"animate\"}]}],\"xaxis\":{\"autorange\":false,\"range\":[\"2019-08\",\"2022-07\"],\"tickwidth\":2,\"title\":{\"text\":\"Date\",\"font\":{\"size\":20}},\"dtick\":\"M1\",\"tickformat\":\"%b\\n%Y\"},\"yaxis\":{\"autorange\":false,\"range\":[80,120],\"title\":{\"text\":\"\"}},\"template\":{\"data\":{\"bar\":[{\"error_x\":{\"color\":\"#2a3f5f\"},\"error_y\":{\"color\":\"#2a3f5f\"},\"marker\":{\"line\":{\"color\":\"#E5ECF6\",\"width\":0.5},\"pattern\":{\"fillmode\":\"overlay\",\"size\":10,\"solidity\":0.2}},\"type\":\"bar\"}],\"barpolar\":[{\"marker\":{\"line\":{\"color\":\"#E5ECF6\",\"width\":0.5},\"pattern\":{\"fillmode\":\"overlay\",\"size\":10,\"solidity\":0.2}},\"type\":\"barpolar\"}],\"carpet\":[{\"aaxis\":{\"endlinecolor\":\"#2a3f5f\",\"gridcolor\":\"white\",\"linecolor\":\"white\",\"minorgridcolor\":\"white\",\"startlinecolor\":\"#2a3f5f\"},\"baxis\":{\"endlinecolor\":\"#2a3f5f\",\"gridcolor\":\"white\",\"linecolor\":\"white\",\"minorgridcolor\":\"white\",\"startlinecolor\":\"#2a3f5f\"},\"type\":\"carpet\"}],\"choropleth\":[{\"colorbar\":{\"outlinewidth\":0,\"ticks\":\"\"},\"type\":\"choropleth\"}],\"contour\":[{\"colorbar\":{\"outlinewidth\":0,\"ticks\":\"\"},\"colorscale\":[[0.0,\"#0d0887\"],[0.1111111111111111,\"#46039f\"],[0.2222222222222222,\"#7201a8\"],[0.3333333333333333,\"#9c179e\"],[0.4444444444444444,\"#bd3786\"],[0.5555555555555556,\"#d8576b\"],[0.6666666666666666,\"#ed7953\"],[0.7777777777777778,\"#fb9f3a\"],[0.8888888888888888,\"#fdca26\"],[1.0,\"#f0f921\"]],\"type\":\"contour\"}],\"contourcarpet\":[{\"colorbar\":{\"outlinewidth\":0,\"ticks\":\"\"},\"type\":\"contourcarpet\"}],\"heatmap\":[{\"colorbar\":{\"outlinewidth\":0,\"ticks\":\"\"},\"colorscale\":[[0.0,\"#0d0887\"],[0.1111111111111111,\"#46039f\"],[0.2222222222222222,\"#7201a8\"],[0.3333333333333333,\"#9c179e\"],[0.4444444444444444,\"#bd3786\"],[0.5555555555555556,\"#d8576b\"],[0.6666666666666666,\"#ed7953\"],[0.7777777777777778,\"#fb9f3a\"],[0.8888888888888888,\"#fdca26\"],[1.0,\"#f0f921\"]],\"type\":\"heatmap\"}],\"heatmapgl\":[{\"colorbar\":{\"outlinewidth\":0,\"ticks\":\"\"},\"colorscale\":[[0.0,\"#0d0887\"],[0.1111111111111111,\"#46039f\"],[0.2222222222222222,\"#7201a8\"],[0.3333333333333333,\"#9c179e\"],[0.4444444444444444,\"#bd3786\"],[0.5555555555555556,\"#d8576b\"],[0.6666666666666666,\"#ed7953\"],[0.7777777777777778,\"#fb9f3a\"],[0.8888888888888888,\"#fdca26\"],[1.0,\"#f0f921\"]],\"type\":\"heatmapgl\"}],\"histogram\":[{\"marker\":{\"pattern\":{\"fillmode\":\"overlay\",\"size\":10,\"solidity\":0.2}},\"type\":\"histogram\"}],\"histogram2d\":[{\"colorbar\":{\"outlinewidth\":0,\"ticks\":\"\"},\"colorscale\":[[0.0,\"#0d0887\"],[0.1111111111111111,\"#46039f\"],[0.2222222222222222,\"#7201a8\"],[0.3333333333333333,\"#9c179e\"],[0.4444444444444444,\"#bd3786\"],[0.5555555555555556,\"#d8576b\"],[0.6666666666666666,\"#ed7953\"],[0.7777777777777778,\"#fb9f3a\"],[0.8888888888888888,\"#fdca26\"],[1.0,\"#f0f921\"]],\"type\":\"histogram2d\"}],\"histogram2dcontour\":[{\"colorbar\":{\"outlinewidth\":0,\"ticks\":\"\"},\"colorscale\":[[0.0,\"#0d0887\"],[0.1111111111111111,\"#46039f\"],[0.2222222222222222,\"#7201a8\"],[0.3333333333333333,\"#9c179e\"],[0.4444444444444444,\"#bd3786\"],[0.5555555555555556,\"#d8576b\"],[0.6666666666666666,\"#ed7953\"],[0.7777777777777778,\"#fb9f3a\"],[0.8888888888888888,\"#fdca26\"],[1.0,\"#f0f921\"]],\"type\":\"histogram2dcontour\"}],\"mesh3d\":[{\"colorbar\":{\"outlinewidth\":0,\"ticks\":\"\"},\"type\":\"mesh3d\"}],\"parcoords\":[{\"line\":{\"colorbar\":{\"outlinewidth\":0,\"ticks\":\"\"}},\"type\":\"parcoords\"}],\"pie\":[{\"automargin\":true,\"type\":\"pie\"}],\"scatter\":[{\"marker\":{\"colorbar\":{\"outlinewidth\":0,\"ticks\":\"\"}},\"type\":\"scatter\"}],\"scatter3d\":[{\"line\":{\"colorbar\":{\"outlinewidth\":0,\"ticks\":\"\"}},\"marker\":{\"colorbar\":{\"outlinewidth\":0,\"ticks\":\"\"}},\"type\":\"scatter3d\"}],\"scattercarpet\":[{\"marker\":{\"colorbar\":{\"outlinewidth\":0,\"ticks\":\"\"}},\"type\":\"scattercarpet\"}],\"scattergeo\":[{\"marker\":{\"colorbar\":{\"outlinewidth\":0,\"ticks\":\"\"}},\"type\":\"scattergeo\"}],\"scattergl\":[{\"marker\":{\"colorbar\":{\"outlinewidth\":0,\"ticks\":\"\"}},\"type\":\"scattergl\"}],\"scattermapbox\":[{\"marker\":{\"colorbar\":{\"outlinewidth\":0,\"ticks\":\"\"}},\"type\":\"scattermapbox\"}],\"scatterpolar\":[{\"marker\":{\"colorbar\":{\"outlinewidth\":0,\"ticks\":\"\"}},\"type\":\"scatterpolar\"}],\"scatterpolargl\":[{\"marker\":{\"colorbar\":{\"outlinewidth\":0,\"ticks\":\"\"}},\"type\":\"scatterpolargl\"}],\"scatterternary\":[{\"marker\":{\"colorbar\":{\"outlinewidth\":0,\"ticks\":\"\"}},\"type\":\"scatterternary\"}],\"surface\":[{\"colorbar\":{\"outlinewidth\":0,\"ticks\":\"\"},\"colorscale\":[[0.0,\"#0d0887\"],[0.1111111111111111,\"#46039f\"],[0.2222222222222222,\"#7201a8\"],[0.3333333333333333,\"#9c179e\"],[0.4444444444444444,\"#bd3786\"],[0.5555555555555556,\"#d8576b\"],[0.6666666666666666,\"#ed7953\"],[0.7777777777777778,\"#fb9f3a\"],[0.8888888888888888,\"#fdca26\"],[1.0,\"#f0f921\"]],\"type\":\"surface\"}],\"table\":[{\"cells\":{\"fill\":{\"color\":\"#EBF0F8\"},\"line\":{\"color\":\"white\"}},\"header\":{\"fill\":{\"color\":\"#C8D4E3\"},\"line\":{\"color\":\"white\"}},\"type\":\"table\"}]},\"layout\":{\"annotationdefaults\":{\"arrowcolor\":\"#2a3f5f\",\"arrowhead\":0,\"arrowwidth\":1},\"autotypenumbers\":\"strict\",\"coloraxis\":{\"colorbar\":{\"outlinewidth\":0,\"ticks\":\"\"}},\"colorscale\":{\"diverging\":[[0,\"#8e0152\"],[0.1,\"#c51b7d\"],[0.2,\"#de77ae\"],[0.3,\"#f1b6da\"],[0.4,\"#fde0ef\"],[0.5,\"#f7f7f7\"],[0.6,\"#e6f5d0\"],[0.7,\"#b8e186\"],[0.8,\"#7fbc41\"],[0.9,\"#4d9221\"],[1,\"#276419\"]],\"sequential\":[[0.0,\"#0d0887\"],[0.1111111111111111,\"#46039f\"],[0.2222222222222222,\"#7201a8\"],[0.3333333333333333,\"#9c179e\"],[0.4444444444444444,\"#bd3786\"],[0.5555555555555556,\"#d8576b\"],[0.6666666666666666,\"#ed7953\"],[0.7777777777777778,\"#fb9f3a\"],[0.8888888888888888,\"#fdca26\"],[1.0,\"#f0f921\"]],\"sequentialminus\":[[0.0,\"#0d0887\"],[0.1111111111111111,\"#46039f\"],[0.2222222222222222,\"#7201a8\"],[0.3333333333333333,\"#9c179e\"],[0.4444444444444444,\"#bd3786\"],[0.5555555555555556,\"#d8576b\"],[0.6666666666666666,\"#ed7953\"],[0.7777777777777778,\"#fb9f3a\"],[0.8888888888888888,\"#fdca26\"],[1.0,\"#f0f921\"]]},\"colorway\":[\"#636efa\",\"#EF553B\",\"#00cc96\",\"#ab63fa\",\"#FFA15A\",\"#19d3f3\",\"#FF6692\",\"#B6E880\",\"#FF97FF\",\"#FECB52\"],\"font\":{\"color\":\"#2a3f5f\"},\"geo\":{\"bgcolor\":\"white\",\"lakecolor\":\"white\",\"landcolor\":\"#E5ECF6\",\"showlakes\":true,\"showland\":true,\"subunitcolor\":\"white\"},\"hoverlabel\":{\"align\":\"left\"},\"hovermode\":\"closest\",\"mapbox\":{\"style\":\"light\"},\"paper_bgcolor\":\"white\",\"plot_bgcolor\":\"#E5ECF6\",\"polar\":{\"angularaxis\":{\"gridcolor\":\"white\",\"linecolor\":\"white\",\"ticks\":\"\"},\"bgcolor\":\"#E5ECF6\",\"radialaxis\":{\"gridcolor\":\"white\",\"linecolor\":\"white\",\"ticks\":\"\"}},\"scene\":{\"xaxis\":{\"backgroundcolor\":\"#E5ECF6\",\"gridcolor\":\"white\",\"gridwidth\":2,\"linecolor\":\"white\",\"showbackground\":true,\"ticks\":\"\",\"zerolinecolor\":\"white\"},\"yaxis\":{\"backgroundcolor\":\"#E5ECF6\",\"gridcolor\":\"white\",\"gridwidth\":2,\"linecolor\":\"white\",\"showbackground\":true,\"ticks\":\"\",\"zerolinecolor\":\"white\"},\"zaxis\":{\"backgroundcolor\":\"#E5ECF6\",\"gridcolor\":\"white\",\"gridwidth\":2,\"linecolor\":\"white\",\"showbackground\":true,\"ticks\":\"\",\"zerolinecolor\":\"white\"}},\"shapedefaults\":{\"line\":{\"color\":\"#2a3f5f\"}},\"ternary\":{\"aaxis\":{\"gridcolor\":\"white\",\"linecolor\":\"white\",\"ticks\":\"\"},\"baxis\":{\"gridcolor\":\"white\",\"linecolor\":\"white\",\"ticks\":\"\"},\"bgcolor\":\"#E5ECF6\",\"caxis\":{\"gridcolor\":\"white\",\"linecolor\":\"white\",\"ticks\":\"\"}},\"title\":{\"x\":0.05},\"xaxis\":{\"automargin\":true,\"gridcolor\":\"white\",\"linecolor\":\"white\",\"ticks\":\"\",\"title\":{\"standoff\":15},\"zerolinecolor\":\"white\",\"zerolinewidth\":2},\"yaxis\":{\"automargin\":true,\"gridcolor\":\"white\",\"linecolor\":\"white\",\"ticks\":\"\",\"title\":{\"standoff\":15},\"zerolinecolor\":\"white\",\"zerolinewidth\":2}}}},                        {\"responsive\": true}                    ).then(function(){\n",
              "                            Plotly.addFrames('85821af4-7006-465b-972c-304625e3692b', [{\"data\":[{\"x\":[\"2019-09\"],\"y\":[95.76880530973453],\"type\":\"scatter\"},{\"x\":[\"2019-09\"],\"y\":[96.92040319777544],\"type\":\"scatter\"},{\"x\":[\"2019-09\"],\"y\":[95.3455882352941],\"type\":\"scatter\"}]},{\"data\":[{\"x\":[\"2019-09\",\"2019-12\"],\"y\":[95.76880530973453,97.13080752212392],\"type\":\"scatter\"},{\"x\":[\"2019-09\",\"2019-12\"],\"y\":[96.92040319777544,97.90754257907543],\"type\":\"scatter\"},{\"x\":[\"2019-09\",\"2019-12\"],\"y\":[95.3455882352941,96.88970588235294],\"type\":\"scatter\"}]},{\"data\":[{\"x\":[\"2019-09\",\"2019-12\",\"2020-03\"],\"y\":[95.76880530973453,97.13080752212392,98.40984513274338],\"type\":\"scatter\"},{\"x\":[\"2019-09\",\"2019-12\",\"2020-03\"],\"y\":[96.92040319777544,97.90754257907543,99.84011122697254],\"type\":\"scatter\"},{\"x\":[\"2019-09\",\"2019-12\",\"2020-03\"],\"y\":[95.3455882352941,96.88970588235294,99.45588235294116],\"type\":\"scatter\"}]},{\"data\":[{\"x\":[\"2019-09\",\"2019-12\",\"2020-03\",\"2020-06\"],\"y\":[95.76880530973453,97.13080752212392,98.40984513274338,99.73727876106196],\"type\":\"scatter\"},{\"x\":[\"2019-09\",\"2019-12\",\"2020-03\",\"2020-06\"],\"y\":[96.92040319777544,97.90754257907543,99.84011122697254,100.58394160583941],\"type\":\"scatter\"},{\"x\":[\"2019-09\",\"2019-12\",\"2020-03\",\"2020-06\"],\"y\":[95.3455882352941,96.88970588235294,99.45588235294116,98.91911764705881],\"type\":\"scatter\"}]},{\"data\":[{\"x\":[\"2019-09\",\"2019-12\",\"2020-03\",\"2020-06\",\"2020-09\"],\"y\":[95.76880530973453,97.13080752212392,98.40984513274338,99.73727876106196,99.75801991150443],\"type\":\"scatter\"},{\"x\":[\"2019-09\",\"2019-12\",\"2020-03\",\"2020-06\",\"2020-09\"],\"y\":[96.92040319777544,97.90754257907543,99.84011122697254,100.58394160583941,102.08550573514077],\"type\":\"scatter\"},{\"x\":[\"2019-09\",\"2019-12\",\"2020-03\",\"2020-06\",\"2020-09\"],\"y\":[95.3455882352941,96.88970588235294,99.45588235294116,98.91911764705881,98.5220588235294],\"type\":\"scatter\"}]},{\"data\":[{\"x\":[\"2019-09\",\"2019-12\",\"2020-03\",\"2020-06\",\"2020-09\",\"2020-12\"],\"y\":[95.76880530973453,97.13080752212392,98.40984513274338,99.73727876106196,99.75801991150443,100.0],\"type\":\"scatter\"},{\"x\":[\"2019-09\",\"2019-12\",\"2020-03\",\"2020-06\",\"2020-09\",\"2020-12\"],\"y\":[96.92040319777544,97.90754257907543,99.84011122697254,100.58394160583941,102.08550573514077,100.0],\"type\":\"scatter\"},{\"x\":[\"2019-09\",\"2019-12\",\"2020-03\",\"2020-06\",\"2020-09\",\"2020-12\"],\"y\":[95.3455882352941,96.88970588235294,99.45588235294116,98.91911764705881,98.5220588235294,100.0],\"type\":\"scatter\"}]},{\"data\":[{\"x\":[\"2019-09\",\"2019-12\",\"2020-03\",\"2020-06\",\"2020-09\",\"2020-12\",\"2021-03\"],\"y\":[95.76880530973453,97.13080752212392,98.40984513274338,99.73727876106196,99.75801991150443,100.0,101.55],\"type\":\"scatter\"},{\"x\":[\"2019-09\",\"2019-12\",\"2020-03\",\"2020-06\",\"2020-09\",\"2020-12\",\"2021-03\"],\"y\":[96.92040319777544,97.90754257907543,99.84011122697254,100.58394160583941,102.08550573514077,100.0,102.07],\"type\":\"scatter\"},{\"x\":[\"2019-09\",\"2019-12\",\"2020-03\",\"2020-06\",\"2020-09\",\"2020-12\",\"2021-03\"],\"y\":[95.3455882352941,96.88970588235294,99.45588235294116,98.91911764705881,98.5220588235294,100.0,100.33],\"type\":\"scatter\"}]},{\"data\":[{\"x\":[\"2019-09\",\"2019-12\",\"2020-03\",\"2020-06\",\"2020-09\",\"2020-12\",\"2021-03\",\"2021-06\"],\"y\":[95.76880530973453,97.13080752212392,98.40984513274338,99.73727876106196,99.75801991150443,100.0,101.55,103.12],\"type\":\"scatter\"},{\"x\":[\"2019-09\",\"2019-12\",\"2020-03\",\"2020-06\",\"2020-09\",\"2020-12\",\"2021-03\",\"2021-06\"],\"y\":[96.92040319777544,97.90754257907543,99.84011122697254,100.58394160583941,102.08550573514077,100.0,102.07,104.0],\"type\":\"scatter\"},{\"x\":[\"2019-09\",\"2019-12\",\"2020-03\",\"2020-06\",\"2020-09\",\"2020-12\",\"2021-03\",\"2021-06\"],\"y\":[95.3455882352941,96.88970588235294,99.45588235294116,98.91911764705881,98.5220588235294,100.0,100.33,101.48],\"type\":\"scatter\"}]},{\"data\":[{\"x\":[\"2019-09\",\"2019-12\",\"2020-03\",\"2020-06\",\"2020-09\",\"2020-12\",\"2021-03\",\"2021-06\",\"2021-09\"],\"y\":[95.76880530973453,97.13080752212392,98.40984513274338,99.73727876106196,99.75801991150443,100.0,101.55,103.12,105.16],\"type\":\"scatter\"},{\"x\":[\"2019-09\",\"2019-12\",\"2020-03\",\"2020-06\",\"2020-09\",\"2020-12\",\"2021-03\",\"2021-06\",\"2021-09\"],\"y\":[96.92040319777544,97.90754257907543,99.84011122697254,100.58394160583941,102.08550573514077,100.0,102.07,104.0,107.11],\"type\":\"scatter\"},{\"x\":[\"2019-09\",\"2019-12\",\"2020-03\",\"2020-06\",\"2020-09\",\"2020-12\",\"2021-03\",\"2021-06\",\"2021-09\"],\"y\":[95.3455882352941,96.88970588235294,99.45588235294116,98.91911764705881,98.5220588235294,100.0,100.33,101.48,104.68],\"type\":\"scatter\"}]},{\"data\":[{\"x\":[\"2019-09\",\"2019-12\",\"2020-03\",\"2020-06\",\"2020-09\",\"2020-12\",\"2021-03\",\"2021-06\",\"2021-09\",\"2021-12\"],\"y\":[95.76880530973453,97.13080752212392,98.40984513274338,99.73727876106196,99.75801991150443,100.0,101.55,103.12,105.16,106.76],\"type\":\"scatter\"},{\"x\":[\"2019-09\",\"2019-12\",\"2020-03\",\"2020-06\",\"2020-09\",\"2020-12\",\"2021-03\",\"2021-06\",\"2021-09\",\"2021-12\"],\"y\":[96.92040319777544,97.90754257907543,99.84011122697254,100.58394160583941,102.08550573514077,100.0,102.07,104.0,107.11,108.66],\"type\":\"scatter\"},{\"x\":[\"2019-09\",\"2019-12\",\"2020-03\",\"2020-06\",\"2020-09\",\"2020-12\",\"2021-03\",\"2021-06\",\"2021-09\",\"2021-12\"],\"y\":[95.3455882352941,96.88970588235294,99.45588235294116,98.91911764705881,98.5220588235294,100.0,100.33,101.48,104.68,106.57],\"type\":\"scatter\"}]},{\"data\":[{\"x\":[\"2019-09\",\"2019-12\",\"2020-03\",\"2020-06\",\"2020-09\",\"2020-12\",\"2021-03\",\"2021-06\",\"2021-09\",\"2021-12\",\"2022-03\"],\"y\":[95.76880530973453,97.13080752212392,98.40984513274338,99.73727876106196,99.75801991150443,100.0,101.55,103.12,105.16,106.76,109.32],\"type\":\"scatter\"},{\"x\":[\"2019-09\",\"2019-12\",\"2020-03\",\"2020-06\",\"2020-09\",\"2020-12\",\"2021-03\",\"2021-06\",\"2021-09\",\"2021-12\",\"2022-03\"],\"y\":[96.92040319777544,97.90754257907543,99.84011122697254,100.58394160583941,102.08550573514077,100.0,102.07,104.0,107.11,108.66,111.4],\"type\":\"scatter\"},{\"x\":[\"2019-09\",\"2019-12\",\"2020-03\",\"2020-06\",\"2020-09\",\"2020-12\",\"2021-03\",\"2021-06\",\"2021-09\",\"2021-12\",\"2022-03\"],\"y\":[95.3455882352941,96.88970588235294,99.45588235294116,98.91911764705881,98.5220588235294,100.0,100.33,101.48,104.68,106.57,108.14],\"type\":\"scatter\"}]},{\"data\":[{\"x\":[\"2019-09\",\"2019-12\",\"2020-03\",\"2020-06\",\"2020-09\",\"2020-12\",\"2021-03\",\"2021-06\",\"2021-09\",\"2021-12\",\"2022-03\",\"2022-06\"],\"y\":[95.76880530973453,97.13080752212392,98.40984513274338,99.73727876106196,99.75801991150443,100.0,101.55,103.12,105.16,106.76,109.32,111.93],\"type\":\"scatter\"},{\"x\":[\"2019-09\",\"2019-12\",\"2020-03\",\"2020-06\",\"2020-09\",\"2020-12\",\"2021-03\",\"2021-06\",\"2021-09\",\"2021-12\",\"2022-03\",\"2022-06\"],\"y\":[96.92040319777544,97.90754257907543,99.84011122697254,100.58394160583941,102.08550573514077,100.0,102.07,104.0,107.11,108.66,111.4,114.02],\"type\":\"scatter\"},{\"x\":[\"2019-09\",\"2019-12\",\"2020-03\",\"2020-06\",\"2020-09\",\"2020-12\",\"2021-03\",\"2021-06\",\"2021-09\",\"2021-12\",\"2022-03\",\"2022-06\"],\"y\":[95.3455882352941,96.88970588235294,99.45588235294116,98.91911764705881,98.5220588235294,100.0,100.33,101.48,104.68,106.57,108.14,112.01],\"type\":\"scatter\"}]}]);\n",
              "                        }).then(function(){\n",
              "                            \n",
              "var gd = document.getElementById('85821af4-7006-465b-972c-304625e3692b');\n",
              "var x = new MutationObserver(function (mutations, observer) {{\n",
              "        var display = window.getComputedStyle(gd).display;\n",
              "        if (!display || display === 'none') {{\n",
              "            console.log([gd, 'removed!']);\n",
              "            Plotly.purge(gd);\n",
              "            observer.disconnect();\n",
              "        }}\n",
              "}});\n",
              "\n",
              "// Listen for the removal of the full notebook cells\n",
              "var notebookContainer = gd.closest('#notebook-container');\n",
              "if (notebookContainer) {{\n",
              "    x.observe(notebookContainer, {childList: true});\n",
              "}}\n",
              "\n",
              "// Listen for the clearing of the current output cell\n",
              "var outputEl = gd.closest('.output');\n",
              "if (outputEl) {{\n",
              "    x.observe(outputEl, {childList: true});\n",
              "}}\n",
              "\n",
              "                        })                };                            </script>        </div>\n",
              "</body>\n",
              "</html>"
            ]
          },
          "metadata": {}
        }
      ]
    }
  ]
}