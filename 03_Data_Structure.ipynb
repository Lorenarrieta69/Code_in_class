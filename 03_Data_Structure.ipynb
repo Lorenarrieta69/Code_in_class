{
  "nbformat": 4,
  "nbformat_minor": 0,
  "metadata": {
    "colab": {
      "provenance": [],
      "authorship_tag": "ABX9TyPccKnip80KiLaFA3vBS+Ky",
      "include_colab_link": true
    },
    "kernelspec": {
      "name": "python3",
      "display_name": "Python 3"
    },
    "language_info": {
      "name": "python"
    }
  },
  "cells": [
    {
      "cell_type": "markdown",
      "metadata": {
        "id": "view-in-github",
        "colab_type": "text"
      },
      "source": [
        "<a href=\"https://colab.research.google.com/github/Lorenarrieta69/Code_in_class/blob/main/03_Data_Structure.ipynb\" target=\"_parent\"><img src=\"https://colab.research.google.com/assets/colab-badge.svg\" alt=\"Open In Colab\"/></a>"
      ]
    },
    {
      "cell_type": "markdown",
      "source": [
        "# **1. What is a data structure?**\n",
        "\n",
        "DS are like variable, they *save* information. the difference is that DS can store man than 1 value.\n",
        "\n",
        "Formally, Ds store a **sequence** of values which can be located with an index (sciling). Ex: list, vectors and matrices, databases.\n",
        "\n",
        "Now, basic python sucks!!! its lacks specialized tools. In this cas, we nees to install `numpy`"
      ],
      "metadata": {
        "id": "ENBeJNt3UA8-"
      }
    },
    {
      "cell_type": "markdown",
      "source": [
        "# **2. Linear Algebra - Numpy**\n",
        "\n",
        "\n"
      ],
      "metadata": {
        "id": "cpYoxkjoU_Q-"
      }
    },
    {
      "cell_type": "markdown",
      "source": [
        "## 2.1.  *What is Numpy?*\n",
        "\n",
        "Numpy (or Numerical python) is collection of functions and methods to handle Ds\n",
        "\n",
        "This library works very well with othe libraries and it is very popular. "
      ],
      "metadata": {
        "id": "odPKv2ivWz33"
      }
    },
    {
      "cell_type": "code",
      "source": [
        "# Install a library\n",
        "\n",
        "import numpy as np\n",
        "\n"
      ],
      "metadata": {
        "id": "5WJq7ZxlVzOF"
      },
      "execution_count": 5,
      "outputs": []
    },
    {
      "cell_type": "code",
      "source": [
        "np.array # Example"
      ],
      "metadata": {
        "colab": {
          "base_uri": "https://localhost:8080/"
        },
        "id": "PTBT4QXTV8aW",
        "outputId": "31aff100-8306-4daa-97cf-1e0f4ac4b1c6"
      },
      "execution_count": 6,
      "outputs": [
        {
          "output_type": "execute_result",
          "data": {
            "text/plain": [
              "<function numpy.array>"
            ]
          },
          "metadata": {},
          "execution_count": 6
        }
      ]
    },
    {
      "cell_type": "markdown",
      "source": [
        "# 2.2. Numpy arrays - vectors and matrices\n",
        "\n",
        "Objects arranged by row and columns. Wiyh these object you can sum and multiply.\n",
        "\n",
        "*Example 1*\n",
        "\n",
        "Let $a$ be a vector with 2 rows and 1 column: \n",
        "\n",
        "\\begin{equation}\n",
        "a = \\left[\\begin{array}{c} a_{1} \\\\ a_{2} \n",
        "    \\end{array}\\right]\n",
        "\\end{equation}\n",
        "\n",
        "This is called a **COLUMN VECTOR**. And the dimension or shape is $(2,1)$ or $(2 \\times 1)$.\n",
        "\n",
        "*Example 2*\n",
        "\n",
        "et $a$ be a vector with 1 rows and 2 column: \n",
        "\n",
        "\\begin{equation}\n",
        "b = \\left[\\begin{array}{c} b_{1} & b_{2} \n",
        "    \\end{array}\\right]\n",
        "\\end{equation}\n",
        "\n",
        "This is called a **ROW VECTOR**. And the dimension or shape is $(1,2)$ or $(1 \\times 2)$.\n",
        "\n",
        "*Example 3*\n",
        "\n",
        "A matrix has more tha 1 row and more than 1 column. \n",
        "\n",
        "Of course if the number of rows and columns are equal, it is called a *squared matrix*.\n",
        "\n",
        "In general, let $M$ be a matrix of dimensions $(n,m)$ or $(n \\times m)$.\n",
        "\n",
        "For the case of $n=3$ and $m=3$\n",
        "\n",
        "\\begin{equation}\n",
        "M = \\left[\\begin{array}{c} \n",
        "m_{1,1} & m_{1,2} & m_{1,3} \\\\\n",
        "m_{2,1} & m_{2,2} & m_{2,3} \\\\\n",
        "m_{3,1} & m_{3,2} & m_{3,3} \\\\\n",
        "    \\end{array}\\right]\n",
        "\\end{equation}\n",
        "\n",
        "Now, all os this in code."
      ],
      "metadata": {
        "id": "hdX9WzS6XO8x"
      }
    },
    {
      "cell_type": "code",
      "source": [
        "# Example - Column Vector\n",
        "\n",
        "a = np.array ([[4],[5],[6]])\n",
        "print(a)\n",
        "Print(a.shape)"
      ],
      "metadata": {
        "colab": {
          "base_uri": "https://localhost:8080/",
          "height": 252
        },
        "id": "sMdPIuRMc22z",
        "outputId": "d158a13a-e8d2-4559-dee5-4eb37301bb55"
      },
      "execution_count": 9,
      "outputs": [
        {
          "output_type": "stream",
          "name": "stdout",
          "text": [
            "[[4]\n",
            " [5]\n",
            " [6]]\n"
          ]
        },
        {
          "output_type": "error",
          "ename": "NameError",
          "evalue": "ignored",
          "traceback": [
            "\u001b[0;31m---------------------------------------------------------------------------\u001b[0m",
            "\u001b[0;31mNameError\u001b[0m                                 Traceback (most recent call last)",
            "\u001b[0;32m<ipython-input-9-10c1c0f4bf14>\u001b[0m in \u001b[0;36m<module>\u001b[0;34m\u001b[0m\n\u001b[1;32m      3\u001b[0m \u001b[0ma\u001b[0m \u001b[0;34m=\u001b[0m \u001b[0mnp\u001b[0m\u001b[0;34m.\u001b[0m\u001b[0marray\u001b[0m \u001b[0;34m(\u001b[0m\u001b[0;34m[\u001b[0m\u001b[0;34m[\u001b[0m\u001b[0;36m4\u001b[0m\u001b[0;34m]\u001b[0m\u001b[0;34m,\u001b[0m\u001b[0;34m[\u001b[0m\u001b[0;36m5\u001b[0m\u001b[0;34m]\u001b[0m\u001b[0;34m,\u001b[0m\u001b[0;34m[\u001b[0m\u001b[0;36m6\u001b[0m\u001b[0;34m]\u001b[0m\u001b[0;34m]\u001b[0m\u001b[0;34m)\u001b[0m\u001b[0;34m\u001b[0m\u001b[0;34m\u001b[0m\u001b[0m\n\u001b[1;32m      4\u001b[0m \u001b[0mprint\u001b[0m\u001b[0;34m(\u001b[0m\u001b[0ma\u001b[0m\u001b[0;34m)\u001b[0m\u001b[0;34m\u001b[0m\u001b[0;34m\u001b[0m\u001b[0m\n\u001b[0;32m----> 5\u001b[0;31m \u001b[0mPrint\u001b[0m\u001b[0;34m(\u001b[0m\u001b[0ma\u001b[0m\u001b[0;34m.\u001b[0m\u001b[0mshape\u001b[0m\u001b[0;34m)\u001b[0m\u001b[0;34m\u001b[0m\u001b[0;34m\u001b[0m\u001b[0m\n\u001b[0m",
            "\u001b[0;31mNameError\u001b[0m: name 'Print' is not defined"
          ]
        }
      ]
    }
  ]
}