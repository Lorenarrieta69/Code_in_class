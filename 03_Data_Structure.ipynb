{
  "nbformat": 4,
  "nbformat_minor": 0,
  "metadata": {
    "colab": {
      "provenance": [],
      "authorship_tag": "ABX9TyOVj1EVOidIW+KDytID9qpw",
      "include_colab_link": true
    },
    "kernelspec": {
      "name": "python3",
      "display_name": "Python 3"
    },
    "language_info": {
      "name": "python"
    }
  },
  "cells": [
    {
      "cell_type": "markdown",
      "metadata": {
        "id": "view-in-github",
        "colab_type": "text"
      },
      "source": [
        "<a href=\"https://colab.research.google.com/github/Lorenarrieta69/Code_in_class/blob/main/03_Data_Structure.ipynb\" target=\"_parent\"><img src=\"https://colab.research.google.com/assets/colab-badge.svg\" alt=\"Open In Colab\"/></a>"
      ]
    },
    {
      "cell_type": "markdown",
      "source": [
        "# **1. What is a data structure?**\n",
        "\n",
        "DS are like variable, they *save* information. the difference is that DS can store man than 1 value.\n",
        "\n",
        "Formally, Ds store a **sequence** of values which can be located with an index (sciling). Ex: list, vectors and matrices, databases.\n",
        "\n",
        "Now, basic python sucks!!! its lacks specialized tools. In this cas, we nees to install `numpy`"
      ],
      "metadata": {
        "id": "ENBeJNt3UA8-"
      }
    },
    {
      "cell_type": "markdown",
      "source": [
        "# **2. Linear Algebra - Numpy**\n",
        "\n",
        "\n"
      ],
      "metadata": {
        "id": "cpYoxkjoU_Q-"
      }
    },
    {
      "cell_type": "markdown",
      "source": [
        "## 2.1.  *What is Numpy?*\n",
        "\n",
        "Numpy (or Numerical python) is collection of functions and methods to handle Ds\n",
        "\n",
        "This library works very well with othe libraries and it is very popular. "
      ],
      "metadata": {
        "id": "odPKv2ivWz33"
      }
    },
    {
      "cell_type": "code",
      "source": [
        "# Install a library\n",
        "\n",
        "import numpy as np\n",
        "\n"
      ],
      "metadata": {
        "id": "5WJq7ZxlVzOF"
      },
      "execution_count": null,
      "outputs": []
    },
    {
      "cell_type": "code",
      "source": [
        "np.array # Example"
      ],
      "metadata": {
        "colab": {
          "base_uri": "https://localhost:8080/"
        },
        "id": "PTBT4QXTV8aW",
        "outputId": "fb4be553-d8a1-4100-eb2e-e65dd64466d0"
      },
      "execution_count": null,
      "outputs": [
        {
          "output_type": "execute_result",
          "data": {
            "text/plain": [
              "<function numpy.array>"
            ]
          },
          "metadata": {},
          "execution_count": 2
        }
      ]
    },
    {
      "cell_type": "markdown",
      "source": [
        "## 2.2. Numpy arrays - vectors and matrices\n",
        "\n",
        "Objects arranged by row and columns. Wiyh these object you can sum and multiply.\n",
        "\n",
        "*Example 1*\n",
        "\n",
        "Let $a$ be a vector with 2 rows and 1 column: \n",
        "\n",
        "\\begin{equation}\n",
        "a = \\left[\\begin{array}{c} a_{1} \\\\ a_{2} \n",
        "    \\end{array}\\right]\n",
        "\\end{equation}\n",
        "\n",
        "This is called a **COLUMN VECTOR**. And the dimension or shape is $(2,1)$ or $(2 \\times 1)$.\n",
        "\n",
        "*Example 2*\n",
        "\n",
        "et $a$ be a vector with 1 rows and 2 column: \n",
        "\n",
        "\\begin{equation}\n",
        "b = \\left[\\begin{array}{c} b_{1} & b_{2} \n",
        "    \\end{array}\\right]\n",
        "\\end{equation}\n",
        "\n",
        "This is called a **ROW VECTOR**. And the dimension or shape is $(1,2)$ or $(1 \\times 2)$.\n",
        "\n",
        "*Example 3*\n",
        "\n",
        "A matrix has more tha 1 row and more than 1 column. \n",
        "\n",
        "Of course if the number of rows and columns are equal, it is called a *squared matrix*.\n",
        "\n",
        "In general, let $M$ be a matrix of dimensions $(n,m)$ or $(n \\times m)$.\n",
        "\n",
        "For the case of $n=3$ and $m=3$\n",
        "\n",
        "\\begin{equation}\n",
        "M = \\left[\\begin{array}{c} \n",
        "m_{1,1} & m_{1,2} & m_{1,3} \\\\\n",
        "m_{2,1} & m_{2,2} & m_{2,3} \\\\\n",
        "m_{3,1} & m_{3,2} & m_{3,3} \\\\\n",
        "    \\end{array}\\right]\n",
        "\\end{equation}\n",
        "\n",
        "Now, all os this in code."
      ],
      "metadata": {
        "id": "hdX9WzS6XO8x"
      }
    },
    {
      "cell_type": "code",
      "source": [
        "# Example - Column Vector\n",
        "\n",
        "a = np.array([[4],[5],[6]])\n",
        "print(a)\n",
        "print(a.shape)"
      ],
      "metadata": {
        "colab": {
          "base_uri": "https://localhost:8080/"
        },
        "id": "sMdPIuRMc22z",
        "outputId": "dee34236-b297-45af-ec25-0ea89de16fb8"
      },
      "execution_count": null,
      "outputs": [
        {
          "output_type": "stream",
          "name": "stdout",
          "text": [
            "[[4]\n",
            " [5]\n",
            " [6]]\n",
            "(3, 1)\n"
          ]
        }
      ]
    },
    {
      "cell_type": "code",
      "source": [
        "# Example - Row Vector\n",
        "\n",
        "b = np.array([[1, 2, 3]])\n",
        "print(b)\n",
        "print(b.shape)"
      ],
      "metadata": {
        "colab": {
          "base_uri": "https://localhost:8080/"
        },
        "id": "tnV_VlqOaXGC",
        "outputId": "9b1d2b36-6dec-40f5-ded8-4d8b2bf6ae5c"
      },
      "execution_count": null,
      "outputs": [
        {
          "output_type": "stream",
          "name": "stdout",
          "text": [
            "[[1 2 3]]\n",
            "(1, 3)\n"
          ]
        }
      ]
    },
    {
      "cell_type": "code",
      "source": [
        "# Example - Matrix\n",
        "\n",
        "M = np.array([[1,2,3],\n",
        "              [4,5,6],\n",
        "              [7,8,9]])\n",
        "print(M)\n",
        "print(M.shape)"
      ],
      "metadata": {
        "colab": {
          "base_uri": "https://localhost:8080/"
        },
        "id": "w99oCR_Ia2BM",
        "outputId": "e1539e0c-5f85-408b-a9b6-e90984e3b597"
      },
      "execution_count": null,
      "outputs": [
        {
          "output_type": "stream",
          "name": "stdout",
          "text": [
            "[[1 2 3]\n",
            " [4 5 6]\n",
            " [7 8 9]]\n",
            "(3, 3)\n"
          ]
        }
      ]
    },
    {
      "cell_type": "markdown",
      "source": [
        "**A nice trick**"
      ],
      "metadata": {
        "id": "unl9qdZObjWV"
      }
    },
    {
      "cell_type": "code",
      "source": [
        "# nr: store the number of rows\n",
        "# nc: store the number of columns\n",
        "nr, nc = M.shape "
      ],
      "metadata": {
        "id": "H5f8oO4Obqtk"
      },
      "execution_count": null,
      "outputs": []
    },
    {
      "cell_type": "markdown",
      "source": [
        "**Size of DS**\n",
        "\n",
        "In python, *Size* means yhe number of elementes in a Ds."
      ],
      "metadata": {
        "id": "xuNArwsPdIp-"
      }
    },
    {
      "cell_type": "code",
      "source": [
        "M.size"
      ],
      "metadata": {
        "colab": {
          "base_uri": "https://localhost:8080/"
        },
        "id": "zUp7Yx1PdXm2",
        "outputId": "3f147591-ebb2-4b84-a453-4d9c8761b5b1"
      },
      "execution_count": null,
      "outputs": [
        {
          "output_type": "execute_result",
          "data": {
            "text/plain": [
              "9"
            ]
          },
          "metadata": {},
          "execution_count": 6
        }
      ]
    },
    {
      "cell_type": "code",
      "source": [
        "# ONE WARNING\n",
        "\n",
        "z = 2\n",
        "w = np.array([[2]])\n",
        "print(type(z),type(w))\n",
        "z/w # se borra\n"
      ],
      "metadata": {
        "colab": {
          "base_uri": "https://localhost:8080/"
        },
        "id": "5aZYZSNYdhCQ",
        "outputId": "b869f0a3-51b2-45bb-d59e-4738115722ee"
      },
      "execution_count": null,
      "outputs": [
        {
          "output_type": "stream",
          "name": "stdout",
          "text": [
            "<class 'int'> <class 'numpy.ndarray'>\n"
          ]
        },
        {
          "output_type": "execute_result",
          "data": {
            "text/plain": [
              "array([[1.]])"
            ]
          },
          "metadata": {},
          "execution_count": 7
        }
      ]
    },
    {
      "cell_type": "markdown",
      "source": [
        "## 2.3 Slincing\n",
        "\n",
        "it ia the same as string variable, onl with minor modifications.\n",
        "\n",
        "Let´s see:\n",
        "\n",
        "\n",
        "```\n",
        "#Tiene formato de código\n",
        "```\n",
        "\n"
      ],
      "metadata": {
        "id": "_1tutwZ-eTni"
      }
    },
    {
      "cell_type": "code",
      "source": [
        "# Extract the 1st element\n",
        "\n",
        "## Column vector \n",
        "\n",
        "print(a[0,0])\n",
        "print(type(a[0,0]))\n",
        "\n",
        "## Row vector \n",
        "\n",
        "print(b[0,0])\n",
        "print(type(b[0,0]))\n",
        "\n",
        "## Matrix\n",
        "print(M[1,1])\n"
      ],
      "metadata": {
        "colab": {
          "base_uri": "https://localhost:8080/"
        },
        "id": "kh3lruimel_r",
        "outputId": "8abf25fc-7a7d-4880-afc7-a87e02fe25f4"
      },
      "execution_count": null,
      "outputs": [
        {
          "output_type": "stream",
          "name": "stdout",
          "text": [
            "4\n",
            "<class 'numpy.int64'>\n",
            "1\n",
            "<class 'numpy.int64'>\n",
            "5\n"
          ]
        }
      ]
    },
    {
      "cell_type": "code",
      "source": [
        "# Extrac the last element\n",
        "\n",
        "print('The last element of a row vector:', b[0,-1])\n",
        "print('The last element of a column vector:', a[-1,0])\n",
        "print('The last element of a matrix:', M[-1,-1])"
      ],
      "metadata": {
        "colab": {
          "base_uri": "https://localhost:8080/"
        },
        "id": "2sTAWLRFgLwd",
        "outputId": "6609a7d3-f227-49d0-bc9d-0fbf87de04a0"
      },
      "execution_count": null,
      "outputs": [
        {
          "output_type": "stream",
          "name": "stdout",
          "text": [
            "The last element of a row vector: 3\n",
            "The last element of a column vector: 6\n",
            "The last element of a matrix: 9\n"
          ]
        }
      ]
    },
    {
      "cell_type": "code",
      "source": [
        "# Extract a subset\n",
        "\n",
        "## Column Vector\n",
        "print(a[0:2])\n",
        "\n",
        "## Row Vector\n",
        "print(b[0,0:2])\n",
        "\n",
        "## Matrix\n",
        "print(M[0:2,0:2])"
      ],
      "metadata": {
        "colab": {
          "base_uri": "https://localhost:8080/"
        },
        "id": "LtWmf5zpg0Rd",
        "outputId": "577fd8a5-8872-407f-81e5-ddf4968b11fd"
      },
      "execution_count": null,
      "outputs": [
        {
          "output_type": "stream",
          "name": "stdout",
          "text": [
            "[[4]\n",
            " [5]]\n",
            "[1 2]\n",
            "[[1 2]\n",
            " [4 5]]\n"
          ]
        }
      ]
    },
    {
      "cell_type": "markdown",
      "source": [
        "## 2.4. Useful methods"
      ],
      "metadata": {
        "id": "DIBB5eyAVdfL"
      }
    },
    {
      "cell_type": "markdown",
      "source": [
        "### Zeros and Ones"
      ],
      "metadata": {
        "id": "eT8OtbXiVlA6"
      }
    },
    {
      "cell_type": "code",
      "source": [
        "# Create a row vector of a 0´s of size (7,1)\n",
        "\n",
        "#z1 = np.array([[0,0,0,0,0,0,0]])\n",
        "\n",
        "#Zeros\n",
        "\n",
        "## one dimensional\n",
        "\n",
        "z1 = np.zeros(7)\n",
        "print(z1)\n",
        "\n",
        "z2 = np.zeros(7, dtype = int)\n",
        "print(z2)\n",
        "\n",
        "# Two dimnsional \n",
        "z1 = np.zeros((4,5))\n",
        "print(z1)\n",
        "\n"
      ],
      "metadata": {
        "colab": {
          "base_uri": "https://localhost:8080/"
        },
        "id": "krlbxjHVVpsa",
        "outputId": "530767a1-e32a-4ceb-f389-4a7d7208413f"
      },
      "execution_count": null,
      "outputs": [
        {
          "output_type": "stream",
          "name": "stdout",
          "text": [
            "[0. 0. 0. 0. 0. 0. 0.]\n",
            "[0 0 0 0 0 0 0]\n",
            "[[0. 0. 0. 0. 0.]\n",
            " [0. 0. 0. 0. 0.]\n",
            " [0. 0. 0. 0. 0.]\n",
            " [0. 0. 0. 0. 0.]]\n"
          ]
        }
      ]
    },
    {
      "cell_type": "code",
      "source": [
        "# Ones\n",
        "\n",
        "## one dimensional\n",
        "\n",
        "o1 = np.ones(7)\n",
        "print(o1)\n",
        "\n",
        "o2 = np.ones(7, dtype = int)\n",
        "print(o2)\n",
        "\n",
        "# Two dimnsional \n",
        "o1 = np.ones((4,5))\n",
        "print(o1)\n"
      ],
      "metadata": {
        "colab": {
          "base_uri": "https://localhost:8080/"
        },
        "id": "HHnat5tjYDKf",
        "outputId": "402ab72a-393a-4da6-cee7-3076a843af44"
      },
      "execution_count": null,
      "outputs": [
        {
          "output_type": "stream",
          "name": "stdout",
          "text": [
            "[1. 1. 1. 1. 1. 1. 1.]\n",
            "[1 1 1 1 1 1 1]\n",
            "[[1. 1. 1. 1. 1.]\n",
            " [1. 1. 1. 1. 1.]\n",
            " [1. 1. 1. 1. 1.]\n",
            " [1. 1. 1. 1. 1.]]\n"
          ]
        }
      ]
    },
    {
      "cell_type": "markdown",
      "source": [
        "### Another creation options"
      ],
      "metadata": {
        "id": "5rItVyl5Yw0F"
      }
    },
    {
      "cell_type": "code",
      "source": [
        "# Full\n",
        "\n",
        "## One dimension\n",
        "np.full(7,13)\n",
        "\n",
        "## Two dimension\n",
        "np.full((3,2),13)\n"
      ],
      "metadata": {
        "id": "L0snPz7IY4g-",
        "colab": {
          "base_uri": "https://localhost:8080/"
        },
        "outputId": "081bc446-5455-4904-f063-19d2b7f20fd6"
      },
      "execution_count": null,
      "outputs": [
        {
          "output_type": "execute_result",
          "data": {
            "text/plain": [
              "array([[13, 13],\n",
              "       [13, 13],\n",
              "       [13, 13]])"
            ]
          },
          "metadata": {},
          "execution_count": 20
        }
      ]
    },
    {
      "cell_type": "code",
      "source": [
        "# A DS with spaced values (likes a sequence)\n",
        "\n",
        "## A custom sequence - only can create one dimension \n",
        "\n",
        "np.arange(6)\n"
      ],
      "metadata": {
        "id": "Bh1JH2SeZpg8",
        "colab": {
          "base_uri": "https://localhost:8080/"
        },
        "outputId": "ba224b6b-3f83-4a41-abf6-98f6b8a76135"
      },
      "execution_count": null,
      "outputs": [
        {
          "output_type": "execute_result",
          "data": {
            "text/plain": [
              "array([0, 1, 2, 3, 4, 5])"
            ]
          },
          "metadata": {},
          "execution_count": 21
        }
      ]
    },
    {
      "cell_type": "code",
      "source": [
        "## A custom sequence - starting with a and stop at b\n",
        "a = 3\n",
        "b = 25\n",
        "np.arange(a,b)"
      ],
      "metadata": {
        "colab": {
          "base_uri": "https://localhost:8080/"
        },
        "id": "DjicUbyFWsRT",
        "outputId": "2f6db0c6-3a1c-41fe-a6c1-3aadf68b8a93"
      },
      "execution_count": null,
      "outputs": [
        {
          "output_type": "execute_result",
          "data": {
            "text/plain": [
              "array([ 3,  4,  5,  6,  7,  8,  9, 10, 11, 12, 13, 14, 15, 16, 17, 18, 19,\n",
              "       20, 21, 22, 23, 24])"
            ]
          },
          "metadata": {},
          "execution_count": 22
        }
      ]
    },
    {
      "cell_type": "code",
      "source": [
        "## A custom se sequence with a set step\n",
        "a = 3\n",
        "b = 25\n",
        "s = 0.25 #step\n",
        "np.arange(a,b,s)"
      ],
      "metadata": {
        "id": "PX3wrLXbaBRt",
        "colab": {
          "base_uri": "https://localhost:8080/"
        },
        "outputId": "26599b54-ffbc-443c-9378-8cfc90280d89"
      },
      "execution_count": null,
      "outputs": [
        {
          "output_type": "execute_result",
          "data": {
            "text/plain": [
              "array([ 3.  ,  3.25,  3.5 ,  3.75,  4.  ,  4.25,  4.5 ,  4.75,  5.  ,\n",
              "        5.25,  5.5 ,  5.75,  6.  ,  6.25,  6.5 ,  6.75,  7.  ,  7.25,\n",
              "        7.5 ,  7.75,  8.  ,  8.25,  8.5 ,  8.75,  9.  ,  9.25,  9.5 ,\n",
              "        9.75, 10.  , 10.25, 10.5 , 10.75, 11.  , 11.25, 11.5 , 11.75,\n",
              "       12.  , 12.25, 12.5 , 12.75, 13.  , 13.25, 13.5 , 13.75, 14.  ,\n",
              "       14.25, 14.5 , 14.75, 15.  , 15.25, 15.5 , 15.75, 16.  , 16.25,\n",
              "       16.5 , 16.75, 17.  , 17.25, 17.5 , 17.75, 18.  , 18.25, 18.5 ,\n",
              "       18.75, 19.  , 19.25, 19.5 , 19.75, 20.  , 20.25, 20.5 , 20.75,\n",
              "       21.  , 21.25, 21.5 , 21.75, 22.  , 22.25, 22.5 , 22.75, 23.  ,\n",
              "       23.25, 23.5 , 23.75, 24.  , 24.25, 24.5 , 24.75])"
            ]
          },
          "metadata": {},
          "execution_count": 23
        }
      ]
    },
    {
      "cell_type": "code",
      "source": [
        "## Linear space\n",
        "\n",
        "a = 15\n",
        "b = 17\n",
        "n = 10\n",
        "\n",
        "np.linspace(a, b, num = n)"
      ],
      "metadata": {
        "colab": {
          "base_uri": "https://localhost:8080/"
        },
        "id": "RG_aZ90manw0",
        "outputId": "5f506557-5680-4ff9-d8db-b9286b6c49f6"
      },
      "execution_count": null,
      "outputs": [
        {
          "output_type": "execute_result",
          "data": {
            "text/plain": [
              "array([15.        , 15.22222222, 15.44444444, 15.66666667, 15.88888889,\n",
              "       16.11111111, 16.33333333, 16.55555556, 16.77777778, 17.        ])"
            ]
          },
          "metadata": {},
          "execution_count": 24
        }
      ]
    },
    {
      "cell_type": "markdown",
      "source": [
        "### Random numbers\n",
        "\n",
        "We are talking about probabilities, and of  probabilistic distribitions.\n"
      ],
      "metadata": {
        "id": "nxXYpTqVb4nQ"
      }
    },
    {
      "cell_type": "markdown",
      "source": [
        "#### Uniform distribution over [0,1)"
      ],
      "metadata": {
        "id": "_GdGhMLMcWVG"
      }
    },
    {
      "cell_type": "code",
      "source": [
        "# A single vale\n",
        "np.random.rand()"
      ],
      "metadata": {
        "colab": {
          "base_uri": "https://localhost:8080/"
        },
        "id": "Yu5bzVGLb2In",
        "outputId": "ccdfbcce-697b-46c9-d1dd-4d9d332a7733"
      },
      "execution_count": null,
      "outputs": [
        {
          "output_type": "execute_result",
          "data": {
            "text/plain": [
              "0.9213241241146511"
            ]
          },
          "metadata": {},
          "execution_count": 25
        }
      ]
    },
    {
      "cell_type": "code",
      "source": [
        "# Example 1 - The coin toss\n",
        "## Here we are going to simulate a coin toss\n",
        "\n",
        "if np.random.rand() <= 0.5:\n",
        "  print('head')\n",
        "else:\n",
        "  print('tails')"
      ],
      "metadata": {
        "colab": {
          "base_uri": "https://localhost:8080/"
        },
        "id": "k6Swa1BidH-s",
        "outputId": "0d5c0725-4162-4113-a526-fbd5148cee00"
      },
      "execution_count": null,
      "outputs": [
        {
          "output_type": "stream",
          "name": "stdout",
          "text": [
            "head\n"
          ]
        }
      ]
    },
    {
      "cell_type": "code",
      "source": [
        "# Example 2 - Ranking\n",
        "\n",
        "## The idea is to print 'low' if the number is lower than 0.3\n",
        "## print 'Average' if is between 0.3 and 0.7\n",
        "## print 'High' if it is greater than 0.7\n",
        "\n",
        "rnd = np.random.rand()\n",
        "\n",
        "if np.random.rand() <= 0.3:\n",
        "  print('Low', rnd)\n",
        "elif np.random.rand() > 0.3 and rnd <= 0.7:\n",
        "  print('Average',rnd)\n",
        "else: \n",
        "  print('High',rnd)"
      ],
      "metadata": {
        "colab": {
          "base_uri": "https://localhost:8080/"
        },
        "id": "M7qOJ2D9e5fb",
        "outputId": "9793e262-d559-43b2-ef57-cddf049f474d"
      },
      "execution_count": null,
      "outputs": [
        {
          "output_type": "stream",
          "name": "stdout",
          "text": [
            "Average 0.22917277262111369\n"
          ]
        }
      ]
    },
    {
      "cell_type": "markdown",
      "source": [
        "**Exercise**\n",
        "\n",
        "Code the following game. Print the message 'You win!' if two coin tosses are heads and print 'you lose!' otherwise\n"
      ],
      "metadata": {
        "id": "DJWPqJb7hb1D"
      }
    },
    {
      "cell_type": "code",
      "source": [
        "# Solucion 1.0\n",
        "\n",
        "## Firt try (or attemept )\n",
        "\n",
        "First_attemept = np.random.rand()\n",
        "\n",
        "if First_attemept <=0.5: \n",
        "  print('Head', First_attemept)\n",
        "else: \n",
        "  print('Tails', First_attemept)\n",
        "\n",
        "## second try (or attemept )\n",
        "Second_attemept = np.random.rand()\n",
        "\n",
        "if Second_attemept <=0.5: \n",
        "  print('Head', Second_attemept)\n",
        "else: \n",
        "  print('Tails', Second_attemept)\n",
        "\n",
        "# combine result\n",
        "if First_attemept <=0.5 and Second_attemept <=0.5:\n",
        "  print('You win!')\n",
        "else:\n",
        "  print('You lose!')"
      ],
      "metadata": {
        "colab": {
          "base_uri": "https://localhost:8080/"
        },
        "id": "m5UA6FEpijt6",
        "outputId": "eba5119c-4a8d-4e0b-b9f2-62253a55e5e9"
      },
      "execution_count": null,
      "outputs": [
        {
          "output_type": "stream",
          "name": "stdout",
          "text": [
            "Head 0.10634111185382833\n",
            "Head 0.053270073123257156\n",
            "You win!\n"
          ]
        }
      ]
    },
    {
      "cell_type": "code",
      "source": [
        "#Solucion 2.0 \n",
        "\n",
        "First_attemept  = np.random.rand()\n",
        "Second_attemept = np.random.rand()\n",
        "results         = np.array([['Head', 'Tails']])\n",
        "indx1           = int(round(First_attemept,0))\n",
        "indx2           = int(round(Second_attemept,0))\n",
        "\n",
        "if First_attemept <=0.5 and Second_attemept <=0.5:\n",
        "  print('Head', First_attemept)\n",
        "  print('Head', Second_attemept)\n",
        "  print('You win!')\n",
        "else:\n",
        "  print(results[0,indx1], First_attemept)\n",
        "  print(results[0,indx2], Second_attemept)\n",
        "  print('You lose!')"
      ],
      "metadata": {
        "id": "FR5lEOwbnAuX",
        "colab": {
          "base_uri": "https://localhost:8080/"
        },
        "outputId": "eafe2980-ac7d-4f03-99ab-09c466d71d9a"
      },
      "execution_count": 50,
      "outputs": [
        {
          "output_type": "stream",
          "name": "stdout",
          "text": [
            "Tails 0.8996807750506651\n",
            "Head 0.3678653551759512\n",
            "You lose!\n"
          ]
        }
      ]
    },
    {
      "cell_type": "code",
      "source": [
        "#Solucion 3.0\n",
        "\n",
        "tries = np.random.rand(2)\n",
        "\n",
        "results         = np.array([['Head', 'Tails']])\n",
        "indx1           = int(round(tries[0],0))\n",
        "indx2           = int(round(tries[1],0))\n",
        "\n",
        "if tries[0] <=0.5 and tries[1] <=0.5:\n",
        "  print('Head', tries[0])\n",
        "  print('Head', tries[1])\n",
        "  print('You win!')\n",
        "else:\n",
        "  print(results[0,indx1], tries[0])\n",
        "  print(results[0,indx2], tries[1])\n",
        "  print('You lose!')"
      ],
      "metadata": {
        "colab": {
          "base_uri": "https://localhost:8080/"
        },
        "id": "n_kgTNVdhKXB",
        "outputId": "cdcf17cc-3cbe-4f52-a4ed-b74f92a3466d"
      },
      "execution_count": 64,
      "outputs": [
        {
          "output_type": "stream",
          "name": "stdout",
          "text": [
            "Tails 0.6723028579882319\n",
            "Head 0.4096324641768555\n",
            "You lose!\n"
          ]
        }
      ]
    },
    {
      "cell_type": "code",
      "source": [
        "# One dimensional array\n",
        "np.random.rand(4)"
      ],
      "metadata": {
        "colab": {
          "base_uri": "https://localhost:8080/"
        },
        "id": "m4LH1uDUf5Vf",
        "outputId": "09250bad-1473-4c82-a53e-f98cad352ed1"
      },
      "execution_count": 58,
      "outputs": [
        {
          "output_type": "execute_result",
          "data": {
            "text/plain": [
              "array([0.15104267, 0.66432886, 0.70520249, 0.6797944 ])"
            ]
          },
          "metadata": {},
          "execution_count": 58
        }
      ]
    },
    {
      "cell_type": "code",
      "source": [
        "# Two dimensional arrays\n",
        "np.random.rand(7,8)"
      ],
      "metadata": {
        "colab": {
          "base_uri": "https://localhost:8080/"
        },
        "id": "tkdQr7a3jCo-",
        "outputId": "9468ffe9-10f0-42a1-a6b9-062591eda547"
      },
      "execution_count": 65,
      "outputs": [
        {
          "output_type": "execute_result",
          "data": {
            "text/plain": [
              "array([[0.67391975, 0.28820164, 0.62221666, 0.14340307, 0.38980246,\n",
              "        0.63006897, 0.65571517, 0.62396725],\n",
              "       [0.10457952, 0.10212288, 0.36637658, 0.83315235, 0.59222282,\n",
              "        0.50107079, 0.12060252, 0.05576741],\n",
              "       [0.06643848, 0.93993845, 0.53399029, 0.17062318, 0.61769933,\n",
              "        0.08777856, 0.924335  , 0.77322343],\n",
              "       [0.5421116 , 0.83233137, 0.68661792, 0.65750075, 0.59176189,\n",
              "        0.74505037, 0.91265094, 0.99939137],\n",
              "       [0.72068398, 0.3262138 , 0.92802882, 0.79470847, 0.15333638,\n",
              "        0.22832522, 0.36193901, 0.75883181],\n",
              "       [0.4850025 , 0.22678082, 0.59240679, 0.78662448, 0.11670347,\n",
              "        0.86683259, 0.27187773, 0.70470842],\n",
              "       [0.18531133, 0.02761599, 0.13847262, 0.54896263, 0.00429986,\n",
              "        0.37351842, 0.33157919, 0.3046824 ]])"
            ]
          },
          "metadata": {},
          "execution_count": 65
        }
      ]
    },
    {
      "cell_type": "markdown",
      "source": [
        "### Uniform distribution over [a,b)"
      ],
      "metadata": {
        "id": "GBLsq3bOjbpg"
      }
    },
    {
      "cell_type": "code",
      "source": [
        "# One value\n",
        "np.random.uniform(low= 10, high = 0)"
      ],
      "metadata": {
        "colab": {
          "base_uri": "https://localhost:8080/"
        },
        "id": "8qwfA_p7jbHe",
        "outputId": "95024325-ec22-4193-df67-2d50d065d9f1"
      },
      "execution_count": 77,
      "outputs": [
        {
          "output_type": "execute_result",
          "data": {
            "text/plain": [
              "6.040949927048505"
            ]
          },
          "metadata": {},
          "execution_count": 77
        }
      ]
    },
    {
      "cell_type": "code",
      "source": [
        "# One dimensional\n",
        "np.random.uniform(low= 10, high = 5, size = 10)"
      ],
      "metadata": {
        "colab": {
          "base_uri": "https://localhost:8080/"
        },
        "id": "k51KXtTakQZY",
        "outputId": "b59649bc-977c-4da8-e511-4c82c2b6bb65"
      },
      "execution_count": 78,
      "outputs": [
        {
          "output_type": "execute_result",
          "data": {
            "text/plain": [
              "array([4.18050853, 3.7467734 , 3.63712535, 4.74081073, 3.3067631 ,\n",
              "       3.26542022, 4.54540271, 3.01469185, 3.26246037, 4.74912536])"
            ]
          },
          "metadata": {},
          "execution_count": 78
        }
      ]
    },
    {
      "cell_type": "code",
      "source": [
        "# Two dimensional\n",
        "\n",
        "np.random.uniform(low= -10, high = 0, size = (4,2))"
      ],
      "metadata": {
        "colab": {
          "base_uri": "https://localhost:8080/"
        },
        "id": "MCY-T-4ckigw",
        "outputId": "e87ae85f-922f-422b-cf4a-3743f312fafb"
      },
      "execution_count": 80,
      "outputs": [
        {
          "output_type": "execute_result",
          "data": {
            "text/plain": [
              "array([[-8.17407219, -9.71287774],\n",
              "       [-8.70595416, -9.29138767],\n",
              "       [-7.13977512, -9.46873097],\n",
              "       [-1.99083954, -8.81132045]])"
            ]
          },
          "metadata": {},
          "execution_count": 80
        }
      ]
    },
    {
      "cell_type": "markdown",
      "source": [
        "## Normal Distribution"
      ],
      "metadata": {
        "id": "6JJK3Bs-k6-h"
      }
    },
    {
      "cell_type": "code",
      "source": [
        "# Standard Normal - N ~ (0,1)\n",
        "np.random.randn()\n",
        "np.random.randn(8)\n",
        "np.random.randn(7,5)"
      ],
      "metadata": {
        "colab": {
          "base_uri": "https://localhost:8080/"
        },
        "id": "HpTEMXlwk_1i",
        "outputId": "309695c6-a42d-4001-877d-6ecaa38bd172"
      },
      "execution_count": 82,
      "outputs": [
        {
          "output_type": "execute_result",
          "data": {
            "text/plain": [
              "array([[ 0.18597496, -0.12111176, -0.70229473, -1.18091863,  0.47349726],\n",
              "       [-0.42340448,  1.30433803, -0.61113317,  1.85248032, -2.37782507],\n",
              "       [ 0.96864269, -0.39312897, -0.29764257, -0.92836891,  0.21416186],\n",
              "       [-0.48470005,  0.38950455,  0.9550993 , -0.24210995,  0.28128877],\n",
              "       [-0.43340494, -1.20745483,  1.89169634, -0.31407047,  1.15674486],\n",
              "       [-0.3065046 ,  0.34491848,  0.7810925 , -0.03423166,  0.16893475],\n",
              "       [-1.2926114 ,  0.03695327, -0.4879784 ,  1.03297537,  1.85602293]])"
            ]
          },
          "metadata": {},
          "execution_count": 82
        }
      ]
    },
    {
      "cell_type": "code",
      "source": [
        "# Normal - N ~ (mu, sigma)\n",
        "\n",
        "mu = 0.001 # mean\n",
        "sigma = 0.1 # std. deviation\n",
        "\n",
        "np.random.normal(mu, sigma)\n",
        "np.random.normal(mu, sigma, size = 5)\n",
        "np.random.normal(mu, sigma, size = (3,1))"
      ],
      "metadata": {
        "colab": {
          "base_uri": "https://localhost:8080/"
        },
        "id": "vt4y4Sebl4GE",
        "outputId": "025d1c17-a991-4653-95a0-1bf5465a187a"
      },
      "execution_count": 83,
      "outputs": [
        {
          "output_type": "execute_result",
          "data": {
            "text/plain": [
              "array([[-0.05206566],\n",
              "       [ 0.00959397],\n",
              "       [-0.02780953]])"
            ]
          },
          "metadata": {},
          "execution_count": 83
        }
      ]
    },
    {
      "cell_type": "markdown",
      "source": [
        "### Random Integer"
      ],
      "metadata": {
        "id": "DGLH_t4NmgUH"
      }
    },
    {
      "cell_type": "code",
      "source": [
        "np.random.randint(low = 0, high = 10 ) # one value\n",
        "np.random.randint(low = 0, high = 10,  size = 8 ) # one dimension\n",
        "np.random.randint(low = 0, high = 10,  size = (2,3)) # Two dimensions"
      ],
      "metadata": {
        "id": "ztD5sC-bmyBG"
      },
      "execution_count": null,
      "outputs": []
    }
  ]
}