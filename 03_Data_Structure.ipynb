{
  "nbformat": 4,
  "nbformat_minor": 0,
  "metadata": {
    "colab": {
      "provenance": [],
      "authorship_tag": "ABX9TyPUNTmlrCtSWUN6ISA2x3gV",
      "include_colab_link": true
    },
    "kernelspec": {
      "name": "python3",
      "display_name": "Python 3"
    },
    "language_info": {
      "name": "python"
    }
  },
  "cells": [
    {
      "cell_type": "markdown",
      "metadata": {
        "id": "view-in-github",
        "colab_type": "text"
      },
      "source": [
        "<a href=\"https://colab.research.google.com/github/Lorenarrieta69/Code_in_class/blob/main/03_Data_Structure.ipynb\" target=\"_parent\"><img src=\"https://colab.research.google.com/assets/colab-badge.svg\" alt=\"Open In Colab\"/></a>"
      ]
    },
    {
      "cell_type": "markdown",
      "source": [
        "# **1. What is a data structure?**\n",
        "\n",
        "DS are like variable, they *save* information. the difference is that DS can store man than 1 value.\n",
        "\n",
        "Formally, Ds store a **sequence** of values which can be located with an index (sciling). Ex: list, vectors and matrices, databases.\n",
        "\n",
        "Now, basic python sucks!!! its lacks specialized tools. In this cas, we nees to install `numpy`"
      ],
      "metadata": {
        "id": "ENBeJNt3UA8-"
      }
    },
    {
      "cell_type": "markdown",
      "source": [
        "# **2. Linear Algebra - Numpy**\n",
        "\n",
        "\n"
      ],
      "metadata": {
        "id": "cpYoxkjoU_Q-"
      }
    },
    {
      "cell_type": "markdown",
      "source": [
        "## 2.1.  *What is Numpy?*\n",
        "\n",
        "Numpy (or Numerical python) is collection of functions and methods to handle Ds\n",
        "\n",
        "This library works very well with othe libraries and it is very popular. "
      ],
      "metadata": {
        "id": "odPKv2ivWz33"
      }
    },
    {
      "cell_type": "code",
      "source": [
        "# Install a library\n",
        "\n",
        "import numpy as np\n",
        "\n"
      ],
      "metadata": {
        "id": "5WJq7ZxlVzOF"
      },
      "execution_count": 10,
      "outputs": []
    },
    {
      "cell_type": "code",
      "source": [
        "np.array # Example"
      ],
      "metadata": {
        "colab": {
          "base_uri": "https://localhost:8080/"
        },
        "id": "PTBT4QXTV8aW",
        "outputId": "fb4be553-d8a1-4100-eb2e-e65dd64466d0"
      },
      "execution_count": null,
      "outputs": [
        {
          "output_type": "execute_result",
          "data": {
            "text/plain": [
              "<function numpy.array>"
            ]
          },
          "metadata": {},
          "execution_count": 2
        }
      ]
    },
    {
      "cell_type": "markdown",
      "source": [
        "## 2.2. Numpy arrays - vectors and matrices\n",
        "\n",
        "Objects arranged by row and columns. Wiyh these object you can sum and multiply.\n",
        "\n",
        "*Example 1*\n",
        "\n",
        "Let $a$ be a vector with 2 rows and 1 column: \n",
        "\n",
        "\\begin{equation}\n",
        "a = \\left[\\begin{array}{c} a_{1} \\\\ a_{2} \n",
        "    \\end{array}\\right]\n",
        "\\end{equation}\n",
        "\n",
        "This is called a **COLUMN VECTOR**. And the dimension or shape is $(2,1)$ or $(2 \\times 1)$.\n",
        "\n",
        "*Example 2*\n",
        "\n",
        "et $a$ be a vector with 1 rows and 2 column: \n",
        "\n",
        "\\begin{equation}\n",
        "b = \\left[\\begin{array}{c} b_{1} & b_{2} \n",
        "    \\end{array}\\right]\n",
        "\\end{equation}\n",
        "\n",
        "This is called a **ROW VECTOR**. And the dimension or shape is $(1,2)$ or $(1 \\times 2)$.\n",
        "\n",
        "*Example 3*\n",
        "\n",
        "A matrix has more tha 1 row and more than 1 column. \n",
        "\n",
        "Of course if the number of rows and columns are equal, it is called a *squared matrix*.\n",
        "\n",
        "In general, let $M$ be a matrix of dimensions $(n,m)$ or $(n \\times m)$.\n",
        "\n",
        "For the case of $n=3$ and $m=3$\n",
        "\n",
        "\\begin{equation}\n",
        "M = \\left[\\begin{array}{c} \n",
        "m_{1,1} & m_{1,2} & m_{1,3} \\\\\n",
        "m_{2,1} & m_{2,2} & m_{2,3} \\\\\n",
        "m_{3,1} & m_{3,2} & m_{3,3} \\\\\n",
        "    \\end{array}\\right]\n",
        "\\end{equation}\n",
        "\n",
        "Now, all os this in code."
      ],
      "metadata": {
        "id": "hdX9WzS6XO8x"
      }
    },
    {
      "cell_type": "code",
      "source": [
        "# Example - Column Vector\n",
        "\n",
        "a = np.array([[4],[5],[6]])\n",
        "print(a)\n",
        "print(a.shape)"
      ],
      "metadata": {
        "colab": {
          "base_uri": "https://localhost:8080/"
        },
        "id": "sMdPIuRMc22z",
        "outputId": "dee34236-b297-45af-ec25-0ea89de16fb8"
      },
      "execution_count": null,
      "outputs": [
        {
          "output_type": "stream",
          "name": "stdout",
          "text": [
            "[[4]\n",
            " [5]\n",
            " [6]]\n",
            "(3, 1)\n"
          ]
        }
      ]
    },
    {
      "cell_type": "code",
      "source": [
        "# Example - Row Vector\n",
        "\n",
        "b = np.array([[1, 2, 3]])\n",
        "print(b)\n",
        "print(b.shape)"
      ],
      "metadata": {
        "colab": {
          "base_uri": "https://localhost:8080/"
        },
        "id": "tnV_VlqOaXGC",
        "outputId": "9b1d2b36-6dec-40f5-ded8-4d8b2bf6ae5c"
      },
      "execution_count": null,
      "outputs": [
        {
          "output_type": "stream",
          "name": "stdout",
          "text": [
            "[[1 2 3]]\n",
            "(1, 3)\n"
          ]
        }
      ]
    },
    {
      "cell_type": "code",
      "source": [
        "# Example - Matrix\n",
        "\n",
        "M = np.array([[1,2,3],\n",
        "              [4,5,6],\n",
        "              [7,8,9]])\n",
        "print(M)\n",
        "print(M.shape)"
      ],
      "metadata": {
        "colab": {
          "base_uri": "https://localhost:8080/"
        },
        "id": "w99oCR_Ia2BM",
        "outputId": "e1539e0c-5f85-408b-a9b6-e90984e3b597"
      },
      "execution_count": null,
      "outputs": [
        {
          "output_type": "stream",
          "name": "stdout",
          "text": [
            "[[1 2 3]\n",
            " [4 5 6]\n",
            " [7 8 9]]\n",
            "(3, 3)\n"
          ]
        }
      ]
    },
    {
      "cell_type": "markdown",
      "source": [
        "**A nice trick**"
      ],
      "metadata": {
        "id": "unl9qdZObjWV"
      }
    },
    {
      "cell_type": "code",
      "source": [
        "# nr: store the number of rows\n",
        "# nc: store the number of columns\n",
        "nr, nc = M.shape "
      ],
      "metadata": {
        "id": "H5f8oO4Obqtk"
      },
      "execution_count": null,
      "outputs": []
    },
    {
      "cell_type": "markdown",
      "source": [
        "**Size of DS**\n",
        "\n",
        "In python, *Size* means yhe number of elementes in a Ds."
      ],
      "metadata": {
        "id": "xuNArwsPdIp-"
      }
    },
    {
      "cell_type": "code",
      "source": [
        "M.size"
      ],
      "metadata": {
        "colab": {
          "base_uri": "https://localhost:8080/"
        },
        "id": "zUp7Yx1PdXm2",
        "outputId": "3f147591-ebb2-4b84-a453-4d9c8761b5b1"
      },
      "execution_count": null,
      "outputs": [
        {
          "output_type": "execute_result",
          "data": {
            "text/plain": [
              "9"
            ]
          },
          "metadata": {},
          "execution_count": 6
        }
      ]
    },
    {
      "cell_type": "code",
      "source": [
        "# ONE WARNING\n",
        "\n",
        "z = 2\n",
        "w = np.array([[2]])\n",
        "print(type(z),type(w))\n",
        "z/w # se borra\n"
      ],
      "metadata": {
        "colab": {
          "base_uri": "https://localhost:8080/"
        },
        "id": "5aZYZSNYdhCQ",
        "outputId": "b869f0a3-51b2-45bb-d59e-4738115722ee"
      },
      "execution_count": null,
      "outputs": [
        {
          "output_type": "stream",
          "name": "stdout",
          "text": [
            "<class 'int'> <class 'numpy.ndarray'>\n"
          ]
        },
        {
          "output_type": "execute_result",
          "data": {
            "text/plain": [
              "array([[1.]])"
            ]
          },
          "metadata": {},
          "execution_count": 7
        }
      ]
    },
    {
      "cell_type": "markdown",
      "source": [
        "## 2.3 Slincing\n",
        "\n",
        "it ia the same as string variable, onl with minor modifications.\n",
        "\n",
        "Let´s see:\n",
        "\n",
        "\n",
        "```\n",
        "#Tiene formato de código\n",
        "```\n",
        "\n"
      ],
      "metadata": {
        "id": "_1tutwZ-eTni"
      }
    },
    {
      "cell_type": "code",
      "source": [
        "# Extract the 1st element\n",
        "\n",
        "## Column vector \n",
        "\n",
        "print(a[0,0])\n",
        "print(type(a[0,0]))\n",
        "\n",
        "## Row vector \n",
        "\n",
        "print(b[0,0])\n",
        "print(type(b[0,0]))\n",
        "\n",
        "## Matrix\n",
        "print(M[1,1])\n"
      ],
      "metadata": {
        "colab": {
          "base_uri": "https://localhost:8080/"
        },
        "id": "kh3lruimel_r",
        "outputId": "8abf25fc-7a7d-4880-afc7-a87e02fe25f4"
      },
      "execution_count": null,
      "outputs": [
        {
          "output_type": "stream",
          "name": "stdout",
          "text": [
            "4\n",
            "<class 'numpy.int64'>\n",
            "1\n",
            "<class 'numpy.int64'>\n",
            "5\n"
          ]
        }
      ]
    },
    {
      "cell_type": "code",
      "source": [
        "# Extrac the last element\n",
        "\n",
        "print('The last element of a row vector:', b[0,-1])\n",
        "print('The last element of a column vector:', a[-1,0])\n",
        "print('The last element of a matrix:', M[-1,-1])"
      ],
      "metadata": {
        "colab": {
          "base_uri": "https://localhost:8080/"
        },
        "id": "2sTAWLRFgLwd",
        "outputId": "6609a7d3-f227-49d0-bc9d-0fbf87de04a0"
      },
      "execution_count": null,
      "outputs": [
        {
          "output_type": "stream",
          "name": "stdout",
          "text": [
            "The last element of a row vector: 3\n",
            "The last element of a column vector: 6\n",
            "The last element of a matrix: 9\n"
          ]
        }
      ]
    },
    {
      "cell_type": "code",
      "source": [
        "# Extract a subset\n",
        "\n",
        "## Column Vector\n",
        "print(a[0:2])\n",
        "\n",
        "## Row Vector\n",
        "print(b[0,0:2])\n",
        "\n",
        "## Matrix\n",
        "print(M[0:2,0:2])"
      ],
      "metadata": {
        "colab": {
          "base_uri": "https://localhost:8080/"
        },
        "id": "LtWmf5zpg0Rd",
        "outputId": "577fd8a5-8872-407f-81e5-ddf4968b11fd"
      },
      "execution_count": null,
      "outputs": [
        {
          "output_type": "stream",
          "name": "stdout",
          "text": [
            "[[4]\n",
            " [5]]\n",
            "[1 2]\n",
            "[[1 2]\n",
            " [4 5]]\n"
          ]
        }
      ]
    },
    {
      "cell_type": "markdown",
      "source": [
        "## 2.4. Useful methods"
      ],
      "metadata": {
        "id": "DIBB5eyAVdfL"
      }
    },
    {
      "cell_type": "markdown",
      "source": [
        "### Zeros and Ones"
      ],
      "metadata": {
        "id": "eT8OtbXiVlA6"
      }
    },
    {
      "cell_type": "code",
      "source": [
        "# Create a row vector of a 0´s of size (7,1)\n",
        "\n",
        "#z1 = np.array([[0,0,0,0,0,0,0]])\n",
        "\n",
        "#Zeros\n",
        "\n",
        "## one dimensional\n",
        "\n",
        "z1 = np.zeros(7)\n",
        "print(z1)\n",
        "\n",
        "z2 = np.zeros(7, dtype = int)\n",
        "print(z2)\n",
        "\n",
        "# Two dimnsional \n",
        "z1 = np.zeros((4,5))\n",
        "print(z1)\n",
        "\n"
      ],
      "metadata": {
        "colab": {
          "base_uri": "https://localhost:8080/"
        },
        "id": "krlbxjHVVpsa",
        "outputId": "530767a1-e32a-4ceb-f389-4a7d7208413f"
      },
      "execution_count": null,
      "outputs": [
        {
          "output_type": "stream",
          "name": "stdout",
          "text": [
            "[0. 0. 0. 0. 0. 0. 0.]\n",
            "[0 0 0 0 0 0 0]\n",
            "[[0. 0. 0. 0. 0.]\n",
            " [0. 0. 0. 0. 0.]\n",
            " [0. 0. 0. 0. 0.]\n",
            " [0. 0. 0. 0. 0.]]\n"
          ]
        }
      ]
    },
    {
      "cell_type": "code",
      "source": [
        "# Ones\n",
        "\n",
        "## one dimensional\n",
        "\n",
        "o1 = np.ones(7)\n",
        "print(o1)\n",
        "\n",
        "o2 = np.ones(7, dtype = int)\n",
        "print(o2)\n",
        "\n",
        "# Two dimnsional \n",
        "o1 = np.ones((4,5))\n",
        "print(o1)\n"
      ],
      "metadata": {
        "colab": {
          "base_uri": "https://localhost:8080/"
        },
        "id": "HHnat5tjYDKf",
        "outputId": "402ab72a-393a-4da6-cee7-3076a843af44"
      },
      "execution_count": null,
      "outputs": [
        {
          "output_type": "stream",
          "name": "stdout",
          "text": [
            "[1. 1. 1. 1. 1. 1. 1.]\n",
            "[1 1 1 1 1 1 1]\n",
            "[[1. 1. 1. 1. 1.]\n",
            " [1. 1. 1. 1. 1.]\n",
            " [1. 1. 1. 1. 1.]\n",
            " [1. 1. 1. 1. 1.]]\n"
          ]
        }
      ]
    },
    {
      "cell_type": "markdown",
      "source": [
        "### Another creation options"
      ],
      "metadata": {
        "id": "5rItVyl5Yw0F"
      }
    },
    {
      "cell_type": "code",
      "source": [
        "# Full\n",
        "\n",
        "## One dimension\n",
        "np.full(7,13)\n",
        "\n",
        "## Two dimension\n",
        "np.full((3,2),13)\n"
      ],
      "metadata": {
        "id": "L0snPz7IY4g-",
        "colab": {
          "base_uri": "https://localhost:8080/"
        },
        "outputId": "081bc446-5455-4904-f063-19d2b7f20fd6"
      },
      "execution_count": null,
      "outputs": [
        {
          "output_type": "execute_result",
          "data": {
            "text/plain": [
              "array([[13, 13],\n",
              "       [13, 13],\n",
              "       [13, 13]])"
            ]
          },
          "metadata": {},
          "execution_count": 20
        }
      ]
    },
    {
      "cell_type": "code",
      "source": [
        "# A DS with spaced values (likes a sequence)\n",
        "\n",
        "## A custom sequence - only can create one dimension \n",
        "\n",
        "np.arange(6)\n"
      ],
      "metadata": {
        "id": "Bh1JH2SeZpg8",
        "colab": {
          "base_uri": "https://localhost:8080/"
        },
        "outputId": "ba224b6b-3f83-4a41-abf6-98f6b8a76135"
      },
      "execution_count": null,
      "outputs": [
        {
          "output_type": "execute_result",
          "data": {
            "text/plain": [
              "array([0, 1, 2, 3, 4, 5])"
            ]
          },
          "metadata": {},
          "execution_count": 21
        }
      ]
    },
    {
      "cell_type": "code",
      "source": [
        "## A custom sequence - starting with a and stop at b\n",
        "a = 3\n",
        "b = 25\n",
        "np.arange(a,b)"
      ],
      "metadata": {
        "colab": {
          "base_uri": "https://localhost:8080/"
        },
        "id": "DjicUbyFWsRT",
        "outputId": "2f6db0c6-3a1c-41fe-a6c1-3aadf68b8a93"
      },
      "execution_count": null,
      "outputs": [
        {
          "output_type": "execute_result",
          "data": {
            "text/plain": [
              "array([ 3,  4,  5,  6,  7,  8,  9, 10, 11, 12, 13, 14, 15, 16, 17, 18, 19,\n",
              "       20, 21, 22, 23, 24])"
            ]
          },
          "metadata": {},
          "execution_count": 22
        }
      ]
    },
    {
      "cell_type": "code",
      "source": [
        "## A custom se sequence with a set step\n",
        "a = 3\n",
        "b = 25\n",
        "s = 0.25 #step\n",
        "np.arange(a,b,s)"
      ],
      "metadata": {
        "id": "PX3wrLXbaBRt",
        "colab": {
          "base_uri": "https://localhost:8080/"
        },
        "outputId": "26599b54-ffbc-443c-9378-8cfc90280d89"
      },
      "execution_count": null,
      "outputs": [
        {
          "output_type": "execute_result",
          "data": {
            "text/plain": [
              "array([ 3.  ,  3.25,  3.5 ,  3.75,  4.  ,  4.25,  4.5 ,  4.75,  5.  ,\n",
              "        5.25,  5.5 ,  5.75,  6.  ,  6.25,  6.5 ,  6.75,  7.  ,  7.25,\n",
              "        7.5 ,  7.75,  8.  ,  8.25,  8.5 ,  8.75,  9.  ,  9.25,  9.5 ,\n",
              "        9.75, 10.  , 10.25, 10.5 , 10.75, 11.  , 11.25, 11.5 , 11.75,\n",
              "       12.  , 12.25, 12.5 , 12.75, 13.  , 13.25, 13.5 , 13.75, 14.  ,\n",
              "       14.25, 14.5 , 14.75, 15.  , 15.25, 15.5 , 15.75, 16.  , 16.25,\n",
              "       16.5 , 16.75, 17.  , 17.25, 17.5 , 17.75, 18.  , 18.25, 18.5 ,\n",
              "       18.75, 19.  , 19.25, 19.5 , 19.75, 20.  , 20.25, 20.5 , 20.75,\n",
              "       21.  , 21.25, 21.5 , 21.75, 22.  , 22.25, 22.5 , 22.75, 23.  ,\n",
              "       23.25, 23.5 , 23.75, 24.  , 24.25, 24.5 , 24.75])"
            ]
          },
          "metadata": {},
          "execution_count": 23
        }
      ]
    },
    {
      "cell_type": "code",
      "source": [
        "## Linear space\n",
        "\n",
        "a = 15\n",
        "b = 17\n",
        "n = 10\n",
        "\n",
        "np.linspace(a, b, num = n)"
      ],
      "metadata": {
        "colab": {
          "base_uri": "https://localhost:8080/"
        },
        "id": "RG_aZ90manw0",
        "outputId": "5f506557-5680-4ff9-d8db-b9286b6c49f6"
      },
      "execution_count": null,
      "outputs": [
        {
          "output_type": "execute_result",
          "data": {
            "text/plain": [
              "array([15.        , 15.22222222, 15.44444444, 15.66666667, 15.88888889,\n",
              "       16.11111111, 16.33333333, 16.55555556, 16.77777778, 17.        ])"
            ]
          },
          "metadata": {},
          "execution_count": 24
        }
      ]
    },
    {
      "cell_type": "markdown",
      "source": [
        "### Random numbers\n",
        "\n",
        "We are talking about probabilities, and of  probabilistic distribitions.\n"
      ],
      "metadata": {
        "id": "nxXYpTqVb4nQ"
      }
    },
    {
      "cell_type": "markdown",
      "source": [
        "#### Uniform distribution over [0,1)"
      ],
      "metadata": {
        "id": "_GdGhMLMcWVG"
      }
    },
    {
      "cell_type": "code",
      "source": [
        "# A single vale\n",
        "np.random.rand()"
      ],
      "metadata": {
        "colab": {
          "base_uri": "https://localhost:8080/"
        },
        "id": "Yu5bzVGLb2In",
        "outputId": "ccdfbcce-697b-46c9-d1dd-4d9d332a7733"
      },
      "execution_count": null,
      "outputs": [
        {
          "output_type": "execute_result",
          "data": {
            "text/plain": [
              "0.9213241241146511"
            ]
          },
          "metadata": {},
          "execution_count": 25
        }
      ]
    },
    {
      "cell_type": "code",
      "source": [
        "# Example 1 - The coin toss\n",
        "## Here we are going to simulate a coin toss\n",
        "\n",
        "if np.random.rand() <= 0.5:\n",
        "  print('head')\n",
        "else:\n",
        "  print('tails')"
      ],
      "metadata": {
        "colab": {
          "base_uri": "https://localhost:8080/"
        },
        "id": "k6Swa1BidH-s",
        "outputId": "0d5c0725-4162-4113-a526-fbd5148cee00"
      },
      "execution_count": null,
      "outputs": [
        {
          "output_type": "stream",
          "name": "stdout",
          "text": [
            "head\n"
          ]
        }
      ]
    },
    {
      "cell_type": "code",
      "source": [
        "# Example 2 - Ranking\n",
        "\n",
        "## The idea is to print 'low' if the number is lower than 0.3\n",
        "## print 'Average' if is between 0.3 and 0.7\n",
        "## print 'High' if it is greater than 0.7\n",
        "\n",
        "rnd = np.random.rand()\n",
        "\n",
        "if np.random.rand() <= 0.3:\n",
        "  print('Low', rnd)\n",
        "elif np.random.rand() > 0.3 and rnd <= 0.7:\n",
        "  print('Average',rnd)\n",
        "else: \n",
        "  print('High',rnd)"
      ],
      "metadata": {
        "colab": {
          "base_uri": "https://localhost:8080/"
        },
        "id": "M7qOJ2D9e5fb",
        "outputId": "9793e262-d559-43b2-ef57-cddf049f474d"
      },
      "execution_count": null,
      "outputs": [
        {
          "output_type": "stream",
          "name": "stdout",
          "text": [
            "Average 0.22917277262111369\n"
          ]
        }
      ]
    },
    {
      "cell_type": "markdown",
      "source": [
        "**Exercise**\n",
        "\n",
        "Code the following game. Print the message 'You win!' if two coin tosses are heads and print 'you lose!' otherwise\n"
      ],
      "metadata": {
        "id": "DJWPqJb7hb1D"
      }
    },
    {
      "cell_type": "code",
      "source": [
        "# Solucion 1.0\n",
        "\n",
        "## Firt try (or attemept )\n",
        "\n",
        "First_attemept = np.random.rand()\n",
        "\n",
        "if First_attemept <=0.5: \n",
        "  print('Head', First_attemept)\n",
        "else: \n",
        "  print('Tails', First_attemept)\n",
        "\n",
        "## second try (or attemept )\n",
        "Second_attemept = np.random.rand()\n",
        "\n",
        "if Second_attemept <=0.5: \n",
        "  print('Head', Second_attemept)\n",
        "else: \n",
        "  print('Tails', Second_attemept)\n",
        "\n",
        "# combine result\n",
        "if First_attemept <=0.5 and Second_attemept <=0.5:\n",
        "  print('You win!')\n",
        "else:\n",
        "  print('You lose!')"
      ],
      "metadata": {
        "colab": {
          "base_uri": "https://localhost:8080/"
        },
        "id": "m5UA6FEpijt6",
        "outputId": "eba5119c-4a8d-4e0b-b9f2-62253a55e5e9"
      },
      "execution_count": null,
      "outputs": [
        {
          "output_type": "stream",
          "name": "stdout",
          "text": [
            "Head 0.10634111185382833\n",
            "Head 0.053270073123257156\n",
            "You win!\n"
          ]
        }
      ]
    },
    {
      "cell_type": "code",
      "source": [
        "#Solucion 2.0 \n",
        "\n",
        "First_attemept  = np.random.rand()\n",
        "Second_attemept = np.random.rand()\n",
        "results         = np.array([['Head', 'Tails']])\n",
        "indx1           = int(round(First_attemept,0))\n",
        "indx2           = int(round(Second_attemept,0))\n",
        "\n",
        "if First_attemept <=0.5 and Second_attemept <=0.5:\n",
        "  print('Head', First_attemept)\n",
        "  print('Head', Second_attemept)\n",
        "  print('You win!')\n",
        "else:\n",
        "  print(results[0,indx1], First_attemept)\n",
        "  print(results[0,indx2], Second_attemept)\n",
        "  print('You lose!')"
      ],
      "metadata": {
        "id": "FR5lEOwbnAuX",
        "colab": {
          "base_uri": "https://localhost:8080/"
        },
        "outputId": "eafe2980-ac7d-4f03-99ab-09c466d71d9a"
      },
      "execution_count": null,
      "outputs": [
        {
          "output_type": "stream",
          "name": "stdout",
          "text": [
            "Tails 0.8996807750506651\n",
            "Head 0.3678653551759512\n",
            "You lose!\n"
          ]
        }
      ]
    },
    {
      "cell_type": "code",
      "source": [
        "#Solucion 3.0\n",
        "\n",
        "tries = np.random.rand(2)\n",
        "\n",
        "results         = np.array([['Head', 'Tails']])\n",
        "indx1           = int(round(tries[0],0))\n",
        "indx2           = int(round(tries[1],0))\n",
        "\n",
        "if tries[0] <=0.5 and tries[1] <=0.5:\n",
        "  print('Head', tries[0])\n",
        "  print('Head', tries[1])\n",
        "  print('You win!')\n",
        "else:\n",
        "  print(results[0,indx1], tries[0])\n",
        "  print(results[0,indx2], tries[1])\n",
        "  print('You lose!')"
      ],
      "metadata": {
        "colab": {
          "base_uri": "https://localhost:8080/"
        },
        "id": "n_kgTNVdhKXB",
        "outputId": "cdcf17cc-3cbe-4f52-a4ed-b74f92a3466d"
      },
      "execution_count": null,
      "outputs": [
        {
          "output_type": "stream",
          "name": "stdout",
          "text": [
            "Tails 0.6723028579882319\n",
            "Head 0.4096324641768555\n",
            "You lose!\n"
          ]
        }
      ]
    },
    {
      "cell_type": "code",
      "source": [
        "#Solucion 5.0\n",
        "\n",
        "tries = np.random.randint(low = 0, high = 2, size = 2)\n",
        "results         = np.array([['Head', 'Tails']])\n",
        "\n",
        "if tries[0] == 0 and tries[1] == 0:\n",
        "  print('Head', tries[0])\n",
        "  print('Head', tries[1])\n",
        "  print('You win!')\n",
        "else:\n",
        "  print(results[0,tries [0]], tries[0])\n",
        "  print(results[0,tries [1]], tries[1])\n",
        "  print('You lose!')"
      ],
      "metadata": {
        "colab": {
          "base_uri": "https://localhost:8080/"
        },
        "id": "nvsGcWqQZOwN",
        "outputId": "35f6af21-8bfc-45c3-d1ca-5a3897df17ad"
      },
      "execution_count": null,
      "outputs": [
        {
          "output_type": "stream",
          "name": "stdout",
          "text": [
            "Head 0\n",
            "Head 0\n",
            "You win!\n"
          ]
        }
      ]
    },
    {
      "cell_type": "code",
      "source": [
        "# One dimensional array\n",
        "np.random.rand(4)"
      ],
      "metadata": {
        "colab": {
          "base_uri": "https://localhost:8080/"
        },
        "id": "m4LH1uDUf5Vf",
        "outputId": "7268b877-1e12-4678-91b5-1672fcd1ac62"
      },
      "execution_count": null,
      "outputs": [
        {
          "output_type": "execute_result",
          "data": {
            "text/plain": [
              "array([0.88293707, 0.59263816, 0.834794  , 0.58400791])"
            ]
          },
          "metadata": {},
          "execution_count": 10
        }
      ]
    },
    {
      "cell_type": "code",
      "source": [
        "# Two dimensional arrays\n",
        "np.random.rand(7,8)"
      ],
      "metadata": {
        "colab": {
          "base_uri": "https://localhost:8080/"
        },
        "id": "tkdQr7a3jCo-",
        "outputId": "0342aef3-5449-4b27-cc3a-4353956b35fd"
      },
      "execution_count": null,
      "outputs": [
        {
          "output_type": "execute_result",
          "data": {
            "text/plain": [
              "array([[0.74488766, 0.95174775, 0.92793503, 0.37577767, 0.17825119,\n",
              "        0.74613613, 0.24991364, 0.16674843],\n",
              "       [0.79963687, 0.25294959, 0.94179386, 0.34126025, 0.86080863,\n",
              "        0.37263418, 0.68915753, 0.79842512],\n",
              "       [0.69057583, 0.34507934, 0.60457566, 0.17850199, 0.15099372,\n",
              "        0.6728886 , 0.35872266, 0.85929787],\n",
              "       [0.17164703, 0.23030996, 0.82640335, 0.62508799, 0.18622951,\n",
              "        0.35855141, 0.41883155, 0.01950414],\n",
              "       [0.28171405, 0.44607824, 0.18492817, 0.17845063, 0.89281089,\n",
              "        0.48491939, 0.28133995, 0.52397197],\n",
              "       [0.69072692, 0.9715884 , 0.71333227, 0.29917611, 0.99362065,\n",
              "        0.46653799, 0.82734795, 0.2091594 ],\n",
              "       [0.90833832, 0.49643183, 0.37529809, 0.78890766, 0.09793003,\n",
              "        0.17697382, 0.49615238, 0.29365089]])"
            ]
          },
          "metadata": {},
          "execution_count": 9
        }
      ]
    },
    {
      "cell_type": "markdown",
      "source": [
        "### Uniform distribution over [a,b)"
      ],
      "metadata": {
        "id": "GBLsq3bOjbpg"
      }
    },
    {
      "cell_type": "code",
      "source": [
        "# One value\n",
        "np.random.uniform(low= 10, high = 0)"
      ],
      "metadata": {
        "colab": {
          "base_uri": "https://localhost:8080/"
        },
        "id": "8qwfA_p7jbHe",
        "outputId": "5a994f2b-15a2-4b3a-abf6-6a0770fafbd4"
      },
      "execution_count": 11,
      "outputs": [
        {
          "output_type": "execute_result",
          "data": {
            "text/plain": [
              "1.8405834618865633"
            ]
          },
          "metadata": {},
          "execution_count": 11
        }
      ]
    },
    {
      "cell_type": "code",
      "source": [
        "# One dimensional\n",
        "np.random.uniform(low= 10, high = 5, size = 10)"
      ],
      "metadata": {
        "colab": {
          "base_uri": "https://localhost:8080/"
        },
        "id": "k51KXtTakQZY",
        "outputId": "9082af52-ad9b-482a-87aa-6eb5e1ad7af8"
      },
      "execution_count": 12,
      "outputs": [
        {
          "output_type": "execute_result",
          "data": {
            "text/plain": [
              "array([9.59729191, 7.28877275, 7.05955667, 9.18509363, 8.80946427,\n",
              "       7.58459335, 9.68984264, 9.62661486, 9.11983095, 9.15203536])"
            ]
          },
          "metadata": {},
          "execution_count": 12
        }
      ]
    },
    {
      "cell_type": "code",
      "source": [
        "# Two dimensional\n",
        "\n",
        "np.random.uniform(low= -10, high = 0, size = (4,2))"
      ],
      "metadata": {
        "colab": {
          "base_uri": "https://localhost:8080/"
        },
        "id": "MCY-T-4ckigw",
        "outputId": "9ab800ef-7fe5-4f37-db0b-4ae027e7e524"
      },
      "execution_count": 13,
      "outputs": [
        {
          "output_type": "execute_result",
          "data": {
            "text/plain": [
              "array([[-5.4652705 , -6.28074787],\n",
              "       [-3.91822126, -0.34492608],\n",
              "       [-9.98870629, -6.18733338],\n",
              "       [-6.54364761, -5.66018536]])"
            ]
          },
          "metadata": {},
          "execution_count": 13
        }
      ]
    },
    {
      "cell_type": "markdown",
      "source": [
        "## Normal Distribution"
      ],
      "metadata": {
        "id": "6JJK3Bs-k6-h"
      }
    },
    {
      "cell_type": "code",
      "source": [
        "# Standard Normal - N ~ (0,1)\n",
        "np.random.randn()\n",
        "np.random.randn(8)\n",
        "np.random.randn(7,5)"
      ],
      "metadata": {
        "colab": {
          "base_uri": "https://localhost:8080/"
        },
        "id": "HpTEMXlwk_1i",
        "outputId": "4dd274e1-252e-4dd3-8cdf-a0debcc0eb78"
      },
      "execution_count": 14,
      "outputs": [
        {
          "output_type": "execute_result",
          "data": {
            "text/plain": [
              "array([[-1.74832671, -0.73421985, -0.31139937, -0.60760967, -0.58885695],\n",
              "       [-0.1728494 ,  0.37679082,  0.28896461,  0.37413045, -0.13000601],\n",
              "       [-0.81288265,  0.00904567,  0.67677152, -0.0665964 , -1.60144922],\n",
              "       [-2.47688019, -0.43627051,  0.01622653, -0.14275853, -0.15310905],\n",
              "       [ 0.17278691,  0.93806077, -0.34495467, -0.36144353, -0.17174831],\n",
              "       [-2.41498447, -0.21117612,  0.11572389, -0.03798494,  0.17773154],\n",
              "       [ 1.96879269,  0.39389645, -1.09326198, -0.35470831, -0.22640174]])"
            ]
          },
          "metadata": {},
          "execution_count": 14
        }
      ]
    },
    {
      "cell_type": "code",
      "source": [
        "# Normal - N ~ (mu, sigma)\n",
        "\n",
        "mu = 0.001 # mean\n",
        "sigma = 0.1 # std. deviation\n",
        "\n",
        "np.random.normal(mu, sigma)\n",
        "np.random.normal(mu, sigma, size = 5)\n",
        "np.random.normal(mu, sigma, size = (3,1))"
      ],
      "metadata": {
        "colab": {
          "base_uri": "https://localhost:8080/"
        },
        "id": "vt4y4Sebl4GE",
        "outputId": "654e2a2f-d83b-4152-eb74-0721bbc32076"
      },
      "execution_count": 15,
      "outputs": [
        {
          "output_type": "execute_result",
          "data": {
            "text/plain": [
              "array([[ 0.00793116],\n",
              "       [ 0.02722944],\n",
              "       [-0.18428777]])"
            ]
          },
          "metadata": {},
          "execution_count": 15
        }
      ]
    },
    {
      "cell_type": "markdown",
      "source": [
        "### Random Integer"
      ],
      "metadata": {
        "id": "DGLH_t4NmgUH"
      }
    },
    {
      "cell_type": "code",
      "source": [
        "np.random.randint(low = 0, high = 10 ) # one value\n",
        "np.random.randint(low = 0, high = 10,  size = 8 ) # one dimension\n",
        "np.random.randint(low = 0, high = 10,  size = (2,3)) # Two dimensions"
      ],
      "metadata": {
        "id": "ztD5sC-bmyBG",
        "colab": {
          "base_uri": "https://localhost:8080/"
        },
        "outputId": "e3a7172d-2985-4abc-c25a-ad097c6bc8bf"
      },
      "execution_count": 16,
      "outputs": [
        {
          "output_type": "execute_result",
          "data": {
            "text/plain": [
              "array([[8, 6, 7],\n",
              "       [3, 4, 1]])"
            ]
          },
          "metadata": {},
          "execution_count": 16
        }
      ]
    },
    {
      "cell_type": "markdown",
      "source": [
        "Exercise 1 \n",
        "\n",
        "**Roulette!**\n",
        "\n",
        "Let's simulate a casino game. Specifically, a single-Zero (french) roulette.\n",
        "\n",
        "This game consists on rolling a ball over a wheel with number pockets.\n",
        "\n",
        "Game\n",
        "To keep it simple, you can bet on a number a bet on a color.\n",
        "\n",
        "Create the corresponding code to simulate a round. You must show what was yoy bet (number and color) and the actual resul.\n",
        "\n",
        "*Tip*\n",
        "\n",
        "To determine if a number (In int format) is even or odd, you can use:"
      ],
      "metadata": {
        "id": "WiMlhAK2bWp2"
      }
    },
    {
      "cell_type": "code",
      "source": [
        "tries = np.random.randint(low = 0, high = 37)\n",
        "Bet = 2\n",
        "print('Results:', tries)\n",
        "print('Bet:', Bet)\n",
        "\n",
        "'You win!' if (tries == Bet) else 'You lose!'\n",
        "\n",
        "\n",
        "tries = np.random.randint(low = 0, high = 37)\n",
        "Bet = Numbers_Red\n",
        "\n",
        "Number_White = [0]\n",
        "Numbers_Black = [1,3,5,7,9,12,14,16,18,20,21,23,25,27,29,31,32,34,36]\n",
        "Numbers_Red = [2,4,6,8,10,11,13,15,17,19,22,24,26,28,30,33,35]\n",
        "\n",
        "print('Results:', tries)\n",
        "print('Bet:', Bet)\n",
        "\n",
        "'You win!' if (tries == Bet) else 'You lose!'\n",
        "\n",
        "\n"
      ],
      "metadata": {
        "colab": {
          "base_uri": "https://localhost:8080/",
          "height": 110
        },
        "id": "NDK1E2vTgDIx",
        "outputId": "e072e6cb-5ff4-4f1b-b24b-d09c1a55a261"
      },
      "execution_count": 47,
      "outputs": [
        {
          "output_type": "stream",
          "name": "stdout",
          "text": [
            "Results: 7\n",
            "Bet: 2\n",
            "Results: 35\n",
            "Bet: [2, 4, 6, 8, 10, 11, 13, 15, 17, 19, 22, 24, 26, 28, 30, 33, 35]\n"
          ]
        },
        {
          "output_type": "execute_result",
          "data": {
            "text/plain": [
              "'You lose!'"
            ],
            "application/vnd.google.colaboratory.intrinsic+json": {
              "type": "string"
            }
          },
          "metadata": {},
          "execution_count": 47
        }
      ]
    },
    {
      "cell_type": "code",
      "source": [
        "number = 25 # Example \n",
        "\n",
        "'even' if (number % 2) == 0 else 'Odd'"
      ],
      "metadata": {
        "colab": {
          "base_uri": "https://localhost:8080/",
          "height": 36
        },
        "id": "Opg0If1YfXcj",
        "outputId": "95fb53a2-5855-4d47-c2ca-061b606afea5"
      },
      "execution_count": 18,
      "outputs": [
        {
          "output_type": "execute_result",
          "data": {
            "text/plain": [
              "'Odd'"
            ],
            "application/vnd.google.colaboratory.intrinsic+json": {
              "type": "string"
            }
          },
          "metadata": {},
          "execution_count": 18
        }
      ]
    },
    {
      "cell_type": "code",
      "source": [
        "tries = np.random.randint(low = 0, high = 37)\n",
        "Bet = 24\n",
        "\n",
        "print('Results:', tries)\n",
        "print('Bet:', Bet)\n",
        "\n",
        "'You win!' if (tries == Bet) else 'You lose!'\n",
        "\n"
      ],
      "metadata": {
        "colab": {
          "base_uri": "https://localhost:8080/",
          "height": 110
        },
        "id": "qGAZauPMlt9N",
        "outputId": "9c494927-28cd-4ec8-d9a0-618f9b51e9b9"
      },
      "execution_count": 36,
      "outputs": [
        {
          "output_type": "stream",
          "name": "stdout",
          "text": [
            "Results: 29\n",
            "Bet: 24\n",
            "Results: 22\n",
            "Bet: [2, 4, 6, 8, 10, 11, 13, 15, 17, 19, 22, 24, 26, 28, 30, 33, 35]\n"
          ]
        },
        {
          "output_type": "execute_result",
          "data": {
            "text/plain": [
              "'You lose!'"
            ],
            "application/vnd.google.colaboratory.intrinsic+json": {
              "type": "string"
            }
          },
          "metadata": {},
          "execution_count": 36
        }
      ]
    },
    {
      "cell_type": "code",
      "source": [
        "tries = np.random.randint(low = 0, high = 37)\n",
        "White =[0]\n",
        "'Black' if (tries % 2) == 0 else 'Red'\n",
        " \n",
        "\n",
        "\n",
        "\n"
      ],
      "metadata": {
        "colab": {
          "base_uri": "https://localhost:8080/",
          "height": 36
        },
        "id": "q0eMuE_Lp47c",
        "outputId": "fe28adf3-1554-4307-aef0-cab0aeb051cb"
      },
      "execution_count": 20,
      "outputs": [
        {
          "output_type": "execute_result",
          "data": {
            "text/plain": [
              "'Black'"
            ],
            "application/vnd.google.colaboratory.intrinsic+json": {
              "type": "string"
            }
          },
          "metadata": {},
          "execution_count": 20
        }
      ]
    },
    {
      "cell_type": "code",
      "source": [
        "tries = np.random.randint(low = 0, high = 37)\n",
        "Bet = Numbers_Red\n",
        "\n",
        "Number_White = [0]\n",
        "Numbers_Black = [1,3,5,7,9,12,14,16,18,20,21,23,25,27,29,31,32,34,36]\n",
        "Numbers_Red = [2,4,6,8,10,11,13,15,17,19,22,24,26,28,30,33,35]\n",
        "\n",
        "print('Results:', tries)\n",
        "print('Bet:', Bet)\n",
        "\n",
        "'You win!' if (tries == Bet) else 'You lose!'\n",
        "\n",
        " "
      ],
      "metadata": {
        "id": "nCeiVt7ansei",
        "colab": {
          "base_uri": "https://localhost:8080/",
          "height": 73
        },
        "outputId": "fa05c1bb-2dd5-4962-9fb9-f5ddfcd0b29d"
      },
      "execution_count": 44,
      "outputs": [
        {
          "output_type": "stream",
          "name": "stdout",
          "text": [
            "Results: 22\n",
            "Bet: [2, 4, 6, 8, 10, 11, 13, 15, 17, 19, 22, 24, 26, 28, 30, 33, 35]\n"
          ]
        },
        {
          "output_type": "execute_result",
          "data": {
            "text/plain": [
              "'You lose!'"
            ],
            "application/vnd.google.colaboratory.intrinsic+json": {
              "type": "string"
            }
          },
          "metadata": {},
          "execution_count": 44
        }
      ]
    }
  ]
}