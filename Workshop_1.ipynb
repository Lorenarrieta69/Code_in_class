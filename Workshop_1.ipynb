{
  "nbformat": 4,
  "nbformat_minor": 0,
  "metadata": {
    "colab": {
      "name": "Workshop 1.ipynb",
      "provenance": [],
      "include_colab_link": true
    },
    "kernelspec": {
      "name": "python3",
      "display_name": "Python 3"
    },
    "language_info": {
      "name": "python"
    }
  },
  "cells": [
    {
      "cell_type": "markdown",
      "metadata": {
        "id": "view-in-github",
        "colab_type": "text"
      },
      "source": [
        "<a href=\"https://colab.research.google.com/github/Lorenarrieta69/Code_in_class/blob/main/Workshop_1.ipynb\" target=\"_parent\"><img src=\"https://colab.research.google.com/assets/colab-badge.svg\" alt=\"Open In Colab\"/></a>"
      ]
    },
    {
      "cell_type": "markdown",
      "source": [
        "<h1 align = \"center\">\n",
        "<strong> Universidad de La Salle </strong>\n",
        "</h1>\n",
        "\n",
        "<h1 align = \"center\">\n",
        "<strong> Finance and International Commerce Program </strong>\n",
        "</h1>\n",
        "\n",
        "<h1 align = \"center\">\n",
        "<strong> Data Visualization - Workshop 1 </strong>\n",
        "</h1>\n"
      ],
      "metadata": {
        "id": "BJolccUZSw9G"
      }
    },
    {
      "cell_type": "markdown",
      "source": [
        "# **Instructions**\n",
        "\n",
        "1. Please read carefully the document. Ask all the questions you may have.\n",
        "2. Save this file in your Google Drive.\n",
        "3. DO NOT alter any cell unless it specifically ask you to do it.\n",
        "4. You will have **two hours** (until 11am) maximum to finish and deliver this workshop.\n",
        "5. You can use any help you want: your notes, your codes, internet, classmates.\n",
        "6. Nevertheless, the workshop must be presented individually.\n",
        "7. Once you have finish, save a copy in your GitHub class repository.\n",
        "8. The deliver process is as follows:\n",
        "    \n",
        "    8.1. Via email you will send the link to the GitHub location.\n",
        "    \n",
        "    8.2. In the same mail, just for safety, you will attach a copy of your `.ipynb` file.\n",
        "    \n",
        "    8.3. The email must have the subject: \"W1 DV\".   "
      ],
      "metadata": {
        "id": "pLRc5RAyWsre"
      }
    },
    {
      "cell_type": "markdown",
      "source": [
        "# **To keep in mind**\n",
        "\n",
        "* The excercises propouse are intended to **push** you a little futher in your Pyton skills.\n",
        "* This means that there are going to be exercises above the level seen in class.\n",
        "* The idea is to incentive your creative thinking and solving problem skills.\n",
        "* As always there several ways to do the excersice. But in this case, I ask you to use only the tools we learned.\n",
        "* I ask you to trust me. Give your best effort. Grades do not matter here. "
      ],
      "metadata": {
        "id": "4QKdNKujZEbk"
      }
    },
    {
      "cell_type": "markdown",
      "source": [
        "# **Exercise Set**"
      ],
      "metadata": {
        "id": "2kRoSKUmaGl9"
      }
    },
    {
      "cell_type": "markdown",
      "source": [
        "## Ex 1.\n",
        "\n",
        "In the cell code below, first create a variable with your full name then write the appropiate code, using *sciling*, to print your full name as this:\n",
        "\n",
        "`First Name: José` &nbsp;   &nbsp;   &nbsp;   &nbsp;   &nbsp; `Middle Name: Rodrigo`\n",
        "\n",
        "`First Last  Name: Vélez` &nbsp;   &nbsp;   &nbsp;   &nbsp;   &nbsp; `Second Last Name: Molano`"
      ],
      "metadata": {
        "id": "LAdWe8iEaL7B"
      }
    },
    {
      "cell_type": "code",
      "execution_count": null,
      "metadata": {
        "id": "rw792kISSt3n",
        "colab": {
          "base_uri": "https://localhost:8080/"
        },
        "outputId": "26d0146a-36ac-4a20-b96b-3b518d96dfc3"
      },
      "outputs": [
        {
          "output_type": "stream",
          "name": "stdout",
          "text": [
            "First Name: Ashly \tMiddle Name: Lorena\n",
            "First Last Name:  Arrieta \tSecond Last Name:  Ruiz\n"
          ]
        }
      ],
      "source": [
        "# Answ. Ex 1\n",
        "full_name = 'Ashly Lorena Arrieta Ruiz'\n",
        "print('First Name:', full_name[0:5], '\\tMiddle Name:',full_name[6:12])\n",
        "print('First Last Name:', full_name[12:20], '\\tSecond Last Name:',full_name[20:25])"
      ]
    },
    {
      "cell_type": "markdown",
      "source": [
        "## Ex 2.\n",
        "\n",
        "In the cell code below, you are given two random numbers `x` and `y`. \n",
        "\n",
        "Write the appropiate code to print the result of dividing `x` by all its precedents rounded by `y` decimal positions.\n",
        "\n",
        "This is an example of the expected result for `x = 15` and `y = 2`:\n",
        "\n",
        "`15 / 1 = 15.00`\n",
        "\n",
        "`15 / 2 = 7.50`\n",
        "\n",
        "`15 / 3 = 5.00`\n",
        "\n",
        "`...`\n",
        "\n",
        "`15 / 15 = 1.00`\n",
        "\n",
        "**JUST IN CASE!** You must use the variables given to you"
      ],
      "metadata": {
        "id": "YFsGiwcNfgzP"
      }
    },
    {
      "cell_type": "code",
      "source": [
        "# Answ. Ex 2 \n",
        "###################################\n",
        "#      DO NOT MODIFY THIS PART    #\n",
        "import numpy as np\n",
        "x = round(np.random.uniform(12,22))\n",
        "y = round(np.random.uniform(1,4))\n",
        "###################################\n",
        "\n",
        "# (write your code below)\n",
        "print('Division table of',x, ':')\n",
        "for i in range(1,x+1): print(x,'/',i,'=', round(x/i,y))"
      ],
      "metadata": {
        "id": "Dwdsh30Ti3vl",
        "colab": {
          "base_uri": "https://localhost:8080/"
        },
        "outputId": "95ff7165-b2ba-4839-9bfb-006ca6f842cc"
      },
      "execution_count": null,
      "outputs": [
        {
          "output_type": "stream",
          "name": "stdout",
          "text": [
            "Division table of 18 :\n",
            "18 / 1 = 18.0\n",
            "18 / 2 = 9.0\n",
            "18 / 3 = 6.0\n",
            "18 / 4 = 4.5\n",
            "18 / 5 = 3.6\n",
            "18 / 6 = 3.0\n",
            "18 / 7 = 2.6\n",
            "18 / 8 = 2.2\n",
            "18 / 9 = 2.0\n",
            "18 / 10 = 1.8\n",
            "18 / 11 = 1.6\n",
            "18 / 12 = 1.5\n",
            "18 / 13 = 1.4\n",
            "18 / 14 = 1.3\n",
            "18 / 15 = 1.2\n",
            "18 / 16 = 1.1\n",
            "18 / 17 = 1.1\n",
            "18 / 18 = 1.0\n"
          ]
        }
      ]
    },
    {
      "cell_type": "markdown",
      "source": [
        "## Ex 3. \n",
        "\n",
        "The Fibonnaci sequence is a sequence constructed by the process:\n",
        "\n",
        "$x_{i} = x_{i-1} + x_{i-2}$\n",
        "\n",
        "where $x_{1} = x_{2} = 1$.\n",
        "\n",
        "Below you are given a random number `z`, write the appropiate code to calculate and print the `z`th position of the Fibonnaci sequence. \n",
        "\n",
        "\n"
      ],
      "metadata": {
        "id": "PYIRNu3imJ_n"
      }
    },
    {
      "cell_type": "code",
      "source": [
        "# Answ. Ex 3\n",
        "###################################\n",
        "#      DO NOT MODIFY THIS PART    #\n",
        "import numpy as np\n",
        "z = round(np.random.uniform(50,100))\n",
        "###################################\n",
        "\n",
        "# (write your code below)\n",
        "x1, x2 = 1, 1\n",
        "\n",
        "if z <= 0:\n",
        "   print(\"Por favor, ingrese un número mayor que 0\")\n",
        "if z == 1:\n",
        "   print(x1)\n",
        "else:\n",
        "   for i in range(1, z):\n",
        "       print('position', i, ':', x1)\n",
        "       xth = x1 + x2\n",
        "       x1 = x2\n",
        "       x2 = xth\n"
      ],
      "metadata": {
        "id": "wntlZUatp9uE",
        "colab": {
          "base_uri": "https://localhost:8080/"
        },
        "outputId": "56fd08b7-03d1-4388-b927-7032bb1cb6ea"
      },
      "execution_count": 72,
      "outputs": [
        {
          "output_type": "stream",
          "name": "stdout",
          "text": [
            "position 1 : 1\n",
            "position 2 : 1\n",
            "position 3 : 2\n",
            "position 4 : 3\n",
            "position 5 : 5\n",
            "position 6 : 8\n",
            "position 7 : 13\n",
            "position 8 : 21\n",
            "position 9 : 34\n",
            "position 10 : 55\n",
            "position 11 : 89\n",
            "position 12 : 144\n",
            "position 13 : 233\n",
            "position 14 : 377\n",
            "position 15 : 610\n",
            "position 16 : 987\n",
            "position 17 : 1597\n",
            "position 18 : 2584\n",
            "position 19 : 4181\n",
            "position 20 : 6765\n",
            "position 21 : 10946\n",
            "position 22 : 17711\n",
            "position 23 : 28657\n",
            "position 24 : 46368\n",
            "position 25 : 75025\n",
            "position 26 : 121393\n",
            "position 27 : 196418\n",
            "position 28 : 317811\n",
            "position 29 : 514229\n",
            "position 30 : 832040\n",
            "position 31 : 1346269\n",
            "position 32 : 2178309\n",
            "position 33 : 3524578\n",
            "position 34 : 5702887\n",
            "position 35 : 9227465\n",
            "position 36 : 14930352\n",
            "position 37 : 24157817\n",
            "position 38 : 39088169\n",
            "position 39 : 63245986\n",
            "position 40 : 102334155\n",
            "position 41 : 165580141\n",
            "position 42 : 267914296\n",
            "position 43 : 433494437\n",
            "position 44 : 701408733\n",
            "position 45 : 1134903170\n",
            "position 46 : 1836311903\n",
            "position 47 : 2971215073\n",
            "position 48 : 4807526976\n",
            "position 49 : 7778742049\n",
            "position 50 : 12586269025\n",
            "position 51 : 20365011074\n",
            "position 52 : 32951280099\n",
            "position 53 : 53316291173\n",
            "position 54 : 86267571272\n",
            "position 55 : 139583862445\n",
            "position 56 : 225851433717\n",
            "position 57 : 365435296162\n",
            "position 58 : 591286729879\n",
            "position 59 : 956722026041\n",
            "position 60 : 1548008755920\n",
            "position 61 : 2504730781961\n",
            "position 62 : 4052739537881\n",
            "position 63 : 6557470319842\n",
            "position 64 : 10610209857723\n",
            "position 65 : 17167680177565\n",
            "position 66 : 27777890035288\n",
            "position 67 : 44945570212853\n",
            "position 68 : 72723460248141\n",
            "position 69 : 117669030460994\n",
            "position 70 : 190392490709135\n",
            "position 71 : 308061521170129\n",
            "position 72 : 498454011879264\n",
            "position 73 : 806515533049393\n",
            "position 74 : 1304969544928657\n",
            "position 75 : 2111485077978050\n",
            "position 76 : 3416454622906707\n",
            "position 77 : 5527939700884757\n",
            "position 78 : 8944394323791464\n",
            "position 79 : 14472334024676221\n",
            "position 80 : 23416728348467685\n"
          ]
        }
      ]
    },
    {
      "cell_type": "markdown",
      "source": [
        "## Ex 4.\n",
        "\n",
        "Create a string variable with the name of your favorite music artist or group.Write the appropiate code to print it in reversed order.\n",
        "\n",
        "*Example:*\n",
        "\n",
        "`w = 'Dog'`\n",
        "\n",
        "Expected result: `'goD'`.\n",
        "\n",
        "\n",
        "\n"
      ],
      "metadata": {
        "id": "2t2WnRieqLoc"
      }
    },
    {
      "cell_type": "code",
      "source": [
        "# Answ. Ex 4\n",
        "# (write your code below)\n",
        "Artist = 'Nanpa'\n",
        "\n",
        "print('x:', Artist [5:2])"
      ],
      "metadata": {
        "id": "FQU_vc_5sse0",
        "colab": {
          "base_uri": "https://localhost:8080/"
        },
        "outputId": "ef6abe84-3dce-4b4a-8534-ee689fedcfc1"
      },
      "execution_count": 87,
      "outputs": [
        {
          "output_type": "stream",
          "name": "stdout",
          "text": [
            "x: \n"
          ]
        }
      ]
    }
  ]
}