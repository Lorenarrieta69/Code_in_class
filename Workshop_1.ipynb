{
  "nbformat": 4,
  "nbformat_minor": 0,
  "metadata": {
    "colab": {
      "name": "Workshop 1.ipynb",
      "provenance": [],
      "include_colab_link": true
    },
    "kernelspec": {
      "name": "python3",
      "display_name": "Python 3"
    },
    "language_info": {
      "name": "python"
    }
  },
  "cells": [
    {
      "cell_type": "markdown",
      "metadata": {
        "id": "view-in-github",
        "colab_type": "text"
      },
      "source": [
        "<a href=\"https://colab.research.google.com/github/Lorenarrieta69/Code_in_class/blob/main/Workshop_1.ipynb\" target=\"_parent\"><img src=\"https://colab.research.google.com/assets/colab-badge.svg\" alt=\"Open In Colab\"/></a>"
      ]
    },
    {
      "cell_type": "markdown",
      "source": [
        "<h1 align = \"center\">\n",
        "<strong> Universidad de La Salle </strong>\n",
        "</h1>\n",
        "\n",
        "<h1 align = \"center\">\n",
        "<strong> Finance and International Commerce Program </strong>\n",
        "</h1>\n",
        "\n",
        "<h1 align = \"center\">\n",
        "<strong> Data Visualization - Workshop 1 </strong>\n",
        "</h1>\n"
      ],
      "metadata": {
        "id": "BJolccUZSw9G"
      }
    },
    {
      "cell_type": "markdown",
      "source": [
        "# **Instructions**\n",
        "\n",
        "1. Please read carefully the document. Ask all the questions you may have.\n",
        "2. Save this file in your Google Drive.\n",
        "3. DO NOT alter any cell unless it specifically ask you to do it.\n",
        "4. You will have **two hours** (until 11am) maximum to finish and deliver this workshop.\n",
        "5. You can use any help you want: your notes, your codes, internet, classmates.\n",
        "6. Nevertheless, the workshop must be presented individually.\n",
        "7. Once you have finish, save a copy in your GitHub class repository.\n",
        "8. The deliver process is as follows:\n",
        "    \n",
        "    8.1. Via email you will send the link to the GitHub location.\n",
        "    \n",
        "    8.2. In the same mail, just for safety, you will attach a copy of your `.ipynb` file.\n",
        "    \n",
        "    8.3. The email must have the subject: \"W1 DV\".   "
      ],
      "metadata": {
        "id": "pLRc5RAyWsre"
      }
    },
    {
      "cell_type": "markdown",
      "source": [
        "# **To keep in mind**\n",
        "\n",
        "* The excercises propouse are intended to **push** you a little futher in your Pyton skills.\n",
        "* This means that there are going to be exercises above the level seen in class.\n",
        "* The idea is to incentive your creative thinking and solving problem skills.\n",
        "* As always there several ways to do the excersice. But in this case, I ask you to use only the tools we learned.\n",
        "* I ask you to trust me. Give your best effort. Grades do not matter here. "
      ],
      "metadata": {
        "id": "4QKdNKujZEbk"
      }
    },
    {
      "cell_type": "markdown",
      "source": [
        "# **Exercise Set**"
      ],
      "metadata": {
        "id": "2kRoSKUmaGl9"
      }
    },
    {
      "cell_type": "markdown",
      "source": [
        "## Ex 1.\n",
        "\n",
        "In the cell code below, first create a variable with your full name then write the appropiate code, using *sciling*, to print your full name as this:\n",
        "\n",
        "`First Name: José` &nbsp;   &nbsp;   &nbsp;   &nbsp;   &nbsp; `Middle Name: Rodrigo`\n",
        "\n",
        "`First Last  Name: Vélez` &nbsp;   &nbsp;   &nbsp;   &nbsp;   &nbsp; `Second Last Name: Molano`"
      ],
      "metadata": {
        "id": "LAdWe8iEaL7B"
      }
    },
    {
      "cell_type": "code",
      "execution_count": 23,
      "metadata": {
        "id": "rw792kISSt3n",
        "colab": {
          "base_uri": "https://localhost:8080/"
        },
        "outputId": "26d0146a-36ac-4a20-b96b-3b518d96dfc3"
      },
      "outputs": [
        {
          "output_type": "stream",
          "name": "stdout",
          "text": [
            "First Name: Ashly \tMiddle Name: Lorena\n",
            "First Last Name:  Arrieta \tSecond Last Name:  Ruiz\n"
          ]
        }
      ],
      "source": [
        "# Answ. Ex 1\n",
        "full_name = 'Ashly Lorena Arrieta Ruiz'\n",
        "print('First Name:', full_name[0:5], '\\tMiddle Name:',full_name[6:12])\n",
        "print('First Last Name:', full_name[12:20], '\\tSecond Last Name:',full_name[20:25])"
      ]
    },
    {
      "cell_type": "markdown",
      "source": [
        "## Ex 2.\n",
        "\n",
        "In the cell code below, you are given two random numbers `x` and `y`. \n",
        "\n",
        "Write the appropiate code to print the result of dividing `x` by all its precedents rounded by `y` decimal positions.\n",
        "\n",
        "This is an example of the expected result for `x = 15` and `y = 2`:\n",
        "\n",
        "`15 / 1 = 15.00`\n",
        "\n",
        "`15 / 2 = 7.50`\n",
        "\n",
        "`15 / 3 = 5.00`\n",
        "\n",
        "`...`\n",
        "\n",
        "`15 / 15 = 1.00`\n",
        "\n",
        "**JUST IN CASE!** You must use the variables given to you"
      ],
      "metadata": {
        "id": "YFsGiwcNfgzP"
      }
    },
    {
      "cell_type": "code",
      "source": [
        "# Answ. Ex 2 \n",
        "###################################\n",
        "#      DO NOT MODIFY THIS PART    #\n",
        "import numpy as np\n",
        "x = round(np.random.uniform(12,22))\n",
        "y = round(np.random.uniform(1,4))\n",
        "###################################\n",
        "\n",
        "# (write your code below)\n",
        "print('Division table of',x, ':')\n",
        "for i in range(1,x+1): print(x,'/',i,'=', round(x/i,y))"
      ],
      "metadata": {
        "id": "Dwdsh30Ti3vl",
        "colab": {
          "base_uri": "https://localhost:8080/"
        },
        "outputId": "95ff7165-b2ba-4839-9bfb-006ca6f842cc"
      },
      "execution_count": 42,
      "outputs": [
        {
          "output_type": "stream",
          "name": "stdout",
          "text": [
            "Division table of 18 :\n",
            "18 / 1 = 18.0\n",
            "18 / 2 = 9.0\n",
            "18 / 3 = 6.0\n",
            "18 / 4 = 4.5\n",
            "18 / 5 = 3.6\n",
            "18 / 6 = 3.0\n",
            "18 / 7 = 2.6\n",
            "18 / 8 = 2.2\n",
            "18 / 9 = 2.0\n",
            "18 / 10 = 1.8\n",
            "18 / 11 = 1.6\n",
            "18 / 12 = 1.5\n",
            "18 / 13 = 1.4\n",
            "18 / 14 = 1.3\n",
            "18 / 15 = 1.2\n",
            "18 / 16 = 1.1\n",
            "18 / 17 = 1.1\n",
            "18 / 18 = 1.0\n"
          ]
        }
      ]
    },
    {
      "cell_type": "markdown",
      "source": [
        "## Ex 3. \n",
        "\n",
        "The Fibonnaci sequence is a sequence constructed by the process:\n",
        "\n",
        "$x_{i} = x_{i-1} + x_{i-2}$\n",
        "\n",
        "where $x_{1} = x_{2} = 1$.\n",
        "\n",
        "Below you are given a random number `z`, write the appropiate code to calculate and print the `z`th position of the Fibonnaci sequence. \n",
        "\n",
        "\n"
      ],
      "metadata": {
        "id": "PYIRNu3imJ_n"
      }
    },
    {
      "cell_type": "code",
      "source": [
        "# Answ. Ex 3\n",
        "###################################\n",
        "#      DO NOT MODIFY THIS PART    #\n",
        "import numpy as np\n",
        "z = round(np.random.uniform(50,100))\n",
        "###################################\n",
        "\n",
        "# (write your code below)\n",
        "w=1\n",
        "w <=1\n",
        "for i in range (1,3):print('Position' ,i,':' ,1)\n",
        "for i in range (3,z+1):print('Position' ,i,':' ,w + w+i)\n"
      ],
      "metadata": {
        "id": "wntlZUatp9uE",
        "colab": {
          "base_uri": "https://localhost:8080/"
        },
        "outputId": "33968dc2-026b-4fc1-bb2c-d6d51153a5a4"
      },
      "execution_count": 66,
      "outputs": [
        {
          "output_type": "stream",
          "name": "stdout",
          "text": [
            "Position 1 : 1\n",
            "Position 2 : 1\n",
            "Position 3 : 5\n",
            "Position 4 : 6\n",
            "Position 5 : 7\n",
            "Position 6 : 8\n",
            "Position 7 : 9\n",
            "Position 8 : 10\n",
            "Position 9 : 11\n",
            "Position 10 : 12\n",
            "Position 11 : 13\n",
            "Position 12 : 14\n",
            "Position 13 : 15\n",
            "Position 14 : 16\n",
            "Position 15 : 17\n",
            "Position 16 : 18\n",
            "Position 17 : 19\n",
            "Position 18 : 20\n",
            "Position 19 : 21\n",
            "Position 20 : 22\n",
            "Position 21 : 23\n",
            "Position 22 : 24\n",
            "Position 23 : 25\n",
            "Position 24 : 26\n",
            "Position 25 : 27\n",
            "Position 26 : 28\n",
            "Position 27 : 29\n",
            "Position 28 : 30\n",
            "Position 29 : 31\n",
            "Position 30 : 32\n",
            "Position 31 : 33\n",
            "Position 32 : 34\n",
            "Position 33 : 35\n",
            "Position 34 : 36\n",
            "Position 35 : 37\n",
            "Position 36 : 38\n",
            "Position 37 : 39\n",
            "Position 38 : 40\n",
            "Position 39 : 41\n",
            "Position 40 : 42\n",
            "Position 41 : 43\n",
            "Position 42 : 44\n",
            "Position 43 : 45\n",
            "Position 44 : 46\n",
            "Position 45 : 47\n",
            "Position 46 : 48\n",
            "Position 47 : 49\n",
            "Position 48 : 50\n",
            "Position 49 : 51\n",
            "Position 50 : 52\n",
            "Position 51 : 53\n",
            "Position 52 : 54\n",
            "Position 53 : 55\n",
            "Position 54 : 56\n",
            "Position 55 : 57\n",
            "Position 56 : 58\n",
            "Position 57 : 59\n",
            "Position 58 : 60\n",
            "Position 59 : 61\n",
            "Position 60 : 62\n",
            "Position 61 : 63\n",
            "Position 62 : 64\n",
            "Position 63 : 65\n",
            "Position 64 : 66\n",
            "Position 65 : 67\n",
            "Position 66 : 68\n",
            "Position 67 : 69\n",
            "Position 68 : 70\n",
            "Position 69 : 71\n"
          ]
        }
      ]
    },
    {
      "cell_type": "markdown",
      "source": [
        "## Ex 4.\n",
        "\n",
        "Create a string variable with the name of your favorite music artist or group.Write the appropiate code to print it in reversed order.\n",
        "\n",
        "*Example:*\n",
        "\n",
        "`w = 'Dog'`\n",
        "\n",
        "Expected result: `'goD'`.\n",
        "\n",
        "\n",
        "\n"
      ],
      "metadata": {
        "id": "2t2WnRieqLoc"
      }
    },
    {
      "cell_type": "code",
      "source": [
        "# Answ. Ex 4\n",
        "# (write your code below)\n",
        "x = 'Arthu'\n",
        "print('Name of my x :',x[4],x[3],x[2],x[1],x[0]"
      ],
      "metadata": {
        "id": "FQU_vc_5sse0",
        "colab": {
          "base_uri": "https://localhost:8080/",
          "height": 130
        },
        "outputId": "5b8b37bf-1f4e-42d5-98c8-eca038c72f12"
      },
      "execution_count": 69,
      "outputs": [
        {
          "output_type": "error",
          "ename": "SyntaxError",
          "evalue": "ignored",
          "traceback": [
            "\u001b[0;36m  File \u001b[0;32m\"<ipython-input-69-1662399ef5d5>\"\u001b[0;36m, line \u001b[0;32m4\u001b[0m\n\u001b[0;31m    print('Name of my x :',x[4],x[3],x[2],x[1],x[0]\u001b[0m\n\u001b[0m                                                   ^\u001b[0m\n\u001b[0;31mSyntaxError\u001b[0m\u001b[0;31m:\u001b[0m unexpected EOF while parsing\n"
          ]
        }
      ]
    },
    {
      "cell_type": "code",
      "source": [
        ""
      ],
      "metadata": {
        "id": "OX6Jqw3qgNb4"
      },
      "execution_count": null,
      "outputs": []
    }
  ]
}