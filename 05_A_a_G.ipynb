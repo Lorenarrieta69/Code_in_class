{
  "nbformat": 4,
  "nbformat_minor": 0,
  "metadata": {
    "colab": {
      "provenance": [],
      "authorship_tag": "ABX9TyMWH84aUYj0o38UgEqCjJfd",
      "include_colab_link": true
    },
    "kernelspec": {
      "name": "python3",
      "display_name": "Python 3"
    },
    "language_info": {
      "name": "python"
    }
  },
  "cells": [
    {
      "cell_type": "markdown",
      "metadata": {
        "id": "view-in-github",
        "colab_type": "text"
      },
      "source": [
        "<a href=\"https://colab.research.google.com/github/Lorenarrieta69/Code_in_class/blob/main/05_A_a_G.ipynb\" target=\"_parent\"><img src=\"https://colab.research.google.com/assets/colab-badge.svg\" alt=\"Open In Colab\"/></a>"
      ]
    },
    {
      "cell_type": "markdown",
      "source": [
        "# **1. Context**\n",
        "\n",
        "The library is `plotly`. \n",
        "\n",
        "To keep in mind:\n",
        "* Animate a graph is *take a lot of photos*.\n",
        "* The library is not the only that animates, but it is the easiest.\n",
        "* Scatter, Bars, etc."
      ],
      "metadata": {
        "id": "AD5Y13PihTda"
      }
    },
    {
      "cell_type": "code",
      "execution_count": null,
      "metadata": {
        "id": "Wnb4SnechC9t"
      },
      "outputs": [],
      "source": [
        "# Erase everything\n",
        "%reset"
      ]
    },
    {
      "cell_type": "code",
      "source": [
        "# The Libraries\n",
        "import pandas as pd\n",
        "import numpy as np # just in case\n",
        "import plotly.express as px\n",
        "import plotly.graph_objects as go  # graphs other than scatter and bar or customize"
      ],
      "metadata": {
        "id": "ZnWe-Bgvhcz5"
      },
      "execution_count": null,
      "outputs": []
    },
    {
      "cell_type": "markdown",
      "source": [
        "# **2. The use(less) example**\n",
        "\n",
        "The example is from the documentation of `plotly`."
      ],
      "metadata": {
        "id": "NQFRcMthhnMJ"
      }
    },
    {
      "cell_type": "code",
      "source": [
        "df = px.data.gapminder()\n",
        "px.scatter(df, x=\"gdpPercap\", y=\"lifeExp\", animation_frame=\"year\", animation_group=\"country\",\n",
        "           size=\"pop\", color=\"continent\", hover_name=\"country\",\n",
        "           log_x=True, size_max=55, range_x=[100,100000], range_y=[25,90])"
      ],
      "metadata": {
        "id": "bgXh4ZX6hie1"
      },
      "execution_count": null,
      "outputs": []
    },
    {
      "cell_type": "markdown",
      "source": [
        "# **3. Load data set**"
      ],
      "metadata": {
        "id": "BB1xI9Ebh2uL"
      }
    },
    {
      "cell_type": "code",
      "source": [
        "# Save the file path\n",
        "p1 = '/content/dataset.xlsx'\n",
        "\n",
        "# Read file\n",
        "df = pd.read_excel(p1)\n",
        "\n",
        "# Check\n",
        "df.info()"
      ],
      "metadata": {
        "id": "a-FGfUp7h-K1"
      },
      "execution_count": null,
      "outputs": []
    },
    {
      "cell_type": "code",
      "source": [
        "df = df.set_index('Date', drop = False) # drop does not delete Date\n",
        "df.head()"
      ],
      "metadata": {
        "id": "A3dnY8QkiEOy"
      },
      "execution_count": null,
      "outputs": []
    },
    {
      "cell_type": "markdown",
      "source": [
        "# **4. The problem**"
      ],
      "metadata": {
        "id": "wl_7D2lDiKZ6"
      }
    },
    {
      "cell_type": "code",
      "source": [
        "px.line(df['Total'],\n",
        "        animation_frame = df['Date'].astype(str),\n",
        "        range_x = ['2019-09-30','2022-06-30'],\n",
        "        range_y = [80,120])"
      ],
      "metadata": {
        "id": "wmEkF7USiOh_"
      },
      "execution_count": null,
      "outputs": []
    },
    {
      "cell_type": "markdown",
      "source": [
        "# **5. The Long Road**\n",
        "\n",
        "First, create the templeate or layout"
      ],
      "metadata": {
        "id": "CjHPjqe5iUBv"
      }
    },
    {
      "cell_type": "code",
      "source": [
        "# Base Layout\n",
        "fig = go.Figure(\n",
        "    layout = go.Layout(\n",
        "        updatemenus = [dict(type = \"buttons\", direction = \"right\", x = 0.9, y = 1.16)],\n",
        "        xaxis = dict(range = ['2019-09-30','2022-06-30'],\n",
        "                     autorange = False, tickwidth = 2,\n",
        "                     title_text = \"Dates\"),\n",
        "        yaxis = dict(range = [80,120],\n",
        "                     autorange = False, \n",
        "                     title_text = \"\"),\n",
        "        title = \"New Home Price Index\",\n",
        "        title_font_size = 30,\n",
        "        title_x = 0.5\n",
        "    )\n",
        ")"
      ],
      "metadata": {
        "id": "kJ4qIOx7iZY_"
      },
      "execution_count": null,
      "outputs": []
    }
  ]
}