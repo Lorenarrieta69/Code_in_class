{
  "nbformat": 4,
  "nbformat_minor": 0,
  "metadata": {
    "colab": {
      "name": "02-.- Python Variables.ipynb",
      "provenance": [],
      "authorship_tag": "ABX9TyNyj1AnHfVPzkfE3pJyGLXC",
      "include_colab_link": true
    },
    "kernelspec": {
      "name": "python3",
      "display_name": "Python 3"
    },
    "language_info": {
      "name": "python"
    }
  },
  "cells": [
    {
      "cell_type": "markdown",
      "metadata": {
        "id": "view-in-github",
        "colab_type": "text"
      },
      "source": [
        "<a href=\"https://colab.research.google.com/github/Lorenarrieta69/Code_in_class/blob/main/02_Python_Variables.ipynb\" target=\"_parent\"><img src=\"https://colab.research.google.com/assets/colab-badge.svg\" alt=\"Open In Colab\"/></a>"
      ]
    },
    {
      "cell_type": "markdown",
      "source": [
        "#1. What is a variable?\n",
        "\n",
        "*Container*, **stores** values"
      ],
      "metadata": {
        "id": "QEeVKxhTO815"
      }
    },
    {
      "cell_type": "markdown",
      "source": [
        "#2. Declaration and Assigment"
      ],
      "metadata": {
        "id": "bML8mB5PPU3o"
      }
    },
    {
      "cell_type": "code",
      "source": [
        "# Example opcion\n",
        "a= 4"
      ],
      "metadata": {
        "id": "7dJhf6NiROok"
      },
      "execution_count": null,
      "outputs": []
    },
    {
      "cell_type": "code",
      "source": [
        "# Example \n",
        "at=4"
      ],
      "metadata": {
        "id": "CWSg8LEJPtW_"
      },
      "execution_count": null,
      "outputs": []
    },
    {
      "cell_type": "code",
      "source": [
        "# Example using variable\n",
        "print( a +1)"
      ],
      "metadata": {
        "colab": {
          "base_uri": "https://localhost:8080/"
        },
        "id": "oeSE8bUVQwd9",
        "outputId": "ca9d4ee7-38a3-4300-ea0b-41debde8c190"
      },
      "execution_count": null,
      "outputs": [
        {
          "output_type": "stream",
          "name": "stdout",
          "text": [
            "5\n"
          ]
        }
      ]
    },
    {
      "cell_type": "code",
      "source": [
        "# Example\n",
        "x = y = z = 100\n",
        "print(x,y,z)"
      ],
      "metadata": {
        "colab": {
          "base_uri": "https://localhost:8080/"
        },
        "id": "3tkNYsL3Q-IE",
        "outputId": "084ed256-b7bb-4a90-8024-d11f7445ab77"
      },
      "execution_count": null,
      "outputs": [
        {
          "output_type": "stream",
          "name": "stdout",
          "text": [
            "100 100 100\n"
          ]
        }
      ]
    },
    {
      "cell_type": "markdown",
      "source": [
        "#3. Delete and clear"
      ],
      "metadata": {
        "id": "RY4ZvXWQRzja"
      }
    },
    {
      "cell_type": "code",
      "source": [
        "# Example - deleting a single variable\n",
        "age = 21\n",
        "del age "
      ],
      "metadata": {
        "id": "eMcflgSyR6Jy"
      },
      "execution_count": null,
      "outputs": []
    },
    {
      "cell_type": "code",
      "source": [
        "# Example - deleting a list of variable\n",
        "del a,at"
      ],
      "metadata": {
        "id": "TY_vmxnkSXqj"
      },
      "execution_count": null,
      "outputs": []
    },
    {
      "cell_type": "code",
      "source": [
        "# Example - erase or clear all variables \n",
        "%reset \n"
      ],
      "metadata": {
        "colab": {
          "base_uri": "https://localhost:8080/"
        },
        "id": "VFU-Ca47Sqpz",
        "outputId": "19c74207-7bd3-4eaa-9ebb-05e82de3d44a"
      },
      "execution_count": null,
      "outputs": [
        {
          "name": "stdout",
          "output_type": "stream",
          "text": [
            "Once deleted, variables cannot be recovered. Proceed (y/[n])? y\n"
          ]
        }
      ]
    },
    {
      "cell_type": "code",
      "source": [
        "# Loops with variable\n",
        "x = 7.2345\n",
        "for i in range(0,4): print('Round with', i, 'decimals:', round(x,i))"
      ],
      "metadata": {
        "colab": {
          "base_uri": "https://localhost:8080/"
        },
        "id": "TFnEy2ejT1dB",
        "outputId": "e1f3d739-9420-4b03-a9fd-ab3b69682c49"
      },
      "execution_count": null,
      "outputs": [
        {
          "output_type": "stream",
          "name": "stdout",
          "text": [
            "Round with 0 decimals: 7.0\n",
            "Round with 1 decimals: 7.2\n",
            "Round with 2 decimals: 7.23\n",
            "Round with 3 decimals: 7.234\n"
          ]
        }
      ]
    },
    {
      "cell_type": "code",
      "source": [
        "# Loops with variable - #2.\n",
        "y = 15 \n",
        "print('This is the list of the 100th multiples of', y,':')\n",
        "for i in range (1,101): print ('position:', i,'Multiple:',y*i)"
      ],
      "metadata": {
        "id": "rHWJzSgDVy0T",
        "outputId": "172d0711-adf2-44d5-d930-b3c85fac65f3",
        "colab": {
          "base_uri": "https://localhost:8080/"
        }
      },
      "execution_count": null,
      "outputs": [
        {
          "output_type": "stream",
          "name": "stdout",
          "text": [
            "This is the list of the 100th multiples of 15 :\n",
            "position: 1 Multiple: 15\n",
            "position: 2 Multiple: 30\n",
            "position: 3 Multiple: 45\n",
            "position: 4 Multiple: 60\n",
            "position: 5 Multiple: 75\n",
            "position: 6 Multiple: 90\n",
            "position: 7 Multiple: 105\n",
            "position: 8 Multiple: 120\n",
            "position: 9 Multiple: 135\n",
            "position: 10 Multiple: 150\n",
            "position: 11 Multiple: 165\n",
            "position: 12 Multiple: 180\n",
            "position: 13 Multiple: 195\n",
            "position: 14 Multiple: 210\n",
            "position: 15 Multiple: 225\n",
            "position: 16 Multiple: 240\n",
            "position: 17 Multiple: 255\n",
            "position: 18 Multiple: 270\n",
            "position: 19 Multiple: 285\n",
            "position: 20 Multiple: 300\n",
            "position: 21 Multiple: 315\n",
            "position: 22 Multiple: 330\n",
            "position: 23 Multiple: 345\n",
            "position: 24 Multiple: 360\n",
            "position: 25 Multiple: 375\n",
            "position: 26 Multiple: 390\n",
            "position: 27 Multiple: 405\n",
            "position: 28 Multiple: 420\n",
            "position: 29 Multiple: 435\n",
            "position: 30 Multiple: 450\n",
            "position: 31 Multiple: 465\n",
            "position: 32 Multiple: 480\n",
            "position: 33 Multiple: 495\n",
            "position: 34 Multiple: 510\n",
            "position: 35 Multiple: 525\n",
            "position: 36 Multiple: 540\n",
            "position: 37 Multiple: 555\n",
            "position: 38 Multiple: 570\n",
            "position: 39 Multiple: 585\n",
            "position: 40 Multiple: 600\n",
            "position: 41 Multiple: 615\n",
            "position: 42 Multiple: 630\n",
            "position: 43 Multiple: 645\n",
            "position: 44 Multiple: 660\n",
            "position: 45 Multiple: 675\n",
            "position: 46 Multiple: 690\n",
            "position: 47 Multiple: 705\n",
            "position: 48 Multiple: 720\n",
            "position: 49 Multiple: 735\n",
            "position: 50 Multiple: 750\n",
            "position: 51 Multiple: 765\n",
            "position: 52 Multiple: 780\n",
            "position: 53 Multiple: 795\n",
            "position: 54 Multiple: 810\n",
            "position: 55 Multiple: 825\n",
            "position: 56 Multiple: 840\n",
            "position: 57 Multiple: 855\n",
            "position: 58 Multiple: 870\n",
            "position: 59 Multiple: 885\n",
            "position: 60 Multiple: 900\n",
            "position: 61 Multiple: 915\n",
            "position: 62 Multiple: 930\n",
            "position: 63 Multiple: 945\n",
            "position: 64 Multiple: 960\n",
            "position: 65 Multiple: 975\n",
            "position: 66 Multiple: 990\n",
            "position: 67 Multiple: 1005\n",
            "position: 68 Multiple: 1020\n",
            "position: 69 Multiple: 1035\n",
            "position: 70 Multiple: 1050\n",
            "position: 71 Multiple: 1065\n",
            "position: 72 Multiple: 1080\n",
            "position: 73 Multiple: 1095\n",
            "position: 74 Multiple: 1110\n",
            "position: 75 Multiple: 1125\n",
            "position: 76 Multiple: 1140\n",
            "position: 77 Multiple: 1155\n",
            "position: 78 Multiple: 1170\n",
            "position: 79 Multiple: 1185\n",
            "position: 80 Multiple: 1200\n",
            "position: 81 Multiple: 1215\n",
            "position: 82 Multiple: 1230\n",
            "position: 83 Multiple: 1245\n",
            "position: 84 Multiple: 1260\n",
            "position: 85 Multiple: 1275\n",
            "position: 86 Multiple: 1290\n",
            "position: 87 Multiple: 1305\n",
            "position: 88 Multiple: 1320\n",
            "position: 89 Multiple: 1335\n",
            "position: 90 Multiple: 1350\n",
            "position: 91 Multiple: 1365\n",
            "position: 92 Multiple: 1380\n",
            "position: 93 Multiple: 1395\n",
            "position: 94 Multiple: 1410\n",
            "position: 95 Multiple: 1425\n",
            "position: 96 Multiple: 1440\n",
            "position: 97 Multiple: 1455\n",
            "position: 98 Multiple: 1470\n",
            "position: 99 Multiple: 1485\n",
            "position: 100 Multiple: 1500\n"
          ]
        }
      ]
    },
    {
      "cell_type": "markdown",
      "source": [
        "# *4. Naming*"
      ],
      "metadata": {
        "id": "EQmvxRDJJPVK"
      }
    },
    {
      "cell_type": "markdown",
      "source": [
        "## 4.1 Conditions and Restrictions\n",
        "\n",
        "The names must have only alphanumeric characteres\n",
        "((from `0 to 1`, `a to z`, `A to Z `) and underscore `_`.\n",
        "\n",
        "*WARNING* a variable name MUST noy beginwith a number."
      ],
      "metadata": {
        "id": "wYINCvHuJQ7j"
      }
    },
    {
      "cell_type": "code",
      "source": [
        "## Example \n",
        "my_age = 100\n",
        "person1 = 'me'"
      ],
      "metadata": {
        "id": "pe670pHkJZwN"
      },
      "execution_count": null,
      "outputs": []
    },
    {
      "cell_type": "markdown",
      "source": [
        "## 4.2. Best Practices\n",
        "\n",
        "* Variables are case sentitive"
      ],
      "metadata": {
        "id": "LG0sTtiqJWUO"
      }
    },
    {
      "cell_type": "code",
      "source": [
        "# Example\n",
        "\n",
        "age = 12\n",
        "age = 13\n",
        "AGE = 14"
      ],
      "metadata": {
        "id": "nm5gMzRpJiEs"
      },
      "execution_count": null,
      "outputs": []
    },
    {
      "cell_type": "markdown",
      "source": [
        "The best practice in Python is to used lower case"
      ],
      "metadata": {
        "id": "OYiyzoyKJlbf"
      }
    },
    {
      "cell_type": "markdown",
      "source": [
        "* Composite names"
      ],
      "metadata": {
        "id": "jCR_brK4JoUo"
      }
    },
    {
      "cell_type": "code",
      "source": [
        "# Example \n",
        "book_price = 100\n",
        "book_quant = 20"
      ],
      "metadata": {
        "id": "HY6R-3jHJkyI"
      },
      "execution_count": null,
      "outputs": []
    },
    {
      "cell_type": "markdown",
      "source": [
        "* Use meaingful names\n",
        "\n",
        "Names should tell you something"
      ],
      "metadata": {
        "id": "a5WaSv2hJt34"
      }
    },
    {
      "cell_type": "code",
      "source": [
        "stock_price = 25"
      ],
      "metadata": {
        "id": "Gspmr8ilJws3"
      },
      "execution_count": null,
      "outputs": []
    },
    {
      "cell_type": "markdown",
      "source": [
        "# *5. Data types*"
      ],
      "metadata": {
        "id": "1u_a7qdhJxvU"
      }
    },
    {
      "cell_type": "markdown",
      "source": [
        "## 5.1 Integers"
      ],
      "metadata": {
        "id": "C7B224UoJ1Dl"
      }
    },
    {
      "cell_type": "code",
      "source": [
        "stock_price = 25\n",
        "print (type(stock_price))"
      ],
      "metadata": {
        "colab": {
          "base_uri": "https://localhost:8080/"
        },
        "id": "F2n4_2sKJ5xd",
        "outputId": "bb4c4756-4fe8-44f4-82ea-d423fd91bd32"
      },
      "execution_count": null,
      "outputs": [
        {
          "output_type": "stream",
          "name": "stdout",
          "text": [
            "<class 'int'>\n"
          ]
        }
      ]
    },
    {
      "cell_type": "markdown",
      "source": [
        "## 5.2 Float"
      ],
      "metadata": {
        "id": "-f7r_m0AJ8H0"
      }
    },
    {
      "cell_type": "code",
      "source": [
        "stock_price = 25.45\n",
        "print (type(stock_price))"
      ],
      "metadata": {
        "colab": {
          "base_uri": "https://localhost:8080/"
        },
        "id": "J2n7pFaOKCHz",
        "outputId": "d806b08a-9f2e-4a73-b641-fbfd20f01a84"
      },
      "execution_count": null,
      "outputs": [
        {
          "output_type": "stream",
          "name": "stdout",
          "text": [
            "<class 'float'>\n"
          ]
        }
      ]
    },
    {
      "cell_type": "markdown",
      "source": [
        "### Python as a calculator"
      ],
      "metadata": {
        "id": "0Kz6IeCPJ-2E"
      }
    },
    {
      "cell_type": "code",
      "source": [
        "# Example\n",
        "x = 3\n",
        "y = 4\n",
        "z = 5\n",
        "print('x + y =', x + y)\n",
        "print('x * z =', x + z)"
      ],
      "metadata": {
        "colab": {
          "base_uri": "https://localhost:8080/"
        },
        "id": "shFdGx2IKAk2",
        "outputId": "01760613-32fb-43e3-9f0a-2adde6331d1e"
      },
      "execution_count": null,
      "outputs": [
        {
          "output_type": "stream",
          "name": "stdout",
          "text": [
            "x + y = 7\n",
            "x * z = 8\n"
          ]
        }
      ]
    },
    {
      "cell_type": "markdown",
      "source": [
        "### Let's try a nice trick"
      ],
      "metadata": {
        "id": "-eq3S4F0KLFh"
      }
    },
    {
      "cell_type": "code",
      "source": [
        "# Nice Trick\n",
        "w = 0"
      ],
      "metadata": {
        "id": "EUYDI9_KKNl5"
      },
      "execution_count": null,
      "outputs": []
    },
    {
      "cell_type": "code",
      "source": [
        "# Nice Trick\n",
        "w += 2\n",
        "print(w)"
      ],
      "metadata": {
        "colab": {
          "base_uri": "https://localhost:8080/"
        },
        "id": "HLnmsSvVKP15",
        "outputId": "9771ae8b-9fa9-4684-ef63-9c4c60f3a844"
      },
      "execution_count": null,
      "outputs": [
        {
          "output_type": "stream",
          "name": "stdout",
          "text": [
            "2\n"
          ]
        }
      ]
    },
    {
      "cell_type": "markdown",
      "source": [
        "## 5.3. Booleans \n",
        "\n",
        "These are variables with values of `True` OR `False`"
      ],
      "metadata": {
        "id": "z2Q5TvsnKSHn"
      }
    },
    {
      "cell_type": "code",
      "source": [
        "# Example \n",
        "\n",
        "is_sunny = True\n",
        "print(type(is_sunny))"
      ],
      "metadata": {
        "colab": {
          "base_uri": "https://localhost:8080/"
        },
        "id": "Rv16ImD-KU33",
        "outputId": "523b78d8-ab52-4cb2-e62d-02a10d851df1"
      },
      "execution_count": null,
      "outputs": [
        {
          "output_type": "stream",
          "name": "stdout",
          "text": [
            "<class 'bool'>\n"
          ]
        }
      ]
    },
    {
      "cell_type": "markdown",
      "source": [
        "More important are *BOOLEAB EXORESSIONS*"
      ],
      "metadata": {
        "id": "UpU5lya3KXW_"
      }
    },
    {
      "cell_type": "code",
      "source": [
        "# Example\n",
        "x = 2\n",
        "y = 3\n",
        "\n",
        "print('is x equals to y?', x ==y)\n",
        "print('is x NOT equals to y?', x != y)\n",
        "print('is x greater y?', x > y)\n",
        "print('is x less than y?', x < y)"
      ],
      "metadata": {
        "colab": {
          "base_uri": "https://localhost:8080/"
        },
        "id": "_rpI3c3_KZ7H",
        "outputId": "c1879290-ce9c-4c1e-be01-16ca49444d57"
      },
      "execution_count": null,
      "outputs": [
        {
          "output_type": "stream",
          "name": "stdout",
          "text": [
            "is x equals to y? False\n",
            "is x NOT equals to y? True\n",
            "is x greater y? False\n",
            "is x less than y? True\n"
          ]
        }
      ]
    },
    {
      "cell_type": "code",
      "source": [
        "# Practice - hard mode!\n",
        "\n",
        "# Using loops, you are going to evaluate the b_e\n",
        "# x+y >  x*y\n",
        "# For x =) 1,2,3,...,10\n",
        "#     y = 11,12,13,...20"
      ],
      "metadata": {
        "id": "lt_Jw9tnX4dJ"
      },
      "execution_count": null,
      "outputs": []
    },
    {
      "cell_type": "code",
      "source": [
        "#Practice \n",
        "# Multiplication - A Solution\n",
        "\n",
        "print('Is x + y > x * y?') \n",
        "for x in range (1,11): \n",
        "  for y in range (11,21):\n",
        "    print('Is',x, '+',y, '>', x, '*',y, '?' ,x + y > x * y)"
      ],
      "metadata": {
        "colab": {
          "base_uri": "https://localhost:8080/"
        },
        "id": "2xaBLKL2Kcpn",
        "outputId": "a899e515-4bb7-4679-ac7c-b451c130eae0"
      },
      "execution_count": null,
      "outputs": [
        {
          "output_type": "stream",
          "name": "stdout",
          "text": [
            "Is x + y > x * y?\n",
            "Is 1 + 11 > 1 * 11 ? True\n",
            "Is 1 + 12 > 1 * 12 ? True\n",
            "Is 1 + 13 > 1 * 13 ? True\n",
            "Is 1 + 14 > 1 * 14 ? True\n",
            "Is 1 + 15 > 1 * 15 ? True\n",
            "Is 1 + 16 > 1 * 16 ? True\n",
            "Is 1 + 17 > 1 * 17 ? True\n",
            "Is 1 + 18 > 1 * 18 ? True\n",
            "Is 1 + 19 > 1 * 19 ? True\n",
            "Is 1 + 20 > 1 * 20 ? True\n",
            "Is 2 + 11 > 2 * 11 ? False\n",
            "Is 2 + 12 > 2 * 12 ? False\n",
            "Is 2 + 13 > 2 * 13 ? False\n",
            "Is 2 + 14 > 2 * 14 ? False\n",
            "Is 2 + 15 > 2 * 15 ? False\n",
            "Is 2 + 16 > 2 * 16 ? False\n",
            "Is 2 + 17 > 2 * 17 ? False\n",
            "Is 2 + 18 > 2 * 18 ? False\n",
            "Is 2 + 19 > 2 * 19 ? False\n",
            "Is 2 + 20 > 2 * 20 ? False\n",
            "Is 3 + 11 > 3 * 11 ? False\n",
            "Is 3 + 12 > 3 * 12 ? False\n",
            "Is 3 + 13 > 3 * 13 ? False\n",
            "Is 3 + 14 > 3 * 14 ? False\n",
            "Is 3 + 15 > 3 * 15 ? False\n",
            "Is 3 + 16 > 3 * 16 ? False\n",
            "Is 3 + 17 > 3 * 17 ? False\n",
            "Is 3 + 18 > 3 * 18 ? False\n",
            "Is 3 + 19 > 3 * 19 ? False\n",
            "Is 3 + 20 > 3 * 20 ? False\n",
            "Is 4 + 11 > 4 * 11 ? False\n",
            "Is 4 + 12 > 4 * 12 ? False\n",
            "Is 4 + 13 > 4 * 13 ? False\n",
            "Is 4 + 14 > 4 * 14 ? False\n",
            "Is 4 + 15 > 4 * 15 ? False\n",
            "Is 4 + 16 > 4 * 16 ? False\n",
            "Is 4 + 17 > 4 * 17 ? False\n",
            "Is 4 + 18 > 4 * 18 ? False\n",
            "Is 4 + 19 > 4 * 19 ? False\n",
            "Is 4 + 20 > 4 * 20 ? False\n",
            "Is 5 + 11 > 5 * 11 ? False\n",
            "Is 5 + 12 > 5 * 12 ? False\n",
            "Is 5 + 13 > 5 * 13 ? False\n",
            "Is 5 + 14 > 5 * 14 ? False\n",
            "Is 5 + 15 > 5 * 15 ? False\n",
            "Is 5 + 16 > 5 * 16 ? False\n",
            "Is 5 + 17 > 5 * 17 ? False\n",
            "Is 5 + 18 > 5 * 18 ? False\n",
            "Is 5 + 19 > 5 * 19 ? False\n",
            "Is 5 + 20 > 5 * 20 ? False\n",
            "Is 6 + 11 > 6 * 11 ? False\n",
            "Is 6 + 12 > 6 * 12 ? False\n",
            "Is 6 + 13 > 6 * 13 ? False\n",
            "Is 6 + 14 > 6 * 14 ? False\n",
            "Is 6 + 15 > 6 * 15 ? False\n",
            "Is 6 + 16 > 6 * 16 ? False\n",
            "Is 6 + 17 > 6 * 17 ? False\n",
            "Is 6 + 18 > 6 * 18 ? False\n",
            "Is 6 + 19 > 6 * 19 ? False\n",
            "Is 6 + 20 > 6 * 20 ? False\n",
            "Is 7 + 11 > 7 * 11 ? False\n",
            "Is 7 + 12 > 7 * 12 ? False\n",
            "Is 7 + 13 > 7 * 13 ? False\n",
            "Is 7 + 14 > 7 * 14 ? False\n",
            "Is 7 + 15 > 7 * 15 ? False\n",
            "Is 7 + 16 > 7 * 16 ? False\n",
            "Is 7 + 17 > 7 * 17 ? False\n",
            "Is 7 + 18 > 7 * 18 ? False\n",
            "Is 7 + 19 > 7 * 19 ? False\n",
            "Is 7 + 20 > 7 * 20 ? False\n",
            "Is 8 + 11 > 8 * 11 ? False\n",
            "Is 8 + 12 > 8 * 12 ? False\n",
            "Is 8 + 13 > 8 * 13 ? False\n",
            "Is 8 + 14 > 8 * 14 ? False\n",
            "Is 8 + 15 > 8 * 15 ? False\n",
            "Is 8 + 16 > 8 * 16 ? False\n",
            "Is 8 + 17 > 8 * 17 ? False\n",
            "Is 8 + 18 > 8 * 18 ? False\n",
            "Is 8 + 19 > 8 * 19 ? False\n",
            "Is 8 + 20 > 8 * 20 ? False\n",
            "Is 9 + 11 > 9 * 11 ? False\n",
            "Is 9 + 12 > 9 * 12 ? False\n",
            "Is 9 + 13 > 9 * 13 ? False\n",
            "Is 9 + 14 > 9 * 14 ? False\n",
            "Is 9 + 15 > 9 * 15 ? False\n",
            "Is 9 + 16 > 9 * 16 ? False\n",
            "Is 9 + 17 > 9 * 17 ? False\n",
            "Is 9 + 18 > 9 * 18 ? False\n",
            "Is 9 + 19 > 9 * 19 ? False\n",
            "Is 9 + 20 > 9 * 20 ? False\n",
            "Is 10 + 11 > 10 * 11 ? False\n",
            "Is 10 + 12 > 10 * 12 ? False\n",
            "Is 10 + 13 > 10 * 13 ? False\n",
            "Is 10 + 14 > 10 * 14 ? False\n",
            "Is 10 + 15 > 10 * 15 ? False\n",
            "Is 10 + 16 > 10 * 16 ? False\n",
            "Is 10 + 17 > 10 * 17 ? False\n",
            "Is 10 + 18 > 10 * 18 ? False\n",
            "Is 10 + 19 > 10 * 19 ? False\n",
            "Is 10 + 20 > 10 * 20 ? False\n"
          ]
        }
      ]
    },
    {
      "cell_type": "code",
      "source": [
        "# Practices #2\n",
        "# Multiplication - A solution\n",
        "for x in range (1,11): \n",
        "  print('Table of',x, ':')\n",
        "  for y in range (1,11):\n",
        "    print(x,'*',y,'=', x*y)\n",
        "    "
      ],
      "metadata": {
        "colab": {
          "base_uri": "https://localhost:8080/"
        },
        "id": "jK_EaigpKfSG",
        "outputId": "9fdbd6ff-aaf4-4135-b6d1-5d3687abc83f"
      },
      "execution_count": null,
      "outputs": [
        {
          "output_type": "stream",
          "name": "stdout",
          "text": [
            "Table of 1 :\n",
            "1 * 1 = 1\n",
            "1 * 2 = 2\n",
            "1 * 3 = 3\n",
            "1 * 4 = 4\n",
            "1 * 5 = 5\n",
            "1 * 6 = 6\n",
            "1 * 7 = 7\n",
            "1 * 8 = 8\n",
            "1 * 9 = 9\n",
            "1 * 10 = 10\n",
            "Table of 2 :\n",
            "2 * 1 = 2\n",
            "2 * 2 = 4\n",
            "2 * 3 = 6\n",
            "2 * 4 = 8\n",
            "2 * 5 = 10\n",
            "2 * 6 = 12\n",
            "2 * 7 = 14\n",
            "2 * 8 = 16\n",
            "2 * 9 = 18\n",
            "2 * 10 = 20\n",
            "Table of 3 :\n",
            "3 * 1 = 3\n",
            "3 * 2 = 6\n",
            "3 * 3 = 9\n",
            "3 * 4 = 12\n",
            "3 * 5 = 15\n",
            "3 * 6 = 18\n",
            "3 * 7 = 21\n",
            "3 * 8 = 24\n",
            "3 * 9 = 27\n",
            "3 * 10 = 30\n",
            "Table of 4 :\n",
            "4 * 1 = 4\n",
            "4 * 2 = 8\n",
            "4 * 3 = 12\n",
            "4 * 4 = 16\n",
            "4 * 5 = 20\n",
            "4 * 6 = 24\n",
            "4 * 7 = 28\n",
            "4 * 8 = 32\n",
            "4 * 9 = 36\n",
            "4 * 10 = 40\n",
            "Table of 5 :\n",
            "5 * 1 = 5\n",
            "5 * 2 = 10\n",
            "5 * 3 = 15\n",
            "5 * 4 = 20\n",
            "5 * 5 = 25\n",
            "5 * 6 = 30\n",
            "5 * 7 = 35\n",
            "5 * 8 = 40\n",
            "5 * 9 = 45\n",
            "5 * 10 = 50\n",
            "Table of 6 :\n",
            "6 * 1 = 6\n",
            "6 * 2 = 12\n",
            "6 * 3 = 18\n",
            "6 * 4 = 24\n",
            "6 * 5 = 30\n",
            "6 * 6 = 36\n",
            "6 * 7 = 42\n",
            "6 * 8 = 48\n",
            "6 * 9 = 54\n",
            "6 * 10 = 60\n",
            "Table of 7 :\n",
            "7 * 1 = 7\n",
            "7 * 2 = 14\n",
            "7 * 3 = 21\n",
            "7 * 4 = 28\n",
            "7 * 5 = 35\n",
            "7 * 6 = 42\n",
            "7 * 7 = 49\n",
            "7 * 8 = 56\n",
            "7 * 9 = 63\n",
            "7 * 10 = 70\n",
            "Table of 8 :\n",
            "8 * 1 = 8\n",
            "8 * 2 = 16\n",
            "8 * 3 = 24\n",
            "8 * 4 = 32\n",
            "8 * 5 = 40\n",
            "8 * 6 = 48\n",
            "8 * 7 = 56\n",
            "8 * 8 = 64\n",
            "8 * 9 = 72\n",
            "8 * 10 = 80\n",
            "Table of 9 :\n",
            "9 * 1 = 9\n",
            "9 * 2 = 18\n",
            "9 * 3 = 27\n",
            "9 * 4 = 36\n",
            "9 * 5 = 45\n",
            "9 * 6 = 54\n",
            "9 * 7 = 63\n",
            "9 * 8 = 72\n",
            "9 * 9 = 81\n",
            "9 * 10 = 90\n",
            "Table of 10 :\n",
            "10 * 1 = 10\n",
            "10 * 2 = 20\n",
            "10 * 3 = 30\n",
            "10 * 4 = 40\n",
            "10 * 5 = 50\n",
            "10 * 6 = 60\n",
            "10 * 7 = 70\n",
            "10 * 8 = 80\n",
            "10 * 9 = 90\n",
            "10 * 10 = 100\n"
          ]
        }
      ]
    },
    {
      "cell_type": "markdown",
      "source": [
        "## 5.4 Strings\n",
        "\n",
        "These are variables that sore \"text\". And by text we mean  anything that is between apostrophes"
      ],
      "metadata": {
        "id": "ItOCYReVX_J5"
      }
    },
    {
      "cell_type": "code",
      "source": [
        "# Basic Examples\n",
        "first_name = 'José'\n",
        "last_name = 'Vélez'\n",
        "print(first_name,last_name)"
      ],
      "metadata": {
        "colab": {
          "base_uri": "https://localhost:8080/"
        },
        "id": "539K8nztYYLh",
        "outputId": "99df8f75-d117-4979-c9e1-58b2010d255b"
      },
      "execution_count": 18,
      "outputs": [
        {
          "output_type": "stream",
          "name": "stdout",
          "text": [
            "José Vélez\n"
          ]
        }
      ]
    },
    {
      "cell_type": "code",
      "source": [
        "# Basic operation\n",
        "full_name = first_name + ' ' + last_name\n",
        "print(full_name)"
      ],
      "metadata": {
        "colab": {
          "base_uri": "https://localhost:8080/"
        },
        "id": "adOEr4_rZA8p",
        "outputId": "139d57ba-bd7c-4e38-8caf-ad77718d9443"
      },
      "execution_count": 19,
      "outputs": [
        {
          "output_type": "stream",
          "name": "stdout",
          "text": [
            "José Vélez\n"
          ]
        }
      ]
    },
    {
      "cell_type": "code",
      "source": [
        "# Warning \n",
        "shoe_price = '100'\n",
        "print(shoe_price, 100)\n",
        "\n",
        "float(shoe_price)"
      ],
      "metadata": {
        "colab": {
          "base_uri": "https://localhost:8080/"
        },
        "id": "Ax93uor9ZUBB",
        "outputId": "3d4ef0c6-1190-4c4c-ea24-3437ca14f71e"
      },
      "execution_count": 17,
      "outputs": [
        {
          "output_type": "stream",
          "name": "stdout",
          "text": [
            "100 100\n"
          ]
        },
        {
          "output_type": "execute_result",
          "data": {
            "text/plain": [
              "100.0"
            ]
          },
          "metadata": {},
          "execution_count": 17
        }
      ]
    },
    {
      "cell_type": "markdown",
      "source": [
        "### Sciling\n",
        "it means divide or use a sub-string"
      ],
      "metadata": {
        "id": "bpGlcKHKZ4WQ"
      }
    },
    {
      "cell_type": "code",
      "source": [
        "# Example\n",
        "x = 'universidad de la salle'"
      ],
      "metadata": {
        "id": "Te7zACwBaUu6"
      },
      "execution_count": 20,
      "outputs": []
    },
    {
      "cell_type": "code",
      "source": [
        "# Sciling\n",
        "\n",
        "print('firt element of x:' , x[0])\n",
        "print('last element of x:' , x[-1])\n",
        "print('sub string of x:', x[0:11])"
      ],
      "metadata": {
        "colab": {
          "base_uri": "https://localhost:8080/"
        },
        "id": "kvQzPCGxaFyS",
        "outputId": "0540f7b6-062a-4894-9702-508407a35383"
      },
      "execution_count": 24,
      "outputs": [
        {
          "output_type": "stream",
          "name": "stdout",
          "text": [
            "firt element of x: u\n",
            "last element of x: e\n",
            "sub string of x: universidad\n"
          ]
        }
      ]
    }
  ]
}