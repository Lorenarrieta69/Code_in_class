{
  "nbformat": 4,
  "nbformat_minor": 0,
  "metadata": {
    "colab": {
      "name": "Proyect.ipynb",
      "provenance": [],
      "authorship_tag": "ABX9TyOh7r2VRhIV8OiNwL77sTvW",
      "include_colab_link": true
    },
    "kernelspec": {
      "name": "python3",
      "display_name": "Python 3"
    },
    "language_info": {
      "name": "python"
    }
  },
  "cells": [
    {
      "cell_type": "markdown",
      "metadata": {
        "id": "view-in-github",
        "colab_type": "text"
      },
      "source": [
        "<a href=\"https://colab.research.google.com/github/Lorenarrieta69/Code_in_class/blob/main/Proyect.ipynb\" target=\"_parent\"><img src=\"https://colab.research.google.com/assets/colab-badge.svg\" alt=\"Open In Colab\"/></a>"
      ]
    },
    {
      "cell_type": "markdown",
      "source": [
        "# **First part**\n",
        " \n",
        " Picth \n",
        "\n",
        " Format - .ipynb\n",
        "\n",
        " Contents:\n",
        "\n",
        " 1. variable:\n",
        "\n",
        "    1.1. Name\n",
        "\n",
        "    1.2. Period or dates. And frecuency. Individuals.\n",
        "\n",
        "    1.3. Sources (with links).\n",
        "\n",
        "  2. Goal of the DV\n",
        "\n",
        "    2.1. Story.\n",
        "\n",
        "    2.2. Audience.\n",
        "\n",
        "    2.3. Justify the DV type.\n",
        "\n",
        "  3. Examples\n",
        "\n",
        "    3.1. Example A.\n",
        "       * 2.1, 2.2, 2.3.\n",
        "       \n",
        "    3.2. Example B. \n",
        "      * 2.1, 2.2, 2.3.\n",
        "\n",
        "\n",
        "\n",
        "\n"
      ],
      "metadata": {
        "id": "1XVa3IEkQ6Q-"
      }
    },
    {
      "cell_type": "code",
      "execution_count": null,
      "metadata": {
        "id": "J-JozmSfycZJ"
      },
      "outputs": [],
      "source": [
        ""
      ]
    }
  ]
}