{
  "nbformat": 4,
  "nbformat_minor": 0,
  "metadata": {
    "colab": {
      "provenance": [],
      "authorship_tag": "ABX9TyNk66dVLZFY08Bw6TUH5gwi",
      "include_colab_link": true
    },
    "kernelspec": {
      "name": "python3",
      "display_name": "Python 3"
    },
    "language_info": {
      "name": "python"
    }
  },
  "cells": [
    {
      "cell_type": "markdown",
      "metadata": {
        "id": "view-in-github",
        "colab_type": "text"
      },
      "source": [
        "<a href=\"https://colab.research.google.com/github/Lorenarrieta69/Code_in_class/blob/main/Game.ipynb\" target=\"_parent\"><img src=\"https://colab.research.google.com/assets/colab-badge.svg\" alt=\"Open In Colab\"/></a>"
      ]
    },
    {
      "cell_type": "code",
      "execution_count": 1,
      "metadata": {
        "id": "auTykCjgM2BL"
      },
      "outputs": [],
      "source": [
        "import numpy as np"
      ]
    },
    {
      "cell_type": "code",
      "source": [
        "Tries = np.random.randint(low = 0, high = 37)\n",
        "Bet = 21\n",
        "\n",
        "print('Results:', Tries)\n",
        "print('Bet:', Bet)\n",
        "\n",
        "'You win!' if (Tries == Bet) else 'You lose!'"
      ],
      "metadata": {
        "colab": {
          "base_uri": "https://localhost:8080/",
          "height": 70
        },
        "id": "kEKpboKONM-n",
        "outputId": "0983ff2d-f8ed-45d4-bbe7-ff2ada600707"
      },
      "execution_count": 5,
      "outputs": [
        {
          "output_type": "stream",
          "name": "stdout",
          "text": [
            "Results: 30\n",
            "Bet: 21\n"
          ]
        },
        {
          "output_type": "execute_result",
          "data": {
            "text/plain": [
              "'You lose!'"
            ],
            "application/vnd.google.colaboratory.intrinsic+json": {
              "type": "string"
            }
          },
          "metadata": {},
          "execution_count": 5
        }
      ]
    },
    {
      "cell_type": "code",
      "source": [
        "number = np.random.randint(low = 0, high = 37)\n",
        "\n",
        "Neutral = np.array([0])\n",
        "Black = np.array([2,4,6,8,10,11,13,15,17,20,22,24,26,28,29,31,33,35])\n",
        "Red   = np.array([1,3,5,7,9,12,14,16,18,19,21,23,25,27,30,32,34,36])\n",
        "\n",
        "color_bet  = Red\n",
        "\n",
        "if number == 0:\n",
        "  color = 'Neutral'\n",
        "elif number in Black:\n",
        "  color = 'Black'\n",
        "else:\n",
        "  color = 'Red'\n",
        "\n",
        "print('Results for your color bet:')\n",
        "if color_bet == '':\n",
        "  print('No bet was made')\n",
        "else:\n",
        "  print('Your color:', color_bet, 'Color drawn:', color)\n",
        "  if (color_bet == color): \n",
        "    print('You win') \n",
        "  else: \n",
        "    print('You lose')"
      ],
      "metadata": {
        "colab": {
          "base_uri": "https://localhost:8080/"
        },
        "id": "czSJ_CyhNcZy",
        "outputId": "32f0def2-acf4-4f0a-dbcd-56f59032b21f"
      },
      "execution_count": 29,
      "outputs": [
        {
          "output_type": "stream",
          "name": "stdout",
          "text": [
            "Results for your color bet:\n",
            "Your color: [ 1  3  5  7  9 12 14 16 18 19 21 23 25 27 30 32 34 36] Color drawn: Black\n",
            "You lose\n"
          ]
        },
        {
          "output_type": "stream",
          "name": "stderr",
          "text": [
            "/usr/local/lib/python3.7/dist-packages/ipykernel_launcher.py:17: FutureWarning: elementwise comparison failed; returning scalar instead, but in the future will perform elementwise comparison\n",
            "/usr/local/lib/python3.7/dist-packages/ipykernel_launcher.py:21: FutureWarning: elementwise comparison failed; returning scalar instead, but in the future will perform elementwise comparison\n"
          ]
        }
      ]
    }
  ]
}