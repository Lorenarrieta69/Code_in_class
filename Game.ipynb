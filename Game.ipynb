{
  "nbformat": 4,
  "nbformat_minor": 0,
  "metadata": {
    "colab": {
      "provenance": [],
      "authorship_tag": "ABX9TyOIL0Zrm9xGhwiDibtAdyg1",
      "include_colab_link": true
    },
    "kernelspec": {
      "name": "python3",
      "display_name": "Python 3"
    },
    "language_info": {
      "name": "python"
    }
  },
  "cells": [
    {
      "cell_type": "markdown",
      "metadata": {
        "id": "view-in-github",
        "colab_type": "text"
      },
      "source": [
        "<a href=\"https://colab.research.google.com/github/Lorenarrieta69/Code_in_class/blob/main/Game.ipynb\" target=\"_parent\"><img src=\"https://colab.research.google.com/assets/colab-badge.svg\" alt=\"Open In Colab\"/></a>"
      ]
    },
    {
      "cell_type": "markdown",
      "source": [
        "## Workshop 2 \n",
        "\n",
        "#Roulette!\n",
        "\n",
        "Let's simulate a casino game. Specifically, a single-Zero (french) roulette.\n",
        "\n",
        "This game consists on rolling a ball over a wheel with number pockets.\n",
        "\n",
        "Game To keep it simple, you can bet on a number a bet on a color.\n",
        "\n",
        "Create the corresponding code to simulate a round. You must show what was yoy bet (number and color) and the actual resul.\n",
        "\n",
        "Tip\n",
        "\n",
        "To determine if a number (In int format) is even or odd, you can use:"
      ],
      "metadata": {
        "id": "Auto2mGmxUoh"
      }
    },
    {
      "cell_type": "code",
      "execution_count": 2,
      "metadata": {
        "id": "auTykCjgM2BL"
      },
      "outputs": [],
      "source": [
        "import numpy as np"
      ]
    },
    {
      "cell_type": "code",
      "source": [
        "Number = np.random.randint(low = 0, high = 37)\n",
        "\n",
        "Black = np.array([2,4,6,8,10,11,13,15,17,20,22,24,26,28,29,31,33,35])\n",
        "Red   = np.array([1,3,5,7,9,12,14,16,18,19,21,23,25,27,30,32,34,36])\n",
        "\n",
        "Color = 'Neutral' if Number == 0 else 'Black' if Number in Black else 'Red'\n",
        "\n",
        "Color_bet  = 'Red'\n",
        "Number_bet = 21\n",
        "\n",
        "print('Results for your Number bet:')\n",
        "print('Your bet:', Number_bet, '\\nNumber drawn:', Number) \n",
        "print('You win!' if (Number == Number_bet) else 'You lose!')\n",
        "  \n",
        "print('Results for your color bet:')\n",
        "if Color_bet == '':\n",
        "  print('No bet was made')\n",
        "else:\n",
        " print('Your Color:', Color_bet, '\\nColor drawn:', Color)\n",
        " print('You win!' if (Color == Color_bet) else 'You lose!')\n",
        "\n",
        "\n",
        "    "
      ],
      "metadata": {
        "colab": {
          "base_uri": "https://localhost:8080/"
        },
        "id": "22W2sbYlmiRl",
        "outputId": "4a976596-8caf-4a0f-d951-71551649149c"
      },
      "execution_count": 6,
      "outputs": [
        {
          "output_type": "stream",
          "name": "stdout",
          "text": [
            "Results for your Number bet:\n",
            "Your bet: 21 \n",
            "Number drawn: 0\n",
            "You lose!\n",
            "Results for your color bet:\n",
            "Your Color: Red \n",
            "Color drawn: Neutral\n",
            "You lose!\n"
          ]
        }
      ]
    }
  ]
}