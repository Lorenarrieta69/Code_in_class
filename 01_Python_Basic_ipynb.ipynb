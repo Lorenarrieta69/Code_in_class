{
  "nbformat": 4,
  "nbformat_minor": 0,
  "metadata": {
    "colab": {
      "name": "01-.- Python Basic. ipynb",
      "provenance": [],
      "toc_visible": true,
      "authorship_tag": "ABX9TyPr5uXm5HrDgW43UyVFsw23",
      "include_colab_link": true
    },
    "kernelspec": {
      "name": "python3",
      "display_name": "Python 3"
    },
    "language_info": {
      "name": "python"
    }
  },
  "cells": [
    {
      "cell_type": "markdown",
      "metadata": {
        "id": "view-in-github",
        "colab_type": "text"
      },
      "source": [
        "<a href=\"https://colab.research.google.com/github/Lorenarrieta69/Code_in_class/blob/main/01_Python_Basic_ipynb.ipynb\" target=\"_parent\"><img src=\"https://colab.research.google.com/assets/colab-badge.svg\" alt=\"Open In Colab\"/></a>"
      ]
    },
    {
      "cell_type": "markdown",
      "source": [
        "#Introduction \n",
        "We are going to star promming"
      ],
      "metadata": {
        "id": "aXYT_zYbRuxE"
      }
    },
    {
      "cell_type": "markdown",
      "source": [
        "# **1. What is python?**\n",
        "\n",
        "it was 1991 and can do anything "
      ],
      "metadata": {
        "id": "6LJBKrcEM0po"
      }
    },
    {
      "cell_type": "markdown",
      "source": [
        "# **2. Why Python?**\n",
        "\n",
        "It is free.\n",
        "It is open source.\n",
        "It is easy to learn."
      ],
      "metadata": {
        "id": "hSrAXLmvNhmj"
      }
    },
    {
      "cell_type": "markdown",
      "source": [
        "# **3. Getting started**"
      ],
      "metadata": {
        "id": "a0L0sGGvOmqe"
      }
    },
    {
      "cell_type": "markdown",
      "source": [
        "# 3.1 Python as a calculator"
      ],
      "metadata": {
        "id": "czYuckd_Ovw2"
      }
    },
    {
      "cell_type": "code",
      "source": [
        "# Addition \n",
        "2+2\n"
      ],
      "metadata": {
        "colab": {
          "base_uri": "https://localhost:8080/"
        },
        "id": "nPCNn7KgPFP0",
        "outputId": "f1d1421f-52fe-4511-fa64-b98dd077da2c"
      },
      "execution_count": null,
      "outputs": [
        {
          "output_type": "execute_result",
          "data": {
            "text/plain": [
              "4"
            ]
          },
          "metadata": {},
          "execution_count": 7
        }
      ]
    },
    {
      "cell_type": "code",
      "source": [
        "#Substration\n",
        "2-2\n"
      ],
      "metadata": {
        "colab": {
          "base_uri": "https://localhost:8080/"
        },
        "id": "xzhl668yQQ5k",
        "outputId": "9a5ff886-3a2f-430d-80d0-ac31fe05cfc9"
      },
      "execution_count": null,
      "outputs": [
        {
          "output_type": "execute_result",
          "data": {
            "text/plain": [
              "0"
            ]
          },
          "metadata": {},
          "execution_count": 8
        }
      ]
    },
    {
      "cell_type": "code",
      "source": [
        "#Multiplication\n",
        "7*14"
      ],
      "metadata": {
        "colab": {
          "base_uri": "https://localhost:8080/"
        },
        "id": "_3fZ3NGqQE0q",
        "outputId": "4d500166-7500-4d03-a966-e12f1ae5a8bc"
      },
      "execution_count": null,
      "outputs": [
        {
          "output_type": "execute_result",
          "data": {
            "text/plain": [
              "2"
            ]
          },
          "metadata": {},
          "execution_count": 6
        }
      ]
    },
    {
      "cell_type": "code",
      "source": [
        "# EXPONENTIAL\n",
        "5**3"
      ],
      "metadata": {
        "colab": {
          "base_uri": "https://localhost:8080/"
        },
        "id": "AyAm_4uKQjK7",
        "outputId": "26b03888-8b16-4fb6-a341-f78c23b66a8a"
      },
      "execution_count": null,
      "outputs": [
        {
          "output_type": "execute_result",
          "data": {
            "text/plain": [
              "125"
            ]
          },
          "metadata": {},
          "execution_count": 9
        }
      ]
    },
    {
      "cell_type": "code",
      "source": [
        "# Divison\n",
        "10/3\n"
      ],
      "metadata": {
        "colab": {
          "base_uri": "https://localhost:8080/"
        },
        "id": "pyVdeAHtQu62",
        "outputId": "1e75cc78-2139-4d3e-d244-38bd5c84b278"
      },
      "execution_count": null,
      "outputs": [
        {
          "output_type": "execute_result",
          "data": {
            "text/plain": [
              "3.3333333333333335"
            ]
          },
          "metadata": {},
          "execution_count": 10
        }
      ]
    },
    {
      "cell_type": "code",
      "source": [
        "# interger Divison\n",
        "10//3"
      ],
      "metadata": {
        "colab": {
          "base_uri": "https://localhost:8080/"
        },
        "id": "Nko_rualQ_F9",
        "outputId": "e4bc433d-1a46-4919-abec-6c8b39acc888"
      },
      "execution_count": null,
      "outputs": [
        {
          "output_type": "execute_result",
          "data": {
            "text/plain": [
              "3"
            ]
          },
          "metadata": {},
          "execution_count": 11
        }
      ]
    },
    {
      "cell_type": "markdown",
      "source": [
        "## 3.2 Composite Operations\n",
        "\n",
        "*Operator precedence*\n",
        "2*+7\n",
        "\n",
        "First is Multiplication or Division, then addition or sustration\n"
      ],
      "metadata": {
        "id": "_QeDTZPNMSrx"
      }
    },
    {
      "cell_type": "code",
      "source": [
        "# Example\n",
        "30-5*4/2+7\n"
      ],
      "metadata": {
        "colab": {
          "base_uri": "https://localhost:8080/"
        },
        "id": "Zza5DsmpNAGK",
        "outputId": "06ad74f9-819f-4abb-ee51-d2ae44ff6da5"
      },
      "execution_count": 2,
      "outputs": [
        {
          "output_type": "execute_result",
          "data": {
            "text/plain": [
              "27.0"
            ]
          },
          "metadata": {},
          "execution_count": 2
        }
      ]
    },
    {
      "cell_type": "markdown",
      "source": [
        "Parentheses is a very important because `( )` allows to modify operator procedende"
      ],
      "metadata": {
        "id": "rOsbEqwfNoba"
      }
    },
    {
      "cell_type": "code",
      "source": [
        "# Example\n",
        "(30-5)*4/2+7"
      ],
      "metadata": {
        "colab": {
          "base_uri": "https://localhost:8080/"
        },
        "id": "LUEsC_N8ORDS",
        "outputId": "32753313-27be-49cc-ef0c-5ab243435579"
      },
      "execution_count": 3,
      "outputs": [
        {
          "output_type": "execute_result",
          "data": {
            "text/plain": [
              "57.0"
            ]
          },
          "metadata": {},
          "execution_count": 3
        }
      ]
    },
    {
      "cell_type": "markdown",
      "source": [
        "## 3.3 Integers and real numbers\n",
        "\n",
        "| Math | Code |\n",
        "|------|------|\n",
        "| Integers | Integers (int)      |\n",
        "| Real     | Float point (float) |"
      ],
      "metadata": {
        "id": "laGoz48_Oxhz"
      }
    },
    {
      "cell_type": "markdown",
      "source": [
        "The *function* `type()` let'S Us check"
      ],
      "metadata": {
        "id": "cA4eQuiKQVzu"
      }
    },
    {
      "cell_type": "code",
      "source": [
        "type(26)"
      ],
      "metadata": {
        "colab": {
          "base_uri": "https://localhost:8080/"
        },
        "id": "VVjRgnhSQ1Oo",
        "outputId": "1ec67ed4-7f48-4d5e-e7c4-42c3287d554f"
      },
      "execution_count": 5,
      "outputs": [
        {
          "output_type": "execute_result",
          "data": {
            "text/plain": [
              "int"
            ]
          },
          "metadata": {},
          "execution_count": 5
        }
      ]
    },
    {
      "cell_type": "code",
      "source": [
        "type(26.5)"
      ],
      "metadata": {
        "colab": {
          "base_uri": "https://localhost:8080/"
        },
        "id": "a5CqlXuaR666",
        "outputId": "5ee3a997-7f01-422b-fd6b-13cca3edac41"
      },
      "execution_count": 6,
      "outputs": [
        {
          "output_type": "execute_result",
          "data": {
            "text/plain": [
              "float"
            ]
          },
          "metadata": {},
          "execution_count": 6
        }
      ]
    }
  ]
}