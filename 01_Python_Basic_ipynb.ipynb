{
  "nbformat": 4,
  "nbformat_minor": 0,
  "metadata": {
    "colab": {
      "name": "01-.- Python Basic. ipynb",
      "provenance": [],
      "toc_visible": true,
      "authorship_tag": "ABX9TyMIaItzxG5+nkoVVxszJ7c2",
      "include_colab_link": true
    },
    "kernelspec": {
      "name": "python3",
      "display_name": "Python 3"
    },
    "language_info": {
      "name": "python"
    }
  },
  "cells": [
    {
      "cell_type": "markdown",
      "metadata": {
        "id": "view-in-github",
        "colab_type": "text"
      },
      "source": [
        "<a href=\"https://colab.research.google.com/github/Lorenarrieta69/Code_in_class/blob/main/01_Python_Basic_ipynb.ipynb\" target=\"_parent\"><img src=\"https://colab.research.google.com/assets/colab-badge.svg\" alt=\"Open In Colab\"/></a>"
      ]
    },
    {
      "cell_type": "markdown",
      "source": [
        "#Introduction \n",
        "We are going to star promming"
      ],
      "metadata": {
        "id": "aXYT_zYbRuxE"
      }
    },
    {
      "cell_type": "markdown",
      "source": [
        "# **1. What is python?**\n",
        "\n",
        "it was 1991 and can do anything "
      ],
      "metadata": {
        "id": "6LJBKrcEM0po"
      }
    },
    {
      "cell_type": "markdown",
      "source": [
        "# **2. Why Python?**\n",
        "\n",
        "It is free.\n",
        "It is open source.\n",
        "It is easy to learn."
      ],
      "metadata": {
        "id": "hSrAXLmvNhmj"
      }
    },
    {
      "cell_type": "markdown",
      "source": [
        "# **3. Getting started**"
      ],
      "metadata": {
        "id": "a0L0sGGvOmqe"
      }
    },
    {
      "cell_type": "markdown",
      "source": [
        "# 3.1 Python as a calculator"
      ],
      "metadata": {
        "id": "czYuckd_Ovw2"
      }
    },
    {
      "cell_type": "code",
      "source": [
        "# Addition \n",
        "2+2\n"
      ],
      "metadata": {
        "colab": {
          "base_uri": "https://localhost:8080/"
        },
        "id": "nPCNn7KgPFP0",
        "outputId": "f1d1421f-52fe-4511-fa64-b98dd077da2c"
      },
      "execution_count": null,
      "outputs": [
        {
          "output_type": "execute_result",
          "data": {
            "text/plain": [
              "4"
            ]
          },
          "metadata": {},
          "execution_count": 7
        }
      ]
    },
    {
      "cell_type": "code",
      "source": [
        "#Substration\n",
        "2-2\n"
      ],
      "metadata": {
        "colab": {
          "base_uri": "https://localhost:8080/"
        },
        "id": "xzhl668yQQ5k",
        "outputId": "9a5ff886-3a2f-430d-80d0-ac31fe05cfc9"
      },
      "execution_count": null,
      "outputs": [
        {
          "output_type": "execute_result",
          "data": {
            "text/plain": [
              "0"
            ]
          },
          "metadata": {},
          "execution_count": 8
        }
      ]
    },
    {
      "cell_type": "code",
      "source": [
        "#Multiplication\n",
        "7*14"
      ],
      "metadata": {
        "colab": {
          "base_uri": "https://localhost:8080/"
        },
        "id": "_3fZ3NGqQE0q",
        "outputId": "4d500166-7500-4d03-a966-e12f1ae5a8bc"
      },
      "execution_count": null,
      "outputs": [
        {
          "output_type": "execute_result",
          "data": {
            "text/plain": [
              "2"
            ]
          },
          "metadata": {},
          "execution_count": 6
        }
      ]
    },
    {
      "cell_type": "code",
      "source": [
        "# EXPONENTIAL\n",
        "5**3"
      ],
      "metadata": {
        "colab": {
          "base_uri": "https://localhost:8080/"
        },
        "id": "AyAm_4uKQjK7",
        "outputId": "26b03888-8b16-4fb6-a341-f78c23b66a8a"
      },
      "execution_count": null,
      "outputs": [
        {
          "output_type": "execute_result",
          "data": {
            "text/plain": [
              "125"
            ]
          },
          "metadata": {},
          "execution_count": 9
        }
      ]
    },
    {
      "cell_type": "code",
      "source": [
        "# Divison\n",
        "10/3\n"
      ],
      "metadata": {
        "colab": {
          "base_uri": "https://localhost:8080/"
        },
        "id": "pyVdeAHtQu62",
        "outputId": "1e75cc78-2139-4d3e-d244-38bd5c84b278"
      },
      "execution_count": null,
      "outputs": [
        {
          "output_type": "execute_result",
          "data": {
            "text/plain": [
              "3.3333333333333335"
            ]
          },
          "metadata": {},
          "execution_count": 10
        }
      ]
    },
    {
      "cell_type": "code",
      "source": [
        "# interger Divison\n",
        "10//3"
      ],
      "metadata": {
        "colab": {
          "base_uri": "https://localhost:8080/"
        },
        "id": "Nko_rualQ_F9",
        "outputId": "e4bc433d-1a46-4919-abec-6c8b39acc888"
      },
      "execution_count": null,
      "outputs": [
        {
          "output_type": "execute_result",
          "data": {
            "text/plain": [
              "3"
            ]
          },
          "metadata": {},
          "execution_count": 11
        }
      ]
    },
    {
      "cell_type": "markdown",
      "source": [
        "## 3.2 Composite Operations\n",
        "\n",
        "*Operator precedence*\n",
        "2*+7\n",
        "\n",
        "First is Multiplication or Division, then addition or sustration\n"
      ],
      "metadata": {
        "id": "_QeDTZPNMSrx"
      }
    },
    {
      "cell_type": "code",
      "source": [
        "# Example\n",
        "30-5*4/2+7\n"
      ],
      "metadata": {
        "colab": {
          "base_uri": "https://localhost:8080/"
        },
        "id": "Zza5DsmpNAGK",
        "outputId": "06ad74f9-819f-4abb-ee51-d2ae44ff6da5"
      },
      "execution_count": null,
      "outputs": [
        {
          "output_type": "execute_result",
          "data": {
            "text/plain": [
              "27.0"
            ]
          },
          "metadata": {},
          "execution_count": 2
        }
      ]
    },
    {
      "cell_type": "markdown",
      "source": [
        "Parentheses is a very important because `( )` allows to modify operator procedende"
      ],
      "metadata": {
        "id": "rOsbEqwfNoba"
      }
    },
    {
      "cell_type": "code",
      "source": [
        "# Example\n",
        "(30-5)*4/2+7"
      ],
      "metadata": {
        "colab": {
          "base_uri": "https://localhost:8080/"
        },
        "id": "LUEsC_N8ORDS",
        "outputId": "32753313-27be-49cc-ef0c-5ab243435579"
      },
      "execution_count": null,
      "outputs": [
        {
          "output_type": "execute_result",
          "data": {
            "text/plain": [
              "57.0"
            ]
          },
          "metadata": {},
          "execution_count": 3
        }
      ]
    },
    {
      "cell_type": "markdown",
      "source": [
        "## 3.3 Integers and real numbers\n",
        "\n",
        "| Math | Code |\n",
        "|------|------|\n",
        "| Integers | Integers (int)      |\n",
        "| Real     | Float point (float) |"
      ],
      "metadata": {
        "id": "laGoz48_Oxhz"
      }
    },
    {
      "cell_type": "markdown",
      "source": [
        "The *function* `type()` let'S Us check"
      ],
      "metadata": {
        "id": "cA4eQuiKQVzu"
      }
    },
    {
      "cell_type": "code",
      "source": [
        "type(26)"
      ],
      "metadata": {
        "colab": {
          "base_uri": "https://localhost:8080/"
        },
        "id": "VVjRgnhSQ1Oo",
        "outputId": "1ec67ed4-7f48-4d5e-e7c4-42c3287d554f"
      },
      "execution_count": null,
      "outputs": [
        {
          "output_type": "execute_result",
          "data": {
            "text/plain": [
              "int"
            ]
          },
          "metadata": {},
          "execution_count": 5
        }
      ]
    },
    {
      "cell_type": "code",
      "source": [
        "type(26.5)"
      ],
      "metadata": {
        "colab": {
          "base_uri": "https://localhost:8080/"
        },
        "id": "a5CqlXuaR666",
        "outputId": "5ee3a997-7f01-422b-fd6b-13cca3edac41"
      },
      "execution_count": null,
      "outputs": [
        {
          "output_type": "execute_result",
          "data": {
            "text/plain": [
              "float"
            ]
          },
          "metadata": {},
          "execution_count": 6
        }
      ]
    },
    {
      "cell_type": "markdown",
      "source": [
        "### **Scientific notation**\n",
        "\n",
        "The \"form\" = `xx10^y` it is write as `xey`\n"
      ],
      "metadata": {
        "id": "bBhTDvYQGx2Z"
      }
    },
    {
      "cell_type": "code",
      "source": [
        "# example\n",
        "1.52e2"
      ],
      "metadata": {
        "colab": {
          "base_uri": "https://localhost:8080/"
        },
        "id": "O9TOqZu8Ijhb",
        "outputId": "ef906452-a9df-4418-cfb2-21ebe9db2e1c"
      },
      "execution_count": null,
      "outputs": [
        {
          "output_type": "execute_result",
          "data": {
            "text/plain": [
              "152.0"
            ]
          },
          "metadata": {},
          "execution_count": 1
        }
      ]
    },
    {
      "cell_type": "markdown",
      "source": [
        "What happen is you to represente `0.25` whith scientific notation?\n"
      ],
      "metadata": {
        "id": "24DomdbHI11a"
      }
    },
    {
      "cell_type": "code",
      "source": [
        "# Answer\n",
        "0.025e1\n",
        "2.5e-1  #R \n",
        "25e-2"
      ],
      "metadata": {
        "colab": {
          "base_uri": "https://localhost:8080/"
        },
        "id": "Jnns6_2JJMkA",
        "outputId": "3e1d59af-bc02-49be-afa1-36321da38248"
      },
      "execution_count": null,
      "outputs": [
        {
          "output_type": "execute_result",
          "data": {
            "text/plain": [
              "0.25"
            ]
          },
          "metadata": {},
          "execution_count": 24
        }
      ]
    },
    {
      "cell_type": "code",
      "source": [
        "# Example 2\n",
        "1.5e^5"
      ],
      "metadata": {
        "colab": {
          "base_uri": "https://localhost:8080/"
        },
        "id": "Y2CeI6wqLT9Z",
        "outputId": "5e041e07-7d46-44f2-8651-c344d2c0d8e2"
      },
      "execution_count": null,
      "outputs": [
        {
          "output_type": "execute_result",
          "data": {
            "text/plain": [
              "150000.0"
            ]
          },
          "metadata": {},
          "execution_count": 16
        }
      ]
    },
    {
      "cell_type": "markdown",
      "source": [
        "### **Transformation**\n"
      ],
      "metadata": {
        "id": "DZxcR-6wNBhy"
      }
    },
    {
      "cell_type": "code",
      "source": [
        "# Example int to float\n",
        "float(5)"
      ],
      "metadata": {
        "colab": {
          "base_uri": "https://localhost:8080/"
        },
        "id": "p3cBPe4tNN8o",
        "outputId": "bb603250-dcd4-4d49-bd6c-a59f75011b6f"
      },
      "execution_count": null,
      "outputs": [
        {
          "output_type": "execute_result",
          "data": {
            "text/plain": [
              "5.0"
            ]
          },
          "metadata": {},
          "execution_count": 17
        }
      ]
    },
    {
      "cell_type": "code",
      "source": [
        "# Example float to int\n",
        "int(7.52)"
      ],
      "metadata": {
        "colab": {
          "base_uri": "https://localhost:8080/"
        },
        "id": "GplUtqOINZEz",
        "outputId": "62b0571e-d866-474e-a197-362dbd53b7f8"
      },
      "execution_count": null,
      "outputs": [
        {
          "output_type": "execute_result",
          "data": {
            "text/plain": [
              "7"
            ]
          },
          "metadata": {},
          "execution_count": 18
        }
      ]
    },
    {
      "cell_type": "markdown",
      "source": [
        "## 3.4. Basic functions\n",
        "\n"
      ],
      "metadata": {
        "id": "0sfo4HBCNvwC"
      }
    },
    {
      "cell_type": "markdown",
      "source": [
        "### **Print**"
      ],
      "metadata": {
        "id": "SXsiEJdAOMhg"
      }
    },
    {
      "cell_type": "code",
      "source": [
        "# Number Example\n",
        "print (2022,8,11)"
      ],
      "metadata": {
        "colab": {
          "base_uri": "https://localhost:8080/"
        },
        "id": "u4CzSxbZOm7Y",
        "outputId": "1e46509f-541c-4c07-aa13-249f46b7f54f"
      },
      "execution_count": null,
      "outputs": [
        {
          "output_type": "stream",
          "name": "stdout",
          "text": [
            "2022 8 11\n"
          ]
        }
      ]
    },
    {
      "cell_type": "code",
      "source": [
        "# String (alphabet) Example\n",
        "print('Lorena')"
      ],
      "metadata": {
        "colab": {
          "base_uri": "https://localhost:8080/"
        },
        "id": "uO_BpD5RPLtB",
        "outputId": "5c3b34c9-211d-4447-9076-d80c28e5b3c1"
      },
      "execution_count": null,
      "outputs": [
        {
          "output_type": "stream",
          "name": "stdout",
          "text": [
            "Lorena\n"
          ]
        }
      ]
    },
    {
      "cell_type": "code",
      "source": [
        "# More complicated string example\n",
        "print('First Name: Ashly', 'Last Name: Arrieta')\n",
        "print('First Name: Ashly\\tLast Name: Arrieta')\n",
        "print('First Name: Ashly\\nLast Name: Arrieta')"
      ],
      "metadata": {
        "colab": {
          "base_uri": "https://localhost:8080/"
        },
        "id": "DV5p9L5-QOjY",
        "outputId": "6ef26f69-487c-48b2-85e6-c6b0fc10a87b"
      },
      "execution_count": null,
      "outputs": [
        {
          "output_type": "stream",
          "name": "stdout",
          "text": [
            "First Name: Ashly Last Name: Arrieta\n",
            "First Name: Ashly\tLast Name: Arrieta\n",
            "First Name: Ashly\n",
            "Last Name: Arrieta\n"
          ]
        }
      ]
    },
    {
      "cell_type": "code",
      "source": [
        "# More complicated string example\n",
        "print('First Name:', 'Ashly', 'Last Name:' , 'Arrieta')"
      ],
      "metadata": {
        "colab": {
          "base_uri": "https://localhost:8080/"
        },
        "id": "kGIQeETBSCTG",
        "outputId": "72c9a495-9c0d-4586-f56a-244b9be4446c"
      },
      "execution_count": null,
      "outputs": [
        {
          "output_type": "stream",
          "name": "stdout",
          "text": [
            "First Name: Ashly Last Name: Arrieta\n"
          ]
        }
      ]
    },
    {
      "cell_type": "code",
      "source": [
        "# More complicated string example\n",
        "for i in range(0,10): print(i)"
      ],
      "metadata": {
        "colab": {
          "base_uri": "https://localhost:8080/"
        },
        "id": "sQHv3pk2SglN",
        "outputId": "4dbef49b-fdeb-4b84-9db6-f96742f658d8"
      },
      "execution_count": null,
      "outputs": [
        {
          "output_type": "stream",
          "name": "stdout",
          "text": [
            "0\n",
            "1\n",
            "2\n",
            "3\n",
            "4\n",
            "5\n",
            "6\n",
            "7\n",
            "8\n",
            "9\n"
          ]
        }
      ]
    },
    {
      "cell_type": "code",
      "source": [
        "# Combine sting and numbers\n",
        "print('My avorite number is: ', 21, 'because mm')"
      ],
      "metadata": {
        "colab": {
          "base_uri": "https://localhost:8080/"
        },
        "id": "jDRKAC4nTK-H",
        "outputId": "2cb2cead-99b0-405b-eb6f-966f9cb7b32e"
      },
      "execution_count": null,
      "outputs": [
        {
          "output_type": "stream",
          "name": "stdout",
          "text": [
            "My avorite number is:  21 because mm\n"
          ]
        }
      ]
    },
    {
      "cell_type": "markdown",
      "source": [
        "### **Round**"
      ],
      "metadata": {
        "id": "pEL8lOm2TjH1"
      }
    },
    {
      "cell_type": "code",
      "source": [
        "# A simple example\n",
        "round(1.253,2)"
      ],
      "metadata": {
        "colab": {
          "base_uri": "https://localhost:8080/"
        },
        "id": "eddAZVfqTq5F",
        "outputId": "4b6cebff-e30b-407c-a9e6-591d4eaf72af"
      },
      "execution_count": null,
      "outputs": [
        {
          "output_type": "execute_result",
          "data": {
            "text/plain": [
              "1.25"
            ]
          },
          "metadata": {},
          "execution_count": 33
        }
      ]
    },
    {
      "cell_type": "code",
      "source": [
        "# Time to practice\n",
        "# Consider the number 7.2345\n",
        "# Print every result for rounding from 3 to 0 poitions\n",
        " \n",
        "print('Round with', 0, 'decimals:', round(7.2345,0))\n",
        "print('Round with', 1, 'decimals:', round(7.2345,1))\n",
        "print('Round with', 2, 'decimals:', round(7.2345,2))\n",
        "print('Round with', 3, 'decimals:', round(7.2345,3))\n"
      ],
      "metadata": {
        "colab": {
          "base_uri": "https://localhost:8080/"
        },
        "id": "a2NAYH1eUJF9",
        "outputId": "4944fe40-7bf9-44a7-997d-5dcfb81ca651"
      },
      "execution_count": null,
      "outputs": [
        {
          "output_type": "stream",
          "name": "stdout",
          "text": [
            "Round with 0 decimals: 7.0\n",
            "Round with 1 decimals: 7.2\n",
            "Round with 2 decimals: 7.23\n",
            "Round with 3 decimals: 7.234\n"
          ]
        }
      ]
    },
    {
      "cell_type": "code",
      "source": [
        "# If we for loops \n",
        "for i in range(0,4): print('Round with', i, 'decimals:', round(7.2345,i))"
      ],
      "metadata": {
        "colab": {
          "base_uri": "https://localhost:8080/"
        },
        "id": "ihHLxq9zYtyY",
        "outputId": "a0918df7-1295-468b-fe3c-2c1dce04dda1"
      },
      "execution_count": null,
      "outputs": [
        {
          "output_type": "stream",
          "name": "stdout",
          "text": [
            "Round with 0 decimals: 7.0\n",
            "Round with 1 decimals: 7.2\n",
            "Round with 2 decimals: 7.23\n",
            "Round with 3 decimals: 7.234\n"
          ]
        }
      ]
    },
    {
      "cell_type": "code",
      "source": [
        "#Practice\n",
        "# Print the firt 100 multiples of the number 2, \n",
        "print('This  is the list of the 100th multiples of 2')\n"
      ],
      "metadata": {
        "colab": {
          "base_uri": "https://localhost:8080/"
        },
        "id": "joejCG9mZcaa",
        "outputId": "f020390d-1fb2-4c3f-9e21-17ff1fcd71a5"
      },
      "execution_count": 1,
      "outputs": [
        {
          "output_type": "stream",
          "name": "stdout",
          "text": [
            "This  is the list of the 100th multiples of 2\n"
          ]
        }
      ]
    },
    {
      "cell_type": "markdown",
      "source": [
        "### Absoulte Value"
      ],
      "metadata": {
        "id": "X25KFPbROED3"
      }
    },
    {
      "cell_type": "code",
      "source": [
        "# Example\n",
        "abs(-25)"
      ],
      "metadata": {
        "colab": {
          "base_uri": "https://localhost:8080/"
        },
        "id": "3kieSBDHOGMg",
        "outputId": "b2bad758-1de5-43bd-fcbd-c05cbada46e8"
      },
      "execution_count": 2,
      "outputs": [
        {
          "output_type": "execute_result",
          "data": {
            "text/plain": [
              "25"
            ]
          },
          "metadata": {},
          "execution_count": 2
        }
      ]
    },
    {
      "cell_type": "markdown",
      "source": [
        ""
      ],
      "metadata": {
        "id": "wfJl6fJaZZwa"
      }
    }
  ]
}