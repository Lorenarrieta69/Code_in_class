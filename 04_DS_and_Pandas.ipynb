{
  "nbformat": 4,
  "nbformat_minor": 0,
  "metadata": {
    "colab": {
      "provenance": [],
      "authorship_tag": "ABX9TyMjnCJlj2eniWFzsyk2s/xV",
      "include_colab_link": true
    },
    "kernelspec": {
      "name": "python3",
      "display_name": "Python 3"
    },
    "language_info": {
      "name": "python"
    }
  },
  "cells": [
    {
      "cell_type": "markdown",
      "metadata": {
        "id": "view-in-github",
        "colab_type": "text"
      },
      "source": [
        "<a href=\"https://colab.research.google.com/github/Lorenarrieta69/Code_in_class/blob/main/04_DS_and_Pandas.ipynb\" target=\"_parent\"><img src=\"https://colab.research.google.com/assets/colab-badge.svg\" alt=\"Open In Colab\"/></a>"
      ]
    },
    {
      "cell_type": "markdown",
      "source": [
        "# **1. Data structure and pandas**\n",
        "\n",
        "`Numpy` is for vetor and matrices (`arrays`).\n",
        "\n",
        "`pandas` is a library to work with databases (data with relations and conextions). In pratical terms, `pandas` is the Excel of Python. \n",
        "\n",
        "To make clear you can work with `numpy` and `pandas` at the same time. \n"
      ],
      "metadata": {
        "id": "4D6S_oULk7Wv"
      }
    },
    {
      "cell_type": "code",
      "source": [
        "import pandas as pd \n",
        "import numpy as np "
      ],
      "metadata": {
        "id": "ktwUkjiwmXch"
      },
      "execution_count": 19,
      "outputs": []
    },
    {
      "cell_type": "markdown",
      "source": [
        "# **2. Pandas Series**\n",
        "\n",
        "A series (In panda) is a one-dimensional object. "
      ],
      "metadata": {
        "id": "5qfGK5ommovh"
      }
    },
    {
      "cell_type": "markdown",
      "source": [
        "## 2.1. Series creation"
      ],
      "metadata": {
        "id": "9OZOTok6ndo8"
      }
    },
    {
      "cell_type": "code",
      "source": [
        "# Empty series \n",
        "\n",
        "s_empty = pd.Series()\n",
        "print(s_empty)"
      ],
      "metadata": {
        "colab": {
          "base_uri": "https://localhost:8080/"
        },
        "id": "YCy44yGjnixN",
        "outputId": "1fad02d0-f73d-4e70-f788-028c4911ba27"
      },
      "execution_count": 20,
      "outputs": [
        {
          "output_type": "stream",
          "name": "stdout",
          "text": [
            "Series([], dtype: float64)\n"
          ]
        },
        {
          "output_type": "stream",
          "name": "stderr",
          "text": [
            "/usr/local/lib/python3.7/dist-packages/ipykernel_launcher.py:3: DeprecationWarning: The default dtype for empty Series will be 'object' instead of 'float64' in a future version. Specify a dtype explicitly to silence this warning.\n",
            "  This is separate from the ipykernel package so we can avoid doing imports until\n"
          ]
        }
      ]
    },
    {
      "cell_type": "code",
      "source": [
        "# Creating a Series - typing the values\n",
        "## int values\n",
        "\n",
        "s_int = pd. Series([1,2,3,4,5,6,7,])\n",
        "print(s_int)"
      ],
      "metadata": {
        "colab": {
          "base_uri": "https://localhost:8080/"
        },
        "id": "ErAZ5Gf8oQdt",
        "outputId": "c7d28834-87da-4558-8566-2304bf5358c1"
      },
      "execution_count": 21,
      "outputs": [
        {
          "output_type": "stream",
          "name": "stdout",
          "text": [
            "0    1\n",
            "1    2\n",
            "2    3\n",
            "3    4\n",
            "4    5\n",
            "5    6\n",
            "6    7\n",
            "dtype: int64\n"
          ]
        }
      ]
    },
    {
      "cell_type": "code",
      "source": [
        "# Creating a Series - Using randow numbers\n",
        "## float values\n",
        "\n",
        "s_num = pd.Series(np.random.rand(8))\n",
        "print(s_num)"
      ],
      "metadata": {
        "colab": {
          "base_uri": "https://localhost:8080/"
        },
        "id": "kuL4vxuuo8km",
        "outputId": "aa9f7580-3828-4740-ed1c-28afc27c7be6"
      },
      "execution_count": 22,
      "outputs": [
        {
          "output_type": "stream",
          "name": "stdout",
          "text": [
            "0    0.233080\n",
            "1    0.250532\n",
            "2    0.974800\n",
            "3    0.860896\n",
            "4    0.680275\n",
            "5    0.663880\n",
            "6    0.569062\n",
            "7    0.224880\n",
            "dtype: float64\n"
          ]
        }
      ]
    },
    {
      "cell_type": "code",
      "source": [
        "# Creating a Series\n",
        "## with str\n",
        "s_str = pd.Series(['Valentina', 'Ashly', 'Alice', 'Cristian', 'Karen', 'Rodrigo'])\n",
        "print(s_str)"
      ],
      "metadata": {
        "colab": {
          "base_uri": "https://localhost:8080/"
        },
        "id": "pMXZFXbhc_fu",
        "outputId": "dbaddcb3-dd02-48e8-fafc-ef14a25571c6"
      },
      "execution_count": 28,
      "outputs": [
        {
          "output_type": "stream",
          "name": "stdout",
          "text": [
            "0    Valentina\n",
            "1        Ashly\n",
            "2        Alice\n",
            "3     Cristian\n",
            "4        Karen\n",
            "5      Rodrigo\n",
            "dtype: object\n"
          ]
        }
      ]
    },
    {
      "cell_type": "code",
      "source": [
        "# Creating a Series\n",
        "tmp  = pd.Series([1, 0.2548, 'Python'])\n",
        "print(tmp)"
      ],
      "metadata": {
        "colab": {
          "base_uri": "https://localhost:8080/"
        },
        "id": "1tuy2Yw4d0fn",
        "outputId": "e7275a48-590a-4fc7-f0b6-17c8d0109503"
      },
      "execution_count": 29,
      "outputs": [
        {
          "output_type": "stream",
          "name": "stdout",
          "text": [
            "0         1\n",
            "1    0.2548\n",
            "2    Python\n",
            "dtype: object\n"
          ]
        }
      ]
    },
    {
      "cell_type": "markdown",
      "source": [
        "# 2.2. Indexing\n"
      ],
      "metadata": {
        "id": "I1HUv0wweHlP"
      }
    },
    {
      "cell_type": "code",
      "source": [
        "# Check the index of a series\n",
        "s_num.index"
      ],
      "metadata": {
        "colab": {
          "base_uri": "https://localhost:8080/"
        },
        "id": "5Rs_AVTPeOyW",
        "outputId": "4e9dc742-e022-45c5-c8e8-b6af5a1ada45"
      },
      "execution_count": 12,
      "outputs": [
        {
          "output_type": "execute_result",
          "data": {
            "text/plain": [
              "RangeIndex(start=0, stop=8, step=1)"
            ]
          },
          "metadata": {},
          "execution_count": 12
        }
      ]
    },
    {
      "cell_type": "code",
      "source": [
        "from os import sched_rr_get_interval\n",
        "# Create your own index\n",
        "\n",
        "new_index = ['i','ii','iii','iv']\n",
        "s_ran = pd.Series(np.random.rand(4), index = new_index)\n",
        "print(s_ran)\n",
        "s_ran.index"
      ],
      "metadata": {
        "colab": {
          "base_uri": "https://localhost:8080/"
        },
        "id": "-Ea-EHtmehO_",
        "outputId": "8ea54356-225b-459d-adb6-30a4168a3905"
      },
      "execution_count": 39,
      "outputs": [
        {
          "output_type": "stream",
          "name": "stdout",
          "text": [
            "i      0.554799\n",
            "ii     0.228459\n",
            "iii    0.158147\n",
            "iv     0.412325\n",
            "dtype: float64\n"
          ]
        },
        {
          "output_type": "execute_result",
          "data": {
            "text/plain": [
              "Index(['i', 'ii', 'iii', 'iv'], dtype='object')"
            ]
          },
          "metadata": {},
          "execution_count": 39
        }
      ]
    },
    {
      "cell_type": "markdown",
      "source": [
        "## 2.3. Selecting and Slincing\n",
        "\n",
        "Rember thet series are one-dimensional objects, so we only need one *number* to identify an element."
      ],
      "metadata": {
        "id": "bov7HO-FfmVs"
      }
    },
    {
      "cell_type": "code",
      "source": [
        "# Selecting one value\n",
        "\n",
        "print('The first element of s_num:', s_num[0])\n",
        "print('The first element of s_ran:', s_ran[0])\n",
        "print('The first element of s_ran:', s_ran['i'])"
      ],
      "metadata": {
        "colab": {
          "base_uri": "https://localhost:8080/"
        },
        "id": "JiHu2MiWfl-k",
        "outputId": "cab27850-db98-4131-e62d-817e02120e47"
      },
      "execution_count": 46,
      "outputs": [
        {
          "output_type": "stream",
          "name": "stdout",
          "text": [
            "The first element of s_num: 100.0\n",
            "The first element of s_ran: 0.5547989735959936\n",
            "The first element of s_ran: 0.5547989735959936\n"
          ]
        }
      ]
    },
    {
      "cell_type": "code",
      "source": [
        "# Selecting one value \n",
        "\n",
        "s_num[[5,7]]"
      ],
      "metadata": {
        "colab": {
          "base_uri": "https://localhost:8080/"
        },
        "id": "XKFwKkxWhqYi",
        "outputId": "9719eb1e-a10f-42b2-854f-a1d5f38d1700"
      },
      "execution_count": 51,
      "outputs": [
        {
          "output_type": "execute_result",
          "data": {
            "text/plain": [
              "5    0.66388\n",
              "7    0.22488\n",
              "dtype: float64"
            ]
          },
          "metadata": {},
          "execution_count": 51
        }
      ]
    },
    {
      "cell_type": "code",
      "source": [
        "# Selecting more than one value\n",
        "\n",
        "s_ran[['i','iv']] #This selects the 1st and 4th element"
      ],
      "metadata": {
        "colab": {
          "base_uri": "https://localhost:8080/"
        },
        "id": "vzOxciAghyap",
        "outputId": "9fe9fdcd-798a-44ae-e258-dd6efe7b0702"
      },
      "execution_count": 50,
      "outputs": [
        {
          "output_type": "execute_result",
          "data": {
            "text/plain": [
              "i     0.554799\n",
              "iv    0.412325\n",
              "dtype: float64"
            ]
          },
          "metadata": {},
          "execution_count": 50
        }
      ]
    },
    {
      "cell_type": "code",
      "source": [
        "# Selecting a sequence of values\n",
        "\n",
        "print(s_num[:3])"
      ],
      "metadata": {
        "colab": {
          "base_uri": "https://localhost:8080/"
        },
        "id": "Nm-uS0rUiFe4",
        "outputId": "d9c8cf80-cb77-49e0-9a04-4e53ddd7b476"
      },
      "execution_count": 38,
      "outputs": [
        {
          "output_type": "stream",
          "name": "stdout",
          "text": [
            "0    0.233080\n",
            "1    0.250532\n",
            "2    0.974800\n",
            "dtype: float64\n"
          ]
        }
      ]
    },
    {
      "cell_type": "code",
      "source": [
        "# Change a value\n",
        "\n",
        "s_num[0] = 100 # C\n",
        "print(s_num)"
      ],
      "metadata": {
        "colab": {
          "base_uri": "https://localhost:8080/"
        },
        "id": "qthMbduci1Oh",
        "outputId": "4c738884-667c-4468-8edf-789ac8f50ab6"
      },
      "execution_count": 41,
      "outputs": [
        {
          "output_type": "stream",
          "name": "stdout",
          "text": [
            "0    100.000000\n",
            "1      0.250532\n",
            "2      0.974800\n",
            "3      0.860896\n",
            "4      0.680275\n",
            "5      0.663880\n",
            "6      0.569062\n",
            "7      0.224880\n",
            "dtype: float64\n"
          ]
        }
      ]
    },
    {
      "cell_type": "markdown",
      "source": [
        "# 2.4. Operations"
      ],
      "metadata": {
        "id": "Oulw6NBjjFdu"
      }
    },
    {
      "cell_type": "code",
      "source": [
        "# Basic operations - element wise\n",
        "\n",
        "## Addition\n",
        "s_num + 2\n",
        "\n",
        "## Substraction\n",
        "s_num - 3 \n",
        "\n",
        "## Multiplication\n",
        "s_num * 4\n",
        "\n",
        "## Division\n",
        "s_num / 5\n",
        "\n",
        "## Exponentiation\n",
        "s_num  ** 2\n",
        "\n",
        "## Special\n",
        "np.exp(s_num)\n",
        "np.log(s_num)"
      ],
      "metadata": {
        "colab": {
          "base_uri": "https://localhost:8080/"
        },
        "id": "e_EMT0qcjJJQ",
        "outputId": "a1242d8a-e1b6-4b6c-bd10-777533f646fb"
      },
      "execution_count": 52,
      "outputs": [
        {
          "output_type": "execute_result",
          "data": {
            "text/plain": [
              "0    4.605170\n",
              "1   -1.384167\n",
              "2   -0.025523\n",
              "3   -0.149781\n",
              "4   -0.385258\n",
              "5   -0.409654\n",
              "6   -0.563766\n",
              "7   -1.492188\n",
              "dtype: float64"
            ]
          },
          "metadata": {},
          "execution_count": 52
        }
      ]
    },
    {
      "cell_type": "markdown",
      "source": [
        "# **3. Pandas Time-Series**\n",
        "\n",
        "It is a very special object because is that the index are dates.\n"
      ],
      "metadata": {
        "id": "VX1faDSlkl-o"
      }
    },
    {
      "cell_type": "markdown",
      "source": [
        "## 3.1. Indexing Pandas TimeSeries"
      ],
      "metadata": {
        "id": "ErhAjAJAlR4p"
      }
    },
    {
      "cell_type": "code",
      "source": [
        "# Create a date range\n",
        "\n",
        "pd.date_range(start = '01/01/2022', end = '28/09/2022')"
      ],
      "metadata": {
        "colab": {
          "base_uri": "https://localhost:8080/"
        },
        "id": "suA3H1MSlZIZ",
        "outputId": "5942a532-af17-44bf-9540-3342fa58ace9"
      },
      "execution_count": 49,
      "outputs": [
        {
          "output_type": "execute_result",
          "data": {
            "text/plain": [
              "DatetimeIndex(['2022-01-01', '2022-01-02', '2022-01-03', '2022-01-04',\n",
              "               '2022-01-05', '2022-01-06', '2022-01-07', '2022-01-08',\n",
              "               '2022-01-09', '2022-01-10',\n",
              "               ...\n",
              "               '2022-09-19', '2022-09-20', '2022-09-21', '2022-09-22',\n",
              "               '2022-09-23', '2022-09-24', '2022-09-25', '2022-09-26',\n",
              "               '2022-09-27', '2022-09-28'],\n",
              "              dtype='datetime64[ns]', length=271, freq='D')"
            ]
          },
          "metadata": {},
          "execution_count": 49
        }
      ]
    },
    {
      "cell_type": "code",
      "source": [
        "# Create a date range\n",
        "\n",
        "pd.date_range(start = '01/01/2022', periods = 35)"
      ],
      "metadata": {
        "colab": {
          "base_uri": "https://localhost:8080/"
        },
        "id": "7v6TQiM3mlNf",
        "outputId": "a15eb0b6-66c2-4b66-9b20-976095e5da2b"
      },
      "execution_count": 53,
      "outputs": [
        {
          "output_type": "execute_result",
          "data": {
            "text/plain": [
              "DatetimeIndex(['2022-01-01', '2022-01-02', '2022-01-03', '2022-01-04',\n",
              "               '2022-01-05', '2022-01-06', '2022-01-07', '2022-01-08',\n",
              "               '2022-01-09', '2022-01-10', '2022-01-11', '2022-01-12',\n",
              "               '2022-01-13', '2022-01-14', '2022-01-15', '2022-01-16',\n",
              "               '2022-01-17', '2022-01-18', '2022-01-19', '2022-01-20',\n",
              "               '2022-01-21', '2022-01-22', '2022-01-23', '2022-01-24',\n",
              "               '2022-01-25', '2022-01-26', '2022-01-27', '2022-01-28',\n",
              "               '2022-01-29', '2022-01-30', '2022-01-31', '2022-02-01',\n",
              "               '2022-02-02', '2022-02-03', '2022-02-04'],\n",
              "              dtype='datetime64[ns]', freq='D')"
            ]
          },
          "metadata": {},
          "execution_count": 53
        }
      ]
    },
    {
      "cell_type": "code",
      "source": [
        "# Create a date range\n",
        "\n",
        "pd.date_range(end = '28/09/2022', periods = 21, freq = 'D')"
      ],
      "metadata": {
        "colab": {
          "base_uri": "https://localhost:8080/"
        },
        "id": "_kSKuBQhm1OG",
        "outputId": "417e2e04-ea4a-4c0f-89e8-a1fd33b77450"
      },
      "execution_count": 57,
      "outputs": [
        {
          "output_type": "execute_result",
          "data": {
            "text/plain": [
              "DatetimeIndex(['2021-09-30', '2021-10-31', '2021-11-30', '2021-12-31',\n",
              "               '2022-01-31', '2022-02-28', '2022-03-31', '2022-04-30',\n",
              "               '2022-05-31', '2022-06-30', '2022-07-31', '2022-08-31'],\n",
              "              dtype='datetime64[ns]', freq='M')"
            ]
          },
          "metadata": {},
          "execution_count": 57
        }
      ]
    },
    {
      "cell_type": "markdown",
      "source": [
        "If i need a different frequency:\n",
        "* H - hourly\n",
        "* M - end of the month\n",
        "* MS - Start of the month\n",
        "* XM - 2M\n",
        "* XMS - 2MS\n",
        "* Q - end of the quarter\n",
        "* QS - Start of the quarter\n",
        "* A or Y - end of the year\n",
        "+ As or Ys - Start of the year\n"
      ],
      "metadata": {
        "id": "nuQuMvcnnUvk"
      }
    },
    {
      "cell_type": "code",
      "source": [
        "pd.date_range(start = '28/09/2022', periods = 37, freq = 'M')"
      ],
      "metadata": {
        "colab": {
          "base_uri": "https://localhost:8080/"
        },
        "id": "xnMzwloZnUH8",
        "outputId": "e2887485-a0a0-460d-8ba1-fbd0b271ccf9"
      },
      "execution_count": 65,
      "outputs": [
        {
          "output_type": "execute_result",
          "data": {
            "text/plain": [
              "DatetimeIndex(['2022-09-30', '2022-10-31', '2022-11-30', '2022-12-31',\n",
              "               '2023-01-31', '2023-02-28', '2023-03-31', '2023-04-30',\n",
              "               '2023-05-31', '2023-06-30', '2023-07-31', '2023-08-31',\n",
              "               '2023-09-30', '2023-10-31', '2023-11-30', '2023-12-31',\n",
              "               '2024-01-31', '2024-02-29', '2024-03-31', '2024-04-30',\n",
              "               '2024-05-31', '2024-06-30', '2024-07-31', '2024-08-31',\n",
              "               '2024-09-30', '2024-10-31', '2024-11-30', '2024-12-31',\n",
              "               '2025-01-31', '2025-02-28', '2025-03-31', '2025-04-30',\n",
              "               '2025-05-31', '2025-06-30', '2025-07-31', '2025-08-31',\n",
              "               '2025-09-30'],\n",
              "              dtype='datetime64[ns]', freq='M')"
            ]
          },
          "metadata": {},
          "execution_count": 65
        }
      ]
    },
    {
      "cell_type": "markdown",
      "source": [
        "# 3.2. Assign a time-series index"
      ],
      "metadata": {
        "id": "F1jEwvLoqiKg"
      }
    },
    {
      "cell_type": "code",
      "source": [
        "# Create a Series \n",
        "#How do Iget append or assign dates?\n",
        "my_dates = pd.date_range(start = '26/09/2022', end = '30/09/2022')\n",
        "\n",
        "s_sales = pd.Series(np.random.randint(low = 100, high = 300, size = 5)) # this is the data for sales\n",
        "\n",
        "s_sales = pd.Series (s_sales, index = my_dates)\n",
        "print(s_sales)"
      ],
      "metadata": {
        "colab": {
          "base_uri": "https://localhost:8080/"
        },
        "id": "s_uj3IjCqpkI",
        "outputId": "6124c593-9622-4259-8da7-990391961077"
      },
      "execution_count": 67,
      "outputs": [
        {
          "output_type": "stream",
          "name": "stdout",
          "text": [
            "2022-09-26   NaN\n",
            "2022-09-27   NaN\n",
            "2022-09-28   NaN\n",
            "2022-09-29   NaN\n",
            "2022-09-30   NaN\n",
            "Freq: D, dtype: float64\n"
          ]
        }
      ]
    }
  ]
}