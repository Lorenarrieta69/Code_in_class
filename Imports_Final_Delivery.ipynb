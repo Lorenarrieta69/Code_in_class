{
  "nbformat": 4,
  "nbformat_minor": 0,
  "metadata": {
    "colab": {
      "provenance": [],
      "toc_visible": true,
      "authorship_tag": "ABX9TyPzpmm2cwRqOlQGmUxC4SRz",
      "include_colab_link": true
    },
    "kernelspec": {
      "name": "python3",
      "display_name": "Python 3"
    },
    "language_info": {
      "name": "python"
    }
  },
  "cells": [
    {
      "cell_type": "markdown",
      "metadata": {
        "id": "view-in-github",
        "colab_type": "text"
      },
      "source": [
        "<a href=\"https://colab.research.google.com/github/Lorenarrieta69/Code_in_class/blob/main/Imports_Final_Delivery.ipynb\" target=\"_parent\"><img src=\"https://colab.research.google.com/assets/colab-badge.svg\" alt=\"Open In Colab\"/></a>"
      ]
    },
    {
      "cell_type": "markdown",
      "source": [
        "# **FINAL EXAM**\n"
      ],
      "metadata": {
        "id": "vUFzRRcdHtRq"
      }
    },
    {
      "cell_type": "markdown",
      "source": [
        "## **Information**\n",
        "\n",
        "Name: Ashly Lorena Arrieta Ruiz\n",
        "\n",
        "Code: 63191072\n",
        "\n",
        "ID:1010119269"
      ],
      "metadata": {
        "id": "8NNUbNYmH7pQ"
      }
    },
    {
      "cell_type": "markdown",
      "source": [
        "## **1. Data set**"
      ],
      "metadata": {
        "id": "9pmqtd3gJg1z"
      }
    },
    {
      "cell_type": "markdown",
      "source": [
        "### *1.1. Variable*"
      ],
      "metadata": {
        "id": "YCUFlMOGJlL_"
      }
    },
    {
      "cell_type": "markdown",
      "source": [
        "#### **1.1.1. What is a variable?**\n",
        "\n",
        "The variable to be used for the visualization is `Imports of goods and services (US$ at current prices)` at the world level.\n",
        "\n",
        "![Imagen](https://estaticos-cdn.sport.es/clip/fbe96561-bfbe-4ad4-b8ec-4da85303d478_alta-libre-aspect-ratio_default_0.jpg)"
      ],
      "metadata": {
        "id": "i4xuMOYMIaQI"
      }
    },
    {
      "cell_type": "markdown",
      "source": [
        "####**1.1.2. Units**\n",
        "\n",
        "The DV of imports is presented in units of millions of USD (at current prices).\n"
      ],
      "metadata": {
        "id": "nw5Bq6NUKHyy"
      }
    },
    {
      "cell_type": "markdown",
      "source": [
        "####**1.1.3. Individuals**\n",
        "\n",
        "The following are the most importing countries in the world; however, it is worth mentioning that `Colombia, Bolivia and Russian Federation` are not part of this select top. Within the top 10 are: `United States, China, Germany, United Kingdom, Japan, Netherlands, France, Korea, Italy and Canada`. For a total of 13 countries.\n",
        "\n",
        "![Imagen](https://i0.wp.com/www.visionmaritima.com.uy/wp-content/uploads/2015/05/apertura%20al%20mundo.jpg?fit=700%2C635&ssl=1)\n",
        "\n"
      ],
      "metadata": {
        "id": "8bUILl9KKV8y"
      }
    },
    {
      "cell_type": "markdown",
      "source": [
        "####**1.1.4. Period**\n",
        "\n",
        "The DV is performed over `the period from 1960 to 2021`, taking into account that the data are annual to determine the changes provided by these periods.\n"
      ],
      "metadata": {
        "id": "eDgKHxekKcoE"
      }
    },
    {
      "cell_type": "markdown",
      "source": [
        "###*1.2 Sourse*"
      ],
      "metadata": {
        "id": "rmi_bCzwKqTv"
      }
    },
    {
      "cell_type": "markdown",
      "source": [
        "####**1.2.1. URL**\n",
        "\n",
        "The main source of information is the world bank\n",
        "\n",
        "✔ [Imports](https://datos.bancomundial.org/indicador/NE.IMP.GNFS.CD?end=2021&locations=US-CN-DE-GB-JP-NL-FR-KR-IT-CA-CO-BO-RU&name_desc=true&start=1971)"
      ],
      "metadata": {
        "id": "0ZHYieNVKrbH"
      }
    },
    {
      "cell_type": "markdown",
      "source": [
        "#**2. Data Visualization**"
      ],
      "metadata": {
        "id": "-egB5ZbrK69k"
      }
    },
    {
      "cell_type": "code",
      "source": [
        "# Erase everything\n",
        "%reset"
      ],
      "metadata": {
        "id": "wrMrwxGyVSiw"
      },
      "execution_count": null,
      "outputs": []
    },
    {
      "cell_type": "code",
      "source": [
        "# The Libraries\n",
        "import pandas as pd\n",
        "import numpy as np # just in case\n",
        "import plotly.express as px\n",
        "import plotly.graph_objects as go  # graphs other than scatter and bar or customize"
      ],
      "metadata": {
        "id": "-PkEvnW8YW2F"
      },
      "execution_count": null,
      "outputs": []
    },
    {
      "cell_type": "code",
      "source": [
        "# Save the file path\n",
        "p1 = '/content/Data.xlsx'\n",
        "\n",
        "# Read file\n",
        "df = pd.read_excel(p1)\n",
        "\n",
        "# Check\n",
        "df.info()"
      ],
      "metadata": {
        "id": "zzyFJC0VYZk3"
      },
      "execution_count": null,
      "outputs": []
    },
    {
      "cell_type": "code",
      "source": [
        "df = df.set_index('Date', drop = False) # drop does not delete Date\n",
        "df.head()"
      ],
      "metadata": {
        "id": "_Nw7rm5hYdqV"
      },
      "execution_count": null,
      "outputs": []
    },
    {
      "cell_type": "code",
      "source": [
        "# Base Layout\n",
        "fig = go.Figure(\n",
        "    layout = go.Layout(\n",
        "        updatemenus = [dict(type = \"buttons\", direction = \"down\", x = -0, y = -0.2)],\n",
        "        xaxis = dict(range = ['1958','2025'],\n",
        "                     autorange = False, tickwidth = 2,\n",
        "                     title_text = \"Dates\"),\n",
        "        yaxis = dict(range = [-500000,3500000],\n",
        "                     autorange = False, \n",
        "                     title_text = \"\"),\n",
        "        title = \"Imports of goods and services (US$ at current prices)\",\n",
        "        title_font_size = 30,\n",
        "        title_x = 0.5\n",
        "    )\n",
        ")\n",
        "\n",
        "fig.show()"
      ],
      "metadata": {
        "id": "l8CcJmwIYhhB"
      },
      "execution_count": null,
      "outputs": []
    },
    {
      "cell_type": "markdown",
      "source": [
        "#**3. What is main take-away of DV?**"
      ],
      "metadata": {
        "id": "_Q2WnTW7Vhrc"
      }
    },
    {
      "cell_type": "markdown",
      "source": [
        "The main idea of the DV is to show the growth of imports, taking into account the top of the most importing countries. However, Colombia stood out to measure its evolution within the top countries over the years."
      ],
      "metadata": {
        "id": "AnrFoluoVi54"
      }
    }
  ]
}