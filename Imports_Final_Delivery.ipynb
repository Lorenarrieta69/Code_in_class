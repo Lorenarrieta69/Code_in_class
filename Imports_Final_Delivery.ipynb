{
  "nbformat": 4,
  "nbformat_minor": 0,
  "metadata": {
    "colab": {
      "provenance": [],
      "authorship_tag": "ABX9TyMmiwqy1hu71Br4WcC14jyx",
      "include_colab_link": true
    },
    "kernelspec": {
      "name": "python3",
      "display_name": "Python 3"
    },
    "language_info": {
      "name": "python"
    }
  },
  "cells": [
    {
      "cell_type": "markdown",
      "metadata": {
        "id": "view-in-github",
        "colab_type": "text"
      },
      "source": [
        "<a href=\"https://colab.research.google.com/github/Lorenarrieta69/Code_in_class/blob/main/Imports_Final_Delivery.ipynb\" target=\"_parent\"><img src=\"https://colab.research.google.com/assets/colab-badge.svg\" alt=\"Open In Colab\"/></a>"
      ]
    },
    {
      "cell_type": "markdown",
      "source": [
        "# **FINAL EXAM**\n"
      ],
      "metadata": {
        "id": "vUFzRRcdHtRq"
      }
    },
    {
      "cell_type": "markdown",
      "source": [
        "## **Information**\n",
        "\n",
        "Name: Ashly Lorena Arrieta Ruiz\n",
        "\n",
        "Code: 63191072\n",
        "\n",
        "ID:1010119269"
      ],
      "metadata": {
        "id": "8NNUbNYmH7pQ"
      }
    },
    {
      "cell_type": "markdown",
      "source": [
        "## **1. Data set**"
      ],
      "metadata": {
        "id": "9pmqtd3gJg1z"
      }
    },
    {
      "cell_type": "markdown",
      "source": [
        "### *1.1. Variable*"
      ],
      "metadata": {
        "id": "YCUFlMOGJlL_"
      }
    },
    {
      "cell_type": "markdown",
      "source": [
        "#### **1.1.1. What is a variable?**\n",
        "\n",
        "The variable to be used for the visualization is `Imports of goods and services (US$ at current prices)` at the world level.\n",
        "\n",
        "![Imagen](https://estaticos-cdn.sport.es/clip/fbe96561-bfbe-4ad4-b8ec-4da85303d478_alta-libre-aspect-ratio_default_0.jpg)"
      ],
      "metadata": {
        "id": "i4xuMOYMIaQI"
      }
    },
    {
      "cell_type": "markdown",
      "source": [
        "####**1.1.2. Units**\n",
        "\n",
        "The DV of imports is presented in units of millions of USD (at current prices).\n"
      ],
      "metadata": {
        "id": "nw5Bq6NUKHyy"
      }
    },
    {
      "cell_type": "markdown",
      "source": [
        "####**1.1.3. Individuals**\n",
        "\n",
        "The following are the most importing countries in the world; however, it is worth mentioning that `Colombia, Bolivia and Russian Federation` are not part of this select top. Within the top 10 are: `United States, China, Germany, United Kingdom, Japan, Netherlands, France, Korea, Italy and Canada`. For a total of 13 countries.\n",
        "\n",
        "![Imagen](https://i0.wp.com/www.visionmaritima.com.uy/wp-content/uploads/2015/05/apertura%20al%20mundo.jpg?fit=700%2C635&ssl=1)\n",
        "\n"
      ],
      "metadata": {
        "id": "8bUILl9KKV8y"
      }
    },
    {
      "cell_type": "markdown",
      "source": [
        "####**1.1.4. Period**\n",
        "\n",
        "The DV is performed over `the period from 1960 to 2021`, taking into account that the data are annual to determine the changes provided by these periods.\n"
      ],
      "metadata": {
        "id": "eDgKHxekKcoE"
      }
    },
    {
      "cell_type": "markdown",
      "source": [
        "###*1.2 Sourse*"
      ],
      "metadata": {
        "id": "rmi_bCzwKqTv"
      }
    },
    {
      "cell_type": "markdown",
      "source": [
        "####**1.2.1. URL**\n",
        "\n",
        "The main source of information is the world bank\n",
        "\n",
        "✔ [Imports](https://datos.bancomundial.org/indicador/NE.IMP.GNFS.CD?end=2021&locations=US-CN-DE-GB-JP-NL-FR-KR-IT-CA-CO-BO-RU&name_desc=true&start=1971)"
      ],
      "metadata": {
        "id": "0ZHYieNVKrbH"
      }
    },
    {
      "cell_type": "markdown",
      "source": [
        "#**2. Data Visualization**"
      ],
      "metadata": {
        "id": "-egB5ZbrK69k"
      }
    },
    {
      "cell_type": "markdown",
      "source": [
        " ✔ [Data Visualization 1.0](https://github.com/Lorenarrieta69/Code_in_class/blob/main/Practice.ipynb)\n",
        " "
      ],
      "metadata": {
        "id": "iguNi57YEkaL"
      }
    },
    {
      "cell_type": "code",
      "source": [
        "# Erase everything\n",
        "%reset"
      ],
      "metadata": {
        "colab": {
          "base_uri": "https://localhost:8080/"
        },
        "id": "wrMrwxGyVSiw",
        "outputId": "831798f6-0907-4e9e-966c-3ab5d90cdae4"
      },
      "execution_count": 48,
      "outputs": [
        {
          "name": "stdout",
          "output_type": "stream",
          "text": [
            "Once deleted, variables cannot be recovered. Proceed (y/[n])? y\n"
          ]
        }
      ]
    },
    {
      "cell_type": "code",
      "source": [
        "# The Libraries\n",
        "import pandas as pd\n",
        "import numpy as np # just in case\n",
        "import plotly.express as px\n",
        "import plotly.graph_objects as go  # graphs other than scatter and bar or customize"
      ],
      "metadata": {
        "id": "-PkEvnW8YW2F"
      },
      "execution_count": 49,
      "outputs": []
    },
    {
      "cell_type": "code",
      "source": [
        "# Save the file path\n",
        "p1 = '/content/Data.xlsx'\n",
        "\n",
        "# Read file\n",
        "df = pd.read_excel(p1)\n",
        "\n",
        "# Check\n",
        "df.info()"
      ],
      "metadata": {
        "colab": {
          "base_uri": "https://localhost:8080/"
        },
        "id": "zzyFJC0VYZk3",
        "outputId": "f57c00b5-17c5-4495-8d3a-5471ba3815ef"
      },
      "execution_count": 50,
      "outputs": [
        {
          "output_type": "stream",
          "name": "stdout",
          "text": [
            "<class 'pandas.core.frame.DataFrame'>\n",
            "RangeIndex: 62 entries, 0 to 61\n",
            "Data columns (total 14 columns):\n",
            " #   Column  Non-Null Count  Dtype  \n",
            "---  ------  --------------  -----  \n",
            " 0   Date    62 non-null     int64  \n",
            " 1   BOL     62 non-null     float64\n",
            " 2   CAN     62 non-null     float64\n",
            " 3   CHN     62 non-null     float64\n",
            " 4   COL     62 non-null     float64\n",
            " 5   DEU     62 non-null     float64\n",
            " 6   FRA     62 non-null     float64\n",
            " 7   GBR     62 non-null     float64\n",
            " 8   ITA     62 non-null     float64\n",
            " 9   JPN     62 non-null     float64\n",
            " 10  KOR     62 non-null     float64\n",
            " 11  NLD     62 non-null     float64\n",
            " 12  RUS     62 non-null     float64\n",
            " 13  USA     62 non-null     int64  \n",
            "dtypes: float64(12), int64(2)\n",
            "memory usage: 6.9 KB\n"
          ]
        }
      ]
    },
    {
      "cell_type": "code",
      "source": [
        "df = df.set_index('Date', drop = False) # drop does not delete Date\n",
        "df.head()"
      ],
      "metadata": {
        "colab": {
          "base_uri": "https://localhost:8080/",
          "height": 238
        },
        "id": "_Nw7rm5hYdqV",
        "outputId": "b10c0700-c789-4b90-f4cc-f8cd685ba9b1"
      },
      "execution_count": 51,
      "outputs": [
        {
          "output_type": "execute_result",
          "data": {
            "text/plain": [
              "      Date         BOL          CAN          CHN         COL  DEU  \\\n",
              "Date                                                                \n",
              "1960  1960   89.483965     0.000000  2644.406532  594.894695  0.0   \n",
              "1961  1961   94.909765  7480.255449  1746.689414  627.934716  0.0   \n",
              "1962  1962  113.858328  7594.733340  1372.979121  605.929809  0.0   \n",
              "1963  1963  126.128984  7854.369043  1450.158421  597.285656  0.0   \n",
              "1964  1964  126.629827  8918.902585  1710.130799  755.727700  0.0   \n",
              "\n",
              "               FRA  GBR  ITA  JPN         KOR  NLD  RUS  USA  \n",
              "Date                                                          \n",
              "1960   7703.448807  0.0  0.0  0.0  474.140116  0.0  0.0    0  \n",
              "1961   8273.434930  0.0  0.0  0.0  337.523800  0.0  0.0    0  \n",
              "1962   9042.716900  0.0  0.0  0.0  438.924765  0.0  0.0    0  \n",
              "1963  10367.369963  0.0  0.0  0.0  584.540710  0.0  0.0    0  \n",
              "1964  12137.117085  0.0  0.0  0.0  428.205544  0.0  0.0    0  "
            ],
            "text/html": [
              "\n",
              "  <div id=\"df-aee7c6dc-3a49-4831-a6d9-2ea9f95840b8\">\n",
              "    <div class=\"colab-df-container\">\n",
              "      <div>\n",
              "<style scoped>\n",
              "    .dataframe tbody tr th:only-of-type {\n",
              "        vertical-align: middle;\n",
              "    }\n",
              "\n",
              "    .dataframe tbody tr th {\n",
              "        vertical-align: top;\n",
              "    }\n",
              "\n",
              "    .dataframe thead th {\n",
              "        text-align: right;\n",
              "    }\n",
              "</style>\n",
              "<table border=\"1\" class=\"dataframe\">\n",
              "  <thead>\n",
              "    <tr style=\"text-align: right;\">\n",
              "      <th></th>\n",
              "      <th>Date</th>\n",
              "      <th>BOL</th>\n",
              "      <th>CAN</th>\n",
              "      <th>CHN</th>\n",
              "      <th>COL</th>\n",
              "      <th>DEU</th>\n",
              "      <th>FRA</th>\n",
              "      <th>GBR</th>\n",
              "      <th>ITA</th>\n",
              "      <th>JPN</th>\n",
              "      <th>KOR</th>\n",
              "      <th>NLD</th>\n",
              "      <th>RUS</th>\n",
              "      <th>USA</th>\n",
              "    </tr>\n",
              "    <tr>\n",
              "      <th>Date</th>\n",
              "      <th></th>\n",
              "      <th></th>\n",
              "      <th></th>\n",
              "      <th></th>\n",
              "      <th></th>\n",
              "      <th></th>\n",
              "      <th></th>\n",
              "      <th></th>\n",
              "      <th></th>\n",
              "      <th></th>\n",
              "      <th></th>\n",
              "      <th></th>\n",
              "      <th></th>\n",
              "      <th></th>\n",
              "    </tr>\n",
              "  </thead>\n",
              "  <tbody>\n",
              "    <tr>\n",
              "      <th>1960</th>\n",
              "      <td>1960</td>\n",
              "      <td>89.483965</td>\n",
              "      <td>0.000000</td>\n",
              "      <td>2644.406532</td>\n",
              "      <td>594.894695</td>\n",
              "      <td>0.0</td>\n",
              "      <td>7703.448807</td>\n",
              "      <td>0.0</td>\n",
              "      <td>0.0</td>\n",
              "      <td>0.0</td>\n",
              "      <td>474.140116</td>\n",
              "      <td>0.0</td>\n",
              "      <td>0.0</td>\n",
              "      <td>0</td>\n",
              "    </tr>\n",
              "    <tr>\n",
              "      <th>1961</th>\n",
              "      <td>1961</td>\n",
              "      <td>94.909765</td>\n",
              "      <td>7480.255449</td>\n",
              "      <td>1746.689414</td>\n",
              "      <td>627.934716</td>\n",
              "      <td>0.0</td>\n",
              "      <td>8273.434930</td>\n",
              "      <td>0.0</td>\n",
              "      <td>0.0</td>\n",
              "      <td>0.0</td>\n",
              "      <td>337.523800</td>\n",
              "      <td>0.0</td>\n",
              "      <td>0.0</td>\n",
              "      <td>0</td>\n",
              "    </tr>\n",
              "    <tr>\n",
              "      <th>1962</th>\n",
              "      <td>1962</td>\n",
              "      <td>113.858328</td>\n",
              "      <td>7594.733340</td>\n",
              "      <td>1372.979121</td>\n",
              "      <td>605.929809</td>\n",
              "      <td>0.0</td>\n",
              "      <td>9042.716900</td>\n",
              "      <td>0.0</td>\n",
              "      <td>0.0</td>\n",
              "      <td>0.0</td>\n",
              "      <td>438.924765</td>\n",
              "      <td>0.0</td>\n",
              "      <td>0.0</td>\n",
              "      <td>0</td>\n",
              "    </tr>\n",
              "    <tr>\n",
              "      <th>1963</th>\n",
              "      <td>1963</td>\n",
              "      <td>126.128984</td>\n",
              "      <td>7854.369043</td>\n",
              "      <td>1450.158421</td>\n",
              "      <td>597.285656</td>\n",
              "      <td>0.0</td>\n",
              "      <td>10367.369963</td>\n",
              "      <td>0.0</td>\n",
              "      <td>0.0</td>\n",
              "      <td>0.0</td>\n",
              "      <td>584.540710</td>\n",
              "      <td>0.0</td>\n",
              "      <td>0.0</td>\n",
              "      <td>0</td>\n",
              "    </tr>\n",
              "    <tr>\n",
              "      <th>1964</th>\n",
              "      <td>1964</td>\n",
              "      <td>126.629827</td>\n",
              "      <td>8918.902585</td>\n",
              "      <td>1710.130799</td>\n",
              "      <td>755.727700</td>\n",
              "      <td>0.0</td>\n",
              "      <td>12137.117085</td>\n",
              "      <td>0.0</td>\n",
              "      <td>0.0</td>\n",
              "      <td>0.0</td>\n",
              "      <td>428.205544</td>\n",
              "      <td>0.0</td>\n",
              "      <td>0.0</td>\n",
              "      <td>0</td>\n",
              "    </tr>\n",
              "  </tbody>\n",
              "</table>\n",
              "</div>\n",
              "      <button class=\"colab-df-convert\" onclick=\"convertToInteractive('df-aee7c6dc-3a49-4831-a6d9-2ea9f95840b8')\"\n",
              "              title=\"Convert this dataframe to an interactive table.\"\n",
              "              style=\"display:none;\">\n",
              "        \n",
              "  <svg xmlns=\"http://www.w3.org/2000/svg\" height=\"24px\"viewBox=\"0 0 24 24\"\n",
              "       width=\"24px\">\n",
              "    <path d=\"M0 0h24v24H0V0z\" fill=\"none\"/>\n",
              "    <path d=\"M18.56 5.44l.94 2.06.94-2.06 2.06-.94-2.06-.94-.94-2.06-.94 2.06-2.06.94zm-11 1L8.5 8.5l.94-2.06 2.06-.94-2.06-.94L8.5 2.5l-.94 2.06-2.06.94zm10 10l.94 2.06.94-2.06 2.06-.94-2.06-.94-.94-2.06-.94 2.06-2.06.94z\"/><path d=\"M17.41 7.96l-1.37-1.37c-.4-.4-.92-.59-1.43-.59-.52 0-1.04.2-1.43.59L10.3 9.45l-7.72 7.72c-.78.78-.78 2.05 0 2.83L4 21.41c.39.39.9.59 1.41.59.51 0 1.02-.2 1.41-.59l7.78-7.78 2.81-2.81c.8-.78.8-2.07 0-2.86zM5.41 20L4 18.59l7.72-7.72 1.47 1.35L5.41 20z\"/>\n",
              "  </svg>\n",
              "      </button>\n",
              "      \n",
              "  <style>\n",
              "    .colab-df-container {\n",
              "      display:flex;\n",
              "      flex-wrap:wrap;\n",
              "      gap: 12px;\n",
              "    }\n",
              "\n",
              "    .colab-df-convert {\n",
              "      background-color: #E8F0FE;\n",
              "      border: none;\n",
              "      border-radius: 50%;\n",
              "      cursor: pointer;\n",
              "      display: none;\n",
              "      fill: #1967D2;\n",
              "      height: 32px;\n",
              "      padding: 0 0 0 0;\n",
              "      width: 32px;\n",
              "    }\n",
              "\n",
              "    .colab-df-convert:hover {\n",
              "      background-color: #E2EBFA;\n",
              "      box-shadow: 0px 1px 2px rgba(60, 64, 67, 0.3), 0px 1px 3px 1px rgba(60, 64, 67, 0.15);\n",
              "      fill: #174EA6;\n",
              "    }\n",
              "\n",
              "    [theme=dark] .colab-df-convert {\n",
              "      background-color: #3B4455;\n",
              "      fill: #D2E3FC;\n",
              "    }\n",
              "\n",
              "    [theme=dark] .colab-df-convert:hover {\n",
              "      background-color: #434B5C;\n",
              "      box-shadow: 0px 1px 3px 1px rgba(0, 0, 0, 0.15);\n",
              "      filter: drop-shadow(0px 1px 2px rgba(0, 0, 0, 0.3));\n",
              "      fill: #FFFFFF;\n",
              "    }\n",
              "  </style>\n",
              "\n",
              "      <script>\n",
              "        const buttonEl =\n",
              "          document.querySelector('#df-aee7c6dc-3a49-4831-a6d9-2ea9f95840b8 button.colab-df-convert');\n",
              "        buttonEl.style.display =\n",
              "          google.colab.kernel.accessAllowed ? 'block' : 'none';\n",
              "\n",
              "        async function convertToInteractive(key) {\n",
              "          const element = document.querySelector('#df-aee7c6dc-3a49-4831-a6d9-2ea9f95840b8');\n",
              "          const dataTable =\n",
              "            await google.colab.kernel.invokeFunction('convertToInteractive',\n",
              "                                                     [key], {});\n",
              "          if (!dataTable) return;\n",
              "\n",
              "          const docLinkHtml = 'Like what you see? Visit the ' +\n",
              "            '<a target=\"_blank\" href=https://colab.research.google.com/notebooks/data_table.ipynb>data table notebook</a>'\n",
              "            + ' to learn more about interactive tables.';\n",
              "          element.innerHTML = '';\n",
              "          dataTable['output_type'] = 'display_data';\n",
              "          await google.colab.output.renderOutput(dataTable, element);\n",
              "          const docLink = document.createElement('div');\n",
              "          docLink.innerHTML = docLinkHtml;\n",
              "          element.appendChild(docLink);\n",
              "        }\n",
              "      </script>\n",
              "    </div>\n",
              "  </div>\n",
              "  "
            ]
          },
          "metadata": {},
          "execution_count": 51
        }
      ]
    },
    {
      "cell_type": "code",
      "source": [
        "n_frame={}\n",
        "for indice_fila, fila in df.iterrows():\n",
        "  n_frame=fila[1:]"
      ],
      "metadata": {
        "id": "vCAeCtKpCmuR"
      },
      "execution_count": 52,
      "outputs": []
    },
    {
      "cell_type": "code",
      "source": [
        "x=n_frame.index"
      ],
      "metadata": {
        "id": "7OPFxGoVDgZQ"
      },
      "execution_count": 53,
      "outputs": []
    },
    {
      "cell_type": "code",
      "source": [
        "# Base Layout\n",
        "\n",
        "fig = go.Figure(go.Bar(\n",
        "    x=n_frame[x.values],\n",
        "    y=x.values,\n",
        "    marker=dict(\n",
        "        color='rgba(50, 171, 96, 0.6)',\n",
        "        line=dict(\n",
        "            color='rgba(50, 171, 96, 1.0)',\n",
        "            width=1),\n",
        "    ),\n",
        "    orientation='h',\n",
        "\n",
        "  ))\n",
        "\n",
        "fig.show()"
      ],
      "metadata": {
        "colab": {
          "base_uri": "https://localhost:8080/",
          "height": 542
        },
        "id": "f_ekocC8Cx3Y",
        "outputId": "33e65eb6-b046-4d18-dcef-d913fb8ffc8d"
      },
      "execution_count": 55,
      "outputs": [
        {
          "output_type": "display_data",
          "data": {
            "text/html": [
              "<html>\n",
              "<head><meta charset=\"utf-8\" /></head>\n",
              "<body>\n",
              "    <div>            <script src=\"https://cdnjs.cloudflare.com/ajax/libs/mathjax/2.7.5/MathJax.js?config=TeX-AMS-MML_SVG\"></script><script type=\"text/javascript\">if (window.MathJax) {MathJax.Hub.Config({SVG: {font: \"STIX-Web\"}});}</script>                <script type=\"text/javascript\">window.PlotlyConfig = {MathJaxConfig: 'local'};</script>\n",
              "        <script src=\"https://cdn.plot.ly/plotly-2.8.3.min.js\"></script>                <div id=\"82fc997c-34f4-4fbb-9e3d-29e42d4e0575\" class=\"plotly-graph-div\" style=\"height:525px; width:100%;\"></div>            <script type=\"text/javascript\">                                    window.PLOTLYENV=window.PLOTLYENV || {};                                    if (document.getElementById(\"82fc997c-34f4-4fbb-9e3d-29e42d4e0575\")) {                    Plotly.newPlot(                        \"82fc997c-34f4-4fbb-9e3d-29e42d4e0575\",                        [{\"marker\":{\"color\":\"rgba(50, 171, 96, 0.6)\",\"line\":{\"color\":\"rgba(50, 171, 96, 1.0)\",\"width\":1}},\"orientation\":\"h\",\"x\":[12605.111070911722,607881.841277367,3089622.822933788,76276.9461825369,1770614.2847596614,940542.2976007601,900168.5541042867,636716.3002530906,0.0,684201.2510421054,738970.2320348718,378028.1667193904,0.0],\"y\":[\"BOL\",\"CAN\",\"CHN\",\"COL\",\"DEU\",\"FRA\",\"GBR\",\"ITA\",\"JPN\",\"KOR\",\"NLD\",\"RUS\",\"USA\"],\"type\":\"bar\"}],                        {\"template\":{\"data\":{\"bar\":[{\"error_x\":{\"color\":\"#2a3f5f\"},\"error_y\":{\"color\":\"#2a3f5f\"},\"marker\":{\"line\":{\"color\":\"#E5ECF6\",\"width\":0.5},\"pattern\":{\"fillmode\":\"overlay\",\"size\":10,\"solidity\":0.2}},\"type\":\"bar\"}],\"barpolar\":[{\"marker\":{\"line\":{\"color\":\"#E5ECF6\",\"width\":0.5},\"pattern\":{\"fillmode\":\"overlay\",\"size\":10,\"solidity\":0.2}},\"type\":\"barpolar\"}],\"carpet\":[{\"aaxis\":{\"endlinecolor\":\"#2a3f5f\",\"gridcolor\":\"white\",\"linecolor\":\"white\",\"minorgridcolor\":\"white\",\"startlinecolor\":\"#2a3f5f\"},\"baxis\":{\"endlinecolor\":\"#2a3f5f\",\"gridcolor\":\"white\",\"linecolor\":\"white\",\"minorgridcolor\":\"white\",\"startlinecolor\":\"#2a3f5f\"},\"type\":\"carpet\"}],\"choropleth\":[{\"colorbar\":{\"outlinewidth\":0,\"ticks\":\"\"},\"type\":\"choropleth\"}],\"contour\":[{\"colorbar\":{\"outlinewidth\":0,\"ticks\":\"\"},\"colorscale\":[[0.0,\"#0d0887\"],[0.1111111111111111,\"#46039f\"],[0.2222222222222222,\"#7201a8\"],[0.3333333333333333,\"#9c179e\"],[0.4444444444444444,\"#bd3786\"],[0.5555555555555556,\"#d8576b\"],[0.6666666666666666,\"#ed7953\"],[0.7777777777777778,\"#fb9f3a\"],[0.8888888888888888,\"#fdca26\"],[1.0,\"#f0f921\"]],\"type\":\"contour\"}],\"contourcarpet\":[{\"colorbar\":{\"outlinewidth\":0,\"ticks\":\"\"},\"type\":\"contourcarpet\"}],\"heatmap\":[{\"colorbar\":{\"outlinewidth\":0,\"ticks\":\"\"},\"colorscale\":[[0.0,\"#0d0887\"],[0.1111111111111111,\"#46039f\"],[0.2222222222222222,\"#7201a8\"],[0.3333333333333333,\"#9c179e\"],[0.4444444444444444,\"#bd3786\"],[0.5555555555555556,\"#d8576b\"],[0.6666666666666666,\"#ed7953\"],[0.7777777777777778,\"#fb9f3a\"],[0.8888888888888888,\"#fdca26\"],[1.0,\"#f0f921\"]],\"type\":\"heatmap\"}],\"heatmapgl\":[{\"colorbar\":{\"outlinewidth\":0,\"ticks\":\"\"},\"colorscale\":[[0.0,\"#0d0887\"],[0.1111111111111111,\"#46039f\"],[0.2222222222222222,\"#7201a8\"],[0.3333333333333333,\"#9c179e\"],[0.4444444444444444,\"#bd3786\"],[0.5555555555555556,\"#d8576b\"],[0.6666666666666666,\"#ed7953\"],[0.7777777777777778,\"#fb9f3a\"],[0.8888888888888888,\"#fdca26\"],[1.0,\"#f0f921\"]],\"type\":\"heatmapgl\"}],\"histogram\":[{\"marker\":{\"pattern\":{\"fillmode\":\"overlay\",\"size\":10,\"solidity\":0.2}},\"type\":\"histogram\"}],\"histogram2d\":[{\"colorbar\":{\"outlinewidth\":0,\"ticks\":\"\"},\"colorscale\":[[0.0,\"#0d0887\"],[0.1111111111111111,\"#46039f\"],[0.2222222222222222,\"#7201a8\"],[0.3333333333333333,\"#9c179e\"],[0.4444444444444444,\"#bd3786\"],[0.5555555555555556,\"#d8576b\"],[0.6666666666666666,\"#ed7953\"],[0.7777777777777778,\"#fb9f3a\"],[0.8888888888888888,\"#fdca26\"],[1.0,\"#f0f921\"]],\"type\":\"histogram2d\"}],\"histogram2dcontour\":[{\"colorbar\":{\"outlinewidth\":0,\"ticks\":\"\"},\"colorscale\":[[0.0,\"#0d0887\"],[0.1111111111111111,\"#46039f\"],[0.2222222222222222,\"#7201a8\"],[0.3333333333333333,\"#9c179e\"],[0.4444444444444444,\"#bd3786\"],[0.5555555555555556,\"#d8576b\"],[0.6666666666666666,\"#ed7953\"],[0.7777777777777778,\"#fb9f3a\"],[0.8888888888888888,\"#fdca26\"],[1.0,\"#f0f921\"]],\"type\":\"histogram2dcontour\"}],\"mesh3d\":[{\"colorbar\":{\"outlinewidth\":0,\"ticks\":\"\"},\"type\":\"mesh3d\"}],\"parcoords\":[{\"line\":{\"colorbar\":{\"outlinewidth\":0,\"ticks\":\"\"}},\"type\":\"parcoords\"}],\"pie\":[{\"automargin\":true,\"type\":\"pie\"}],\"scatter\":[{\"marker\":{\"colorbar\":{\"outlinewidth\":0,\"ticks\":\"\"}},\"type\":\"scatter\"}],\"scatter3d\":[{\"line\":{\"colorbar\":{\"outlinewidth\":0,\"ticks\":\"\"}},\"marker\":{\"colorbar\":{\"outlinewidth\":0,\"ticks\":\"\"}},\"type\":\"scatter3d\"}],\"scattercarpet\":[{\"marker\":{\"colorbar\":{\"outlinewidth\":0,\"ticks\":\"\"}},\"type\":\"scattercarpet\"}],\"scattergeo\":[{\"marker\":{\"colorbar\":{\"outlinewidth\":0,\"ticks\":\"\"}},\"type\":\"scattergeo\"}],\"scattergl\":[{\"marker\":{\"colorbar\":{\"outlinewidth\":0,\"ticks\":\"\"}},\"type\":\"scattergl\"}],\"scattermapbox\":[{\"marker\":{\"colorbar\":{\"outlinewidth\":0,\"ticks\":\"\"}},\"type\":\"scattermapbox\"}],\"scatterpolar\":[{\"marker\":{\"colorbar\":{\"outlinewidth\":0,\"ticks\":\"\"}},\"type\":\"scatterpolar\"}],\"scatterpolargl\":[{\"marker\":{\"colorbar\":{\"outlinewidth\":0,\"ticks\":\"\"}},\"type\":\"scatterpolargl\"}],\"scatterternary\":[{\"marker\":{\"colorbar\":{\"outlinewidth\":0,\"ticks\":\"\"}},\"type\":\"scatterternary\"}],\"surface\":[{\"colorbar\":{\"outlinewidth\":0,\"ticks\":\"\"},\"colorscale\":[[0.0,\"#0d0887\"],[0.1111111111111111,\"#46039f\"],[0.2222222222222222,\"#7201a8\"],[0.3333333333333333,\"#9c179e\"],[0.4444444444444444,\"#bd3786\"],[0.5555555555555556,\"#d8576b\"],[0.6666666666666666,\"#ed7953\"],[0.7777777777777778,\"#fb9f3a\"],[0.8888888888888888,\"#fdca26\"],[1.0,\"#f0f921\"]],\"type\":\"surface\"}],\"table\":[{\"cells\":{\"fill\":{\"color\":\"#EBF0F8\"},\"line\":{\"color\":\"white\"}},\"header\":{\"fill\":{\"color\":\"#C8D4E3\"},\"line\":{\"color\":\"white\"}},\"type\":\"table\"}]},\"layout\":{\"annotationdefaults\":{\"arrowcolor\":\"#2a3f5f\",\"arrowhead\":0,\"arrowwidth\":1},\"autotypenumbers\":\"strict\",\"coloraxis\":{\"colorbar\":{\"outlinewidth\":0,\"ticks\":\"\"}},\"colorscale\":{\"diverging\":[[0,\"#8e0152\"],[0.1,\"#c51b7d\"],[0.2,\"#de77ae\"],[0.3,\"#f1b6da\"],[0.4,\"#fde0ef\"],[0.5,\"#f7f7f7\"],[0.6,\"#e6f5d0\"],[0.7,\"#b8e186\"],[0.8,\"#7fbc41\"],[0.9,\"#4d9221\"],[1,\"#276419\"]],\"sequential\":[[0.0,\"#0d0887\"],[0.1111111111111111,\"#46039f\"],[0.2222222222222222,\"#7201a8\"],[0.3333333333333333,\"#9c179e\"],[0.4444444444444444,\"#bd3786\"],[0.5555555555555556,\"#d8576b\"],[0.6666666666666666,\"#ed7953\"],[0.7777777777777778,\"#fb9f3a\"],[0.8888888888888888,\"#fdca26\"],[1.0,\"#f0f921\"]],\"sequentialminus\":[[0.0,\"#0d0887\"],[0.1111111111111111,\"#46039f\"],[0.2222222222222222,\"#7201a8\"],[0.3333333333333333,\"#9c179e\"],[0.4444444444444444,\"#bd3786\"],[0.5555555555555556,\"#d8576b\"],[0.6666666666666666,\"#ed7953\"],[0.7777777777777778,\"#fb9f3a\"],[0.8888888888888888,\"#fdca26\"],[1.0,\"#f0f921\"]]},\"colorway\":[\"#636efa\",\"#EF553B\",\"#00cc96\",\"#ab63fa\",\"#FFA15A\",\"#19d3f3\",\"#FF6692\",\"#B6E880\",\"#FF97FF\",\"#FECB52\"],\"font\":{\"color\":\"#2a3f5f\"},\"geo\":{\"bgcolor\":\"white\",\"lakecolor\":\"white\",\"landcolor\":\"#E5ECF6\",\"showlakes\":true,\"showland\":true,\"subunitcolor\":\"white\"},\"hoverlabel\":{\"align\":\"left\"},\"hovermode\":\"closest\",\"mapbox\":{\"style\":\"light\"},\"paper_bgcolor\":\"white\",\"plot_bgcolor\":\"#E5ECF6\",\"polar\":{\"angularaxis\":{\"gridcolor\":\"white\",\"linecolor\":\"white\",\"ticks\":\"\"},\"bgcolor\":\"#E5ECF6\",\"radialaxis\":{\"gridcolor\":\"white\",\"linecolor\":\"white\",\"ticks\":\"\"}},\"scene\":{\"xaxis\":{\"backgroundcolor\":\"#E5ECF6\",\"gridcolor\":\"white\",\"gridwidth\":2,\"linecolor\":\"white\",\"showbackground\":true,\"ticks\":\"\",\"zerolinecolor\":\"white\"},\"yaxis\":{\"backgroundcolor\":\"#E5ECF6\",\"gridcolor\":\"white\",\"gridwidth\":2,\"linecolor\":\"white\",\"showbackground\":true,\"ticks\":\"\",\"zerolinecolor\":\"white\"},\"zaxis\":{\"backgroundcolor\":\"#E5ECF6\",\"gridcolor\":\"white\",\"gridwidth\":2,\"linecolor\":\"white\",\"showbackground\":true,\"ticks\":\"\",\"zerolinecolor\":\"white\"}},\"shapedefaults\":{\"line\":{\"color\":\"#2a3f5f\"}},\"ternary\":{\"aaxis\":{\"gridcolor\":\"white\",\"linecolor\":\"white\",\"ticks\":\"\"},\"baxis\":{\"gridcolor\":\"white\",\"linecolor\":\"white\",\"ticks\":\"\"},\"bgcolor\":\"#E5ECF6\",\"caxis\":{\"gridcolor\":\"white\",\"linecolor\":\"white\",\"ticks\":\"\"}},\"title\":{\"x\":0.05},\"xaxis\":{\"automargin\":true,\"gridcolor\":\"white\",\"linecolor\":\"white\",\"ticks\":\"\",\"title\":{\"standoff\":15},\"zerolinecolor\":\"white\",\"zerolinewidth\":2},\"yaxis\":{\"automargin\":true,\"gridcolor\":\"white\",\"linecolor\":\"white\",\"ticks\":\"\",\"title\":{\"standoff\":15},\"zerolinecolor\":\"white\",\"zerolinewidth\":2}}}},                        {\"responsive\": true}                    ).then(function(){\n",
              "                            \n",
              "var gd = document.getElementById('82fc997c-34f4-4fbb-9e3d-29e42d4e0575');\n",
              "var x = new MutationObserver(function (mutations, observer) {{\n",
              "        var display = window.getComputedStyle(gd).display;\n",
              "        if (!display || display === 'none') {{\n",
              "            console.log([gd, 'removed!']);\n",
              "            Plotly.purge(gd);\n",
              "            observer.disconnect();\n",
              "        }}\n",
              "}});\n",
              "\n",
              "// Listen for the removal of the full notebook cells\n",
              "var notebookContainer = gd.closest('#notebook-container');\n",
              "if (notebookContainer) {{\n",
              "    x.observe(notebookContainer, {childList: true});\n",
              "}}\n",
              "\n",
              "// Listen for the clearing of the current output cell\n",
              "var outputEl = gd.closest('.output');\n",
              "if (outputEl) {{\n",
              "    x.observe(outputEl, {childList: true});\n",
              "}}\n",
              "\n",
              "                        })                };                            </script>        </div>\n",
              "</body>\n",
              "</html>"
            ]
          },
          "metadata": {}
        }
      ]
    },
    {
      "cell_type": "code",
      "source": [
        "# Frames\n",
        "frames = [\n",
        "    go.Frame(\n",
        "        data = [\n",
        "            \n",
        "            go.Bar(x=fila[x.values], y=x.values, orientation='h',\n",
        "                   marker=dict(color='rgba(50, 171, 96, 0.6)',\n",
        "                                line=dict(color='rgba(50, 171, 96, 1.0)',\n",
        "                                          width=1)))\n",
        "        ]\n",
        "    )\n",
        "    for indice_fila, fila in df.iterrows()\n",
        "]\n",
        "  "
      ],
      "metadata": {
        "id": "Sr70F8C_GkRA"
      },
      "execution_count": 56,
      "outputs": []
    },
    {
      "cell_type": "code",
      "source": [
        "# More formating\n",
        "fig.update_xaxes(title = 'Date', title_font_size = 20,\n",
        "                 dtick = 'M1')\n",
        "\n",
        "## Legend\n",
        "fig.update_layout(legend=dict(\n",
        "                  orientation=\"h\",\n",
        "                  yanchor=\"middle\",\n",
        "                  y=-0.25,\n",
        "                  xanchor=\"center\",\n",
        "                  x=0.5))\n",
        "fig.show()"
      ],
      "metadata": {
        "colab": {
          "base_uri": "https://localhost:8080/"
        },
        "id": "yZ6aofJaGsX3",
        "outputId": "44ebee59-ae95-4351-dc60-6659bb939639"
      },
      "execution_count": 57,
      "outputs": [
        {
          "output_type": "display_data",
          "data": {
            "text/html": [
              "<html>\n",
              "<head><meta charset=\"utf-8\" /></head>\n",
              "<body>\n",
              "    <div>            <script src=\"https://cdnjs.cloudflare.com/ajax/libs/mathjax/2.7.5/MathJax.js?config=TeX-AMS-MML_SVG\"></script><script type=\"text/javascript\">if (window.MathJax) {MathJax.Hub.Config({SVG: {font: \"STIX-Web\"}});}</script>                <script type=\"text/javascript\">window.PlotlyConfig = {MathJaxConfig: 'local'};</script>\n",
              "        <script src=\"https://cdn.plot.ly/plotly-2.8.3.min.js\"></script>                <div id=\"6294e423-a9b8-437b-99d1-a37296647262\" class=\"plotly-graph-div\" style=\"height:525px; width:100%;\"></div>            <script type=\"text/javascript\">                                    window.PLOTLYENV=window.PLOTLYENV || {};                                    if (document.getElementById(\"6294e423-a9b8-437b-99d1-a37296647262\")) {                    Plotly.newPlot(                        \"6294e423-a9b8-437b-99d1-a37296647262\",                        [{\"marker\":{\"color\":\"rgba(50, 171, 96, 0.6)\",\"line\":{\"color\":\"rgba(50, 171, 96, 1.0)\",\"width\":1}},\"orientation\":\"h\",\"x\":[12605.111070911722,607881.841277367,3089622.822933788,76276.9461825369,1770614.2847596614,940542.2976007601,900168.5541042867,636716.3002530906,0.0,684201.2510421054,738970.2320348718,378028.1667193904,0.0],\"y\":[\"BOL\",\"CAN\",\"CHN\",\"COL\",\"DEU\",\"FRA\",\"GBR\",\"ITA\",\"JPN\",\"KOR\",\"NLD\",\"RUS\",\"USA\"],\"type\":\"bar\"}],                        {\"template\":{\"data\":{\"bar\":[{\"error_x\":{\"color\":\"#2a3f5f\"},\"error_y\":{\"color\":\"#2a3f5f\"},\"marker\":{\"line\":{\"color\":\"#E5ECF6\",\"width\":0.5},\"pattern\":{\"fillmode\":\"overlay\",\"size\":10,\"solidity\":0.2}},\"type\":\"bar\"}],\"barpolar\":[{\"marker\":{\"line\":{\"color\":\"#E5ECF6\",\"width\":0.5},\"pattern\":{\"fillmode\":\"overlay\",\"size\":10,\"solidity\":0.2}},\"type\":\"barpolar\"}],\"carpet\":[{\"aaxis\":{\"endlinecolor\":\"#2a3f5f\",\"gridcolor\":\"white\",\"linecolor\":\"white\",\"minorgridcolor\":\"white\",\"startlinecolor\":\"#2a3f5f\"},\"baxis\":{\"endlinecolor\":\"#2a3f5f\",\"gridcolor\":\"white\",\"linecolor\":\"white\",\"minorgridcolor\":\"white\",\"startlinecolor\":\"#2a3f5f\"},\"type\":\"carpet\"}],\"choropleth\":[{\"colorbar\":{\"outlinewidth\":0,\"ticks\":\"\"},\"type\":\"choropleth\"}],\"contour\":[{\"colorbar\":{\"outlinewidth\":0,\"ticks\":\"\"},\"colorscale\":[[0.0,\"#0d0887\"],[0.1111111111111111,\"#46039f\"],[0.2222222222222222,\"#7201a8\"],[0.3333333333333333,\"#9c179e\"],[0.4444444444444444,\"#bd3786\"],[0.5555555555555556,\"#d8576b\"],[0.6666666666666666,\"#ed7953\"],[0.7777777777777778,\"#fb9f3a\"],[0.8888888888888888,\"#fdca26\"],[1.0,\"#f0f921\"]],\"type\":\"contour\"}],\"contourcarpet\":[{\"colorbar\":{\"outlinewidth\":0,\"ticks\":\"\"},\"type\":\"contourcarpet\"}],\"heatmap\":[{\"colorbar\":{\"outlinewidth\":0,\"ticks\":\"\"},\"colorscale\":[[0.0,\"#0d0887\"],[0.1111111111111111,\"#46039f\"],[0.2222222222222222,\"#7201a8\"],[0.3333333333333333,\"#9c179e\"],[0.4444444444444444,\"#bd3786\"],[0.5555555555555556,\"#d8576b\"],[0.6666666666666666,\"#ed7953\"],[0.7777777777777778,\"#fb9f3a\"],[0.8888888888888888,\"#fdca26\"],[1.0,\"#f0f921\"]],\"type\":\"heatmap\"}],\"heatmapgl\":[{\"colorbar\":{\"outlinewidth\":0,\"ticks\":\"\"},\"colorscale\":[[0.0,\"#0d0887\"],[0.1111111111111111,\"#46039f\"],[0.2222222222222222,\"#7201a8\"],[0.3333333333333333,\"#9c179e\"],[0.4444444444444444,\"#bd3786\"],[0.5555555555555556,\"#d8576b\"],[0.6666666666666666,\"#ed7953\"],[0.7777777777777778,\"#fb9f3a\"],[0.8888888888888888,\"#fdca26\"],[1.0,\"#f0f921\"]],\"type\":\"heatmapgl\"}],\"histogram\":[{\"marker\":{\"pattern\":{\"fillmode\":\"overlay\",\"size\":10,\"solidity\":0.2}},\"type\":\"histogram\"}],\"histogram2d\":[{\"colorbar\":{\"outlinewidth\":0,\"ticks\":\"\"},\"colorscale\":[[0.0,\"#0d0887\"],[0.1111111111111111,\"#46039f\"],[0.2222222222222222,\"#7201a8\"],[0.3333333333333333,\"#9c179e\"],[0.4444444444444444,\"#bd3786\"],[0.5555555555555556,\"#d8576b\"],[0.6666666666666666,\"#ed7953\"],[0.7777777777777778,\"#fb9f3a\"],[0.8888888888888888,\"#fdca26\"],[1.0,\"#f0f921\"]],\"type\":\"histogram2d\"}],\"histogram2dcontour\":[{\"colorbar\":{\"outlinewidth\":0,\"ticks\":\"\"},\"colorscale\":[[0.0,\"#0d0887\"],[0.1111111111111111,\"#46039f\"],[0.2222222222222222,\"#7201a8\"],[0.3333333333333333,\"#9c179e\"],[0.4444444444444444,\"#bd3786\"],[0.5555555555555556,\"#d8576b\"],[0.6666666666666666,\"#ed7953\"],[0.7777777777777778,\"#fb9f3a\"],[0.8888888888888888,\"#fdca26\"],[1.0,\"#f0f921\"]],\"type\":\"histogram2dcontour\"}],\"mesh3d\":[{\"colorbar\":{\"outlinewidth\":0,\"ticks\":\"\"},\"type\":\"mesh3d\"}],\"parcoords\":[{\"line\":{\"colorbar\":{\"outlinewidth\":0,\"ticks\":\"\"}},\"type\":\"parcoords\"}],\"pie\":[{\"automargin\":true,\"type\":\"pie\"}],\"scatter\":[{\"marker\":{\"colorbar\":{\"outlinewidth\":0,\"ticks\":\"\"}},\"type\":\"scatter\"}],\"scatter3d\":[{\"line\":{\"colorbar\":{\"outlinewidth\":0,\"ticks\":\"\"}},\"marker\":{\"colorbar\":{\"outlinewidth\":0,\"ticks\":\"\"}},\"type\":\"scatter3d\"}],\"scattercarpet\":[{\"marker\":{\"colorbar\":{\"outlinewidth\":0,\"ticks\":\"\"}},\"type\":\"scattercarpet\"}],\"scattergeo\":[{\"marker\":{\"colorbar\":{\"outlinewidth\":0,\"ticks\":\"\"}},\"type\":\"scattergeo\"}],\"scattergl\":[{\"marker\":{\"colorbar\":{\"outlinewidth\":0,\"ticks\":\"\"}},\"type\":\"scattergl\"}],\"scattermapbox\":[{\"marker\":{\"colorbar\":{\"outlinewidth\":0,\"ticks\":\"\"}},\"type\":\"scattermapbox\"}],\"scatterpolar\":[{\"marker\":{\"colorbar\":{\"outlinewidth\":0,\"ticks\":\"\"}},\"type\":\"scatterpolar\"}],\"scatterpolargl\":[{\"marker\":{\"colorbar\":{\"outlinewidth\":0,\"ticks\":\"\"}},\"type\":\"scatterpolargl\"}],\"scatterternary\":[{\"marker\":{\"colorbar\":{\"outlinewidth\":0,\"ticks\":\"\"}},\"type\":\"scatterternary\"}],\"surface\":[{\"colorbar\":{\"outlinewidth\":0,\"ticks\":\"\"},\"colorscale\":[[0.0,\"#0d0887\"],[0.1111111111111111,\"#46039f\"],[0.2222222222222222,\"#7201a8\"],[0.3333333333333333,\"#9c179e\"],[0.4444444444444444,\"#bd3786\"],[0.5555555555555556,\"#d8576b\"],[0.6666666666666666,\"#ed7953\"],[0.7777777777777778,\"#fb9f3a\"],[0.8888888888888888,\"#fdca26\"],[1.0,\"#f0f921\"]],\"type\":\"surface\"}],\"table\":[{\"cells\":{\"fill\":{\"color\":\"#EBF0F8\"},\"line\":{\"color\":\"white\"}},\"header\":{\"fill\":{\"color\":\"#C8D4E3\"},\"line\":{\"color\":\"white\"}},\"type\":\"table\"}]},\"layout\":{\"annotationdefaults\":{\"arrowcolor\":\"#2a3f5f\",\"arrowhead\":0,\"arrowwidth\":1},\"autotypenumbers\":\"strict\",\"coloraxis\":{\"colorbar\":{\"outlinewidth\":0,\"ticks\":\"\"}},\"colorscale\":{\"diverging\":[[0,\"#8e0152\"],[0.1,\"#c51b7d\"],[0.2,\"#de77ae\"],[0.3,\"#f1b6da\"],[0.4,\"#fde0ef\"],[0.5,\"#f7f7f7\"],[0.6,\"#e6f5d0\"],[0.7,\"#b8e186\"],[0.8,\"#7fbc41\"],[0.9,\"#4d9221\"],[1,\"#276419\"]],\"sequential\":[[0.0,\"#0d0887\"],[0.1111111111111111,\"#46039f\"],[0.2222222222222222,\"#7201a8\"],[0.3333333333333333,\"#9c179e\"],[0.4444444444444444,\"#bd3786\"],[0.5555555555555556,\"#d8576b\"],[0.6666666666666666,\"#ed7953\"],[0.7777777777777778,\"#fb9f3a\"],[0.8888888888888888,\"#fdca26\"],[1.0,\"#f0f921\"]],\"sequentialminus\":[[0.0,\"#0d0887\"],[0.1111111111111111,\"#46039f\"],[0.2222222222222222,\"#7201a8\"],[0.3333333333333333,\"#9c179e\"],[0.4444444444444444,\"#bd3786\"],[0.5555555555555556,\"#d8576b\"],[0.6666666666666666,\"#ed7953\"],[0.7777777777777778,\"#fb9f3a\"],[0.8888888888888888,\"#fdca26\"],[1.0,\"#f0f921\"]]},\"colorway\":[\"#636efa\",\"#EF553B\",\"#00cc96\",\"#ab63fa\",\"#FFA15A\",\"#19d3f3\",\"#FF6692\",\"#B6E880\",\"#FF97FF\",\"#FECB52\"],\"font\":{\"color\":\"#2a3f5f\"},\"geo\":{\"bgcolor\":\"white\",\"lakecolor\":\"white\",\"landcolor\":\"#E5ECF6\",\"showlakes\":true,\"showland\":true,\"subunitcolor\":\"white\"},\"hoverlabel\":{\"align\":\"left\"},\"hovermode\":\"closest\",\"mapbox\":{\"style\":\"light\"},\"paper_bgcolor\":\"white\",\"plot_bgcolor\":\"#E5ECF6\",\"polar\":{\"angularaxis\":{\"gridcolor\":\"white\",\"linecolor\":\"white\",\"ticks\":\"\"},\"bgcolor\":\"#E5ECF6\",\"radialaxis\":{\"gridcolor\":\"white\",\"linecolor\":\"white\",\"ticks\":\"\"}},\"scene\":{\"xaxis\":{\"backgroundcolor\":\"#E5ECF6\",\"gridcolor\":\"white\",\"gridwidth\":2,\"linecolor\":\"white\",\"showbackground\":true,\"ticks\":\"\",\"zerolinecolor\":\"white\"},\"yaxis\":{\"backgroundcolor\":\"#E5ECF6\",\"gridcolor\":\"white\",\"gridwidth\":2,\"linecolor\":\"white\",\"showbackground\":true,\"ticks\":\"\",\"zerolinecolor\":\"white\"},\"zaxis\":{\"backgroundcolor\":\"#E5ECF6\",\"gridcolor\":\"white\",\"gridwidth\":2,\"linecolor\":\"white\",\"showbackground\":true,\"ticks\":\"\",\"zerolinecolor\":\"white\"}},\"shapedefaults\":{\"line\":{\"color\":\"#2a3f5f\"}},\"ternary\":{\"aaxis\":{\"gridcolor\":\"white\",\"linecolor\":\"white\",\"ticks\":\"\"},\"baxis\":{\"gridcolor\":\"white\",\"linecolor\":\"white\",\"ticks\":\"\"},\"bgcolor\":\"#E5ECF6\",\"caxis\":{\"gridcolor\":\"white\",\"linecolor\":\"white\",\"ticks\":\"\"}},\"title\":{\"x\":0.05},\"xaxis\":{\"automargin\":true,\"gridcolor\":\"white\",\"linecolor\":\"white\",\"ticks\":\"\",\"title\":{\"standoff\":15},\"zerolinecolor\":\"white\",\"zerolinewidth\":2},\"yaxis\":{\"automargin\":true,\"gridcolor\":\"white\",\"linecolor\":\"white\",\"ticks\":\"\",\"title\":{\"standoff\":15},\"zerolinecolor\":\"white\",\"zerolinewidth\":2}}},\"xaxis\":{\"title\":{\"text\":\"Date\",\"font\":{\"size\":20}},\"dtick\":\"M1\"},\"legend\":{\"orientation\":\"h\",\"yanchor\":\"middle\",\"y\":-0.25,\"xanchor\":\"center\",\"x\":0.5}},                        {\"responsive\": true}                    ).then(function(){\n",
              "                            \n",
              "var gd = document.getElementById('6294e423-a9b8-437b-99d1-a37296647262');\n",
              "var x = new MutationObserver(function (mutations, observer) {{\n",
              "        var display = window.getComputedStyle(gd).display;\n",
              "        if (!display || display === 'none') {{\n",
              "            console.log([gd, 'removed!']);\n",
              "            Plotly.purge(gd);\n",
              "            observer.disconnect();\n",
              "        }}\n",
              "}});\n",
              "\n",
              "// Listen for the removal of the full notebook cells\n",
              "var notebookContainer = gd.closest('#notebook-container');\n",
              "if (notebookContainer) {{\n",
              "    x.observe(notebookContainer, {childList: true});\n",
              "}}\n",
              "\n",
              "// Listen for the clearing of the current output cell\n",
              "var outputEl = gd.closest('.output');\n",
              "if (outputEl) {{\n",
              "    x.observe(outputEl, {childList: true});\n",
              "}}\n",
              "\n",
              "                        })                };                            </script>        </div>\n",
              "</body>\n",
              "</html>"
            ]
          },
          "metadata": {}
        }
      ]
    },
    {
      "cell_type": "code",
      "source": [
        "# Animation\n",
        "fig.update(frames = frames)"
      ],
      "metadata": {
        "colab": {
          "base_uri": "https://localhost:8080/"
        },
        "id": "x1o2AzUIGyC_",
        "outputId": "3fadc138-7b7e-46aa-f9b5-15abd17c4f39"
      },
      "execution_count": 58,
      "outputs": [
        {
          "output_type": "display_data",
          "data": {
            "text/html": [
              "<html>\n",
              "<head><meta charset=\"utf-8\" /></head>\n",
              "<body>\n",
              "    <div>            <script src=\"https://cdnjs.cloudflare.com/ajax/libs/mathjax/2.7.5/MathJax.js?config=TeX-AMS-MML_SVG\"></script><script type=\"text/javascript\">if (window.MathJax) {MathJax.Hub.Config({SVG: {font: \"STIX-Web\"}});}</script>                <script type=\"text/javascript\">window.PlotlyConfig = {MathJaxConfig: 'local'};</script>\n",
              "        <script src=\"https://cdn.plot.ly/plotly-2.8.3.min.js\"></script>                <div id=\"57eaa8cd-bcb9-4007-bc02-397323a88b32\" class=\"plotly-graph-div\" style=\"height:525px; width:100%;\"></div>            <script type=\"text/javascript\">                                    window.PLOTLYENV=window.PLOTLYENV || {};                                    if (document.getElementById(\"57eaa8cd-bcb9-4007-bc02-397323a88b32\")) {                    Plotly.newPlot(                        \"57eaa8cd-bcb9-4007-bc02-397323a88b32\",                        [{\"marker\":{\"color\":\"rgba(50, 171, 96, 0.6)\",\"line\":{\"color\":\"rgba(50, 171, 96, 1.0)\",\"width\":1}},\"orientation\":\"h\",\"x\":[12605.111070911722,607881.841277367,3089622.822933788,76276.9461825369,1770614.2847596614,940542.2976007601,900168.5541042867,636716.3002530906,0.0,684201.2510421054,738970.2320348718,378028.1667193904,0.0],\"y\":[\"BOL\",\"CAN\",\"CHN\",\"COL\",\"DEU\",\"FRA\",\"GBR\",\"ITA\",\"JPN\",\"KOR\",\"NLD\",\"RUS\",\"USA\"],\"type\":\"bar\"}],                        {\"template\":{\"data\":{\"bar\":[{\"error_x\":{\"color\":\"#2a3f5f\"},\"error_y\":{\"color\":\"#2a3f5f\"},\"marker\":{\"line\":{\"color\":\"#E5ECF6\",\"width\":0.5},\"pattern\":{\"fillmode\":\"overlay\",\"size\":10,\"solidity\":0.2}},\"type\":\"bar\"}],\"barpolar\":[{\"marker\":{\"line\":{\"color\":\"#E5ECF6\",\"width\":0.5},\"pattern\":{\"fillmode\":\"overlay\",\"size\":10,\"solidity\":0.2}},\"type\":\"barpolar\"}],\"carpet\":[{\"aaxis\":{\"endlinecolor\":\"#2a3f5f\",\"gridcolor\":\"white\",\"linecolor\":\"white\",\"minorgridcolor\":\"white\",\"startlinecolor\":\"#2a3f5f\"},\"baxis\":{\"endlinecolor\":\"#2a3f5f\",\"gridcolor\":\"white\",\"linecolor\":\"white\",\"minorgridcolor\":\"white\",\"startlinecolor\":\"#2a3f5f\"},\"type\":\"carpet\"}],\"choropleth\":[{\"colorbar\":{\"outlinewidth\":0,\"ticks\":\"\"},\"type\":\"choropleth\"}],\"contour\":[{\"colorbar\":{\"outlinewidth\":0,\"ticks\":\"\"},\"colorscale\":[[0.0,\"#0d0887\"],[0.1111111111111111,\"#46039f\"],[0.2222222222222222,\"#7201a8\"],[0.3333333333333333,\"#9c179e\"],[0.4444444444444444,\"#bd3786\"],[0.5555555555555556,\"#d8576b\"],[0.6666666666666666,\"#ed7953\"],[0.7777777777777778,\"#fb9f3a\"],[0.8888888888888888,\"#fdca26\"],[1.0,\"#f0f921\"]],\"type\":\"contour\"}],\"contourcarpet\":[{\"colorbar\":{\"outlinewidth\":0,\"ticks\":\"\"},\"type\":\"contourcarpet\"}],\"heatmap\":[{\"colorbar\":{\"outlinewidth\":0,\"ticks\":\"\"},\"colorscale\":[[0.0,\"#0d0887\"],[0.1111111111111111,\"#46039f\"],[0.2222222222222222,\"#7201a8\"],[0.3333333333333333,\"#9c179e\"],[0.4444444444444444,\"#bd3786\"],[0.5555555555555556,\"#d8576b\"],[0.6666666666666666,\"#ed7953\"],[0.7777777777777778,\"#fb9f3a\"],[0.8888888888888888,\"#fdca26\"],[1.0,\"#f0f921\"]],\"type\":\"heatmap\"}],\"heatmapgl\":[{\"colorbar\":{\"outlinewidth\":0,\"ticks\":\"\"},\"colorscale\":[[0.0,\"#0d0887\"],[0.1111111111111111,\"#46039f\"],[0.2222222222222222,\"#7201a8\"],[0.3333333333333333,\"#9c179e\"],[0.4444444444444444,\"#bd3786\"],[0.5555555555555556,\"#d8576b\"],[0.6666666666666666,\"#ed7953\"],[0.7777777777777778,\"#fb9f3a\"],[0.8888888888888888,\"#fdca26\"],[1.0,\"#f0f921\"]],\"type\":\"heatmapgl\"}],\"histogram\":[{\"marker\":{\"pattern\":{\"fillmode\":\"overlay\",\"size\":10,\"solidity\":0.2}},\"type\":\"histogram\"}],\"histogram2d\":[{\"colorbar\":{\"outlinewidth\":0,\"ticks\":\"\"},\"colorscale\":[[0.0,\"#0d0887\"],[0.1111111111111111,\"#46039f\"],[0.2222222222222222,\"#7201a8\"],[0.3333333333333333,\"#9c179e\"],[0.4444444444444444,\"#bd3786\"],[0.5555555555555556,\"#d8576b\"],[0.6666666666666666,\"#ed7953\"],[0.7777777777777778,\"#fb9f3a\"],[0.8888888888888888,\"#fdca26\"],[1.0,\"#f0f921\"]],\"type\":\"histogram2d\"}],\"histogram2dcontour\":[{\"colorbar\":{\"outlinewidth\":0,\"ticks\":\"\"},\"colorscale\":[[0.0,\"#0d0887\"],[0.1111111111111111,\"#46039f\"],[0.2222222222222222,\"#7201a8\"],[0.3333333333333333,\"#9c179e\"],[0.4444444444444444,\"#bd3786\"],[0.5555555555555556,\"#d8576b\"],[0.6666666666666666,\"#ed7953\"],[0.7777777777777778,\"#fb9f3a\"],[0.8888888888888888,\"#fdca26\"],[1.0,\"#f0f921\"]],\"type\":\"histogram2dcontour\"}],\"mesh3d\":[{\"colorbar\":{\"outlinewidth\":0,\"ticks\":\"\"},\"type\":\"mesh3d\"}],\"parcoords\":[{\"line\":{\"colorbar\":{\"outlinewidth\":0,\"ticks\":\"\"}},\"type\":\"parcoords\"}],\"pie\":[{\"automargin\":true,\"type\":\"pie\"}],\"scatter\":[{\"marker\":{\"colorbar\":{\"outlinewidth\":0,\"ticks\":\"\"}},\"type\":\"scatter\"}],\"scatter3d\":[{\"line\":{\"colorbar\":{\"outlinewidth\":0,\"ticks\":\"\"}},\"marker\":{\"colorbar\":{\"outlinewidth\":0,\"ticks\":\"\"}},\"type\":\"scatter3d\"}],\"scattercarpet\":[{\"marker\":{\"colorbar\":{\"outlinewidth\":0,\"ticks\":\"\"}},\"type\":\"scattercarpet\"}],\"scattergeo\":[{\"marker\":{\"colorbar\":{\"outlinewidth\":0,\"ticks\":\"\"}},\"type\":\"scattergeo\"}],\"scattergl\":[{\"marker\":{\"colorbar\":{\"outlinewidth\":0,\"ticks\":\"\"}},\"type\":\"scattergl\"}],\"scattermapbox\":[{\"marker\":{\"colorbar\":{\"outlinewidth\":0,\"ticks\":\"\"}},\"type\":\"scattermapbox\"}],\"scatterpolar\":[{\"marker\":{\"colorbar\":{\"outlinewidth\":0,\"ticks\":\"\"}},\"type\":\"scatterpolar\"}],\"scatterpolargl\":[{\"marker\":{\"colorbar\":{\"outlinewidth\":0,\"ticks\":\"\"}},\"type\":\"scatterpolargl\"}],\"scatterternary\":[{\"marker\":{\"colorbar\":{\"outlinewidth\":0,\"ticks\":\"\"}},\"type\":\"scatterternary\"}],\"surface\":[{\"colorbar\":{\"outlinewidth\":0,\"ticks\":\"\"},\"colorscale\":[[0.0,\"#0d0887\"],[0.1111111111111111,\"#46039f\"],[0.2222222222222222,\"#7201a8\"],[0.3333333333333333,\"#9c179e\"],[0.4444444444444444,\"#bd3786\"],[0.5555555555555556,\"#d8576b\"],[0.6666666666666666,\"#ed7953\"],[0.7777777777777778,\"#fb9f3a\"],[0.8888888888888888,\"#fdca26\"],[1.0,\"#f0f921\"]],\"type\":\"surface\"}],\"table\":[{\"cells\":{\"fill\":{\"color\":\"#EBF0F8\"},\"line\":{\"color\":\"white\"}},\"header\":{\"fill\":{\"color\":\"#C8D4E3\"},\"line\":{\"color\":\"white\"}},\"type\":\"table\"}]},\"layout\":{\"annotationdefaults\":{\"arrowcolor\":\"#2a3f5f\",\"arrowhead\":0,\"arrowwidth\":1},\"autotypenumbers\":\"strict\",\"coloraxis\":{\"colorbar\":{\"outlinewidth\":0,\"ticks\":\"\"}},\"colorscale\":{\"diverging\":[[0,\"#8e0152\"],[0.1,\"#c51b7d\"],[0.2,\"#de77ae\"],[0.3,\"#f1b6da\"],[0.4,\"#fde0ef\"],[0.5,\"#f7f7f7\"],[0.6,\"#e6f5d0\"],[0.7,\"#b8e186\"],[0.8,\"#7fbc41\"],[0.9,\"#4d9221\"],[1,\"#276419\"]],\"sequential\":[[0.0,\"#0d0887\"],[0.1111111111111111,\"#46039f\"],[0.2222222222222222,\"#7201a8\"],[0.3333333333333333,\"#9c179e\"],[0.4444444444444444,\"#bd3786\"],[0.5555555555555556,\"#d8576b\"],[0.6666666666666666,\"#ed7953\"],[0.7777777777777778,\"#fb9f3a\"],[0.8888888888888888,\"#fdca26\"],[1.0,\"#f0f921\"]],\"sequentialminus\":[[0.0,\"#0d0887\"],[0.1111111111111111,\"#46039f\"],[0.2222222222222222,\"#7201a8\"],[0.3333333333333333,\"#9c179e\"],[0.4444444444444444,\"#bd3786\"],[0.5555555555555556,\"#d8576b\"],[0.6666666666666666,\"#ed7953\"],[0.7777777777777778,\"#fb9f3a\"],[0.8888888888888888,\"#fdca26\"],[1.0,\"#f0f921\"]]},\"colorway\":[\"#636efa\",\"#EF553B\",\"#00cc96\",\"#ab63fa\",\"#FFA15A\",\"#19d3f3\",\"#FF6692\",\"#B6E880\",\"#FF97FF\",\"#FECB52\"],\"font\":{\"color\":\"#2a3f5f\"},\"geo\":{\"bgcolor\":\"white\",\"lakecolor\":\"white\",\"landcolor\":\"#E5ECF6\",\"showlakes\":true,\"showland\":true,\"subunitcolor\":\"white\"},\"hoverlabel\":{\"align\":\"left\"},\"hovermode\":\"closest\",\"mapbox\":{\"style\":\"light\"},\"paper_bgcolor\":\"white\",\"plot_bgcolor\":\"#E5ECF6\",\"polar\":{\"angularaxis\":{\"gridcolor\":\"white\",\"linecolor\":\"white\",\"ticks\":\"\"},\"bgcolor\":\"#E5ECF6\",\"radialaxis\":{\"gridcolor\":\"white\",\"linecolor\":\"white\",\"ticks\":\"\"}},\"scene\":{\"xaxis\":{\"backgroundcolor\":\"#E5ECF6\",\"gridcolor\":\"white\",\"gridwidth\":2,\"linecolor\":\"white\",\"showbackground\":true,\"ticks\":\"\",\"zerolinecolor\":\"white\"},\"yaxis\":{\"backgroundcolor\":\"#E5ECF6\",\"gridcolor\":\"white\",\"gridwidth\":2,\"linecolor\":\"white\",\"showbackground\":true,\"ticks\":\"\",\"zerolinecolor\":\"white\"},\"zaxis\":{\"backgroundcolor\":\"#E5ECF6\",\"gridcolor\":\"white\",\"gridwidth\":2,\"linecolor\":\"white\",\"showbackground\":true,\"ticks\":\"\",\"zerolinecolor\":\"white\"}},\"shapedefaults\":{\"line\":{\"color\":\"#2a3f5f\"}},\"ternary\":{\"aaxis\":{\"gridcolor\":\"white\",\"linecolor\":\"white\",\"ticks\":\"\"},\"baxis\":{\"gridcolor\":\"white\",\"linecolor\":\"white\",\"ticks\":\"\"},\"bgcolor\":\"#E5ECF6\",\"caxis\":{\"gridcolor\":\"white\",\"linecolor\":\"white\",\"ticks\":\"\"}},\"title\":{\"x\":0.05},\"xaxis\":{\"automargin\":true,\"gridcolor\":\"white\",\"linecolor\":\"white\",\"ticks\":\"\",\"title\":{\"standoff\":15},\"zerolinecolor\":\"white\",\"zerolinewidth\":2},\"yaxis\":{\"automargin\":true,\"gridcolor\":\"white\",\"linecolor\":\"white\",\"ticks\":\"\",\"title\":{\"standoff\":15},\"zerolinecolor\":\"white\",\"zerolinewidth\":2}}},\"xaxis\":{\"title\":{\"text\":\"Date\",\"font\":{\"size\":20}},\"dtick\":\"M1\"},\"legend\":{\"orientation\":\"h\",\"yanchor\":\"middle\",\"y\":-0.25,\"xanchor\":\"center\",\"x\":0.5}},                        {\"responsive\": true}                    ).then(function(){\n",
              "                            Plotly.addFrames('57eaa8cd-bcb9-4007-bc02-397323a88b32', [{\"data\":[{\"marker\":{\"color\":\"rgba(50, 171, 96, 0.6)\",\"line\":{\"color\":\"rgba(50, 171, 96, 1.0)\",\"width\":1}},\"orientation\":\"h\",\"x\":[89.4839646738677,0.0,2644.4065318059957,594.8946948003014,0.0,7703.448807471393,0.0,0.0,0.0,474.1401160874965,0.0,0.0,0.0],\"y\":[\"BOL\",\"CAN\",\"CHN\",\"COL\",\"DEU\",\"FRA\",\"GBR\",\"ITA\",\"JPN\",\"KOR\",\"NLD\",\"RUS\",\"USA\"],\"type\":\"bar\"}]},{\"data\":[{\"marker\":{\"color\":\"rgba(50, 171, 96, 0.6)\",\"line\":{\"color\":\"rgba(50, 171, 96, 1.0)\",\"width\":1}},\"orientation\":\"h\",\"x\":[94.90976477069734,7480.255448938901,1746.6894142497358,627.9347164179103,0.0,8273.434929997304,0.0,0.0,0.0,337.52379975511093,0.0,0.0,0.0],\"y\":[\"BOL\",\"CAN\",\"CHN\",\"COL\",\"DEU\",\"FRA\",\"GBR\",\"ITA\",\"JPN\",\"KOR\",\"NLD\",\"RUS\",\"USA\"],\"type\":\"bar\"}]},{\"data\":[{\"marker\":{\"color\":\"rgba(50, 171, 96, 0.6)\",\"line\":{\"color\":\"rgba(50, 171, 96, 1.0)\",\"width\":1}},\"orientation\":\"h\",\"x\":[113.8583281857794,7594.733339993744,1372.979120968397,605.9298093085259,0.0,9042.716899560246,0.0,0.0,0.0,438.92476509525034,0.0,0.0,0.0],\"y\":[\"BOL\",\"CAN\",\"CHN\",\"COL\",\"DEU\",\"FRA\",\"GBR\",\"ITA\",\"JPN\",\"KOR\",\"NLD\",\"RUS\",\"USA\"],\"type\":\"bar\"}]},{\"data\":[{\"marker\":{\"color\":\"rgba(50, 171, 96, 0.6)\",\"line\":{\"color\":\"rgba(50, 171, 96, 1.0)\",\"width\":1}},\"orientation\":\"h\",\"x\":[126.1289837893788,7854.3690428121445,1450.158420667804,597.2856555555555,0.0,10367.36996286638,0.0,0.0,0.0,584.5407097719606,0.0,0.0,0.0],\"y\":[\"BOL\",\"CAN\",\"CHN\",\"COL\",\"DEU\",\"FRA\",\"GBR\",\"ITA\",\"JPN\",\"KOR\",\"NLD\",\"RUS\",\"USA\"],\"type\":\"bar\"}]},{\"data\":[{\"marker\":{\"color\":\"rgba(50, 171, 96, 0.6)\",\"line\":{\"color\":\"rgba(50, 171, 96, 1.0)\",\"width\":1}},\"orientation\":\"h\",\"x\":[126.62982687523998,8918.902584552967,1710.1307986026482,755.7277,0.0,12137.117084555222,0.0,0.0,0.0,428.20554427276835,0.0,0.0,0.0],\"y\":[\"BOL\",\"CAN\",\"CHN\",\"COL\",\"DEU\",\"FRA\",\"GBR\",\"ITA\",\"JPN\",\"KOR\",\"NLD\",\"RUS\",\"USA\"],\"type\":\"bar\"}]},{\"data\":[{\"marker\":{\"color\":\"rgba(50, 171, 96, 0.6)\",\"line\":{\"color\":\"rgba(50, 171, 96, 1.0)\",\"width\":1}},\"orientation\":\"h\",\"x\":[161.2794612794613,10166.20835337225,2246.323828093265,559.3333333333334,0.0,12575.567948036693,0.0,0.0,0.0,447.2222222222223,0.0,0.0,0.0],\"y\":[\"BOL\",\"CAN\",\"CHN\",\"COL\",\"DEU\",\"FRA\",\"GBR\",\"ITA\",\"JPN\",\"KOR\",\"NLD\",\"RUS\",\"USA\"],\"type\":\"bar\"}]},{\"data\":[{\"marker\":{\"color\":\"rgba(50, 171, 96, 0.6)\",\"line\":{\"color\":\"rgba(50, 171, 96, 1.0)\",\"width\":1}},\"orientation\":\"h\",\"x\":[177.1885521885522,11787.61683615182,2481.923795596718,778.8148148148148,0.0,14294.82678847615,0.0,0.0,0.0,715.7440849119187,0.0,0.0,0.0],\"y\":[\"BOL\",\"CAN\",\"CHN\",\"COL\",\"DEU\",\"FRA\",\"GBR\",\"ITA\",\"JPN\",\"KOR\",\"NLD\",\"RUS\",\"USA\"],\"type\":\"bar\"}]},{\"data\":[{\"marker\":{\"color\":\"rgba(50, 171, 96, 0.6)\",\"line\":{\"color\":\"rgba(50, 171, 96, 1.0)\",\"width\":1}},\"orientation\":\"h\",\"x\":[196.63299663299665,12634.55850463909,2169.144528393858,602.4112996063888,0.0,15606.193461979818,0.0,0.0,0.0,955.6040218837794,0.0,0.0,0.0],\"y\":[\"BOL\",\"CAN\",\"CHN\",\"COL\",\"DEU\",\"FRA\",\"GBR\",\"ITA\",\"JPN\",\"KOR\",\"NLD\",\"RUS\",\"USA\"],\"type\":\"bar\"}]},{\"data\":[{\"marker\":{\"color\":\"rgba(50, 171, 96, 0.6)\",\"line\":{\"color\":\"rgba(50, 171, 96, 1.0)\",\"width\":1}},\"orientation\":\"h\",\"x\":[206.22895622895624,14340.936627455152,2067.5928182630596,763.5790003498715,0.0,17377.2692226489,0.0,0.0,0.0,1385.1075365985903,0.0,0.0,0.0],\"y\":[\"BOL\",\"CAN\",\"CHN\",\"COL\",\"DEU\",\"FRA\",\"GBR\",\"ITA\",\"JPN\",\"KOR\",\"NLD\",\"RUS\",\"USA\"],\"type\":\"bar\"}]},{\"data\":[{\"marker\":{\"color\":\"rgba(50, 171, 96, 0.6)\",\"line\":{\"color\":\"rgba(50, 171, 96, 1.0)\",\"width\":1}},\"orientation\":\"h\",\"x\":[216.16161616161617,16708.226653861617,1917.2962872694773,839.1208715079929,0.0,20853.686819126327,0.0,0.0,0.0,1723.8686840644086,13576.226089501939,0.0,0.0],\"y\":[\"BOL\",\"CAN\",\"CHN\",\"COL\",\"DEU\",\"FRA\",\"GBR\",\"ITA\",\"JPN\",\"KOR\",\"NLD\",\"RUS\",\"USA\"],\"type\":\"bar\"}]},{\"data\":[{\"marker\":{\"color\":\"rgba(50, 171, 96, 0.6)\",\"line\":{\"color\":\"rgba(50, 171, 96, 1.0)\",\"width\":1}},\"orientation\":\"h\",\"x\":[247.72727272727272,17327.97396880084,2278.820375335121,1047.700632177053,35790.765243413676,22918.389039801583,27373.47012239021,16935.941759603473,19572.635780555556,1902.047913446677,16526.937359225663,0.0,55760.0],\"y\":[\"BOL\",\"CAN\",\"CHN\",\"COL\",\"DEU\",\"FRA\",\"GBR\",\"ITA\",\"JPN\",\"KOR\",\"NLD\",\"RUS\",\"USA\"],\"type\":\"bar\"}]},{\"data\":[{\"marker\":{\"color\":\"rgba(50, 171, 96, 0.6)\",\"line\":{\"color\":\"rgba(50, 171, 96, 1.0)\",\"width\":1}},\"orientation\":\"h\",\"x\":[267.3400673400674,19613.784907902555,2128.5238443415383,1252.5773454470661,40706.50644064016,25770.095892032674,30379.610610854226,18471.50124843945,20867.00411232308,2279.130059052283,18708.263784461153,0.0,62342.0],\"y\":[\"BOL\",\"CAN\",\"CHN\",\"COL\",\"DEU\",\"FRA\",\"GBR\",\"ITA\",\"JPN\",\"KOR\",\"NLD\",\"RUS\",\"USA\"],\"type\":\"bar\"}]},{\"data\":[{\"marker\":{\"color\":\"rgba(50, 171, 96, 0.6)\",\"line\":{\"color\":\"rgba(50, 171, 96, 1.0)\",\"width\":1}},\"orientation\":\"h\",\"x\":[302.06844678450545,23413.47610869785,2850.6525321811946,1109.7696497413876,48506.78832116788,32248.374512353705,35205.09490509491,22528.78818061089,25436.329221812663,2329.1506528544887,21515.22521285361,0.0,74216.0],\"y\":[\"BOL\",\"CAN\",\"CHN\",\"COL\",\"DEU\",\"FRA\",\"GBR\",\"ITA\",\"JPN\",\"KOR\",\"NLD\",\"RUS\",\"USA\"],\"type\":\"bar\"}]},{\"data\":[{\"marker\":{\"color\":\"rgba(50, 171, 96, 0.6)\",\"line\":{\"color\":\"rgba(50, 171, 96, 1.0)\",\"width\":1}},\"orientation\":\"h\",\"x\":[357.67116441779115,28460.15398460154,5207.6002814919075,1306.3970778518308,65125.98243688254,44639.06894519741,47634.36305732484,31517.004317502495,41807.59757115984,3837.366941152842,29272.028220085132,0.0,91159.0],\"y\":[\"BOL\",\"CAN\",\"CHN\",\"COL\",\"DEU\",\"FRA\",\"GBR\",\"ITA\",\"JPN\",\"KOR\",\"NLD\",\"RUS\",\"USA\"],\"type\":\"bar\"}]},{\"data\":[{\"marker\":{\"color\":\"rgba(50, 171, 96, 0.6)\",\"line\":{\"color\":\"rgba(50, 171, 96, 1.0)\",\"width\":1}},\"orientation\":\"h\",\"x\":[562.8185907046477,38774.028629856846,7791.148276565367,1933.4886058852646,83342.70954576373,62037.64320785598,65155.04207573632,44460.726406668655,66503.97291861034,6508.270081835488,39830.68530207394,0.0,127465.0],\"y\":[\"BOL\",\"CAN\",\"CHN\",\"COL\",\"DEU\",\"FRA\",\"GBR\",\"ITA\",\"JPN\",\"KOR\",\"NLD\",\"RUS\",\"USA\"],\"type\":\"bar\"}]},{\"data\":[{\"marker\":{\"color\":\"rgba(50, 171, 96, 0.6)\",\"line\":{\"color\":\"rgba(50, 171, 96, 1.0)\",\"width\":1}},\"orientation\":\"h\",\"x\":[774.7126436781609,41679.11915060951,7925.583396064094,1835.3245493492846,92221.04777804278,64439.345265412274,65429.626106194686,42506.699288256226,64302.59600219012,6824.793388429753,43065.322411990244,0.0,122730.0],\"y\":[\"BOL\",\"CAN\",\"CHN\",\"COL\",\"DEU\",\"FRA\",\"GBR\",\"ITA\",\"JPN\",\"KOR\",\"NLD\",\"RUS\",\"USA\"],\"type\":\"bar\"}]},{\"data\":[{\"marker\":{\"color\":\"rgba(50, 171, 96, 0.6)\",\"line\":{\"color\":\"rgba(50, 171, 96, 1.0)\",\"width\":1}},\"orientation\":\"h\",\"x\":[816.4917541229383,46807.30223123732,6660.142165447614,2131.6904453091224,105502.0017088706,75449.33078393881,67660.91105121294,47521.970225633864,72270.44634929733,8477.066115702479,48274.614102350395,0.0,151146.0],\"y\":[\"BOL\",\"CAN\",\"CHN\",\"COL\",\"DEU\",\"FRA\",\"GBR\",\"ITA\",\"JPN\",\"KOR\",\"NLD\",\"RUS\",\"USA\"],\"type\":\"bar\"}]},{\"data\":[{\"marker\":{\"color\":\"rgba(50, 171, 96, 0.6)\",\"line\":{\"color\":\"rgba(50, 171, 96, 1.0)\",\"width\":1}},\"orientation\":\"h\",\"x\":[956.7716141929035,48954.39586271744,7148.2398535902685,2569.9267421181153,120844.28535332266,83706.87349558705,76081.76347462062,52626.622778143515,79894.82419649175,10717.561983471074,55544.24171679986,0.0,182443.0],\"y\":[\"BOL\",\"CAN\",\"CHN\",\"COL\",\"DEU\",\"FRA\",\"GBR\",\"ITA\",\"JPN\",\"KOR\",\"NLD\",\"RUS\",\"USA\"],\"type\":\"bar\"}]},{\"data\":[{\"marker\":{\"color\":\"rgba(50, 171, 96, 0.6)\",\"line\":{\"color\":\"rgba(50, 171, 96, 1.0)\",\"width\":1}},\"orientation\":\"h\",\"x\":[1131.5342328835582,53336.547733847634,7617.886178861789,3210.0268576544318,144716.3388510224,97265.98837209304,89520.63279002876,61718.1336983801,91906.3268259095,15187.190082644629,66348.58728865349,0.0,212250.0],\"y\":[\"BOL\",\"CAN\",\"CHN\",\"COL\",\"DEU\",\"FRA\",\"GBR\",\"ITA\",\"JPN\",\"KOR\",\"NLD\",\"RUS\",\"USA\"],\"type\":\"bar\"}]},{\"data\":[{\"marker\":{\"color\":\"rgba(50, 171, 96, 0.6)\",\"line\":{\"color\":\"rgba(50, 171, 96, 1.0)\",\"width\":1}},\"orientation\":\"h\",\"x\":[1211.27464674832,63191.053440327814,10560.869565217392,3756.624824023522,188607.42823604736,124740.98057354303,118387.33163913595,83952.40270333257,127175.65240485534,20679.752066115703,83883.25277381083,0.0,252674.0],\"y\":[\"BOL\",\"CAN\",\"CHN\",\"COL\",\"DEU\",\"FRA\",\"GBR\",\"ITA\",\"JPN\",\"KOR\",\"NLD\",\"RUS\",\"USA\"],\"type\":\"bar\"}]},{\"data\":[{\"marker\":{\"color\":\"rgba(50, 171, 96, 0.6)\",\"line\":{\"color\":\"rgba(50, 171, 96, 1.0)\",\"width\":1}},\"orientation\":\"h\",\"x\":[1011.2012988533523,70921.14266164899,12450.0,5209.514724514206,220779.61910910267,157930.76684259545,137791.86846386243,108750.38661541938,155866.96351075766,24257.445302339365,96421.79893593439,0.0,293828.0],\"y\":[\"BOL\",\"CAN\",\"CHN\",\"COL\",\"DEU\",\"FRA\",\"GBR\",\"ITA\",\"JPN\",\"KOR\",\"NLD\",\"RUS\",\"USA\"],\"type\":\"bar\"}]},{\"data\":[{\"marker\":{\"color\":\"rgba(50, 171, 96, 0.6)\",\"line\":{\"color\":\"rgba(50, 171, 96, 1.0)\",\"width\":1}},\"orientation\":\"h\",\"x\":[1352.3445300076635,79017.43264659272,14591.269841269841,5610.414540863144,192499.82085677198,144292.09414604705,124996.93729903537,101717.74655084313,164658.52709628097,27124.943100891298,82035.8102976243,0.0,317758.0],\"y\":[\"BOL\",\"CAN\",\"CHN\",\"COL\",\"DEU\",\"FRA\",\"GBR\",\"ITA\",\"JPN\",\"KOR\",\"NLD\",\"RUS\",\"USA\"],\"type\":\"bar\"}]},{\"data\":[{\"marker\":{\"color\":\"rgba(50, 171, 96, 0.6)\",\"line\":{\"color\":\"rgba(50, 171, 96, 1.0)\",\"width\":1}},\"orientation\":\"h\",\"x\":[1644.889775155521,67407.79768177029,12848.8649522508,5919.61089664169,182634.12267268478,139514.92164886717,122002.87386443047,95659.15533285613,151713.5083289605,25749.57596979811,78613.3869769745,0.0,303184.0],\"y\":[\"BOL\",\"CAN\",\"CHN\",\"COL\",\"DEU\",\"FRA\",\"GBR\",\"ITA\",\"JPN\",\"KOR\",\"NLD\",\"RUS\",\"USA\"],\"type\":\"bar\"}]},{\"data\":[{\"marker\":{\"color\":\"rgba(50, 171, 96, 0.6)\",\"line\":{\"color\":\"rgba(50, 171, 96, 1.0)\",\"width\":1}},\"orientation\":\"h\",\"x\":[1303.55458521097,74471.7624148004,14674.155555793219,5127.945978505532,179447.41937954805,127109.90618814013,121207.79899954525,87973.94441611423,146249.63738628454,26351.40186915888,77071.45085321597,0.0,328638.0],\"y\":[\"BOL\",\"CAN\",\"CHN\",\"COL\",\"DEU\",\"FRA\",\"GBR\",\"ITA\",\"JPN\",\"KOR\",\"NLD\",\"RUS\",\"USA\"],\"type\":\"bar\"}]},{\"data\":[{\"marker\":{\"color\":\"rgba(50, 171, 96, 0.6)\",\"line\":{\"color\":\"rgba(50, 171, 96, 1.0)\",\"width\":1}},\"orientation\":\"h\",\"x\":[1592.952109488643,87539.18616323064,20474.25278130886,4767.852803332755,177776.12741392344,125805.74945582826,127143.03671189144,93843.93541988097,157511.81467018914,27755.155214769595,75043.04670329671,0.0,405107.0],\"y\":[\"BOL\",\"CAN\",\"CHN\",\"COL\",\"DEU\",\"FRA\",\"GBR\",\"ITA\",\"JPN\",\"KOR\",\"NLD\",\"RUS\",\"USA\"],\"type\":\"bar\"}]},{\"data\":[{\"marker\":{\"color\":\"rgba(50, 171, 96, 0.6)\",\"line\":{\"color\":\"rgba(50, 171, 96, 1.0)\",\"width\":1}},\"orientation\":\"h\",\"x\":[1228.3236569739177,92626.87660197729,38259.41078047925,4370.638534990447,182960.45110284348,131050.51832384292,130824.28131416839,97337.83490518204,149721.34161832312,26119.629433806123,78508.86146496815,0.0,417229.0],\"y\":[\"BOL\",\"CAN\",\"CHN\",\"COL\",\"DEU\",\"FRA\",\"GBR\",\"ITA\",\"JPN\",\"KOR\",\"NLD\",\"RUS\",\"USA\"],\"type\":\"bar\"}]},{\"data\":[{\"marker\":{\"color\":\"rgba(50, 171, 96, 0.6)\",\"line\":{\"color\":\"rgba(50, 171, 96, 1.0)\",\"width\":1}},\"orientation\":\"h\",\"x\":[1017.8513271214438,98835.55235696293,33619.844234218835,4190.7888776325435,226593.53147797892,158186.38128610663,152757.61653474055,111807.78023119885,150490.32813948274,32877.07754268534,93092.82424896565,0.0,452867.0],\"y\":[\"BOL\",\"CAN\",\"CHN\",\"COL\",\"DEU\",\"FRA\",\"GBR\",\"ITA\",\"JPN\",\"KOR\",\"NLD\",\"RUS\",\"USA\"],\"type\":\"bar\"}]},{\"data\":[{\"marker\":{\"color\":\"rgba(50, 171, 96, 0.6)\",\"line\":{\"color\":\"rgba(50, 171, 96, 1.0)\",\"width\":1}},\"orientation\":\"h\",\"x\":[1043.1695672003113,107690.04524886877,28192.699201437445,4697.932909519812,272700.5495103373,193330.78686019863,188166.6988069946,141632.74873020613,181576.0089879872,41699.065125156514,113269.36901653612,0.0,508713.0],\"y\":[\"BOL\",\"CAN\",\"CHN\",\"COL\",\"DEU\",\"FRA\",\"GBR\",\"ITA\",\"JPN\",\"KOR\",\"NLD\",\"RUS\",\"USA\"],\"type\":\"bar\"}]},{\"data\":[{\"marker\":{\"color\":\"rgba(50, 171, 96, 0.6)\",\"line\":{\"color\":\"rgba(50, 171, 96, 1.0)\",\"width\":1}},\"orientation\":\"h\",\"x\":[1063.8333126835175,128938.8153083611,37515.6289753895,5433.539690874821,300374.4526116494,214217.5971809272,229033.3884738527,156326.81047307348,233782.30643838513,52321.48960312794,126372.89329914148,0.0,553993.0],\"y\":[\"BOL\",\"CAN\",\"CHN\",\"COL\",\"DEU\",\"FRA\",\"GBR\",\"ITA\",\"JPN\",\"KOR\",\"NLD\",\"RUS\",\"USA\"],\"type\":\"bar\"}]},{\"data\":[{\"marker\":{\"color\":\"rgba(50, 171, 96, 0.6)\",\"line\":{\"color\":\"rgba(50, 171, 96, 1.0)\",\"width\":1}},\"orientation\":\"h\",\"x\":[1092.0541644208633,141918.07432432435,35150.17598566781,5464.066788876292,320591.5489441381,229069.50442113922,241086.80628272254,172137.69404459497,267623.3869027082,63102.49307479224,131771.03917697183,106426.91264365867,591031.0],\"y\":[\"BOL\",\"CAN\",\"CHN\",\"COL\",\"DEU\",\"FRA\",\"GBR\",\"ITA\",\"JPN\",\"KOR\",\"NLD\",\"RUS\",\"USA\"],\"type\":\"bar\"}]},{\"data\":[{\"marker\":{\"color\":\"rgba(50, 171, 96, 0.6)\",\"line\":{\"color\":\"rgba(50, 171, 96, 1.0)\",\"width\":1}},\"orientation\":\"h\",\"x\":[1164.6319499588892,148543.0236544395,35175.96276599312,7614.454664914586,407976.0343784046,276177.5689675943,272152.38281249994,213356.11990950225,295830.930469465,72984.06239403188,157951.21989592156,92740.9656580846,629727.0],\"y\":[\"BOL\",\"CAN\",\"CHN\",\"COL\",\"DEU\",\"FRA\",\"GBR\",\"ITA\",\"JPN\",\"KOR\",\"NLD\",\"RUS\",\"USA\"],\"type\":\"bar\"}]},{\"data\":[{\"marker\":{\"color\":\"rgba(50, 171, 96, 0.6)\",\"line\":{\"color\":\"rgba(50, 171, 96, 1.0)\",\"width\":1}},\"orientation\":\"h\",\"x\":[1440.847176450874,152336.5628000349,40752.44397212544,7098.679409209384,451396.5822038892,274783.1647482851,259389.7654320988,209893.7318557827,297072.08327425434,86128.99706824844,163751.44153701083,67259.25925925926,623544.0],\"y\":[\"BOL\",\"CAN\",\"CHN\",\"COL\",\"DEU\",\"FRA\",\"GBR\",\"ITA\",\"JPN\",\"KOR\",\"NLD\",\"RUS\",\"USA\"],\"type\":\"bar\"}]},{\"data\":[{\"marker\":{\"color\":\"rgba(50, 171, 96, 0.6)\",\"line\":{\"color\":\"rgba(50, 171, 96, 1.0)\",\"width\":1}},\"orientation\":\"h\",\"x\":[1640.4030252531727,157743.85703648548,53543.9092621664,9985.578591383619,483784.59611772076,289557.6208178439,275562.0726570727,230163.86802827966,298544.1128515854,87768.65432652277,176485.64411027567,222111.38014527844,667791.0],\"y\":[\"BOL\",\"CAN\",\"CHN\",\"COL\",\"DEU\",\"FRA\",\"GBR\",\"ITA\",\"JPN\",\"KOR\",\"NLD\",\"RUS\",\"USA\"],\"type\":\"bar\"}]},{\"data\":[{\"marker\":{\"color\":\"rgba(50, 171, 96, 0.6)\",\"line\":{\"color\":\"rgba(50, 171, 96, 1.0)\",\"width\":1}},\"orientation\":\"h\",\"x\":[1627.8659820402804,168552.05022866442,61828.975141186595,13949.161890943557,419718.4431562759,252823.7201760482,264198.7372525495,184878.13953488372,308939.56535111304,91279.97807318077,163796.40246796393,132673.76966007103,719973.0],\"y\":[\"BOL\",\"CAN\",\"CHN\",\"COL\",\"DEU\",\"FRA\",\"GBR\",\"ITA\",\"JPN\",\"KOR\",\"NLD\",\"RUS\",\"USA\"],\"type\":\"bar\"}]},{\"data\":[{\"marker\":{\"color\":\"rgba(50, 171, 96, 0.6)\",\"line\":{\"color\":\"rgba(50, 171, 96, 1.0)\",\"width\":1}},\"orientation\":\"h\",\"x\":[1626.751390542149,183320.1523140012,97250.44519475095,17091.69882605042,461900.6869952995,281109.404536862,294051.2213039486,204277.77377521616,348440.1386195574,114027.38191548944,182797.9731202325,91639.49802703926,813424.0],\"y\":[\"BOL\",\"CAN\",\"CHN\",\"COL\",\"DEU\",\"FRA\",\"GBR\",\"ITA\",\"JPN\",\"KOR\",\"NLD\",\"RUS\",\"USA\"],\"type\":\"bar\"}]},{\"data\":[{\"marker\":{\"color\":\"rgba(50, 171, 96, 0.6)\",\"line\":{\"color\":\"rgba(50, 171, 96, 1.0)\",\"width\":1}},\"orientation\":\"h\",\"x\":[1825.6378143032728,199747.1582628971,119910.87672889698,19392.751883962832,558205.2681861607,336601.39308713365,338739.1510178318,246820.7535956258,420000.7229458768,151503.10526793473,228853.9665111172,102419.98006423746,902572.0],\"y\":[\"BOL\",\"CAN\",\"CHN\",\"COL\",\"DEU\",\"FRA\",\"GBR\",\"ITA\",\"JPN\",\"KOR\",\"NLD\",\"RUS\",\"USA\"],\"type\":\"bar\"}]},{\"data\":[{\"marker\":{\"color\":\"rgba(50, 171, 96, 0.6)\",\"line\":{\"color\":\"rgba(50, 171, 96, 1.0)\",\"width\":1}},\"orientation\":\"h\",\"x\":[2017.4798013636541,209119.91199119913,137261.87700560488,20252.680331730968,553029.6334806343,341586.10078215157,367184.0873634945,251644.87388630942,440058.7980595537,169944.43408539996,231301.96078431373,85589.97970969252,963966.0],\"y\":[\"BOL\",\"CAN\",\"CHN\",\"COL\",\"DEU\",\"FRA\",\"GBR\",\"ITA\",\"JPN\",\"KOR\",\"NLD\",\"RUS\",\"USA\"],\"type\":\"bar\"}]},{\"data\":[{\"marker\":{\"color\":\"rgba(50, 171, 96, 0.6)\",\"line\":{\"color\":\"rgba(50, 171, 96, 1.0)\",\"width\":1}},\"orientation\":\"h\",\"x\":[2326.9032221228326,237129.1347681641,144623.8199956573,22137.740205720103,537123.8438980374,327048.7750056192,392763.5887360838,253824.23829013188,422282.1716343956,166240.26322152026,224998.87056697538,91218.66897147795,1055774.0],\"y\":[\"BOL\",\"CAN\",\"CHN\",\"COL\",\"DEU\",\"FRA\",\"GBR\",\"ITA\",\"JPN\",\"KOR\",\"NLD\",\"RUS\",\"USA\"],\"type\":\"bar\"}]},{\"data\":[{\"marker\":{\"color\":\"rgba(50, 171, 96, 0.6)\",\"line\":{\"color\":\"rgba(50, 171, 96, 1.0)\",\"width\":1}},\"orientation\":\"h\",\"x\":[2768.71091268761,241249.74721941355,144911.95434286338,20576.289396448614,563734.5781927308,351430.9539693129,411353.09705200396,267089.3275342924,353663.2970551994,111015.66959698594,233071.53965785383,66522.41112828438,1115690.0],\"y\":[\"BOL\",\"CAN\",\"CHN\",\"COL\",\"DEU\",\"FRA\",\"GBR\",\"ITA\",\"JPN\",\"KOR\",\"NLD\",\"RUS\",\"USA\"],\"type\":\"bar\"}]},{\"data\":[{\"marker\":{\"color\":\"rgba(50, 171, 96, 0.6)\",\"line\":{\"color\":\"rgba(50, 171, 96, 1.0)\",\"width\":1}},\"orientation\":\"h\",\"x\":[2260.778232743789,259518.74537255167,168056.41415508013,15343.463758285036,579610.7976366808,353643.80938146793,427675.133473548,268274.6895959851,385717.97293928015,135183.79569657307,243627.9697729735,51275.38586515028,1252460.0],\"y\":[\"BOL\",\"CAN\",\"CHN\",\"COL\",\"DEU\",\"FRA\",\"GBR\",\"ITA\",\"JPN\",\"KOR\",\"NLD\",\"RUS\",\"USA\"],\"type\":\"bar\"}]},{\"data\":[{\"marker\":{\"color\":\"rgba(50, 171, 96, 0.6)\",\"line\":{\"color\":\"rgba(50, 171, 96, 1.0)\",\"width\":1}},\"orientation\":\"h\",\"x\":[2294.5641626910324,287155.7470877382,224308.94769520682,16732.945249839548,597608.7220423543,372359.0172000008,447141.77636556205,284121.96941317705,452064.90017677273,185275.78340524863,248352.94914352993,62417.34802701742,1477184.0],\"y\":[\"BOL\",\"CAN\",\"CHN\",\"COL\",\"DEU\",\"FRA\",\"GBR\",\"ITA\",\"JPN\",\"KOR\",\"NLD\",\"RUS\",\"USA\"],\"type\":\"bar\"}]},{\"data\":[{\"marker\":{\"color\":\"rgba(50, 171, 96, 0.6)\",\"line\":{\"color\":\"rgba(50, 171, 96, 1.0)\",\"width\":1}},\"orientation\":\"h\",\"x\":[2056.200199791127,268281.89566115703,243973.7902163801,18182.899777234037,587981.680472048,367744.588386221,450148.2654383187,284831.77443539404,414845.3577708677,166685.56689052586,244883.9210547247,74250.94274940007,1403559.0],\"y\":[\"BOL\",\"CAN\",\"CHN\",\"COL\",\"DEU\",\"FRA\",\"GBR\",\"ITA\",\"JPN\",\"KOR\",\"NLD\",\"RUS\",\"USA\"],\"type\":\"bar\"}]},{\"data\":[{\"marker\":{\"color\":\"rgba(50, 171, 96, 0.6)\",\"line\":{\"color\":\"rgba(50, 171, 96, 1.0)\",\"width\":1}},\"orientation\":\"h\",\"x\":[2191.0688702928874,271159.1155292169,295619.6396641295,17797.007021647634,589090.5398329423,383474.58765137324,480358.2134292566,301961.78287498094,401205.0594953265,179268.71767818462,252610.9663384318,84408.29346092504,1437724.0],\"y\":[\"BOL\",\"CAN\",\"CHN\",\"COL\",\"DEU\",\"FRA\",\"GBR\",\"ITA\",\"JPN\",\"KOR\",\"NLD\",\"RUS\",\"USA\"],\"type\":\"bar\"}]},{\"data\":[{\"marker\":{\"color\":\"rgba(50, 171, 96, 0.6)\",\"line\":{\"color\":\"rgba(50, 171, 96, 1.0)\",\"width\":1}},\"orientation\":\"h\",\"x\":[2131.08537445164,295296.5527085861,412137.1247191011,18872.32735710792,726416.4987580377,455341.82890039124,538047.3469387755,360433.73916913656,445643.40764317475,209246.48165087574,305325.0753717641,102759.67678873973,1557120.0],\"y\":[\"BOL\",\"CAN\",\"CHN\",\"COL\",\"DEU\",\"FRA\",\"GBR\",\"ITA\",\"JPN\",\"KOR\",\"NLD\",\"RUS\",\"USA\"],\"type\":\"bar\"}]},{\"data\":[{\"marker\":{\"color\":\"rgba(50, 171, 96, 0.6)\",\"line\":{\"color\":\"rgba(50, 171, 96, 1.0)\",\"width\":1}},\"orientation\":\"h\",\"x\":[2309.687991431452,337418.1398923905,556182.5515899864,22353.99514321793,858739.159387261,539577.4590911211,638557.3050164774,423101.43153003976,532277.5040899134,263820.94087242,361677.03757529054,130992.71086428323,1810504.0],\"y\":[\"BOL\",\"CAN\",\"CHN\",\"COL\",\"DEU\",\"FRA\",\"GBR\",\"ITA\",\"JPN\",\"KOR\",\"NLD\",\"RUS\",\"USA\"],\"type\":\"bar\"}]},{\"data\":[{\"marker\":{\"color\":\"rgba(50, 171, 96, 0.6)\",\"line\":{\"color\":\"rgba(50, 171, 96, 1.0)\",\"width\":1}},\"orientation\":\"h\",\"x\":[3064.661819218705,385981.18501402874,648712.2078762066,29781.5328643468,935455.1135128401,592025.2379143966,697418.1818181818,458978.1186888714,599781.1613689936,308907.4711895627,391844.89263813215,164341.4744523483,2041482.0],\"y\":[\"BOL\",\"CAN\",\"CHN\",\"COL\",\"DEU\",\"FRA\",\"GBR\",\"ITA\",\"JPN\",\"KOR\",\"NLD\",\"RUS\",\"USA\"],\"type\":\"bar\"}]},{\"data\":[{\"marker\":{\"color\":\"rgba(50, 171, 96, 0.6)\",\"line\":{\"color\":\"rgba(50, 171, 96, 1.0)\",\"width\":1}},\"orientation\":\"h\",\"x\":[3752.3348270008487,430736.071932299,782812.4632653573,35415.10509714082,1078597.057376469,653657.2139364698,797006.4397424103,526275.4576905875,660752.9022100734,368894.0139224259,437371.5273917641,207914.38343569564,2256623.0],\"y\":[\"BOL\",\"CAN\",\"CHN\",\"COL\",\"DEU\",\"FRA\",\"GBR\",\"ITA\",\"JPN\",\"KOR\",\"NLD\",\"RUS\",\"USA\"],\"type\":\"bar\"}]},{\"data\":[{\"marker\":{\"color\":\"rgba(50, 171, 96, 0.6)\",\"line\":{\"color\":\"rgba(50, 171, 96, 1.0)\",\"width\":1}},\"orientation\":\"h\",\"x\":[4495.795394334624,470813.704496788,950020.767150838,42609.031128352624,1252105.739534514,760064.3795929436,850568.2272909164,613038.5362112569,711118.5654778839,427797.12357384764,523411.60225921735,279983.42506880156,2395228.0],\"y\":[\"BOL\",\"CAN\",\"CHN\",\"COL\",\"DEU\",\"FRA\",\"GBR\",\"ITA\",\"JPN\",\"KOR\",\"NLD\",\"RUS\",\"USA\"],\"type\":\"bar\"}]},{\"data\":[{\"marker\":{\"color\":\"rgba(50, 171, 96, 0.6)\",\"line\":{\"color\":\"rgba(50, 171, 96, 1.0)\",\"width\":1}},\"orientation\":\"h\",\"x\":[6329.651161184256,506718.8378631678,1149036.2497877302,50999.85958305978,1412923.892963281,857925.492297656,856439.3382352941,665513.9080984374,862718.9566512996,501407.9711867019,583175.1339359374,366597.0570838815,2576151.0],\"y\":[\"BOL\",\"CAN\",\"CHN\",\"COL\",\"DEU\",\"FRA\",\"GBR\",\"ITA\",\"JPN\",\"KOR\",\"NLD\",\"RUS\",\"USA\"],\"type\":\"bar\"}]},{\"data\":[{\"marker\":{\"color\":\"rgba(50, 171, 96, 0.6)\",\"line\":{\"color\":\"rgba(50, 171, 96, 1.0)\",\"width\":1}},\"orientation\":\"h\",\"x\":[5705.628903133904,411817.8637039629,1042533.7596539508,43531.90926062104,1129427.8556781244,692153.8029433589,674961.8320610687,506414.8121695309,633184.104751411,386527.8441261463,476307.0388109372,250604.90731055688,2001927.0],\"y\":[\"BOL\",\"CAN\",\"CHN\",\"COL\",\"DEU\",\"FRA\",\"GBR\",\"ITA\",\"JPN\",\"KOR\",\"NLD\",\"RUS\",\"USA\"],\"type\":\"bar\"}]},{\"data\":[{\"marker\":{\"color\":\"rgba(50, 171, 96, 0.6)\",\"line\":{\"color\":\"rgba(50, 171, 96, 1.0)\",\"width\":1}},\"orientation\":\"h\",\"x\":[6744.572876138355,502035.34267698554,1432415.8771694016,51362.878664021584,1268183.214766669,742755.2996833348,748933.0481962058,575297.3989333345,782080.174983161,506774.2965120353,522989.92213333433,322366.70958479185,2389555.0],\"y\":[\"BOL\",\"CAN\",\"CHN\",\"COL\",\"DEU\",\"FRA\",\"GBR\",\"ITA\",\"JPN\",\"KOR\",\"NLD\",\"RUS\",\"USA\"],\"type\":\"bar\"}]},{\"data\":[{\"marker\":{\"color\":\"rgba(50, 171, 96, 0.6)\",\"line\":{\"color\":\"rgba(50, 171, 96, 1.0)\",\"width\":1}},\"orientation\":\"h\",\"x\":[9199.095473547643,570642.7539381116,1825402.621465604,67638.29245573725,1505311.9128501974,870126.5401070056,848427.1011874172,648865.091382297,961182.3641741889,654540.6215563569,606248.0149902735,408776.71251059306,2695480.0],\"y\":[\"BOL\",\"CAN\",\"CHN\",\"COL\",\"DEU\",\"FRA\",\"GBR\",\"ITA\",\"JPN\",\"KOR\",\"NLD\",\"RUS\",\"USA\"],\"type\":\"bar\"}]},{\"data\":[{\"marker\":{\"color\":\"rgba(50, 171, 96, 0.6)\",\"line\":{\"color\":\"rgba(50, 171, 96, 1.0)\",\"width\":1}},\"orientation\":\"h\",\"x\":[10233.217742402316,589511.4909515835,1943215.3917272626,74273.08393324287,1418156.1599589847,818493.895248047,847526.3439266103,569227.6767360938,1007099.1521483755,656655.1037097455,585275.2011632813,447048.9432486592,2769317.0],\"y\":[\"BOL\",\"CAN\",\"CHN\",\"COL\",\"DEU\",\"FRA\",\"GBR\",\"ITA\",\"JPN\",\"KOR\",\"NLD\",\"RUS\",\"USA\"],\"type\":\"bar\"}]},{\"data\":[{\"marker\":{\"color\":\"rgba(50, 171, 96, 0.6)\",\"line\":{\"color\":\"rgba(50, 171, 96, 1.0)\",\"width\":1}},\"orientation\":\"h\",\"x\":[11386.396497829233,589048.6272653525,2119378.0545208044,76041.90807793704,1480834.3481909847,854791.3793376494,871285.5215798086,561919.5705547467,948362.884511706,639613.5042433554,611116.25021059,468623.0843889676,2766375.0],\"y\":[\"BOL\",\"CAN\",\"CHN\",\"COL\",\"DEU\",\"FRA\",\"GBR\",\"ITA\",\"JPN\",\"KOR\",\"NLD\",\"RUS\",\"USA\"],\"type\":\"bar\"}]},{\"data\":[{\"marker\":{\"color\":\"rgba(50, 171, 96, 0.6)\",\"line\":{\"color\":\"rgba(50, 171, 96, 1.0)\",\"width\":1}},\"orientation\":\"h\",\"x\":[13848.955976845153,589434.4333782681,2241288.6030862387,79472.22997920352,1516778.57246823,879982.9775199969,922260.4513771394,566733.7848354882,980024.6787678447,635036.1760855673,619841.2679388215,426062.191556665,2887445.0],\"y\":[\"BOL\",\"CAN\",\"CHN\",\"COL\",\"DEU\",\"FRA\",\"GBR\",\"ITA\",\"JPN\",\"KOR\",\"NLD\",\"RUS\",\"USA\"],\"type\":\"bar\"}]},{\"data\":[{\"marker\":{\"color\":\"rgba(50, 171, 96, 0.6)\",\"line\":{\"color\":\"rgba(50, 171, 96, 1.0)\",\"width\":1}},\"orientation\":\"h\",\"x\":[12231.374703328509,534115.0835562226,2003257.157591329,66651.3268318839,1320386.9106171867,760028.5347199215,849467.329463063,490422.5608137888,799671.8504115808,529773.4400381909,575386.728000781,281640.1012837701,2794850.0],\"y\":[\"BOL\",\"CAN\",\"CHN\",\"COL\",\"DEU\",\"FRA\",\"GBR\",\"ITA\",\"JPN\",\"KOR\",\"NLD\",\"RUS\",\"USA\"],\"type\":\"bar\"}]},{\"data\":[{\"marker\":{\"color\":\"rgba(50, 171, 96, 0.6)\",\"line\":{\"color\":\"rgba(50, 171, 96, 1.0)\",\"width\":1}},\"orientation\":\"h\",\"x\":[10831.641432706223,517396.0126260899,1944484.0960493642,60766.406263378434,1342707.789871988,762973.9259404688,813002.9447917666,488784.0627618689,763174.8024389226,502104.73087038,543538.1321416355,263830.6248965416,2738359.0],\"y\":[\"BOL\",\"CAN\",\"CHN\",\"COL\",\"DEU\",\"FRA\",\"GBR\",\"ITA\",\"JPN\",\"KOR\",\"NLD\",\"RUS\",\"USA\"],\"type\":\"bar\"}]},{\"data\":[{\"marker\":{\"color\":\"rgba(50, 171, 96, 0.6)\",\"line\":{\"color\":\"rgba(50, 171, 96, 1.0)\",\"width\":1}},\"orientation\":\"h\",\"x\":[11927.938900144718,554922.6504254503,2208504.2143427827,62805.97672762432,1479076.8784976497,830791.2604811778,845037.0714230172,546761.2836551775,829947.4253291051,587636.5394029818,605693.2486200011,327207.47033052926,2923691.0],\"y\":[\"BOL\",\"CAN\",\"CHN\",\"COL\",\"DEU\",\"FRA\",\"GBR\",\"ITA\",\"JPN\",\"KOR\",\"NLD\",\"RUS\",\"USA\"],\"type\":\"bar\"}]},{\"data\":[{\"marker\":{\"color\":\"rgba(50, 171, 96, 0.6)\",\"line\":{\"color\":\"rgba(50, 171, 96, 1.0)\",\"width\":1}},\"orientation\":\"h\",\"x\":[12537.987221418234,589502.4457111506,2564105.2457527206,68961.91228891662,1635992.8157945084,913320.6940196072,922678.6853602265,605614.3755222741,922228.4723886164,642946.11540209,677669.4882698035,344519.7796007857,3129697.0],\"y\":[\"BOL\",\"CAN\",\"CHN\",\"COL\",\"DEU\",\"FRA\",\"GBR\",\"ITA\",\"JPN\",\"KOR\",\"NLD\",\"RUS\",\"USA\"],\"type\":\"bar\"}]},{\"data\":[{\"marker\":{\"color\":\"rgba(50, 171, 96, 0.6)\",\"line\":{\"color\":\"rgba(50, 171, 96, 1.0)\",\"width\":1}},\"orientation\":\"h\",\"x\":[12853.418147612156,583641.7499462334,2496147.8860807135,70084.06039493158,1593258.5118431349,888231.3771607828,918938.6605387556,568727.0830054893,908591.9049607498,602460.1892552285,662011.3266431362,352088.50484339107,3115990.0],\"y\":[\"BOL\",\"CAN\",\"CHN\",\"COL\",\"DEU\",\"FRA\",\"GBR\",\"ITA\",\"JPN\",\"KOR\",\"NLD\",\"RUS\",\"USA\"],\"type\":\"bar\"}]},{\"data\":[{\"marker\":{\"color\":\"rgba(50, 171, 96, 0.6)\",\"line\":{\"color\":\"rgba(50, 171, 96, 1.0)\",\"width\":1}},\"orientation\":\"h\",\"x\":[9241.956049204053,516976.93660060014,2357105.7408416416,55177.280207085845,1449776.9569322998,786301.5077540878,773770.9327428701,489611.3854504294,796344.9558717038,536732.9121965579,616383.8458023363,304075.0351224396,2774597.0],\"y\":[\"BOL\",\"CAN\",\"CHN\",\"COL\",\"DEU\",\"FRA\",\"GBR\",\"ITA\",\"JPN\",\"KOR\",\"NLD\",\"RUS\",\"USA\"],\"type\":\"bar\"}]},{\"data\":[{\"marker\":{\"color\":\"rgba(50, 171, 96, 0.6)\",\"line\":{\"color\":\"rgba(50, 171, 96, 1.0)\",\"width\":1}},\"orientation\":\"h\",\"x\":[12605.111070911722,607881.841277367,3089622.822933788,76276.9461825369,1770614.2847596614,940542.2976007601,900168.5541042867,636716.3002530906,0.0,684201.2510421054,738970.2320348718,378028.1667193904,0.0],\"y\":[\"BOL\",\"CAN\",\"CHN\",\"COL\",\"DEU\",\"FRA\",\"GBR\",\"ITA\",\"JPN\",\"KOR\",\"NLD\",\"RUS\",\"USA\"],\"type\":\"bar\"}]}]);\n",
              "                        }).then(function(){\n",
              "                            \n",
              "var gd = document.getElementById('57eaa8cd-bcb9-4007-bc02-397323a88b32');\n",
              "var x = new MutationObserver(function (mutations, observer) {{\n",
              "        var display = window.getComputedStyle(gd).display;\n",
              "        if (!display || display === 'none') {{\n",
              "            console.log([gd, 'removed!']);\n",
              "            Plotly.purge(gd);\n",
              "            observer.disconnect();\n",
              "        }}\n",
              "}});\n",
              "\n",
              "// Listen for the removal of the full notebook cells\n",
              "var notebookContainer = gd.closest('#notebook-container');\n",
              "if (notebookContainer) {{\n",
              "    x.observe(notebookContainer, {childList: true});\n",
              "}}\n",
              "\n",
              "// Listen for the clearing of the current output cell\n",
              "var outputEl = gd.closest('.output');\n",
              "if (outputEl) {{\n",
              "    x.observe(outputEl, {childList: true});\n",
              "}}\n",
              "\n",
              "                        })                };                            </script>        </div>\n",
              "</body>\n",
              "</html>"
            ]
          },
          "metadata": {}
        }
      ]
    },
    {
      "cell_type": "code",
      "source": [
        "# Buttons\n",
        "fig.update_layout(\n",
        "    \n",
        "\n",
        "    updatemenus=[dict(\n",
        "            type=\"buttons\",\n",
        "            buttons=[dict(label=\"Play\",\n",
        "                          method=\"animate\",\n",
        "                          args=[None,\n",
        "                          {\"frame\": {\"duration\": 500, \"redraw\": True},\n",
        "                          \"transition\": {\"duration\":250,\n",
        "                          \"easing\": \"linear\"}}]\n",
        "            )]\n",
        "        )]\n",
        "    \n",
        ")\n",
        "\n",
        "# The result\n",
        "fig.show()"
      ],
      "metadata": {
        "colab": {
          "base_uri": "https://localhost:8080/"
        },
        "id": "i0Bp8m1PC6jC",
        "outputId": "d3fc87b7-d246-4b2c-f5f5-28aab4f1f86b"
      },
      "execution_count": 26,
      "outputs": [
        {
          "output_type": "display_data",
          "data": {
            "text/html": [
              "<html>\n",
              "<head><meta charset=\"utf-8\" /></head>\n",
              "<body>\n",
              "    <div>            <script src=\"https://cdnjs.cloudflare.com/ajax/libs/mathjax/2.7.5/MathJax.js?config=TeX-AMS-MML_SVG\"></script><script type=\"text/javascript\">if (window.MathJax) {MathJax.Hub.Config({SVG: {font: \"STIX-Web\"}});}</script>                <script type=\"text/javascript\">window.PlotlyConfig = {MathJaxConfig: 'local'};</script>\n",
              "        <script src=\"https://cdn.plot.ly/plotly-2.8.3.min.js\"></script>                <div id=\"6fa5b62c-cf99-45cb-acac-ea85d9fe810d\" class=\"plotly-graph-div\" style=\"height:525px; width:100%;\"></div>            <script type=\"text/javascript\">                                    window.PLOTLYENV=window.PLOTLYENV || {};                                    if (document.getElementById(\"6fa5b62c-cf99-45cb-acac-ea85d9fe810d\")) {                    Plotly.newPlot(                        \"6fa5b62c-cf99-45cb-acac-ea85d9fe810d\",                        [{\"marker\":{\"color\":\"rgba(50, 171, 96, 0.6)\",\"line\":{\"color\":\"rgba(50, 171, 96, 1.0)\",\"width\":1}},\"orientation\":\"h\",\"x\":[12605.111070911722,607881.841277367,3089622.822933788,76276.9461825369,1770614.2847596614,940542.2976007601,900168.5541042867,636716.3002530906,0.0,684201.2510421054,738970.2320348718,378028.1667193904,0.0],\"y\":[\"BOL\",\"CAN\",\"CHN\",\"COL\",\"DEU\",\"FRA\",\"GBR\",\"ITA\",\"JPN\",\"KOR\",\"NLD\",\"RUS\",\"USA\"],\"type\":\"bar\"}],                        {\"template\":{\"data\":{\"bar\":[{\"error_x\":{\"color\":\"#2a3f5f\"},\"error_y\":{\"color\":\"#2a3f5f\"},\"marker\":{\"line\":{\"color\":\"#E5ECF6\",\"width\":0.5},\"pattern\":{\"fillmode\":\"overlay\",\"size\":10,\"solidity\":0.2}},\"type\":\"bar\"}],\"barpolar\":[{\"marker\":{\"line\":{\"color\":\"#E5ECF6\",\"width\":0.5},\"pattern\":{\"fillmode\":\"overlay\",\"size\":10,\"solidity\":0.2}},\"type\":\"barpolar\"}],\"carpet\":[{\"aaxis\":{\"endlinecolor\":\"#2a3f5f\",\"gridcolor\":\"white\",\"linecolor\":\"white\",\"minorgridcolor\":\"white\",\"startlinecolor\":\"#2a3f5f\"},\"baxis\":{\"endlinecolor\":\"#2a3f5f\",\"gridcolor\":\"white\",\"linecolor\":\"white\",\"minorgridcolor\":\"white\",\"startlinecolor\":\"#2a3f5f\"},\"type\":\"carpet\"}],\"choropleth\":[{\"colorbar\":{\"outlinewidth\":0,\"ticks\":\"\"},\"type\":\"choropleth\"}],\"contour\":[{\"colorbar\":{\"outlinewidth\":0,\"ticks\":\"\"},\"colorscale\":[[0.0,\"#0d0887\"],[0.1111111111111111,\"#46039f\"],[0.2222222222222222,\"#7201a8\"],[0.3333333333333333,\"#9c179e\"],[0.4444444444444444,\"#bd3786\"],[0.5555555555555556,\"#d8576b\"],[0.6666666666666666,\"#ed7953\"],[0.7777777777777778,\"#fb9f3a\"],[0.8888888888888888,\"#fdca26\"],[1.0,\"#f0f921\"]],\"type\":\"contour\"}],\"contourcarpet\":[{\"colorbar\":{\"outlinewidth\":0,\"ticks\":\"\"},\"type\":\"contourcarpet\"}],\"heatmap\":[{\"colorbar\":{\"outlinewidth\":0,\"ticks\":\"\"},\"colorscale\":[[0.0,\"#0d0887\"],[0.1111111111111111,\"#46039f\"],[0.2222222222222222,\"#7201a8\"],[0.3333333333333333,\"#9c179e\"],[0.4444444444444444,\"#bd3786\"],[0.5555555555555556,\"#d8576b\"],[0.6666666666666666,\"#ed7953\"],[0.7777777777777778,\"#fb9f3a\"],[0.8888888888888888,\"#fdca26\"],[1.0,\"#f0f921\"]],\"type\":\"heatmap\"}],\"heatmapgl\":[{\"colorbar\":{\"outlinewidth\":0,\"ticks\":\"\"},\"colorscale\":[[0.0,\"#0d0887\"],[0.1111111111111111,\"#46039f\"],[0.2222222222222222,\"#7201a8\"],[0.3333333333333333,\"#9c179e\"],[0.4444444444444444,\"#bd3786\"],[0.5555555555555556,\"#d8576b\"],[0.6666666666666666,\"#ed7953\"],[0.7777777777777778,\"#fb9f3a\"],[0.8888888888888888,\"#fdca26\"],[1.0,\"#f0f921\"]],\"type\":\"heatmapgl\"}],\"histogram\":[{\"marker\":{\"pattern\":{\"fillmode\":\"overlay\",\"size\":10,\"solidity\":0.2}},\"type\":\"histogram\"}],\"histogram2d\":[{\"colorbar\":{\"outlinewidth\":0,\"ticks\":\"\"},\"colorscale\":[[0.0,\"#0d0887\"],[0.1111111111111111,\"#46039f\"],[0.2222222222222222,\"#7201a8\"],[0.3333333333333333,\"#9c179e\"],[0.4444444444444444,\"#bd3786\"],[0.5555555555555556,\"#d8576b\"],[0.6666666666666666,\"#ed7953\"],[0.7777777777777778,\"#fb9f3a\"],[0.8888888888888888,\"#fdca26\"],[1.0,\"#f0f921\"]],\"type\":\"histogram2d\"}],\"histogram2dcontour\":[{\"colorbar\":{\"outlinewidth\":0,\"ticks\":\"\"},\"colorscale\":[[0.0,\"#0d0887\"],[0.1111111111111111,\"#46039f\"],[0.2222222222222222,\"#7201a8\"],[0.3333333333333333,\"#9c179e\"],[0.4444444444444444,\"#bd3786\"],[0.5555555555555556,\"#d8576b\"],[0.6666666666666666,\"#ed7953\"],[0.7777777777777778,\"#fb9f3a\"],[0.8888888888888888,\"#fdca26\"],[1.0,\"#f0f921\"]],\"type\":\"histogram2dcontour\"}],\"mesh3d\":[{\"colorbar\":{\"outlinewidth\":0,\"ticks\":\"\"},\"type\":\"mesh3d\"}],\"parcoords\":[{\"line\":{\"colorbar\":{\"outlinewidth\":0,\"ticks\":\"\"}},\"type\":\"parcoords\"}],\"pie\":[{\"automargin\":true,\"type\":\"pie\"}],\"scatter\":[{\"marker\":{\"colorbar\":{\"outlinewidth\":0,\"ticks\":\"\"}},\"type\":\"scatter\"}],\"scatter3d\":[{\"line\":{\"colorbar\":{\"outlinewidth\":0,\"ticks\":\"\"}},\"marker\":{\"colorbar\":{\"outlinewidth\":0,\"ticks\":\"\"}},\"type\":\"scatter3d\"}],\"scattercarpet\":[{\"marker\":{\"colorbar\":{\"outlinewidth\":0,\"ticks\":\"\"}},\"type\":\"scattercarpet\"}],\"scattergeo\":[{\"marker\":{\"colorbar\":{\"outlinewidth\":0,\"ticks\":\"\"}},\"type\":\"scattergeo\"}],\"scattergl\":[{\"marker\":{\"colorbar\":{\"outlinewidth\":0,\"ticks\":\"\"}},\"type\":\"scattergl\"}],\"scattermapbox\":[{\"marker\":{\"colorbar\":{\"outlinewidth\":0,\"ticks\":\"\"}},\"type\":\"scattermapbox\"}],\"scatterpolar\":[{\"marker\":{\"colorbar\":{\"outlinewidth\":0,\"ticks\":\"\"}},\"type\":\"scatterpolar\"}],\"scatterpolargl\":[{\"marker\":{\"colorbar\":{\"outlinewidth\":0,\"ticks\":\"\"}},\"type\":\"scatterpolargl\"}],\"scatterternary\":[{\"marker\":{\"colorbar\":{\"outlinewidth\":0,\"ticks\":\"\"}},\"type\":\"scatterternary\"}],\"surface\":[{\"colorbar\":{\"outlinewidth\":0,\"ticks\":\"\"},\"colorscale\":[[0.0,\"#0d0887\"],[0.1111111111111111,\"#46039f\"],[0.2222222222222222,\"#7201a8\"],[0.3333333333333333,\"#9c179e\"],[0.4444444444444444,\"#bd3786\"],[0.5555555555555556,\"#d8576b\"],[0.6666666666666666,\"#ed7953\"],[0.7777777777777778,\"#fb9f3a\"],[0.8888888888888888,\"#fdca26\"],[1.0,\"#f0f921\"]],\"type\":\"surface\"}],\"table\":[{\"cells\":{\"fill\":{\"color\":\"#EBF0F8\"},\"line\":{\"color\":\"white\"}},\"header\":{\"fill\":{\"color\":\"#C8D4E3\"},\"line\":{\"color\":\"white\"}},\"type\":\"table\"}]},\"layout\":{\"annotationdefaults\":{\"arrowcolor\":\"#2a3f5f\",\"arrowhead\":0,\"arrowwidth\":1},\"autotypenumbers\":\"strict\",\"coloraxis\":{\"colorbar\":{\"outlinewidth\":0,\"ticks\":\"\"}},\"colorscale\":{\"diverging\":[[0,\"#8e0152\"],[0.1,\"#c51b7d\"],[0.2,\"#de77ae\"],[0.3,\"#f1b6da\"],[0.4,\"#fde0ef\"],[0.5,\"#f7f7f7\"],[0.6,\"#e6f5d0\"],[0.7,\"#b8e186\"],[0.8,\"#7fbc41\"],[0.9,\"#4d9221\"],[1,\"#276419\"]],\"sequential\":[[0.0,\"#0d0887\"],[0.1111111111111111,\"#46039f\"],[0.2222222222222222,\"#7201a8\"],[0.3333333333333333,\"#9c179e\"],[0.4444444444444444,\"#bd3786\"],[0.5555555555555556,\"#d8576b\"],[0.6666666666666666,\"#ed7953\"],[0.7777777777777778,\"#fb9f3a\"],[0.8888888888888888,\"#fdca26\"],[1.0,\"#f0f921\"]],\"sequentialminus\":[[0.0,\"#0d0887\"],[0.1111111111111111,\"#46039f\"],[0.2222222222222222,\"#7201a8\"],[0.3333333333333333,\"#9c179e\"],[0.4444444444444444,\"#bd3786\"],[0.5555555555555556,\"#d8576b\"],[0.6666666666666666,\"#ed7953\"],[0.7777777777777778,\"#fb9f3a\"],[0.8888888888888888,\"#fdca26\"],[1.0,\"#f0f921\"]]},\"colorway\":[\"#636efa\",\"#EF553B\",\"#00cc96\",\"#ab63fa\",\"#FFA15A\",\"#19d3f3\",\"#FF6692\",\"#B6E880\",\"#FF97FF\",\"#FECB52\"],\"font\":{\"color\":\"#2a3f5f\"},\"geo\":{\"bgcolor\":\"white\",\"lakecolor\":\"white\",\"landcolor\":\"#E5ECF6\",\"showlakes\":true,\"showland\":true,\"subunitcolor\":\"white\"},\"hoverlabel\":{\"align\":\"left\"},\"hovermode\":\"closest\",\"mapbox\":{\"style\":\"light\"},\"paper_bgcolor\":\"white\",\"plot_bgcolor\":\"#E5ECF6\",\"polar\":{\"angularaxis\":{\"gridcolor\":\"white\",\"linecolor\":\"white\",\"ticks\":\"\"},\"bgcolor\":\"#E5ECF6\",\"radialaxis\":{\"gridcolor\":\"white\",\"linecolor\":\"white\",\"ticks\":\"\"}},\"scene\":{\"xaxis\":{\"backgroundcolor\":\"#E5ECF6\",\"gridcolor\":\"white\",\"gridwidth\":2,\"linecolor\":\"white\",\"showbackground\":true,\"ticks\":\"\",\"zerolinecolor\":\"white\"},\"yaxis\":{\"backgroundcolor\":\"#E5ECF6\",\"gridcolor\":\"white\",\"gridwidth\":2,\"linecolor\":\"white\",\"showbackground\":true,\"ticks\":\"\",\"zerolinecolor\":\"white\"},\"zaxis\":{\"backgroundcolor\":\"#E5ECF6\",\"gridcolor\":\"white\",\"gridwidth\":2,\"linecolor\":\"white\",\"showbackground\":true,\"ticks\":\"\",\"zerolinecolor\":\"white\"}},\"shapedefaults\":{\"line\":{\"color\":\"#2a3f5f\"}},\"ternary\":{\"aaxis\":{\"gridcolor\":\"white\",\"linecolor\":\"white\",\"ticks\":\"\"},\"baxis\":{\"gridcolor\":\"white\",\"linecolor\":\"white\",\"ticks\":\"\"},\"bgcolor\":\"#E5ECF6\",\"caxis\":{\"gridcolor\":\"white\",\"linecolor\":\"white\",\"ticks\":\"\"}},\"title\":{\"x\":0.05},\"xaxis\":{\"automargin\":true,\"gridcolor\":\"white\",\"linecolor\":\"white\",\"ticks\":\"\",\"title\":{\"standoff\":15},\"zerolinecolor\":\"white\",\"zerolinewidth\":2},\"yaxis\":{\"automargin\":true,\"gridcolor\":\"white\",\"linecolor\":\"white\",\"ticks\":\"\",\"title\":{\"standoff\":15},\"zerolinecolor\":\"white\",\"zerolinewidth\":2}}},\"xaxis\":{\"title\":{\"text\":\"Date\",\"font\":{\"size\":20}},\"dtick\":\"M1\"},\"legend\":{\"orientation\":\"h\",\"yanchor\":\"middle\",\"y\":-0.25,\"xanchor\":\"center\",\"x\":0.5},\"updatemenus\":[{\"buttons\":[{\"args\":[null,{\"frame\":{\"duration\":500,\"redraw\":true},\"transition\":{\"duration\":250,\"easing\":\"linear\"}}],\"label\":\"Play\",\"method\":\"animate\"}],\"type\":\"buttons\"}]},                        {\"responsive\": true}                    ).then(function(){\n",
              "                            Plotly.addFrames('6fa5b62c-cf99-45cb-acac-ea85d9fe810d', [{\"data\":[{\"marker\":{\"color\":\"rgba(50, 171, 96, 0.6)\",\"line\":{\"color\":\"rgba(50, 171, 96, 1.0)\",\"width\":1}},\"orientation\":\"h\",\"x\":[89.4839646738677,0.0,2644.4065318059957,594.8946948003014,0.0,7703.448807471393,0.0,0.0,0.0,474.1401160874965,0.0,0.0,0.0],\"y\":[\"BOL\",\"CAN\",\"CHN\",\"COL\",\"DEU\",\"FRA\",\"GBR\",\"ITA\",\"JPN\",\"KOR\",\"NLD\",\"RUS\",\"USA\"],\"type\":\"bar\"}]},{\"data\":[{\"marker\":{\"color\":\"rgba(50, 171, 96, 0.6)\",\"line\":{\"color\":\"rgba(50, 171, 96, 1.0)\",\"width\":1}},\"orientation\":\"h\",\"x\":[94.90976477069734,7480.255448938901,1746.6894142497358,627.9347164179103,0.0,8273.434929997304,0.0,0.0,0.0,337.52379975511093,0.0,0.0,0.0],\"y\":[\"BOL\",\"CAN\",\"CHN\",\"COL\",\"DEU\",\"FRA\",\"GBR\",\"ITA\",\"JPN\",\"KOR\",\"NLD\",\"RUS\",\"USA\"],\"type\":\"bar\"}]},{\"data\":[{\"marker\":{\"color\":\"rgba(50, 171, 96, 0.6)\",\"line\":{\"color\":\"rgba(50, 171, 96, 1.0)\",\"width\":1}},\"orientation\":\"h\",\"x\":[113.8583281857794,7594.733339993744,1372.979120968397,605.9298093085259,0.0,9042.716899560246,0.0,0.0,0.0,438.92476509525034,0.0,0.0,0.0],\"y\":[\"BOL\",\"CAN\",\"CHN\",\"COL\",\"DEU\",\"FRA\",\"GBR\",\"ITA\",\"JPN\",\"KOR\",\"NLD\",\"RUS\",\"USA\"],\"type\":\"bar\"}]},{\"data\":[{\"marker\":{\"color\":\"rgba(50, 171, 96, 0.6)\",\"line\":{\"color\":\"rgba(50, 171, 96, 1.0)\",\"width\":1}},\"orientation\":\"h\",\"x\":[126.1289837893788,7854.3690428121445,1450.158420667804,597.2856555555555,0.0,10367.36996286638,0.0,0.0,0.0,584.5407097719606,0.0,0.0,0.0],\"y\":[\"BOL\",\"CAN\",\"CHN\",\"COL\",\"DEU\",\"FRA\",\"GBR\",\"ITA\",\"JPN\",\"KOR\",\"NLD\",\"RUS\",\"USA\"],\"type\":\"bar\"}]},{\"data\":[{\"marker\":{\"color\":\"rgba(50, 171, 96, 0.6)\",\"line\":{\"color\":\"rgba(50, 171, 96, 1.0)\",\"width\":1}},\"orientation\":\"h\",\"x\":[126.62982687523998,8918.902584552967,1710.1307986026482,755.7277,0.0,12137.117084555222,0.0,0.0,0.0,428.20554427276835,0.0,0.0,0.0],\"y\":[\"BOL\",\"CAN\",\"CHN\",\"COL\",\"DEU\",\"FRA\",\"GBR\",\"ITA\",\"JPN\",\"KOR\",\"NLD\",\"RUS\",\"USA\"],\"type\":\"bar\"}]},{\"data\":[{\"marker\":{\"color\":\"rgba(50, 171, 96, 0.6)\",\"line\":{\"color\":\"rgba(50, 171, 96, 1.0)\",\"width\":1}},\"orientation\":\"h\",\"x\":[161.2794612794613,10166.20835337225,2246.323828093265,559.3333333333334,0.0,12575.567948036693,0.0,0.0,0.0,447.2222222222223,0.0,0.0,0.0],\"y\":[\"BOL\",\"CAN\",\"CHN\",\"COL\",\"DEU\",\"FRA\",\"GBR\",\"ITA\",\"JPN\",\"KOR\",\"NLD\",\"RUS\",\"USA\"],\"type\":\"bar\"}]},{\"data\":[{\"marker\":{\"color\":\"rgba(50, 171, 96, 0.6)\",\"line\":{\"color\":\"rgba(50, 171, 96, 1.0)\",\"width\":1}},\"orientation\":\"h\",\"x\":[177.1885521885522,11787.61683615182,2481.923795596718,778.8148148148148,0.0,14294.82678847615,0.0,0.0,0.0,715.7440849119187,0.0,0.0,0.0],\"y\":[\"BOL\",\"CAN\",\"CHN\",\"COL\",\"DEU\",\"FRA\",\"GBR\",\"ITA\",\"JPN\",\"KOR\",\"NLD\",\"RUS\",\"USA\"],\"type\":\"bar\"}]},{\"data\":[{\"marker\":{\"color\":\"rgba(50, 171, 96, 0.6)\",\"line\":{\"color\":\"rgba(50, 171, 96, 1.0)\",\"width\":1}},\"orientation\":\"h\",\"x\":[196.63299663299665,12634.55850463909,2169.144528393858,602.4112996063888,0.0,15606.193461979818,0.0,0.0,0.0,955.6040218837794,0.0,0.0,0.0],\"y\":[\"BOL\",\"CAN\",\"CHN\",\"COL\",\"DEU\",\"FRA\",\"GBR\",\"ITA\",\"JPN\",\"KOR\",\"NLD\",\"RUS\",\"USA\"],\"type\":\"bar\"}]},{\"data\":[{\"marker\":{\"color\":\"rgba(50, 171, 96, 0.6)\",\"line\":{\"color\":\"rgba(50, 171, 96, 1.0)\",\"width\":1}},\"orientation\":\"h\",\"x\":[206.22895622895624,14340.936627455152,2067.5928182630596,763.5790003498715,0.0,17377.2692226489,0.0,0.0,0.0,1385.1075365985903,0.0,0.0,0.0],\"y\":[\"BOL\",\"CAN\",\"CHN\",\"COL\",\"DEU\",\"FRA\",\"GBR\",\"ITA\",\"JPN\",\"KOR\",\"NLD\",\"RUS\",\"USA\"],\"type\":\"bar\"}]},{\"data\":[{\"marker\":{\"color\":\"rgba(50, 171, 96, 0.6)\",\"line\":{\"color\":\"rgba(50, 171, 96, 1.0)\",\"width\":1}},\"orientation\":\"h\",\"x\":[216.16161616161617,16708.226653861617,1917.2962872694773,839.1208715079929,0.0,20853.686819126327,0.0,0.0,0.0,1723.8686840644086,13576.226089501939,0.0,0.0],\"y\":[\"BOL\",\"CAN\",\"CHN\",\"COL\",\"DEU\",\"FRA\",\"GBR\",\"ITA\",\"JPN\",\"KOR\",\"NLD\",\"RUS\",\"USA\"],\"type\":\"bar\"}]},{\"data\":[{\"marker\":{\"color\":\"rgba(50, 171, 96, 0.6)\",\"line\":{\"color\":\"rgba(50, 171, 96, 1.0)\",\"width\":1}},\"orientation\":\"h\",\"x\":[247.72727272727272,17327.97396880084,2278.820375335121,1047.700632177053,35790.765243413676,22918.389039801583,27373.47012239021,16935.941759603473,19572.635780555556,1902.047913446677,16526.937359225663,0.0,55760.0],\"y\":[\"BOL\",\"CAN\",\"CHN\",\"COL\",\"DEU\",\"FRA\",\"GBR\",\"ITA\",\"JPN\",\"KOR\",\"NLD\",\"RUS\",\"USA\"],\"type\":\"bar\"}]},{\"data\":[{\"marker\":{\"color\":\"rgba(50, 171, 96, 0.6)\",\"line\":{\"color\":\"rgba(50, 171, 96, 1.0)\",\"width\":1}},\"orientation\":\"h\",\"x\":[267.3400673400674,19613.784907902555,2128.5238443415383,1252.5773454470661,40706.50644064016,25770.095892032674,30379.610610854226,18471.50124843945,20867.00411232308,2279.130059052283,18708.263784461153,0.0,62342.0],\"y\":[\"BOL\",\"CAN\",\"CHN\",\"COL\",\"DEU\",\"FRA\",\"GBR\",\"ITA\",\"JPN\",\"KOR\",\"NLD\",\"RUS\",\"USA\"],\"type\":\"bar\"}]},{\"data\":[{\"marker\":{\"color\":\"rgba(50, 171, 96, 0.6)\",\"line\":{\"color\":\"rgba(50, 171, 96, 1.0)\",\"width\":1}},\"orientation\":\"h\",\"x\":[302.06844678450545,23413.47610869785,2850.6525321811946,1109.7696497413876,48506.78832116788,32248.374512353705,35205.09490509491,22528.78818061089,25436.329221812663,2329.1506528544887,21515.22521285361,0.0,74216.0],\"y\":[\"BOL\",\"CAN\",\"CHN\",\"COL\",\"DEU\",\"FRA\",\"GBR\",\"ITA\",\"JPN\",\"KOR\",\"NLD\",\"RUS\",\"USA\"],\"type\":\"bar\"}]},{\"data\":[{\"marker\":{\"color\":\"rgba(50, 171, 96, 0.6)\",\"line\":{\"color\":\"rgba(50, 171, 96, 1.0)\",\"width\":1}},\"orientation\":\"h\",\"x\":[357.67116441779115,28460.15398460154,5207.6002814919075,1306.3970778518308,65125.98243688254,44639.06894519741,47634.36305732484,31517.004317502495,41807.59757115984,3837.366941152842,29272.028220085132,0.0,91159.0],\"y\":[\"BOL\",\"CAN\",\"CHN\",\"COL\",\"DEU\",\"FRA\",\"GBR\",\"ITA\",\"JPN\",\"KOR\",\"NLD\",\"RUS\",\"USA\"],\"type\":\"bar\"}]},{\"data\":[{\"marker\":{\"color\":\"rgba(50, 171, 96, 0.6)\",\"line\":{\"color\":\"rgba(50, 171, 96, 1.0)\",\"width\":1}},\"orientation\":\"h\",\"x\":[562.8185907046477,38774.028629856846,7791.148276565367,1933.4886058852646,83342.70954576373,62037.64320785598,65155.04207573632,44460.726406668655,66503.97291861034,6508.270081835488,39830.68530207394,0.0,127465.0],\"y\":[\"BOL\",\"CAN\",\"CHN\",\"COL\",\"DEU\",\"FRA\",\"GBR\",\"ITA\",\"JPN\",\"KOR\",\"NLD\",\"RUS\",\"USA\"],\"type\":\"bar\"}]},{\"data\":[{\"marker\":{\"color\":\"rgba(50, 171, 96, 0.6)\",\"line\":{\"color\":\"rgba(50, 171, 96, 1.0)\",\"width\":1}},\"orientation\":\"h\",\"x\":[774.7126436781609,41679.11915060951,7925.583396064094,1835.3245493492846,92221.04777804278,64439.345265412274,65429.626106194686,42506.699288256226,64302.59600219012,6824.793388429753,43065.322411990244,0.0,122730.0],\"y\":[\"BOL\",\"CAN\",\"CHN\",\"COL\",\"DEU\",\"FRA\",\"GBR\",\"ITA\",\"JPN\",\"KOR\",\"NLD\",\"RUS\",\"USA\"],\"type\":\"bar\"}]},{\"data\":[{\"marker\":{\"color\":\"rgba(50, 171, 96, 0.6)\",\"line\":{\"color\":\"rgba(50, 171, 96, 1.0)\",\"width\":1}},\"orientation\":\"h\",\"x\":[816.4917541229383,46807.30223123732,6660.142165447614,2131.6904453091224,105502.0017088706,75449.33078393881,67660.91105121294,47521.970225633864,72270.44634929733,8477.066115702479,48274.614102350395,0.0,151146.0],\"y\":[\"BOL\",\"CAN\",\"CHN\",\"COL\",\"DEU\",\"FRA\",\"GBR\",\"ITA\",\"JPN\",\"KOR\",\"NLD\",\"RUS\",\"USA\"],\"type\":\"bar\"}]},{\"data\":[{\"marker\":{\"color\":\"rgba(50, 171, 96, 0.6)\",\"line\":{\"color\":\"rgba(50, 171, 96, 1.0)\",\"width\":1}},\"orientation\":\"h\",\"x\":[956.7716141929035,48954.39586271744,7148.2398535902685,2569.9267421181153,120844.28535332266,83706.87349558705,76081.76347462062,52626.622778143515,79894.82419649175,10717.561983471074,55544.24171679986,0.0,182443.0],\"y\":[\"BOL\",\"CAN\",\"CHN\",\"COL\",\"DEU\",\"FRA\",\"GBR\",\"ITA\",\"JPN\",\"KOR\",\"NLD\",\"RUS\",\"USA\"],\"type\":\"bar\"}]},{\"data\":[{\"marker\":{\"color\":\"rgba(50, 171, 96, 0.6)\",\"line\":{\"color\":\"rgba(50, 171, 96, 1.0)\",\"width\":1}},\"orientation\":\"h\",\"x\":[1131.5342328835582,53336.547733847634,7617.886178861789,3210.0268576544318,144716.3388510224,97265.98837209304,89520.63279002876,61718.1336983801,91906.3268259095,15187.190082644629,66348.58728865349,0.0,212250.0],\"y\":[\"BOL\",\"CAN\",\"CHN\",\"COL\",\"DEU\",\"FRA\",\"GBR\",\"ITA\",\"JPN\",\"KOR\",\"NLD\",\"RUS\",\"USA\"],\"type\":\"bar\"}]},{\"data\":[{\"marker\":{\"color\":\"rgba(50, 171, 96, 0.6)\",\"line\":{\"color\":\"rgba(50, 171, 96, 1.0)\",\"width\":1}},\"orientation\":\"h\",\"x\":[1211.27464674832,63191.053440327814,10560.869565217392,3756.624824023522,188607.42823604736,124740.98057354303,118387.33163913595,83952.40270333257,127175.65240485534,20679.752066115703,83883.25277381083,0.0,252674.0],\"y\":[\"BOL\",\"CAN\",\"CHN\",\"COL\",\"DEU\",\"FRA\",\"GBR\",\"ITA\",\"JPN\",\"KOR\",\"NLD\",\"RUS\",\"USA\"],\"type\":\"bar\"}]},{\"data\":[{\"marker\":{\"color\":\"rgba(50, 171, 96, 0.6)\",\"line\":{\"color\":\"rgba(50, 171, 96, 1.0)\",\"width\":1}},\"orientation\":\"h\",\"x\":[1011.2012988533523,70921.14266164899,12450.0,5209.514724514206,220779.61910910267,157930.76684259545,137791.86846386243,108750.38661541938,155866.96351075766,24257.445302339365,96421.79893593439,0.0,293828.0],\"y\":[\"BOL\",\"CAN\",\"CHN\",\"COL\",\"DEU\",\"FRA\",\"GBR\",\"ITA\",\"JPN\",\"KOR\",\"NLD\",\"RUS\",\"USA\"],\"type\":\"bar\"}]},{\"data\":[{\"marker\":{\"color\":\"rgba(50, 171, 96, 0.6)\",\"line\":{\"color\":\"rgba(50, 171, 96, 1.0)\",\"width\":1}},\"orientation\":\"h\",\"x\":[1352.3445300076635,79017.43264659272,14591.269841269841,5610.414540863144,192499.82085677198,144292.09414604705,124996.93729903537,101717.74655084313,164658.52709628097,27124.943100891298,82035.8102976243,0.0,317758.0],\"y\":[\"BOL\",\"CAN\",\"CHN\",\"COL\",\"DEU\",\"FRA\",\"GBR\",\"ITA\",\"JPN\",\"KOR\",\"NLD\",\"RUS\",\"USA\"],\"type\":\"bar\"}]},{\"data\":[{\"marker\":{\"color\":\"rgba(50, 171, 96, 0.6)\",\"line\":{\"color\":\"rgba(50, 171, 96, 1.0)\",\"width\":1}},\"orientation\":\"h\",\"x\":[1644.889775155521,67407.79768177029,12848.8649522508,5919.61089664169,182634.12267268478,139514.92164886717,122002.87386443047,95659.15533285613,151713.5083289605,25749.57596979811,78613.3869769745,0.0,303184.0],\"y\":[\"BOL\",\"CAN\",\"CHN\",\"COL\",\"DEU\",\"FRA\",\"GBR\",\"ITA\",\"JPN\",\"KOR\",\"NLD\",\"RUS\",\"USA\"],\"type\":\"bar\"}]},{\"data\":[{\"marker\":{\"color\":\"rgba(50, 171, 96, 0.6)\",\"line\":{\"color\":\"rgba(50, 171, 96, 1.0)\",\"width\":1}},\"orientation\":\"h\",\"x\":[1303.55458521097,74471.7624148004,14674.155555793219,5127.945978505532,179447.41937954805,127109.90618814013,121207.79899954525,87973.94441611423,146249.63738628454,26351.40186915888,77071.45085321597,0.0,328638.0],\"y\":[\"BOL\",\"CAN\",\"CHN\",\"COL\",\"DEU\",\"FRA\",\"GBR\",\"ITA\",\"JPN\",\"KOR\",\"NLD\",\"RUS\",\"USA\"],\"type\":\"bar\"}]},{\"data\":[{\"marker\":{\"color\":\"rgba(50, 171, 96, 0.6)\",\"line\":{\"color\":\"rgba(50, 171, 96, 1.0)\",\"width\":1}},\"orientation\":\"h\",\"x\":[1592.952109488643,87539.18616323064,20474.25278130886,4767.852803332755,177776.12741392344,125805.74945582826,127143.03671189144,93843.93541988097,157511.81467018914,27755.155214769595,75043.04670329671,0.0,405107.0],\"y\":[\"BOL\",\"CAN\",\"CHN\",\"COL\",\"DEU\",\"FRA\",\"GBR\",\"ITA\",\"JPN\",\"KOR\",\"NLD\",\"RUS\",\"USA\"],\"type\":\"bar\"}]},{\"data\":[{\"marker\":{\"color\":\"rgba(50, 171, 96, 0.6)\",\"line\":{\"color\":\"rgba(50, 171, 96, 1.0)\",\"width\":1}},\"orientation\":\"h\",\"x\":[1228.3236569739177,92626.87660197729,38259.41078047925,4370.638534990447,182960.45110284348,131050.51832384292,130824.28131416839,97337.83490518204,149721.34161832312,26119.629433806123,78508.86146496815,0.0,417229.0],\"y\":[\"BOL\",\"CAN\",\"CHN\",\"COL\",\"DEU\",\"FRA\",\"GBR\",\"ITA\",\"JPN\",\"KOR\",\"NLD\",\"RUS\",\"USA\"],\"type\":\"bar\"}]},{\"data\":[{\"marker\":{\"color\":\"rgba(50, 171, 96, 0.6)\",\"line\":{\"color\":\"rgba(50, 171, 96, 1.0)\",\"width\":1}},\"orientation\":\"h\",\"x\":[1017.8513271214438,98835.55235696293,33619.844234218835,4190.7888776325435,226593.53147797892,158186.38128610663,152757.61653474055,111807.78023119885,150490.32813948274,32877.07754268534,93092.82424896565,0.0,452867.0],\"y\":[\"BOL\",\"CAN\",\"CHN\",\"COL\",\"DEU\",\"FRA\",\"GBR\",\"ITA\",\"JPN\",\"KOR\",\"NLD\",\"RUS\",\"USA\"],\"type\":\"bar\"}]},{\"data\":[{\"marker\":{\"color\":\"rgba(50, 171, 96, 0.6)\",\"line\":{\"color\":\"rgba(50, 171, 96, 1.0)\",\"width\":1}},\"orientation\":\"h\",\"x\":[1043.1695672003113,107690.04524886877,28192.699201437445,4697.932909519812,272700.5495103373,193330.78686019863,188166.6988069946,141632.74873020613,181576.0089879872,41699.065125156514,113269.36901653612,0.0,508713.0],\"y\":[\"BOL\",\"CAN\",\"CHN\",\"COL\",\"DEU\",\"FRA\",\"GBR\",\"ITA\",\"JPN\",\"KOR\",\"NLD\",\"RUS\",\"USA\"],\"type\":\"bar\"}]},{\"data\":[{\"marker\":{\"color\":\"rgba(50, 171, 96, 0.6)\",\"line\":{\"color\":\"rgba(50, 171, 96, 1.0)\",\"width\":1}},\"orientation\":\"h\",\"x\":[1063.8333126835175,128938.8153083611,37515.6289753895,5433.539690874821,300374.4526116494,214217.5971809272,229033.3884738527,156326.81047307348,233782.30643838513,52321.48960312794,126372.89329914148,0.0,553993.0],\"y\":[\"BOL\",\"CAN\",\"CHN\",\"COL\",\"DEU\",\"FRA\",\"GBR\",\"ITA\",\"JPN\",\"KOR\",\"NLD\",\"RUS\",\"USA\"],\"type\":\"bar\"}]},{\"data\":[{\"marker\":{\"color\":\"rgba(50, 171, 96, 0.6)\",\"line\":{\"color\":\"rgba(50, 171, 96, 1.0)\",\"width\":1}},\"orientation\":\"h\",\"x\":[1092.0541644208633,141918.07432432435,35150.17598566781,5464.066788876292,320591.5489441381,229069.50442113922,241086.80628272254,172137.69404459497,267623.3869027082,63102.49307479224,131771.03917697183,106426.91264365867,591031.0],\"y\":[\"BOL\",\"CAN\",\"CHN\",\"COL\",\"DEU\",\"FRA\",\"GBR\",\"ITA\",\"JPN\",\"KOR\",\"NLD\",\"RUS\",\"USA\"],\"type\":\"bar\"}]},{\"data\":[{\"marker\":{\"color\":\"rgba(50, 171, 96, 0.6)\",\"line\":{\"color\":\"rgba(50, 171, 96, 1.0)\",\"width\":1}},\"orientation\":\"h\",\"x\":[1164.6319499588892,148543.0236544395,35175.96276599312,7614.454664914586,407976.0343784046,276177.5689675943,272152.38281249994,213356.11990950225,295830.930469465,72984.06239403188,157951.21989592156,92740.9656580846,629727.0],\"y\":[\"BOL\",\"CAN\",\"CHN\",\"COL\",\"DEU\",\"FRA\",\"GBR\",\"ITA\",\"JPN\",\"KOR\",\"NLD\",\"RUS\",\"USA\"],\"type\":\"bar\"}]},{\"data\":[{\"marker\":{\"color\":\"rgba(50, 171, 96, 0.6)\",\"line\":{\"color\":\"rgba(50, 171, 96, 1.0)\",\"width\":1}},\"orientation\":\"h\",\"x\":[1440.847176450874,152336.5628000349,40752.44397212544,7098.679409209384,451396.5822038892,274783.1647482851,259389.7654320988,209893.7318557827,297072.08327425434,86128.99706824844,163751.44153701083,67259.25925925926,623544.0],\"y\":[\"BOL\",\"CAN\",\"CHN\",\"COL\",\"DEU\",\"FRA\",\"GBR\",\"ITA\",\"JPN\",\"KOR\",\"NLD\",\"RUS\",\"USA\"],\"type\":\"bar\"}]},{\"data\":[{\"marker\":{\"color\":\"rgba(50, 171, 96, 0.6)\",\"line\":{\"color\":\"rgba(50, 171, 96, 1.0)\",\"width\":1}},\"orientation\":\"h\",\"x\":[1640.4030252531727,157743.85703648548,53543.9092621664,9985.578591383619,483784.59611772076,289557.6208178439,275562.0726570727,230163.86802827966,298544.1128515854,87768.65432652277,176485.64411027567,222111.38014527844,667791.0],\"y\":[\"BOL\",\"CAN\",\"CHN\",\"COL\",\"DEU\",\"FRA\",\"GBR\",\"ITA\",\"JPN\",\"KOR\",\"NLD\",\"RUS\",\"USA\"],\"type\":\"bar\"}]},{\"data\":[{\"marker\":{\"color\":\"rgba(50, 171, 96, 0.6)\",\"line\":{\"color\":\"rgba(50, 171, 96, 1.0)\",\"width\":1}},\"orientation\":\"h\",\"x\":[1627.8659820402804,168552.05022866442,61828.975141186595,13949.161890943557,419718.4431562759,252823.7201760482,264198.7372525495,184878.13953488372,308939.56535111304,91279.97807318077,163796.40246796393,132673.76966007103,719973.0],\"y\":[\"BOL\",\"CAN\",\"CHN\",\"COL\",\"DEU\",\"FRA\",\"GBR\",\"ITA\",\"JPN\",\"KOR\",\"NLD\",\"RUS\",\"USA\"],\"type\":\"bar\"}]},{\"data\":[{\"marker\":{\"color\":\"rgba(50, 171, 96, 0.6)\",\"line\":{\"color\":\"rgba(50, 171, 96, 1.0)\",\"width\":1}},\"orientation\":\"h\",\"x\":[1626.751390542149,183320.1523140012,97250.44519475095,17091.69882605042,461900.6869952995,281109.404536862,294051.2213039486,204277.77377521616,348440.1386195574,114027.38191548944,182797.9731202325,91639.49802703926,813424.0],\"y\":[\"BOL\",\"CAN\",\"CHN\",\"COL\",\"DEU\",\"FRA\",\"GBR\",\"ITA\",\"JPN\",\"KOR\",\"NLD\",\"RUS\",\"USA\"],\"type\":\"bar\"}]},{\"data\":[{\"marker\":{\"color\":\"rgba(50, 171, 96, 0.6)\",\"line\":{\"color\":\"rgba(50, 171, 96, 1.0)\",\"width\":1}},\"orientation\":\"h\",\"x\":[1825.6378143032728,199747.1582628971,119910.87672889698,19392.751883962832,558205.2681861607,336601.39308713365,338739.1510178318,246820.7535956258,420000.7229458768,151503.10526793473,228853.9665111172,102419.98006423746,902572.0],\"y\":[\"BOL\",\"CAN\",\"CHN\",\"COL\",\"DEU\",\"FRA\",\"GBR\",\"ITA\",\"JPN\",\"KOR\",\"NLD\",\"RUS\",\"USA\"],\"type\":\"bar\"}]},{\"data\":[{\"marker\":{\"color\":\"rgba(50, 171, 96, 0.6)\",\"line\":{\"color\":\"rgba(50, 171, 96, 1.0)\",\"width\":1}},\"orientation\":\"h\",\"x\":[2017.4798013636541,209119.91199119913,137261.87700560488,20252.680331730968,553029.6334806343,341586.10078215157,367184.0873634945,251644.87388630942,440058.7980595537,169944.43408539996,231301.96078431373,85589.97970969252,963966.0],\"y\":[\"BOL\",\"CAN\",\"CHN\",\"COL\",\"DEU\",\"FRA\",\"GBR\",\"ITA\",\"JPN\",\"KOR\",\"NLD\",\"RUS\",\"USA\"],\"type\":\"bar\"}]},{\"data\":[{\"marker\":{\"color\":\"rgba(50, 171, 96, 0.6)\",\"line\":{\"color\":\"rgba(50, 171, 96, 1.0)\",\"width\":1}},\"orientation\":\"h\",\"x\":[2326.9032221228326,237129.1347681641,144623.8199956573,22137.740205720103,537123.8438980374,327048.7750056192,392763.5887360838,253824.23829013188,422282.1716343956,166240.26322152026,224998.87056697538,91218.66897147795,1055774.0],\"y\":[\"BOL\",\"CAN\",\"CHN\",\"COL\",\"DEU\",\"FRA\",\"GBR\",\"ITA\",\"JPN\",\"KOR\",\"NLD\",\"RUS\",\"USA\"],\"type\":\"bar\"}]},{\"data\":[{\"marker\":{\"color\":\"rgba(50, 171, 96, 0.6)\",\"line\":{\"color\":\"rgba(50, 171, 96, 1.0)\",\"width\":1}},\"orientation\":\"h\",\"x\":[2768.71091268761,241249.74721941355,144911.95434286338,20576.289396448614,563734.5781927308,351430.9539693129,411353.09705200396,267089.3275342924,353663.2970551994,111015.66959698594,233071.53965785383,66522.41112828438,1115690.0],\"y\":[\"BOL\",\"CAN\",\"CHN\",\"COL\",\"DEU\",\"FRA\",\"GBR\",\"ITA\",\"JPN\",\"KOR\",\"NLD\",\"RUS\",\"USA\"],\"type\":\"bar\"}]},{\"data\":[{\"marker\":{\"color\":\"rgba(50, 171, 96, 0.6)\",\"line\":{\"color\":\"rgba(50, 171, 96, 1.0)\",\"width\":1}},\"orientation\":\"h\",\"x\":[2260.778232743789,259518.74537255167,168056.41415508013,15343.463758285036,579610.7976366808,353643.80938146793,427675.133473548,268274.6895959851,385717.97293928015,135183.79569657307,243627.9697729735,51275.38586515028,1252460.0],\"y\":[\"BOL\",\"CAN\",\"CHN\",\"COL\",\"DEU\",\"FRA\",\"GBR\",\"ITA\",\"JPN\",\"KOR\",\"NLD\",\"RUS\",\"USA\"],\"type\":\"bar\"}]},{\"data\":[{\"marker\":{\"color\":\"rgba(50, 171, 96, 0.6)\",\"line\":{\"color\":\"rgba(50, 171, 96, 1.0)\",\"width\":1}},\"orientation\":\"h\",\"x\":[2294.5641626910324,287155.7470877382,224308.94769520682,16732.945249839548,597608.7220423543,372359.0172000008,447141.77636556205,284121.96941317705,452064.90017677273,185275.78340524863,248352.94914352993,62417.34802701742,1477184.0],\"y\":[\"BOL\",\"CAN\",\"CHN\",\"COL\",\"DEU\",\"FRA\",\"GBR\",\"ITA\",\"JPN\",\"KOR\",\"NLD\",\"RUS\",\"USA\"],\"type\":\"bar\"}]},{\"data\":[{\"marker\":{\"color\":\"rgba(50, 171, 96, 0.6)\",\"line\":{\"color\":\"rgba(50, 171, 96, 1.0)\",\"width\":1}},\"orientation\":\"h\",\"x\":[2056.200199791127,268281.89566115703,243973.7902163801,18182.899777234037,587981.680472048,367744.588386221,450148.2654383187,284831.77443539404,414845.3577708677,166685.56689052586,244883.9210547247,74250.94274940007,1403559.0],\"y\":[\"BOL\",\"CAN\",\"CHN\",\"COL\",\"DEU\",\"FRA\",\"GBR\",\"ITA\",\"JPN\",\"KOR\",\"NLD\",\"RUS\",\"USA\"],\"type\":\"bar\"}]},{\"data\":[{\"marker\":{\"color\":\"rgba(50, 171, 96, 0.6)\",\"line\":{\"color\":\"rgba(50, 171, 96, 1.0)\",\"width\":1}},\"orientation\":\"h\",\"x\":[2191.0688702928874,271159.1155292169,295619.6396641295,17797.007021647634,589090.5398329423,383474.58765137324,480358.2134292566,301961.78287498094,401205.0594953265,179268.71767818462,252610.9663384318,84408.29346092504,1437724.0],\"y\":[\"BOL\",\"CAN\",\"CHN\",\"COL\",\"DEU\",\"FRA\",\"GBR\",\"ITA\",\"JPN\",\"KOR\",\"NLD\",\"RUS\",\"USA\"],\"type\":\"bar\"}]},{\"data\":[{\"marker\":{\"color\":\"rgba(50, 171, 96, 0.6)\",\"line\":{\"color\":\"rgba(50, 171, 96, 1.0)\",\"width\":1}},\"orientation\":\"h\",\"x\":[2131.08537445164,295296.5527085861,412137.1247191011,18872.32735710792,726416.4987580377,455341.82890039124,538047.3469387755,360433.73916913656,445643.40764317475,209246.48165087574,305325.0753717641,102759.67678873973,1557120.0],\"y\":[\"BOL\",\"CAN\",\"CHN\",\"COL\",\"DEU\",\"FRA\",\"GBR\",\"ITA\",\"JPN\",\"KOR\",\"NLD\",\"RUS\",\"USA\"],\"type\":\"bar\"}]},{\"data\":[{\"marker\":{\"color\":\"rgba(50, 171, 96, 0.6)\",\"line\":{\"color\":\"rgba(50, 171, 96, 1.0)\",\"width\":1}},\"orientation\":\"h\",\"x\":[2309.687991431452,337418.1398923905,556182.5515899864,22353.99514321793,858739.159387261,539577.4590911211,638557.3050164774,423101.43153003976,532277.5040899134,263820.94087242,361677.03757529054,130992.71086428323,1810504.0],\"y\":[\"BOL\",\"CAN\",\"CHN\",\"COL\",\"DEU\",\"FRA\",\"GBR\",\"ITA\",\"JPN\",\"KOR\",\"NLD\",\"RUS\",\"USA\"],\"type\":\"bar\"}]},{\"data\":[{\"marker\":{\"color\":\"rgba(50, 171, 96, 0.6)\",\"line\":{\"color\":\"rgba(50, 171, 96, 1.0)\",\"width\":1}},\"orientation\":\"h\",\"x\":[3064.661819218705,385981.18501402874,648712.2078762066,29781.5328643468,935455.1135128401,592025.2379143966,697418.1818181818,458978.1186888714,599781.1613689936,308907.4711895627,391844.89263813215,164341.4744523483,2041482.0],\"y\":[\"BOL\",\"CAN\",\"CHN\",\"COL\",\"DEU\",\"FRA\",\"GBR\",\"ITA\",\"JPN\",\"KOR\",\"NLD\",\"RUS\",\"USA\"],\"type\":\"bar\"}]},{\"data\":[{\"marker\":{\"color\":\"rgba(50, 171, 96, 0.6)\",\"line\":{\"color\":\"rgba(50, 171, 96, 1.0)\",\"width\":1}},\"orientation\":\"h\",\"x\":[3752.3348270008487,430736.071932299,782812.4632653573,35415.10509714082,1078597.057376469,653657.2139364698,797006.4397424103,526275.4576905875,660752.9022100734,368894.0139224259,437371.5273917641,207914.38343569564,2256623.0],\"y\":[\"BOL\",\"CAN\",\"CHN\",\"COL\",\"DEU\",\"FRA\",\"GBR\",\"ITA\",\"JPN\",\"KOR\",\"NLD\",\"RUS\",\"USA\"],\"type\":\"bar\"}]},{\"data\":[{\"marker\":{\"color\":\"rgba(50, 171, 96, 0.6)\",\"line\":{\"color\":\"rgba(50, 171, 96, 1.0)\",\"width\":1}},\"orientation\":\"h\",\"x\":[4495.795394334624,470813.704496788,950020.767150838,42609.031128352624,1252105.739534514,760064.3795929436,850568.2272909164,613038.5362112569,711118.5654778839,427797.12357384764,523411.60225921735,279983.42506880156,2395228.0],\"y\":[\"BOL\",\"CAN\",\"CHN\",\"COL\",\"DEU\",\"FRA\",\"GBR\",\"ITA\",\"JPN\",\"KOR\",\"NLD\",\"RUS\",\"USA\"],\"type\":\"bar\"}]},{\"data\":[{\"marker\":{\"color\":\"rgba(50, 171, 96, 0.6)\",\"line\":{\"color\":\"rgba(50, 171, 96, 1.0)\",\"width\":1}},\"orientation\":\"h\",\"x\":[6329.651161184256,506718.8378631678,1149036.2497877302,50999.85958305978,1412923.892963281,857925.492297656,856439.3382352941,665513.9080984374,862718.9566512996,501407.9711867019,583175.1339359374,366597.0570838815,2576151.0],\"y\":[\"BOL\",\"CAN\",\"CHN\",\"COL\",\"DEU\",\"FRA\",\"GBR\",\"ITA\",\"JPN\",\"KOR\",\"NLD\",\"RUS\",\"USA\"],\"type\":\"bar\"}]},{\"data\":[{\"marker\":{\"color\":\"rgba(50, 171, 96, 0.6)\",\"line\":{\"color\":\"rgba(50, 171, 96, 1.0)\",\"width\":1}},\"orientation\":\"h\",\"x\":[5705.628903133904,411817.8637039629,1042533.7596539508,43531.90926062104,1129427.8556781244,692153.8029433589,674961.8320610687,506414.8121695309,633184.104751411,386527.8441261463,476307.0388109372,250604.90731055688,2001927.0],\"y\":[\"BOL\",\"CAN\",\"CHN\",\"COL\",\"DEU\",\"FRA\",\"GBR\",\"ITA\",\"JPN\",\"KOR\",\"NLD\",\"RUS\",\"USA\"],\"type\":\"bar\"}]},{\"data\":[{\"marker\":{\"color\":\"rgba(50, 171, 96, 0.6)\",\"line\":{\"color\":\"rgba(50, 171, 96, 1.0)\",\"width\":1}},\"orientation\":\"h\",\"x\":[6744.572876138355,502035.34267698554,1432415.8771694016,51362.878664021584,1268183.214766669,742755.2996833348,748933.0481962058,575297.3989333345,782080.174983161,506774.2965120353,522989.92213333433,322366.70958479185,2389555.0],\"y\":[\"BOL\",\"CAN\",\"CHN\",\"COL\",\"DEU\",\"FRA\",\"GBR\",\"ITA\",\"JPN\",\"KOR\",\"NLD\",\"RUS\",\"USA\"],\"type\":\"bar\"}]},{\"data\":[{\"marker\":{\"color\":\"rgba(50, 171, 96, 0.6)\",\"line\":{\"color\":\"rgba(50, 171, 96, 1.0)\",\"width\":1}},\"orientation\":\"h\",\"x\":[9199.095473547643,570642.7539381116,1825402.621465604,67638.29245573725,1505311.9128501974,870126.5401070056,848427.1011874172,648865.091382297,961182.3641741889,654540.6215563569,606248.0149902735,408776.71251059306,2695480.0],\"y\":[\"BOL\",\"CAN\",\"CHN\",\"COL\",\"DEU\",\"FRA\",\"GBR\",\"ITA\",\"JPN\",\"KOR\",\"NLD\",\"RUS\",\"USA\"],\"type\":\"bar\"}]},{\"data\":[{\"marker\":{\"color\":\"rgba(50, 171, 96, 0.6)\",\"line\":{\"color\":\"rgba(50, 171, 96, 1.0)\",\"width\":1}},\"orientation\":\"h\",\"x\":[10233.217742402316,589511.4909515835,1943215.3917272626,74273.08393324287,1418156.1599589847,818493.895248047,847526.3439266103,569227.6767360938,1007099.1521483755,656655.1037097455,585275.2011632813,447048.9432486592,2769317.0],\"y\":[\"BOL\",\"CAN\",\"CHN\",\"COL\",\"DEU\",\"FRA\",\"GBR\",\"ITA\",\"JPN\",\"KOR\",\"NLD\",\"RUS\",\"USA\"],\"type\":\"bar\"}]},{\"data\":[{\"marker\":{\"color\":\"rgba(50, 171, 96, 0.6)\",\"line\":{\"color\":\"rgba(50, 171, 96, 1.0)\",\"width\":1}},\"orientation\":\"h\",\"x\":[11386.396497829233,589048.6272653525,2119378.0545208044,76041.90807793704,1480834.3481909847,854791.3793376494,871285.5215798086,561919.5705547467,948362.884511706,639613.5042433554,611116.25021059,468623.0843889676,2766375.0],\"y\":[\"BOL\",\"CAN\",\"CHN\",\"COL\",\"DEU\",\"FRA\",\"GBR\",\"ITA\",\"JPN\",\"KOR\",\"NLD\",\"RUS\",\"USA\"],\"type\":\"bar\"}]},{\"data\":[{\"marker\":{\"color\":\"rgba(50, 171, 96, 0.6)\",\"line\":{\"color\":\"rgba(50, 171, 96, 1.0)\",\"width\":1}},\"orientation\":\"h\",\"x\":[13848.955976845153,589434.4333782681,2241288.6030862387,79472.22997920352,1516778.57246823,879982.9775199969,922260.4513771394,566733.7848354882,980024.6787678447,635036.1760855673,619841.2679388215,426062.191556665,2887445.0],\"y\":[\"BOL\",\"CAN\",\"CHN\",\"COL\",\"DEU\",\"FRA\",\"GBR\",\"ITA\",\"JPN\",\"KOR\",\"NLD\",\"RUS\",\"USA\"],\"type\":\"bar\"}]},{\"data\":[{\"marker\":{\"color\":\"rgba(50, 171, 96, 0.6)\",\"line\":{\"color\":\"rgba(50, 171, 96, 1.0)\",\"width\":1}},\"orientation\":\"h\",\"x\":[12231.374703328509,534115.0835562226,2003257.157591329,66651.3268318839,1320386.9106171867,760028.5347199215,849467.329463063,490422.5608137888,799671.8504115808,529773.4400381909,575386.728000781,281640.1012837701,2794850.0],\"y\":[\"BOL\",\"CAN\",\"CHN\",\"COL\",\"DEU\",\"FRA\",\"GBR\",\"ITA\",\"JPN\",\"KOR\",\"NLD\",\"RUS\",\"USA\"],\"type\":\"bar\"}]},{\"data\":[{\"marker\":{\"color\":\"rgba(50, 171, 96, 0.6)\",\"line\":{\"color\":\"rgba(50, 171, 96, 1.0)\",\"width\":1}},\"orientation\":\"h\",\"x\":[10831.641432706223,517396.0126260899,1944484.0960493642,60766.406263378434,1342707.789871988,762973.9259404688,813002.9447917666,488784.0627618689,763174.8024389226,502104.73087038,543538.1321416355,263830.6248965416,2738359.0],\"y\":[\"BOL\",\"CAN\",\"CHN\",\"COL\",\"DEU\",\"FRA\",\"GBR\",\"ITA\",\"JPN\",\"KOR\",\"NLD\",\"RUS\",\"USA\"],\"type\":\"bar\"}]},{\"data\":[{\"marker\":{\"color\":\"rgba(50, 171, 96, 0.6)\",\"line\":{\"color\":\"rgba(50, 171, 96, 1.0)\",\"width\":1}},\"orientation\":\"h\",\"x\":[11927.938900144718,554922.6504254503,2208504.2143427827,62805.97672762432,1479076.8784976497,830791.2604811778,845037.0714230172,546761.2836551775,829947.4253291051,587636.5394029818,605693.2486200011,327207.47033052926,2923691.0],\"y\":[\"BOL\",\"CAN\",\"CHN\",\"COL\",\"DEU\",\"FRA\",\"GBR\",\"ITA\",\"JPN\",\"KOR\",\"NLD\",\"RUS\",\"USA\"],\"type\":\"bar\"}]},{\"data\":[{\"marker\":{\"color\":\"rgba(50, 171, 96, 0.6)\",\"line\":{\"color\":\"rgba(50, 171, 96, 1.0)\",\"width\":1}},\"orientation\":\"h\",\"x\":[12537.987221418234,589502.4457111506,2564105.2457527206,68961.91228891662,1635992.8157945084,913320.6940196072,922678.6853602265,605614.3755222741,922228.4723886164,642946.11540209,677669.4882698035,344519.7796007857,3129697.0],\"y\":[\"BOL\",\"CAN\",\"CHN\",\"COL\",\"DEU\",\"FRA\",\"GBR\",\"ITA\",\"JPN\",\"KOR\",\"NLD\",\"RUS\",\"USA\"],\"type\":\"bar\"}]},{\"data\":[{\"marker\":{\"color\":\"rgba(50, 171, 96, 0.6)\",\"line\":{\"color\":\"rgba(50, 171, 96, 1.0)\",\"width\":1}},\"orientation\":\"h\",\"x\":[12853.418147612156,583641.7499462334,2496147.8860807135,70084.06039493158,1593258.5118431349,888231.3771607828,918938.6605387556,568727.0830054893,908591.9049607498,602460.1892552285,662011.3266431362,352088.50484339107,3115990.0],\"y\":[\"BOL\",\"CAN\",\"CHN\",\"COL\",\"DEU\",\"FRA\",\"GBR\",\"ITA\",\"JPN\",\"KOR\",\"NLD\",\"RUS\",\"USA\"],\"type\":\"bar\"}]},{\"data\":[{\"marker\":{\"color\":\"rgba(50, 171, 96, 0.6)\",\"line\":{\"color\":\"rgba(50, 171, 96, 1.0)\",\"width\":1}},\"orientation\":\"h\",\"x\":[9241.956049204053,516976.93660060014,2357105.7408416416,55177.280207085845,1449776.9569322998,786301.5077540878,773770.9327428701,489611.3854504294,796344.9558717038,536732.9121965579,616383.8458023363,304075.0351224396,2774597.0],\"y\":[\"BOL\",\"CAN\",\"CHN\",\"COL\",\"DEU\",\"FRA\",\"GBR\",\"ITA\",\"JPN\",\"KOR\",\"NLD\",\"RUS\",\"USA\"],\"type\":\"bar\"}]},{\"data\":[{\"marker\":{\"color\":\"rgba(50, 171, 96, 0.6)\",\"line\":{\"color\":\"rgba(50, 171, 96, 1.0)\",\"width\":1}},\"orientation\":\"h\",\"x\":[12605.111070911722,607881.841277367,3089622.822933788,76276.9461825369,1770614.2847596614,940542.2976007601,900168.5541042867,636716.3002530906,0.0,684201.2510421054,738970.2320348718,378028.1667193904,0.0],\"y\":[\"BOL\",\"CAN\",\"CHN\",\"COL\",\"DEU\",\"FRA\",\"GBR\",\"ITA\",\"JPN\",\"KOR\",\"NLD\",\"RUS\",\"USA\"],\"type\":\"bar\"}]}]);\n",
              "                        }).then(function(){\n",
              "                            \n",
              "var gd = document.getElementById('6fa5b62c-cf99-45cb-acac-ea85d9fe810d');\n",
              "var x = new MutationObserver(function (mutations, observer) {{\n",
              "        var display = window.getComputedStyle(gd).display;\n",
              "        if (!display || display === 'none') {{\n",
              "            console.log([gd, 'removed!']);\n",
              "            Plotly.purge(gd);\n",
              "            observer.disconnect();\n",
              "        }}\n",
              "}});\n",
              "\n",
              "// Listen for the removal of the full notebook cells\n",
              "var notebookContainer = gd.closest('#notebook-container');\n",
              "if (notebookContainer) {{\n",
              "    x.observe(notebookContainer, {childList: true});\n",
              "}}\n",
              "\n",
              "// Listen for the clearing of the current output cell\n",
              "var outputEl = gd.closest('.output');\n",
              "if (outputEl) {{\n",
              "    x.observe(outputEl, {childList: true});\n",
              "}}\n",
              "\n",
              "                        })                };                            </script>        </div>\n",
              "</body>\n",
              "</html>"
            ]
          },
          "metadata": {}
        }
      ]
    },
    {
      "cell_type": "markdown",
      "source": [
        "#**3. What is main take-away of DV?**"
      ],
      "metadata": {
        "id": "_Q2WnTW7Vhrc"
      }
    },
    {
      "cell_type": "markdown",
      "source": [
        "The main idea of the DV is to show the growth of imports, taking into account the top of the most importing countries. However, Colombia stood out to measure its evolution within the top countries over the years."
      ],
      "metadata": {
        "id": "AnrFoluoVi54"
      }
    }
  ]
}